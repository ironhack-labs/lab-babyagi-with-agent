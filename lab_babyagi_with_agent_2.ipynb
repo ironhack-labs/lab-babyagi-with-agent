{
  "cells": [
    {
      "cell_type": "markdown",
      "id": "1cdba6f7-142d-4dd2-96f6-a13bb5d978ce",
      "metadata": {
        "id": "1cdba6f7-142d-4dd2-96f6-a13bb5d978ce"
      },
      "source": [
        "# Lab | BabyAGI with agent\n",
        "\n",
        "**Change the planner objective below by changing the objective and the associated prompts and potential tools and agents - Wear your creativity and AI engineering hats\n",
        "You can't get this wrong!**\n",
        "\n",
        "You would need the OpenAI API KEY and the [SerpAPI KEY](https://serpapi.com/manage-api-keyhttps://serpapi.com/manage-api-key) to run this lab.\n"
      ]
    },
    {
      "cell_type": "markdown",
      "id": "517a9fd4",
      "metadata": {
        "id": "517a9fd4"
      },
      "source": [
        "## BabyAGI with Tools\n",
        "\n",
        "This notebook builds on top of [baby agi](baby_agi.html), but shows how you can swap out the execution chain. The previous execution chain was just an LLM which made stuff up. By swapping it out with an agent that has access to tools, we can hopefully get real reliable information"
      ]
    },
    {
      "cell_type": "markdown",
      "id": "556af556",
      "metadata": {
        "id": "556af556"
      },
      "source": [
        "## Install and Import Required Modules"
      ]
    },
    {
      "cell_type": "code",
      "source": [
        "!pip install langchain==0.1.13 langchain-core==0.1.33 langchain-experimental==0.0.47 --force-reinstall\n"
      ],
      "metadata": {
        "colab": {
          "base_uri": "https://localhost:8080/"
        },
        "id": "h-X-NaAu_V7s",
        "outputId": "2bf8636d-d096-437e-9d97-2db8b3658c43"
      },
      "id": "h-X-NaAu_V7s",
      "execution_count": 42,
      "outputs": [
        {
          "output_type": "stream",
          "name": "stdout",
          "text": [
            "Collecting langchain==0.1.13\n",
            "  Using cached langchain-0.1.13-py3-none-any.whl.metadata (13 kB)\n",
            "Collecting langchain-core==0.1.33\n",
            "  Using cached langchain_core-0.1.33-py3-none-any.whl.metadata (6.0 kB)\n",
            "Collecting langchain-experimental==0.0.47\n",
            "  Using cached langchain_experimental-0.0.47-py3-none-any.whl.metadata (1.9 kB)\n",
            "Collecting PyYAML>=5.3 (from langchain==0.1.13)\n",
            "  Using cached PyYAML-6.0.2-cp311-cp311-manylinux_2_17_x86_64.manylinux2014_x86_64.whl.metadata (2.1 kB)\n",
            "Collecting SQLAlchemy<3,>=1.4 (from langchain==0.1.13)\n",
            "  Using cached sqlalchemy-2.0.40-cp311-cp311-manylinux_2_17_x86_64.manylinux2014_x86_64.whl.metadata (9.6 kB)\n",
            "Collecting aiohttp<4.0.0,>=3.8.3 (from langchain==0.1.13)\n",
            "  Using cached aiohttp-3.11.16-cp311-cp311-manylinux_2_17_x86_64.manylinux2014_x86_64.whl.metadata (7.7 kB)\n",
            "Collecting dataclasses-json<0.7,>=0.5.7 (from langchain==0.1.13)\n",
            "  Using cached dataclasses_json-0.6.7-py3-none-any.whl.metadata (25 kB)\n",
            "Collecting jsonpatch<2.0,>=1.33 (from langchain==0.1.13)\n",
            "  Using cached jsonpatch-1.33-py2.py3-none-any.whl.metadata (3.0 kB)\n",
            "Collecting langchain-community<0.1,>=0.0.29 (from langchain==0.1.13)\n",
            "  Using cached langchain_community-0.0.38-py3-none-any.whl.metadata (8.7 kB)\n",
            "Collecting langchain-text-splitters<0.1,>=0.0.1 (from langchain==0.1.13)\n",
            "  Using cached langchain_text_splitters-0.0.2-py3-none-any.whl.metadata (2.2 kB)\n",
            "Collecting langsmith<0.2.0,>=0.1.17 (from langchain==0.1.13)\n",
            "  Using cached langsmith-0.1.147-py3-none-any.whl.metadata (14 kB)\n",
            "Collecting numpy<2,>=1 (from langchain==0.1.13)\n",
            "  Using cached numpy-1.26.4-cp311-cp311-manylinux_2_17_x86_64.manylinux2014_x86_64.whl.metadata (61 kB)\n",
            "Collecting pydantic<3,>=1 (from langchain==0.1.13)\n",
            "  Using cached pydantic-2.11.3-py3-none-any.whl.metadata (65 kB)\n",
            "Collecting requests<3,>=2 (from langchain==0.1.13)\n",
            "  Using cached requests-2.32.3-py3-none-any.whl.metadata (4.6 kB)\n",
            "Collecting tenacity<9.0.0,>=8.1.0 (from langchain==0.1.13)\n",
            "  Using cached tenacity-8.5.0-py3-none-any.whl.metadata (1.2 kB)\n",
            "Collecting anyio<5,>=3 (from langchain-core==0.1.33)\n",
            "  Using cached anyio-4.9.0-py3-none-any.whl.metadata (4.7 kB)\n",
            "Collecting packaging<24.0,>=23.2 (from langchain-core==0.1.33)\n",
            "  Using cached packaging-23.2-py3-none-any.whl.metadata (3.2 kB)\n",
            "INFO: pip is looking at multiple versions of langchain-experimental to determine which version is compatible with other requirements. This could take a while.\n",
            "\u001b[31mERROR: Cannot install langchain-experimental==0.0.47 and langchain==0.1.13 because these package versions have conflicting dependencies.\u001b[0m\u001b[31m\n",
            "\u001b[0m\n",
            "The conflict is caused by:\n",
            "    The user requested langchain==0.1.13\n",
            "    langchain-experimental 0.0.47 depends on langchain<0.1 and >=0.0.350\n",
            "\n",
            "To fix this you could try to:\n",
            "1. loosen the range of package versions you've specified\n",
            "2. remove package versions to allow pip to attempt to solve the dependency conflict\n",
            "\n",
            "\u001b[31mERROR: ResolutionImpossible: for help visit https://pip.pypa.io/en/latest/topics/dependency-resolution/#dealing-with-dependency-conflicts\u001b[0m\u001b[31m\n",
            "\u001b[0m"
          ]
        }
      ]
    },
    {
      "cell_type": "code",
      "source": [
        "!pip install faiss-cpu\n"
      ],
      "metadata": {
        "colab": {
          "base_uri": "https://localhost:8080/"
        },
        "id": "3fVsly0pBCb_",
        "outputId": "6468c595-7f3d-4a02-cf5d-064a9f5cdc88"
      },
      "id": "3fVsly0pBCb_",
      "execution_count": 43,
      "outputs": [
        {
          "output_type": "stream",
          "name": "stdout",
          "text": [
            "Requirement already satisfied: faiss-cpu in /usr/local/lib/python3.11/dist-packages (1.10.0)\n",
            "Requirement already satisfied: numpy<3.0,>=1.25.0 in /usr/local/lib/python3.11/dist-packages (from faiss-cpu) (2.0.2)\n",
            "Requirement already satisfied: packaging in /usr/local/lib/python3.11/dist-packages (from faiss-cpu) (24.2)\n"
          ]
        }
      ]
    },
    {
      "cell_type": "code",
      "source": [
        "!pip install google-search-results"
      ],
      "metadata": {
        "colab": {
          "base_uri": "https://localhost:8080/"
        },
        "id": "-ze2ivW8CBg1",
        "outputId": "0065cb8f-2004-43fc-d73e-e6695299a531"
      },
      "id": "-ze2ivW8CBg1",
      "execution_count": 44,
      "outputs": [
        {
          "output_type": "stream",
          "name": "stdout",
          "text": [
            "Requirement already satisfied: google-search-results in /usr/local/lib/python3.11/dist-packages (2.4.2)\n",
            "Requirement already satisfied: requests in /usr/local/lib/python3.11/dist-packages (from google-search-results) (2.32.3)\n",
            "Requirement already satisfied: charset-normalizer<4,>=2 in /usr/local/lib/python3.11/dist-packages (from requests->google-search-results) (3.4.1)\n",
            "Requirement already satisfied: idna<4,>=2.5 in /usr/local/lib/python3.11/dist-packages (from requests->google-search-results) (3.10)\n",
            "Requirement already satisfied: urllib3<3,>=1.21.1 in /usr/local/lib/python3.11/dist-packages (from requests->google-search-results) (2.3.0)\n",
            "Requirement already satisfied: certifi>=2017.4.17 in /usr/local/lib/python3.11/dist-packages (from requests->google-search-results) (2025.1.31)\n"
          ]
        }
      ]
    },
    {
      "cell_type": "code",
      "execution_count": 45,
      "id": "c8a354b6",
      "metadata": {
        "tags": [],
        "id": "c8a354b6"
      },
      "outputs": [],
      "source": [
        "from typing import Optional\n",
        "\n",
        "from langchain.chains import LLMChain\n",
        "from langchain.prompts import PromptTemplate\n",
        "from langchain_experimental.autonomous_agents import BabyAGI\n",
        "from langchain_openai import OpenAI, OpenAIEmbeddings"
      ]
    },
    {
      "cell_type": "markdown",
      "id": "09f70772",
      "metadata": {
        "id": "09f70772"
      },
      "source": [
        "## Connect to the Vector Store\n",
        "\n",
        "Depending on what vectorstore you use, this step may look different."
      ]
    },
    {
      "cell_type": "code",
      "execution_count": 46,
      "id": "794045d4",
      "metadata": {
        "tags": [],
        "id": "794045d4"
      },
      "outputs": [],
      "source": [
        "# %pip install faiss-cpu > /dev/null\n",
        "# %pip install google-search-results > /dev/null\n",
        "from langchain.docstore import InMemoryDocstore\n",
        "from langchain_community.vectorstores import FAISS"
      ]
    },
    {
      "cell_type": "code",
      "execution_count": 66,
      "id": "c4164841-915d-4c60-8a47-3a502a5cf71d",
      "metadata": {
        "tags": [],
        "id": "c4164841-915d-4c60-8a47-3a502a5cf71d"
      },
      "outputs": [],
      "source": [
        "import os\n",
        "from dotenv import load_dotenv, find_dotenv\n",
        "_ = load_dotenv(find_dotenv())\n",
        "\n",
        "OPENAI_API_KEY  = os.getenv(\"'OPENAI_API_KEY'\")\n",
        "SERPAPI_API_KEY = os.getenv('SERPAPI_API_KEY')"
      ]
    },
    {
      "cell_type": "code",
      "execution_count": 50,
      "id": "6e0305eb",
      "metadata": {
        "tags": [],
        "colab": {
          "base_uri": "https://localhost:8080/"
        },
        "id": "6e0305eb",
        "outputId": "83f6a643-c66e-407f-81ba-82b54592a5c6"
      },
      "outputs": [
        {
          "output_type": "stream",
          "name": "stderr",
          "text": [
            "WARNING:langchain_community.vectorstores.faiss:`embedding_function` is expected to be an Embeddings object, support for passing in a function will soon be removed.\n"
          ]
        }
      ],
      "source": [
        "# Define your embedding model\n",
        "embeddings_model = OpenAIEmbeddings()\n",
        "# Initialize the vectorstore as empty\n",
        "import faiss\n",
        "\n",
        "embedding_size = 1536\n",
        "index = faiss.IndexFlatL2(embedding_size)\n",
        "vectorstore = FAISS(embeddings_model.embed_query, index, InMemoryDocstore({}), {})"
      ]
    },
    {
      "cell_type": "markdown",
      "id": "0f3b72bf",
      "metadata": {
        "id": "0f3b72bf"
      },
      "source": [
        "## Define the Chains\n",
        "\n",
        "BabyAGI relies on three LLM chains:\n",
        "- Task creation chain to select new tasks to add to the list\n",
        "- Task prioritization chain to re-prioritize tasks\n",
        "- Execution Chain to execute the tasks\n",
        "\n",
        "\n",
        "NOTE: in this notebook, the Execution chain will now be an agent."
      ]
    },
    {
      "cell_type": "code",
      "execution_count": 79,
      "id": "b43cd580",
      "metadata": {
        "tags": [],
        "colab": {
          "base_uri": "https://localhost:8080/"
        },
        "id": "b43cd580",
        "outputId": "5f34af6c-541f-44d2-8c14-2afa2dec4bfd"
      },
      "outputs": [
        {
          "output_type": "stream",
          "name": "stderr",
          "text": [
            "WARNING:langchain_community.vectorstores.faiss:`embedding_function` is expected to be an Embeddings object, support for passing in a function will soon be removed.\n"
          ]
        }
      ],
      "source": [
        "from langchain.agents import AgentExecutor, Tool, ZeroShotAgent\n",
        "from langchain.chains import LLMChain\n",
        "from langchain.prompts import PromptTemplate\n",
        "from langchain_community.utilities import SerpAPIWrapper\n",
        "from langchain_openai import OpenAI\n",
        "from langchain.embeddings import OpenAIEmbeddings\n",
        "import faiss\n",
        "from langchain.vectorstores import FAISS\n",
        "from langchain.agents import Tool\n",
        "from langchain_community.utilities.serpapi import SerpAPIWrapper\n",
        "\n",
        "# Step 1: Define embedding model\n",
        "embeddings_model = OpenAIEmbeddings()\n",
        "\n",
        "# Step 2: Initialize FAISS index\n",
        "embedding_size = 1536\n",
        "index = faiss.IndexFlatL2(embedding_size)\n",
        "vectorstore = FAISS(embeddings_model.embed_query, index, InMemoryDocstore({}), {})\n",
        "\n",
        "# Step 3: Define the chains (Task creation, task prioritization, and execution chain)\n",
        "todo_prompt = PromptTemplate.from_template(\n",
        "    \"You are a planner who is an expert at coming up with a todo list for a given objective. Come up with a todo list for this objective: {objective}\"\n",
        ")\n",
        "todo_chain = LLMChain(llm=OpenAI(temperature=0), prompt=todo_prompt)\n",
        "\n",
        "# Define tools\n",
        "search = SerpAPIWrapper()\n",
        "tools = [\n",
        "    Tool(\n",
        "        name=\"Search\",\n",
        "        func=search.run,\n",
        "        description=\"useful for when you need to answer questions about current events\",\n",
        "    ),\n",
        "    Tool(\n",
        "        name=\"TODO\",\n",
        "        func=todo_chain.run,\n",
        "        description=\"useful for when you need to come up with todo lists. Input: an objective to create a todo list for. Output: a todo list for that objective. Please be very clear what the objective is!\",\n",
        "    ),\n",
        "]\n",
        "\n",
        "# Step 4: Create agent's prompt with reduced token length\n",
        "prefix = \"\"\"You are an AI who performs one task based on the following objective: {objective}.\"\"\"\n",
        "suffix = \"\"\"Question: {task}\n",
        "{agent_scratchpad}\"\"\"\n",
        "prompt = ZeroShotAgent.create_prompt(\n",
        "    tools,\n",
        "    prefix=prefix,\n",
        "    suffix=suffix,\n",
        "    input_variables=[\"objective\", \"task\", \"context\", \"agent_scratchpad\"],\n",
        ")"
      ]
    },
    {
      "cell_type": "code",
      "execution_count": 80,
      "id": "4b00ae2e",
      "metadata": {
        "tags": [],
        "id": "4b00ae2e"
      },
      "outputs": [],
      "source": [
        "# Limit the max tokens for the completion\n",
        "llm = OpenAI(temperature=0, max_tokens=100)  # Reduced max_tokens to 100\n",
        "llm_chain = LLMChain(llm=llm, prompt=prompt)\n",
        "tool_names = [tool.name for tool in tools]\n",
        "\n",
        "# Step 5: Set up agent\n",
        "agent = ZeroShotAgent(llm_chain=llm_chain, allowed_tools=tool_names)\n",
        "agent_executor = AgentExecutor.from_agent_and_tools(\n",
        "    agent=agent, tools=tools, verbose=True\n",
        ")\n",
        "\n",
        "# Step 6: Define objective (Make it shorter if possible)\n",
        "OBJECTIVE = \"Write a short weather report for SF today\"\n"
      ]
    },
    {
      "cell_type": "markdown",
      "id": "05ba762e",
      "metadata": {
        "id": "05ba762e"
      },
      "source": [
        "### Run the BabyAGI\n",
        "\n",
        "Now it's time to create the BabyAGI controller and watch it try to accomplish your objective."
      ]
    },
    {
      "cell_type": "code",
      "execution_count": 81,
      "id": "3d69899b",
      "metadata": {
        "tags": [],
        "colab": {
          "base_uri": "https://localhost:8080/"
        },
        "id": "3d69899b",
        "outputId": "9a4c9779-f3fc-42be-89e2-06ede2acec89"
      },
      "outputs": [
        {
          "output_type": "stream",
          "name": "stdout",
          "text": [
            "\u001b[95m\u001b[1m\n",
            "*****TASK LIST*****\n",
            "\u001b[0m\u001b[0m\n",
            "1: Make a todo list\n",
            "\u001b[92m\u001b[1m\n",
            "*****NEXT TASK*****\n",
            "\u001b[0m\u001b[0m\n",
            "1: Make a todo list\n",
            "\n",
            "\n",
            "\u001b[1m> Entering new AgentExecutor chain...\u001b[0m\n",
            "\u001b[32;1m\u001b[1;3mThought: I should think about what tasks need to be done\n",
            "Action: TODO\n",
            "Action Input: \"Create a short weather report for SF today\"\u001b[0m\n",
            "Observation: \u001b[33;1m\u001b[1;3m\n",
            "\n",
            "1. Check the current weather conditions in San Francisco.\n",
            "2. Gather information on the temperature, humidity, and wind speed.\n",
            "3. Research any potential weather patterns or changes for the day.\n",
            "4. Determine the expected high and low temperatures for the day.\n",
            "5. Look up the sunrise and sunset times for San Francisco.\n",
            "6. Check for any potential weather alerts or warnings.\n",
            "7. Write a brief introduction to the weather report, including the date and location.\n",
            "8. Include a summary of the current weather conditions.\n",
            "9. Provide the expected high and low temperatures for the day.\n",
            "10. Mention any potential weather patterns or changes that may occur.\n",
            "11. Include the sunrise and sunset times for the day.\n",
            "12. Add any relevant information about humidity and wind speed.\n",
            "13. Conclude the weather report with a final summary and any additional information.\n",
            "14. Proofread and edit the report for accuracy and clarity.\n",
            "15. Publish the weather report on the designated platform or medium.\u001b[0m\n",
            "Thought:\u001b[32;1m\u001b[1;3m I now have a comprehensive todo list for creating a weather report.\n",
            "Final Answer: My todo list for creating a weather report for SF today includes checking current conditions, gathering information, researching patterns, determining temperatures, checking for alerts, and writing and publishing the report.\u001b[0m\n",
            "\n",
            "\u001b[1m> Finished chain.\u001b[0m\n",
            "\u001b[93m\u001b[1m\n",
            "*****TASK RESULT*****\n",
            "\u001b[0m\u001b[0m\n",
            "My todo list for creating a weather report for SF today includes checking current conditions, gathering information, researching patterns, determining temperatures, checking for alerts, and writing and publishing the report.\n",
            "\u001b[95m\u001b[1m\n",
            "*****TASK LIST*****\n",
            "\u001b[0m\u001b[0m\n",
            "1: Gather information on current weather patterns in SF\n",
            "2: Research historical weather patterns in SF\n",
            "3: Determine current temperatures in SF\n",
            "4: Check current weather conditions in SF\n",
            "5: Check for any weather alerts in SF\n",
            "6: Write a weather report for SF based on gathered information\n",
            "7: Publish the weather report for SF on designated platform\n",
            "\u001b[92m\u001b[1m\n",
            "*****NEXT TASK*****\n",
            "\u001b[0m\u001b[0m\n",
            "1: Gather information on current weather patterns in SF\n",
            "\n",
            "\n",
            "\u001b[1m> Entering new AgentExecutor chain...\u001b[0m\n",
            "\u001b[32;1m\u001b[1;3mThought: I should search for a reliable source of weather information\n",
            "Action: Search\n",
            "Action Input: \"weather in SF today\"\u001b[0m\n",
            "Observation: \u001b[36;1m\u001b[1;3m{'type': 'weather_result', 'temperature': '58', 'unit': 'Fahrenheit', 'precipitation': '10%', 'humidity': '74%', 'wind': '10 mph', 'location': 'San Francisco, CA', 'date': 'Thursday', 'weather': 'Cloudy'}\u001b[0m\n",
            "Thought:\u001b[32;1m\u001b[1;3m I should use the gathered information to create a weather report\n",
            "Action: TODO\n",
            "Action Input: \"Create a weather report for SF today\"\u001b[0m\n",
            "Observation: \u001b[33;1m\u001b[1;3m\n",
            "\n",
            "1. Check the weather forecast for San Francisco today.\n",
            "2. Gather necessary equipment, such as a laptop, internet connection, and weather data sources.\n",
            "3. Determine the format of the weather report (e.g. written, video, audio).\n",
            "4. Decide on the target audience for the weather report (e.g. general public, local news station).\n",
            "5. Research and gather relevant information about the current weather conditions in San Francisco.\n",
            "6. Organize the information into a clear and concise format.\n",
            "7. Create visuals, such as maps or charts, to enhance the weather report.\n",
            "8. Write a script or outline for the weather report.\n",
            "9. Practice delivering the weather report to ensure a smooth and professional presentation.\n",
            "10. Record or film the weather report, if applicable.\n",
            "11. Edit and review the weather report for accuracy and clarity.\n",
            "12. Publish or share the weather report with the intended audience.\n",
            "13. Monitor and respond to any feedback or questions about the weather report.\n",
            "14. Reflect on the process and make any necessary improvements for future weather reports.\u001b[0m\n",
            "Thought:\u001b[32;1m\u001b[1;3m I have completed all the necessary steps to create a weather report for SF today\n",
            "Final Answer: Today's weather in San Francisco is cloudy with a temperature of 58 degrees Fahrenheit, 10% chance of precipitation, 74% humidity, and winds at 10 mph. Stay prepared for potential changes in weather throughout the day.\u001b[0m\n",
            "\n",
            "\u001b[1m> Finished chain.\u001b[0m\n",
            "\u001b[93m\u001b[1m\n",
            "*****TASK RESULT*****\n",
            "\u001b[0m\u001b[0m\n",
            "Today's weather in San Francisco is cloudy with a temperature of 58 degrees Fahrenheit, 10% chance of precipitation, 74% humidity, and winds at 10 mph. Stay prepared for potential changes in weather throughout the day.\n",
            "\u001b[95m\u001b[1m\n",
            "*****TASK LIST*****\n",
            "\u001b[0m\u001b[0m\n",
            "1: Gather information on current weather patterns in SF\n",
            "2: Research historical weather patterns in SF\n",
            "3: Determine current temperatures in SF\n",
            "4: Check current weather conditions in SF\n",
            "5: Check for any weather alerts in SF\n",
            "6: Write a weather report for SF based on gathered information\n",
            "7: Publish the weather report for SF on designated platform\n",
            "8: Update the weather report for SF with any changes in weather throughout the day\n",
            "9: Monitor weather conditions in SF and provide updates\n",
            "\u001b[92m\u001b[1m\n",
            "*****NEXT TASK*****\n",
            "\u001b[0m\u001b[0m\n",
            "1: Gather information on current weather patterns in SF\n",
            "\n",
            "\n",
            "\u001b[1m> Entering new AgentExecutor chain...\u001b[0m\n",
            "\u001b[32;1m\u001b[1;3mThought: I should search for a reliable source of weather information\n",
            "Action: Search\n",
            "Action Input: \"weather in SF today\"\u001b[0m\n",
            "Observation: \u001b[36;1m\u001b[1;3m{'type': 'weather_result', 'temperature': '58', 'unit': 'Fahrenheit', 'precipitation': '10%', 'humidity': '74%', 'wind': '10 mph', 'location': 'San Francisco, CA', 'date': 'Thursday', 'weather': 'Cloudy'}\u001b[0m\n",
            "Thought:\u001b[32;1m\u001b[1;3m I should use the information to create a weather report\n",
            "Action: TODO\n",
            "Action Input: \"Create a weather report for SF today\"\u001b[0m\n",
            "Observation: \u001b[33;1m\u001b[1;3m\n",
            "\n",
            "1. Check the weather forecast for San Francisco today.\n",
            "2. Gather necessary equipment, such as a laptop, internet connection, and weather data sources.\n",
            "3. Determine the format of the weather report (e.g. written, video, audio).\n",
            "4. Decide on the target audience for the weather report (e.g. general public, local news station).\n",
            "5. Research and gather relevant information about the current weather conditions in San Francisco.\n",
            "6. Organize the information into a clear and concise format.\n",
            "7. Create visuals, such as maps or charts, to enhance the weather report.\n",
            "8. Write a script or outline for the weather report.\n",
            "9. Practice delivering the weather report to ensure a smooth and professional presentation.\n",
            "10. Record or film the weather report, if applicable.\n",
            "11. Edit and review the weather report for accuracy and clarity.\n",
            "12. Publish or share the weather report with the intended audience.\n",
            "13. Monitor and respond to any feedback or questions about the weather report.\n",
            "14. Reflect on the process and make any necessary improvements for future weather reports.\u001b[0m\n",
            "Thought:\u001b[32;1m\u001b[1;3m I have completed all the necessary steps to create a weather report for SF today\n",
            "Final Answer: The weather report for San Francisco today is cloudy with a temperature of 58 degrees Fahrenheit, 10% chance of precipitation, 74% humidity, and winds at 10 mph. Stay prepared for potential rain and bring a jacket if you plan on being outside.\u001b[0m\n",
            "\n",
            "\u001b[1m> Finished chain.\u001b[0m\n",
            "\u001b[93m\u001b[1m\n",
            "*****TASK RESULT*****\n",
            "\u001b[0m\u001b[0m\n",
            "The weather report for San Francisco today is cloudy with a temperature of 58 degrees Fahrenheit, 10% chance of precipitation, 74% humidity, and winds at 10 mph. Stay prepared for potential rain and bring a jacket if you plan on being outside.\n",
            "\u001b[91m\u001b[1m\n",
            "*****TASK ENDING*****\n",
            "\u001b[0m\u001b[0m\n"
          ]
        },
        {
          "output_type": "execute_result",
          "data": {
            "text/plain": [
              "{'objective': 'Write a short weather report for SF today'}"
            ]
          },
          "metadata": {},
          "execution_count": 81
        }
      ],
      "source": [
        "# Step 7: Log configuration\n",
        "verbose = False\n",
        "max_iterations = 3\n",
        "\n",
        "# Step 8: Run the AI agent with the objective and manage token size\n",
        "baby_agi = BabyAGI.from_llm(\n",
        "    llm=llm,\n",
        "    vectorstore=vectorstore,\n",
        "    task_execution_chain=agent_executor,\n",
        "    verbose=verbose,\n",
        "    max_iterations=max_iterations,\n",
        ")\n",
        "\n",
        "baby_agi({\"objective\": OBJECTIVE})\n"
      ]
    }
  ],
  "metadata": {
    "kernelspec": {
      "display_name": "Python 3 (ipykernel)",
      "language": "python",
      "name": "python3"
    },
    "language_info": {
      "codemirror_mode": {
        "name": "ipython",
        "version": 3
      },
      "file_extension": ".py",
      "mimetype": "text/x-python",
      "name": "python",
      "nbconvert_exporter": "python",
      "pygments_lexer": "ipython3",
      "version": "3.11.8"
    },
    "colab": {
      "provenance": []
    }
  },
  "nbformat": 4,
  "nbformat_minor": 5
}