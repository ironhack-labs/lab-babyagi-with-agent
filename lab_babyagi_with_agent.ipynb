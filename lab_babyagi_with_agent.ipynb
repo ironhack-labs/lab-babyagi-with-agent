{
  "cells": [
    {
      "cell_type": "markdown",
      "id": "1cdba6f7-142d-4dd2-96f6-a13bb5d978ce",
      "metadata": {
        "id": "1cdba6f7-142d-4dd2-96f6-a13bb5d978ce"
      },
      "source": [
        "# Lab | BabyAGI with agent\n",
        "\n",
        "**Change the planner objective below by changing the objective and the associated prompts and potential tools and agents - Wear your creativity and AI engineering hats\n",
        "You can't get this wrong!**\n",
        "\n",
        "You would need the OpenAI API KEY and the [SerpAPI KEY](https://serpapi.com/manage-api-keyhttps://serpapi.com/manage-api-key) to run this lab.\n"
      ]
    },
    {
      "cell_type": "markdown",
      "id": "517a9fd4",
      "metadata": {
        "id": "517a9fd4"
      },
      "source": [
        "## BabyAGI with Tools\n",
        "\n",
        "This notebook builds on top of [baby agi](baby_agi.html), but shows how you can swap out the execution chain. The previous execution chain was just an LLM which made stuff up. By swapping it out with an agent that has access to tools, we can hopefully get real reliable information"
      ]
    },
    {
      "cell_type": "markdown",
      "id": "556af556",
      "metadata": {
        "id": "556af556"
      },
      "source": [
        "## Install and Import Required Modules"
      ]
    },
    {
      "cell_type": "code",
      "execution_count": 86,
      "id": "85b7ca88",
      "metadata": {
        "colab": {
          "base_uri": "https://localhost:8080/"
        },
        "collapsed": true,
        "id": "85b7ca88",
        "outputId": "a975a4a5-693d-440c-9913-c20137ec4321"
      },
      "outputs": [
        {
          "output_type": "stream",
          "name": "stdout",
          "text": [
            "Requirement already satisfied: langchain_community in /usr/local/lib/python3.11/dist-packages (0.3.22)\n",
            "Requirement already satisfied: langchain_experimental in /usr/local/lib/python3.11/dist-packages (0.3.4)\n",
            "Requirement already satisfied: langchain_openai in /usr/local/lib/python3.11/dist-packages (0.3.14)\n",
            "Requirement already satisfied: langchain-core<1.0.0,>=0.3.55 in /usr/local/lib/python3.11/dist-packages (from langchain_community) (0.3.55)\n",
            "Requirement already satisfied: langchain<1.0.0,>=0.3.24 in /usr/local/lib/python3.11/dist-packages (from langchain_community) (0.3.24)\n",
            "Requirement already satisfied: SQLAlchemy<3,>=1.4 in /usr/local/lib/python3.11/dist-packages (from langchain_community) (2.0.40)\n",
            "Requirement already satisfied: requests<3,>=2 in /usr/local/lib/python3.11/dist-packages (from langchain_community) (2.32.3)\n",
            "Requirement already satisfied: PyYAML>=5.3 in /usr/local/lib/python3.11/dist-packages (from langchain_community) (6.0.2)\n",
            "Requirement already satisfied: aiohttp<4.0.0,>=3.8.3 in /usr/local/lib/python3.11/dist-packages (from langchain_community) (3.11.15)\n",
            "Requirement already satisfied: tenacity!=8.4.0,<10,>=8.1.0 in /usr/local/lib/python3.11/dist-packages (from langchain_community) (9.1.2)\n",
            "Requirement already satisfied: dataclasses-json<0.7,>=0.5.7 in /usr/local/lib/python3.11/dist-packages (from langchain_community) (0.6.7)\n",
            "Requirement already satisfied: pydantic-settings<3.0.0,>=2.4.0 in /usr/local/lib/python3.11/dist-packages (from langchain_community) (2.9.1)\n",
            "Requirement already satisfied: langsmith<0.4,>=0.1.125 in /usr/local/lib/python3.11/dist-packages (from langchain_community) (0.3.31)\n",
            "Requirement already satisfied: httpx-sse<1.0.0,>=0.4.0 in /usr/local/lib/python3.11/dist-packages (from langchain_community) (0.4.0)\n",
            "Requirement already satisfied: numpy>=1.26.2 in /usr/local/lib/python3.11/dist-packages (from langchain_community) (2.0.2)\n",
            "Requirement already satisfied: openai<2.0.0,>=1.68.2 in /usr/local/lib/python3.11/dist-packages (from langchain_openai) (1.75.0)\n",
            "Requirement already satisfied: tiktoken<1,>=0.7 in /usr/local/lib/python3.11/dist-packages (from langchain_openai) (0.9.0)\n",
            "Requirement already satisfied: aiohappyeyeballs>=2.3.0 in /usr/local/lib/python3.11/dist-packages (from aiohttp<4.0.0,>=3.8.3->langchain_community) (2.6.1)\n",
            "Requirement already satisfied: aiosignal>=1.1.2 in /usr/local/lib/python3.11/dist-packages (from aiohttp<4.0.0,>=3.8.3->langchain_community) (1.3.2)\n",
            "Requirement already satisfied: attrs>=17.3.0 in /usr/local/lib/python3.11/dist-packages (from aiohttp<4.0.0,>=3.8.3->langchain_community) (25.3.0)\n",
            "Requirement already satisfied: frozenlist>=1.1.1 in /usr/local/lib/python3.11/dist-packages (from aiohttp<4.0.0,>=3.8.3->langchain_community) (1.5.0)\n",
            "Requirement already satisfied: multidict<7.0,>=4.5 in /usr/local/lib/python3.11/dist-packages (from aiohttp<4.0.0,>=3.8.3->langchain_community) (6.4.3)\n",
            "Requirement already satisfied: propcache>=0.2.0 in /usr/local/lib/python3.11/dist-packages (from aiohttp<4.0.0,>=3.8.3->langchain_community) (0.3.1)\n",
            "Requirement already satisfied: yarl<2.0,>=1.17.0 in /usr/local/lib/python3.11/dist-packages (from aiohttp<4.0.0,>=3.8.3->langchain_community) (1.19.0)\n",
            "Requirement already satisfied: marshmallow<4.0.0,>=3.18.0 in /usr/local/lib/python3.11/dist-packages (from dataclasses-json<0.7,>=0.5.7->langchain_community) (3.26.1)\n",
            "Requirement already satisfied: typing-inspect<1,>=0.4.0 in /usr/local/lib/python3.11/dist-packages (from dataclasses-json<0.7,>=0.5.7->langchain_community) (0.9.0)\n",
            "Requirement already satisfied: langchain-text-splitters<1.0.0,>=0.3.8 in /usr/local/lib/python3.11/dist-packages (from langchain<1.0.0,>=0.3.24->langchain_community) (0.3.8)\n",
            "Requirement already satisfied: pydantic<3.0.0,>=2.7.4 in /usr/local/lib/python3.11/dist-packages (from langchain<1.0.0,>=0.3.24->langchain_community) (2.11.3)\n",
            "Requirement already satisfied: jsonpatch<2.0,>=1.33 in /usr/local/lib/python3.11/dist-packages (from langchain-core<1.0.0,>=0.3.55->langchain_community) (1.33)\n",
            "Requirement already satisfied: packaging<25,>=23.2 in /usr/local/lib/python3.11/dist-packages (from langchain-core<1.0.0,>=0.3.55->langchain_community) (24.2)\n",
            "Requirement already satisfied: typing-extensions>=4.7 in /usr/local/lib/python3.11/dist-packages (from langchain-core<1.0.0,>=0.3.55->langchain_community) (4.13.2)\n",
            "Requirement already satisfied: httpx<1,>=0.23.0 in /usr/local/lib/python3.11/dist-packages (from langsmith<0.4,>=0.1.125->langchain_community) (0.28.1)\n",
            "Requirement already satisfied: orjson<4.0.0,>=3.9.14 in /usr/local/lib/python3.11/dist-packages (from langsmith<0.4,>=0.1.125->langchain_community) (3.10.16)\n",
            "Requirement already satisfied: requests-toolbelt<2.0.0,>=1.0.0 in /usr/local/lib/python3.11/dist-packages (from langsmith<0.4,>=0.1.125->langchain_community) (1.0.0)\n",
            "Requirement already satisfied: zstandard<0.24.0,>=0.23.0 in /usr/local/lib/python3.11/dist-packages (from langsmith<0.4,>=0.1.125->langchain_community) (0.23.0)\n",
            "Requirement already satisfied: anyio<5,>=3.5.0 in /usr/local/lib/python3.11/dist-packages (from openai<2.0.0,>=1.68.2->langchain_openai) (4.9.0)\n",
            "Requirement already satisfied: distro<2,>=1.7.0 in /usr/local/lib/python3.11/dist-packages (from openai<2.0.0,>=1.68.2->langchain_openai) (1.9.0)\n",
            "Requirement already satisfied: jiter<1,>=0.4.0 in /usr/local/lib/python3.11/dist-packages (from openai<2.0.0,>=1.68.2->langchain_openai) (0.9.0)\n",
            "Requirement already satisfied: sniffio in /usr/local/lib/python3.11/dist-packages (from openai<2.0.0,>=1.68.2->langchain_openai) (1.3.1)\n",
            "Requirement already satisfied: tqdm>4 in /usr/local/lib/python3.11/dist-packages (from openai<2.0.0,>=1.68.2->langchain_openai) (4.67.1)\n",
            "Requirement already satisfied: python-dotenv>=0.21.0 in /usr/local/lib/python3.11/dist-packages (from pydantic-settings<3.0.0,>=2.4.0->langchain_community) (1.1.0)\n",
            "Requirement already satisfied: typing-inspection>=0.4.0 in /usr/local/lib/python3.11/dist-packages (from pydantic-settings<3.0.0,>=2.4.0->langchain_community) (0.4.0)\n",
            "Requirement already satisfied: charset-normalizer<4,>=2 in /usr/local/lib/python3.11/dist-packages (from requests<3,>=2->langchain_community) (3.4.1)\n",
            "Requirement already satisfied: idna<4,>=2.5 in /usr/local/lib/python3.11/dist-packages (from requests<3,>=2->langchain_community) (3.10)\n",
            "Requirement already satisfied: urllib3<3,>=1.21.1 in /usr/local/lib/python3.11/dist-packages (from requests<3,>=2->langchain_community) (2.3.0)\n",
            "Requirement already satisfied: certifi>=2017.4.17 in /usr/local/lib/python3.11/dist-packages (from requests<3,>=2->langchain_community) (2025.1.31)\n",
            "Requirement already satisfied: greenlet>=1 in /usr/local/lib/python3.11/dist-packages (from SQLAlchemy<3,>=1.4->langchain_community) (3.2.0)\n",
            "Requirement already satisfied: regex>=2022.1.18 in /usr/local/lib/python3.11/dist-packages (from tiktoken<1,>=0.7->langchain_openai) (2024.11.6)\n",
            "Requirement already satisfied: httpcore==1.* in /usr/local/lib/python3.11/dist-packages (from httpx<1,>=0.23.0->langsmith<0.4,>=0.1.125->langchain_community) (1.0.8)\n",
            "Requirement already satisfied: h11<0.15,>=0.13 in /usr/local/lib/python3.11/dist-packages (from httpcore==1.*->httpx<1,>=0.23.0->langsmith<0.4,>=0.1.125->langchain_community) (0.14.0)\n",
            "Requirement already satisfied: jsonpointer>=1.9 in /usr/local/lib/python3.11/dist-packages (from jsonpatch<2.0,>=1.33->langchain-core<1.0.0,>=0.3.55->langchain_community) (3.0.0)\n",
            "Requirement already satisfied: annotated-types>=0.6.0 in /usr/local/lib/python3.11/dist-packages (from pydantic<3.0.0,>=2.7.4->langchain<1.0.0,>=0.3.24->langchain_community) (0.7.0)\n",
            "Requirement already satisfied: pydantic-core==2.33.1 in /usr/local/lib/python3.11/dist-packages (from pydantic<3.0.0,>=2.7.4->langchain<1.0.0,>=0.3.24->langchain_community) (2.33.1)\n",
            "Requirement already satisfied: mypy-extensions>=0.3.0 in /usr/local/lib/python3.11/dist-packages (from typing-inspect<1,>=0.4.0->dataclasses-json<0.7,>=0.5.7->langchain_community) (1.1.0)\n"
          ]
        }
      ],
      "source": [
        "!pip install langchain_community langchain_experimental langchain_openai"
      ]
    },
    {
      "cell_type": "code",
      "execution_count": 87,
      "id": "c8a354b6",
      "metadata": {
        "tags": [],
        "id": "c8a354b6"
      },
      "outputs": [],
      "source": [
        "from typing import Optional\n",
        "\n",
        "from langchain.chains import LLMChain\n",
        "from langchain.prompts import PromptTemplate\n",
        "from langchain_experimental.autonomous_agents import BabyAGI\n",
        "from langchain_openai import OpenAI, OpenAIEmbeddings"
      ]
    },
    {
      "cell_type": "markdown",
      "id": "09f70772",
      "metadata": {
        "id": "09f70772"
      },
      "source": [
        "## Connect to the Vector Store\n",
        "\n",
        "Depending on what vectorstore you use, this step may look different."
      ]
    },
    {
      "cell_type": "code",
      "execution_count": 88,
      "id": "794045d4",
      "metadata": {
        "tags": [],
        "id": "794045d4"
      },
      "outputs": [],
      "source": [
        " %pip install faiss-cpu > /dev/null\n",
        " %pip install google-search-results > /dev/null\n",
        "from langchain.docstore import InMemoryDocstore\n",
        "from langchain_community.vectorstores import FAISS"
      ]
    },
    {
      "cell_type": "code",
      "execution_count": null,
      "id": "c4164841-915d-4c60-8a47-3a502a5cf71d",
      "metadata": {
        "tags": [],
        "id": "c4164841-915d-4c60-8a47-3a502a5cf71d"
      },
      "outputs": [],
      "source": [
        "import os\n",
        "from dotenv import load_dotenv, find_dotenv\n",
        "_ = load_dotenv(find_dotenv())\n",
        "\n",
        "OPENAI_API_KEY  = os.getenv('OPENAI_API_KEY')\n",
        "SERPAPI_API_KEY = os.getenv('SERPAPI_API_KEY')"
      ]
    },
    {
      "cell_type": "code",
      "execution_count": 90,
      "id": "6e0305eb",
      "metadata": {
        "tags": [],
        "colab": {
          "base_uri": "https://localhost:8080/"
        },
        "id": "6e0305eb",
        "outputId": "6d363adb-0353-4f6f-8403-2a1eb9a40810"
      },
      "outputs": [
        {
          "output_type": "stream",
          "name": "stderr",
          "text": [
            "WARNING:langchain_community.vectorstores.faiss:`embedding_function` is expected to be an Embeddings object, support for passing in a function will soon be removed.\n"
          ]
        }
      ],
      "source": [
        "# Define your embedding model\n",
        "embeddings_model = OpenAIEmbeddings()\n",
        "# Initialize the vectorstore as empty\n",
        "import faiss\n",
        "\n",
        "embedding_size = 1536\n",
        "index = faiss.IndexFlatL2(embedding_size)\n",
        "vectorstore = FAISS(embeddings_model.embed_query, index, InMemoryDocstore({}), {})"
      ]
    },
    {
      "cell_type": "markdown",
      "id": "0f3b72bf",
      "metadata": {
        "id": "0f3b72bf"
      },
      "source": [
        "## Define the Chains\n",
        "\n",
        "BabyAGI relies on three LLM chains:\n",
        "- Task creation chain to select new tasks to add to the list\n",
        "- Task prioritization chain to re-prioritize tasks\n",
        "- Execution Chain to execute the tasks\n",
        "\n",
        "\n",
        "NOTE: in this notebook, the Execution chain will now be an agent."
      ]
    },
    {
      "cell_type": "code",
      "execution_count": null,
      "id": "b43cd580",
      "metadata": {
        "tags": [],
        "id": "b43cd580"
      },
      "outputs": [],
      "source": [
        "from langchain.agents import AgentExecutor, Tool, ZeroShotAgent\n",
        "from langchain.chains import LLMChain\n",
        "from langchain_community.utilities import SerpAPIWrapper\n",
        "from langchain_openai import OpenAI\n",
        "\n",
        "todo_prompt = PromptTemplate.from_template(\n",
        "    \"You are a planner who is an expert at coming up with a todo list for a given objective. Come up with a todo list for this objective: {objective}\"\n",
        ")\n",
        "todo_chain = LLMChain(llm=OpenAI(temperature=0), prompt=todo_prompt)\n",
        "search = SerpAPIWrapper()\n",
        "tools = [\n",
        "    Tool(\n",
        "        name=\"Search\",\n",
        "        func=search.run,\n",
        "        description=\"useful for when you need to answer questions about current events\",\n",
        "    ),\n",
        "    Tool(\n",
        "        name=\"TODO\",\n",
        "        func=todo_chain.run,\n",
        "        description=\"useful for when you need to come up with todo lists. Input: an objective to create a todo list for. Output: a todo list for that objective. Please be very clear what the objective is!\",\n",
        "    ),\n",
        "]\n",
        "\n",
        "\n",
        "prefix = \"\"\"You are an AI who performs one task based on the following objective: {objective}. Take into account these previously completed tasks: {context}.\"\"\"\n",
        "suffix = \"\"\"Question: {task}\n",
        "{agent_scratchpad}\"\"\"\n",
        "prompt = ZeroShotAgent.create_prompt(\n",
        "    tools,\n",
        "    prefix=prefix,\n",
        "    suffix=suffix,\n",
        "    input_variables=[\"objective\", \"task\", \"context\", \"agent_scratchpad\"],\n",
        ")"
      ]
    },
    {
      "cell_type": "code",
      "execution_count": null,
      "id": "4b00ae2e",
      "metadata": {
        "tags": [],
        "id": "4b00ae2e"
      },
      "outputs": [],
      "source": [
        "llm = OpenAI(temperature=0)\n",
        "llm_chain = LLMChain(llm=llm, prompt=prompt)\n",
        "tool_names = [tool.name for tool in tools]\n",
        "agent = ZeroShotAgent(llm_chain=llm_chain, allowed_tools=tool_names)\n",
        "agent_executor = AgentExecutor.from_agent_and_tools(\n",
        "    agent=agent, tools=tools, verbose=True\n",
        ")"
      ]
    },
    {
      "cell_type": "markdown",
      "id": "05ba762e",
      "metadata": {
        "id": "05ba762e"
      },
      "source": [
        "### Run the BabyAGI\n",
        "\n",
        "Now it's time to create the BabyAGI controller and watch it try to accomplish your objective."
      ]
    },
    {
      "cell_type": "code",
      "execution_count": null,
      "id": "3d220b69",
      "metadata": {
        "tags": [],
        "id": "3d220b69"
      },
      "outputs": [],
      "source": [
        "OBJECTIVE = \"Write a weather report for SF today\""
      ]
    },
    {
      "cell_type": "code",
      "execution_count": null,
      "id": "3d69899b",
      "metadata": {
        "tags": [],
        "id": "3d69899b"
      },
      "outputs": [],
      "source": [
        "verbose = False\n",
        "max_iterations: Optional[int] = 3\n",
        "\n",
        "# Instantiate the BabyAGI with your custom objective and tools\n",
        "baby_agi = BabyAGI.from_llm(\n",
        "    llm=llm,\n",
        "    vectorstore=vectorstore,  # This should contain the embedded sonnet documents\n",
        "    task_execution_chain=agent_executor,  # AgentExecutor using your updated tools (e.g., sonnets_of_shakespeare)\n",
        "    verbose=verbose,\n",
        "    max_iterations=max_iterations,\n",
        ")\n"
      ]
    },
    {
      "cell_type": "code",
      "execution_count": null,
      "id": "f7957b51",
      "metadata": {
        "tags": [],
        "colab": {
          "base_uri": "https://localhost:8080/"
        },
        "id": "f7957b51",
        "outputId": "388601d8-a6d3-4c87-f646-b8d0423c4429"
      },
      "outputs": [
        {
          "output_type": "stream",
          "name": "stdout",
          "text": [
            "\u001b[95m\u001b[1m\n",
            "*****TASK LIST*****\n",
            "\u001b[0m\u001b[0m\n",
            "1: Make a todo list\n",
            "\u001b[92m\u001b[1m\n",
            "*****NEXT TASK*****\n",
            "\u001b[0m\u001b[0m\n",
            "1: Make a todo list\n",
            "\n",
            "\n",
            "\u001b[1m> Entering new AgentExecutor chain...\u001b[0m\n",
            "\u001b[32;1m\u001b[1;3mThought: I should use the TODO action to create a todo list\n",
            "Action: TODO\n",
            "Action Input: \"Create a todo list for writing a weather report for SF today\"\u001b[0m\n",
            "Observation: \u001b[33;1m\u001b[1;3m\n",
            "\n",
            "1. Gather all necessary information: Start by collecting all the necessary information for writing a weather report for San Francisco today. This includes current temperature, humidity, wind speed, and any other relevant data.\n",
            "\n",
            "2. Check weather forecast: Before writing the report, check the weather forecast for San Francisco today to get an idea of what to expect. This will help you accurately report on the current weather conditions.\n",
            "\n",
            "3. Determine target audience: Consider who will be reading the weather report and tailor your writing style and language accordingly. A report for a local news station may be different from one for a scientific journal.\n",
            "\n",
            "4. Create an outline: Organize your thoughts and information by creating an outline for the weather report. This will help you stay focused and ensure that all important points are covered.\n",
            "\n",
            "5. Start with an attention-grabbing headline: The headline is the first thing readers will see, so make it catchy and informative. It should give a brief overview of the weather conditions in San Francisco today.\n",
            "\n",
            "6. Write an introduction: In the introduction, provide a brief overview of the current weather conditions in San Francisco and why it is important for readers to know.\n",
            "\n",
            "7. Include relevant data: Use the information gathered in step 1 to provide accurate and up-to-date data in your\u001b[0m\n",
            "Thought:\u001b[32;1m\u001b[1;3m I have created a detailed todo list for writing a weather report for SF today\n",
            "Final Answer: Use the todo list to write a comprehensive and informative weather report for San Francisco today.\u001b[0m\n",
            "\n",
            "\u001b[1m> Finished chain.\u001b[0m\n",
            "\u001b[93m\u001b[1m\n",
            "*****TASK RESULT*****\n",
            "\u001b[0m\u001b[0m\n",
            "Use the todo list to write a comprehensive and informative weather report for San Francisco today.\n",
            "\u001b[95m\u001b[1m\n",
            "*****TASK LIST*****\n",
            "\u001b[0m\u001b[0m\n",
            "1: Gather data on temperature, humidity, and wind speed\n",
            "2: Research current weather conditions in San Francisco\n",
            "3: Check for any weather alerts or warnings in the area\n",
            "4: Create a detailed outline for the weather report\n",
            "5: Write an introduction for the weather report\n",
            "6: Include a section on the current temperature in San Francisco\n",
            "7: Describe the humidity levels in the city\n",
            "8: Discuss the wind speed and direction in San Francisco\n",
            "9: Include a section on any potential weather hazards or risks\n",
            "10: Write a conclusion summarizing the weather conditions in San Francisco today.\n",
            "\u001b[92m\u001b[1m\n",
            "*****NEXT TASK*****\n",
            "\u001b[0m\u001b[0m\n",
            "1: Gather data on temperature, humidity, and wind speed\n",
            "\n",
            "\n",
            "\u001b[1m> Entering new AgentExecutor chain...\u001b[0m\n",
            "\u001b[32;1m\u001b[1;3mThought: I should search for a weather report for SF\n",
            "Action: Search\n",
            "Action Input: \"weather report for SF\"\u001b[0m\n",
            "Observation: \u001b[36;1m\u001b[1;3m{'type': 'weather_result', 'temperature': '51', 'unit': 'Fahrenheit', 'precipitation': '0%', 'humidity': '80%', 'wind': '11 mph', 'location': 'San Francisco, CA', 'date': 'Wednesday 8:00 AM', 'weather': 'Partly cloudy'}\u001b[0m\n",
            "Thought:\u001b[32;1m\u001b[1;3m I should use the data from the weather report to create a todo list\n",
            "Action: TODO\n",
            "Action Input: \"create a todo list for SF weather report\"\u001b[0m\n",
            "Observation: \u001b[33;1m\u001b[1;3m\n",
            "\n",
            "1. Research the current weather patterns in San Francisco.\n",
            "2. Determine the sources for obtaining accurate weather information, such as local news channels, weather websites, and apps.\n",
            "3. Create a list of the most reliable sources for SF weather information.\n",
            "4. Decide on the frequency of checking the weather report, whether it be daily, weekly, or as needed.\n",
            "5. Set a reminder or schedule a specific time each day/week to check the weather report.\n",
            "6. Consider any upcoming events or plans that may be affected by the weather and make note of them.\n",
            "7. Create a template or format for organizing the weather information, such as a spreadsheet or a bullet journal.\n",
            "8. Include important details in the weather report, such as temperature, precipitation, wind speed, and any potential weather warnings.\n",
            "9. Determine the best way to track and record the weather information, whether it be through a physical planner or a digital platform.\n",
            "10. Set a system for updating the weather report, such as adding new information or removing outdated data.\n",
            "11. Consider adding additional information, such as sunrise and sunset times, to the weather report.\n",
            "12. Make note of any changes or updates to the weather report, such as sudden changes in temperature or unexpected weather events.\n",
            "13. Regularly\u001b[0m\n",
            "Thought:\u001b[32;1m\u001b[1;3m I now know the final answer\n",
            "Final Answer: The final answer is a todo list for tracking and organizing the weather information for San Francisco.\u001b[0m\n",
            "\n",
            "\u001b[1m> Finished chain.\u001b[0m\n",
            "\u001b[93m\u001b[1m\n",
            "*****TASK RESULT*****\n",
            "\u001b[0m\u001b[0m\n",
            "The final answer is a todo list for tracking and organizing the weather information for San Francisco.\n",
            "\u001b[95m\u001b[1m\n",
            "*****TASK LIST*****\n",
            "\u001b[0m\u001b[0m\n",
            "1: Gather data on temperature, humidity, and wind speed.\n",
            "2: Research current weather conditions in San Francisco.\n",
            "3: Check for any weather alerts or warnings in the area.\n",
            "4: Create a detailed outline for the weather report.\n",
            "5: Write an introduction for the weather report.\n",
            "6: Include a section on the current temperature in San Francisco.\n",
            "7: Describe the humidity levels in the city.\n",
            "8: Discuss the wind speed and direction in San Francisco.\n",
            "9: Include a section on any potential weather hazards or risks.\n",
            "10: Write a conclusion summarizing the weather conditions in San Francisco today.\n",
            "11: Create a todo list for tracking and organizing the weather information for San Francisco.\n",
            "12: Gather data on precipitation levels in the city.\n",
            "13: Research the average temperature for this time of year in San Francisco.\n",
            "14: Check for any changes in weather patterns in the area.\n",
            "15: Create a section on the historical weather data for San Francisco.\n",
            "16: Write a summary of the current weather conditions compared to historical data.\n",
            "17: Include a section on the UV index and recommended precautions for sun exposure.\n",
            "18: Research the air quality index for San Francisco.\n",
            "19: Discuss any potential impacts on air quality due to weather conditions.\n",
            "20: Create a section on recommended activities for\n",
            "\u001b[92m\u001b[1m\n",
            "*****NEXT TASK*****\n",
            "\u001b[0m\u001b[0m\n",
            "1: Gather data on temperature, humidity, and wind speed.\n",
            "\n",
            "\n",
            "\u001b[1m> Entering new AgentExecutor chain...\u001b[0m\n",
            "\u001b[32;1m\u001b[1;3mThought: I should gather data on temperature, humidity, and wind speed to create a weather report.\n",
            "Action: Search\n",
            "Action Input: \"What is the current temperature in SF?\"\u001b[0m\n",
            "Observation: \u001b[36;1m\u001b[1;3m{'type': 'weather_result', 'temperature': '51', 'unit': 'Fahrenheit', 'precipitation': '0%', 'humidity': '80%', 'wind': '11 mph', 'location': 'San Francisco, CA', 'date': 'Wednesday 8:00 AM', 'weather': 'Partly cloudy'}\u001b[0m\n",
            "Thought:\u001b[32;1m\u001b[1;3m I should also gather data on humidity and wind speed.\n",
            "Action: Search\n",
            "Action Input: \"What is the current humidity in SF?\"\u001b[0m\n",
            "Observation: \u001b[36;1m\u001b[1;3m{'type': 'weather_result', 'temperature': '51', 'unit': 'Fahrenheit', 'precipitation': '0%', 'humidity': '80%', 'wind': '11 mph', 'location': 'San Francisco, CA', 'date': 'Wednesday 8:00 AM', 'weather': 'Partly cloudy'}\u001b[0m\n",
            "Thought:\u001b[32;1m\u001b[1;3m I should also gather data on wind speed.\n",
            "Action: Search\n",
            "Action Input: \"What is the current wind speed in SF?\"\u001b[0m\n",
            "Observation: \u001b[36;1m\u001b[1;3m{'type': 'weather_result', 'temperature': '51', 'unit': 'Fahrenheit', 'precipitation': '0%', 'humidity': '80%', 'wind': '11 mph', 'location': 'San Francisco, CA', 'date': 'Wednesday 8:00 AM', 'weather': 'Partly cloudy'}\u001b[0m\n",
            "Thought:\u001b[32;1m\u001b[1;3m I now have all the necessary data to create a weather report.\n",
            "Final Answer: The current weather in San Francisco is partly cloudy with a temperature of 51 degrees Fahrenheit, humidity of 80%, and wind speed of 11 mph.\u001b[0m\n",
            "\n",
            "\u001b[1m> Finished chain.\u001b[0m\n",
            "\u001b[93m\u001b[1m\n",
            "*****TASK RESULT*****\n",
            "\u001b[0m\u001b[0m\n",
            "The current weather in San Francisco is partly cloudy with a temperature of 51 degrees Fahrenheit, humidity of 80%, and wind speed of 11 mph.\n",
            "\u001b[91m\u001b[1m\n",
            "*****TASK ENDING*****\n",
            "\u001b[0m\u001b[0m\n"
          ]
        },
        {
          "output_type": "execute_result",
          "data": {
            "text/plain": [
              "{'objective': 'Write a weather report for SF today'}"
            ]
          },
          "metadata": {},
          "execution_count": 58
        }
      ],
      "source": [
        "baby_agi({\"objective\": OBJECTIVE})"
      ]
    },
    {
      "cell_type": "code",
      "execution_count": 91,
      "id": "898a210b",
      "metadata": {
        "id": "898a210b"
      },
      "outputs": [],
      "source": [
        "from langchain.agents import AgentExecutor, Tool, ZeroShotAgent\n",
        "from langchain.chains import LLMChain\n",
        "from langchain_community.utilities import SerpAPIWrapper\n",
        "from langchain_openai import OpenAI\n",
        "from langchain.prompts import PromptTemplate\n",
        "\n",
        "# Wellness planner prompt\n",
        "wellness_prompt = PromptTemplate.from_template(\n",
        "    \"You are a certified wellness coach who creates personalized 5-day fitness and wellness plans based on a person's goal. Create a 5-day plan for this objective: {objective}. Respond in the following format:\\nAction: <action to take>\\nAction Input: <input to the action>\"\n",
        ")\n",
        "\n",
        "wellness_chain = LLMChain(llm=OpenAI(temperature=0), prompt=wellness_prompt)\n",
        "\n",
        "# Search tool for real-time info (e.g., local gyms, meal plans, current trends)\n",
        "search = SerpAPIWrapper()\n",
        "\n",
        "# Tools setup\n",
        "tools = [\n",
        "    Tool(\n",
        "        name=\"Search\",\n",
        "        func=search.run,\n",
        "        description=\"useful for looking up healthy meal options, fitness trends, local gyms or classes, or any wellness-related current info\",\n",
        "    ),\n",
        "    Tool(\n",
        "        name=\"WellnessPlanner\",\n",
        "        func=wellness_chain.run,\n",
        "        description=\"useful for generating 5-day fitness and wellness routines based on goals like weight loss, stress reduction, or strength building\",\n",
        "    ),\n",
        "]\n",
        "\n",
        "# Prompt setup\n",
        "prefix = \"\"\"You are an AI wellness advisor helping someone achieve their fitness or lifestyle goals. Your job is to build a plan or assist based on the objective and what has already been done: {context}.\"\"\"\n",
        "suffix = \"\"\"Question: {task}\n",
        "{agent_scratchpad}\"\"\"\n",
        "\n",
        "prompt = ZeroShotAgent.create_prompt(\n",
        "    tools,\n",
        "    prefix=prefix,\n",
        "    suffix=suffix,\n",
        "    input_variables=[\"objective\", \"task\", \"context\", \"agent_scratchpad\"],\n",
        ")\n",
        "\n",
        "\n",
        "# Instantiate the BabyAGI with your custom objective and tools, and handle parsing errors\n",
        "baby_agi = BabyAGI.from_llm(\n",
        "    llm=llm,\n",
        "    vectorstore=vectorstore,\n",
        "    task_execution_chain=agent_executor,\n",
        "    verbose=verbose,\n",
        "    max_iterations=max_iterations,\n",
        ")\n",
        "agent_executor = AgentExecutor.from_agent_and_tools(\n",
        "    agent=agent, tools=tools, verbose=True, handle_parsing_errors=True\n",
        ")"
      ]
    },
    {
      "cell_type": "code",
      "source": [
        "OBJECTIVE = \"Create a 5-day fitness and wellness plan for stress reduction and improved sleep\"\n"
      ],
      "metadata": {
        "id": "jBk5D3z9U8Re"
      },
      "id": "jBk5D3z9U8Re",
      "execution_count": 92,
      "outputs": []
    },
    {
      "cell_type": "code",
      "execution_count": 93,
      "metadata": {
        "tags": [],
        "colab": {
          "base_uri": "https://localhost:8080/"
        },
        "outputId": "f1c6cf86-5079-4381-f2c7-9739983ccec8",
        "id": "gg3-61UvVbmv"
      },
      "outputs": [
        {
          "output_type": "stream",
          "name": "stdout",
          "text": [
            "\u001b[95m\u001b[1m\n",
            "*****TASK LIST*****\n",
            "\u001b[0m\u001b[0m\n",
            "1: Make a todo list\n",
            "\u001b[92m\u001b[1m\n",
            "*****NEXT TASK*****\n",
            "\u001b[0m\u001b[0m\n",
            "1: Make a todo list\n",
            "\n",
            "\n",
            "\u001b[1m> Entering new AgentExecutor chain...\u001b[0m\n",
            "\u001b[32;1m\u001b[1;3mThought: To create a todo list, I need to understand the person's goals and priorities.\n",
            "Action: WellnessPlanner\n",
            "Action Input: Goals and priorities\u001b[0m\n",
            "Observation: \u001b[33;1m\u001b[1;3m\n",
            "\n",
            "Day 1:\n",
            "Action: Set Goals and Priorities\n",
            "Action Input: Meet with client to discuss their current goals and priorities and help them identify any areas they would like to focus on.\n",
            "\n",
            "Day 2:\n",
            "Action: Create a Vision Board\n",
            "Action Input: Have client create a vision board with images and words that represent their goals and priorities. This will serve as a visual reminder and motivation for them throughout the week.\n",
            "\n",
            "Day 3:\n",
            "Action: Schedule Time for Goal Work\n",
            "Action Input: Help client schedule specific times throughout the week to work on their goals and priorities. This will ensure they make time for these important tasks and stay on track.\n",
            "\n",
            "Day 4:\n",
            "Action: Prioritize Tasks\n",
            "Action Input: Have client make a list of their goals and priorities and prioritize them in order of importance. This will help them focus on the most important tasks first and avoid feeling overwhelmed.\n",
            "\n",
            "Day 5:\n",
            "Action: Reflect and Adjust\n",
            "Action Input: Have client reflect on their progress throughout the week and make any necessary adjustments to their goals and priorities. This will help them stay on track and continue to make progress towards their overall objectives.\u001b[0m\n",
            "Thought:\u001b[32;1m\u001b[1;3m I now know the final answer.\n",
            "Final Answer: Based on your goals and priorities, your 5-day wellness plan includes setting goals and priorities, creating a vision board, scheduling time for goal work, prioritizing tasks, and reflecting and adjusting. This will help you stay on track and make progress towards your overall objectives.\u001b[0m\n",
            "\n",
            "\u001b[1m> Finished chain.\u001b[0m\n",
            "\u001b[93m\u001b[1m\n",
            "*****TASK RESULT*****\n",
            "\u001b[0m\u001b[0m\n",
            "Based on your goals and priorities, your 5-day wellness plan includes setting goals and priorities, creating a vision board, scheduling time for goal work, prioritizing tasks, and reflecting and adjusting. This will help you stay on track and make progress towards your overall objectives.\n",
            "\u001b[95m\u001b[1m\n",
            "*****TASK LIST*****\n",
            "\u001b[0m\u001b[0m\n",
            "1: Develop a daily exercise routine that includes both cardio and strength training.\n",
            "2: Create a meal plan that focuses on healthy, nutrient-rich foods to support overall wellness.\n",
            "3: Set aside time each day for mindfulness and relaxation practices, such as meditation or yoga.\n",
            "4: Create a sleep schedule and stick to it, aiming for at least 7-8 hours of sleep each night.\n",
            "5: Research and implement strategies for creating a calming and stress-free sleep environment.\n",
            "6: Schedule regular breaks throughout the day to recharge and refocus.\n",
            "7: Create a gratitude journal to reflect on positive aspects of each day.\n",
            "8: Set specific goals for each day and track progress towards them.\n",
            "9: Reflect on each day's accomplishments and make adjustments to the plan as needed.\n",
            "10: Research stress reduction techniques and create a list of the most effective methods.\n",
            "\u001b[92m\u001b[1m\n",
            "*****NEXT TASK*****\n",
            "\u001b[0m\u001b[0m\n",
            "1: Develop a daily exercise routine that includes both cardio and strength training.\n",
            "\n",
            "\n",
            "\u001b[1m> Entering new AgentExecutor chain...\u001b[0m\n",
            "\u001b[32;1m\u001b[1;3mThought: To create an effective exercise routine, I need to consider the individual's fitness level, goals, and any potential limitations.\n",
            "Action: WellnessPlanner\n",
            "Action Input: Fitness level, goals, limitations\u001b[0m\n",
            "Observation: \u001b[33;1m\u001b[1;3m\n",
            "\n",
            "Day 1:\n",
            "Action: Cardio Workout\n",
            "Action Input: 30 minutes of jogging or cycling at a moderate intensity\n",
            "\n",
            "Day 2:\n",
            "Action: Strength Training\n",
            "Action Input: 3 sets of 10 reps of bodyweight exercises such as push-ups, squats, and lunges\n",
            "\n",
            "Day 3:\n",
            "Action: Yoga or Pilates\n",
            "Action Input: 30 minutes of a beginner level yoga or Pilates class to improve flexibility and core strength\n",
            "\n",
            "Day 4:\n",
            "Action: Rest and Recovery\n",
            "Action Input: Take a break from intense workouts and focus on stretching and foam rolling to prevent injury and promote muscle recovery\n",
            "\n",
            "Day 5:\n",
            "Action: High-Intensity Interval Training (HIIT)\n",
            "Action Input: 20 minutes of alternating between high-intensity exercises (such as burpees or sprints) and short periods of rest to improve cardiovascular endurance and burn calories\n",
            "\n",
            "Note: It is important to listen to your body and modify any exercises if you have any limitations or injuries. Always consult with a doctor before starting any new fitness routine.\u001b[0m\n",
            "Thought:\u001b[32;1m\u001b[1;3m This 5-day routine incorporates both cardio and strength training, as well as rest and recovery, to promote overall fitness and prevent burnout.\n",
            "Final Answer: Based on your fitness level, goals, and limitations, I recommend following this 5-day exercise routine for a well-rounded fitness plan. Remember to listen to your body and make modifications as needed.\u001b[0m\n",
            "\n",
            "\u001b[1m> Finished chain.\u001b[0m\n",
            "\u001b[93m\u001b[1m\n",
            "*****TASK RESULT*****\n",
            "\u001b[0m\u001b[0m\n",
            "Based on your fitness level, goals, and limitations, I recommend following this 5-day exercise routine for a well-rounded fitness plan. Remember to listen to your body and make modifications as needed.\n",
            "\u001b[95m\u001b[1m\n",
            "*****TASK LIST*****\n",
            "\u001b[0m\u001b[0m\n",
            "1: Set aside time each day for mindfulness and relaxation practices, such as meditation or yoga.\n",
            "2: Create a sleep schedule and stick to it, aiming for at least 7-8 hours of sleep each night.\n",
            "3: Research and implement strategies for creating a calming and stress-free sleep environment.\n",
            "4: Schedule regular breaks throughout the day to recharge and refocus.\n",
            "5: Create a gratitude journal to reflect on positive aspects of each day.\n",
            "6: Set specific goals for each day and track progress towards them.\n",
            "7: Reflect on each day's accomplishments and make adjustments to the plan as needed.\n",
            "8: Research stress reduction techniques and create a list of the most effective methods.\n",
            "9: Develop a stretching routine to be done before and after each workout session.\n",
            "10: Research and implement a pre-bedtime routine to promote relaxation and better sleep.\n",
            "11: Create a list of healthy and nutritious snacks to incorporate into the meal plan.\n",
            "12: Schedule a weekly rest day to allow for proper recovery and prevent burnout.\n",
            "13: Research and implement strategies for managing stress and anxiety during daily activities.\n",
            "14: Create a workout playlist to keep you motivated and energized during exercise.\n",
            "15: Set a goal to increase daily water intake and track progress throughout the week.\n",
            "16: Research and\n",
            "\u001b[92m\u001b[1m\n",
            "*****NEXT TASK*****\n",
            "\u001b[0m\u001b[0m\n",
            "1: Set aside time each day for mindfulness and relaxation practices, such as meditation or yoga.\n",
            "\n",
            "\n",
            "\u001b[1m> Entering new AgentExecutor chain...\u001b[0m\n",
            "\u001b[32;1m\u001b[1;3mThought: It's important to prioritize self-care and mental well-being in addition to physical fitness.\n",
            "Action: WellnessPlanner\n",
            "Action Input: goals = [stress reduction]\u001b[0m\n",
            "Observation: \u001b[33;1m\u001b[1;3m\n",
            "\n",
            "Day 1:\n",
            "Action: Mindful Breathing\n",
            "Action Input: Set aside 10 minutes in the morning and evening to practice deep breathing exercises. Inhale for 4 seconds, hold for 4 seconds, and exhale for 4 seconds. Focus on your breath and let go of any racing thoughts.\n",
            "\n",
            "Day 2:\n",
            "Action: Yoga\n",
            "Action Input: Attend a yoga class or follow a guided yoga video at home. Focus on slow, intentional movements and deep breathing to release tension and stress from the body.\n",
            "\n",
            "Day 3:\n",
            "Action: Journaling\n",
            "Action Input: Take 15 minutes to write down your thoughts and feelings in a journal. This can help you process and release any stress or worries you may be holding onto.\n",
            "\n",
            "Day 4:\n",
            "Action: Nature Walk\n",
            "Action Input: Spend 30 minutes walking in nature, whether it's in a park or on a hiking trail. Take in the sights, sounds, and smells of your surroundings and allow yourself to fully relax and let go of stress.\n",
            "\n",
            "Day 5:\n",
            "Action: Self-Care Day\n",
            "Action Input: Set aside a day to focus on self-care activities that bring you joy and relaxation. This could include taking a bath, reading a book, getting a massage, or anything else\u001b[0m\n",
            "Thought:\u001b[32;1m\u001b[1;3m It's important to listen to your body and give yourself time to rest and recharge.\n",
            "Final Answer: A 5-day wellness routine focused on stress reduction through mindfulness and relaxation practices.\u001b[0m\n",
            "\n",
            "\u001b[1m> Finished chain.\u001b[0m\n",
            "\u001b[93m\u001b[1m\n",
            "*****TASK RESULT*****\n",
            "\u001b[0m\u001b[0m\n",
            "A 5-day wellness routine focused on stress reduction through mindfulness and relaxation practices.\n",
            "\u001b[91m\u001b[1m\n",
            "*****TASK ENDING*****\n",
            "\u001b[0m\u001b[0m\n"
          ]
        },
        {
          "output_type": "execute_result",
          "data": {
            "text/plain": [
              "{'objective': 'Create a 5-day fitness and wellness plan for stress reduction and improved sleep'}"
            ]
          },
          "metadata": {},
          "execution_count": 93
        }
      ],
      "source": [
        "baby_agi({\"objective\": OBJECTIVE})"
      ],
      "id": "gg3-61UvVbmv"
    }
  ],
  "metadata": {
    "kernelspec": {
      "display_name": "Python 3",
      "name": "python3"
    },
    "language_info": {
      "codemirror_mode": {
        "name": "ipython",
        "version": 3
      },
      "file_extension": ".py",
      "mimetype": "text/x-python",
      "name": "python",
      "nbconvert_exporter": "python",
      "pygments_lexer": "ipython3",
      "version": "3.11.8"
    },
    "colab": {
      "provenance": []
    }
  },
  "nbformat": 4,
  "nbformat_minor": 5
}