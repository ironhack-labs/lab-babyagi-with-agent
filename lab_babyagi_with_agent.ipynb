{
  "cells": [
    {
      "cell_type": "markdown",
      "id": "1cdba6f7-142d-4dd2-96f6-a13bb5d978ce",
      "metadata": {
        "id": "1cdba6f7-142d-4dd2-96f6-a13bb5d978ce"
      },
      "source": [
        "# Lab | BabyAGI with agent\n",
        "\n",
        "**Change the planner objective below by changing the objective and the associated prompts and potential tools and agents - Wear your creativity and AI engineering hats\n",
        "You can't get this wrong!**\n",
        "\n",
        "You would need the OpenAI API KEY and the [SerpAPI KEY](https://serpapi.com/manage-api-keyhttps://serpapi.com/manage-api-key) to run this lab.\n"
      ]
    },
    {
      "cell_type": "markdown",
      "id": "517a9fd4",
      "metadata": {
        "id": "517a9fd4"
      },
      "source": [
        "## BabyAGI with Tools\n",
        "\n",
        "This notebook builds on top of [baby agi](baby_agi.html), but shows how you can swap out the execution chain. The previous execution chain was just an LLM which made stuff up. By swapping it out with an agent that has access to tools, we can hopefully get real reliable information"
      ]
    },
    {
      "cell_type": "markdown",
      "id": "556af556",
      "metadata": {
        "id": "556af556"
      },
      "source": [
        "## Install and Import Required Modules"
      ]
    },
    {
      "cell_type": "code",
      "execution_count": 1,
      "id": "85b7ca88",
      "metadata": {
        "colab": {
          "base_uri": "https://localhost:8080/"
        },
        "id": "85b7ca88",
        "outputId": "8dbbdc86-5d3d-41b2-855f-1ada10de304f"
      },
      "outputs": [
        {
          "output_type": "stream",
          "name": "stdout",
          "text": [
            "Requirement already satisfied: langchain_community in /usr/local/lib/python3.11/dist-packages (0.3.21)\n",
            "Requirement already satisfied: langchain_experimental in /usr/local/lib/python3.11/dist-packages (0.3.4)\n",
            "Requirement already satisfied: langchain_openai in /usr/local/lib/python3.11/dist-packages (0.3.14)\n",
            "Requirement already satisfied: langchain-core<1.0.0,>=0.3.51 in /usr/local/lib/python3.11/dist-packages (from langchain_community) (0.3.54)\n",
            "Requirement already satisfied: langchain<1.0.0,>=0.3.23 in /usr/local/lib/python3.11/dist-packages (from langchain_community) (0.3.23)\n",
            "Requirement already satisfied: SQLAlchemy<3,>=1.4 in /usr/local/lib/python3.11/dist-packages (from langchain_community) (2.0.40)\n",
            "Requirement already satisfied: requests<3,>=2 in /usr/local/lib/python3.11/dist-packages (from langchain_community) (2.32.3)\n",
            "Requirement already satisfied: PyYAML>=5.3 in /usr/local/lib/python3.11/dist-packages (from langchain_community) (6.0.2)\n",
            "Requirement already satisfied: aiohttp<4.0.0,>=3.8.3 in /usr/local/lib/python3.11/dist-packages (from langchain_community) (3.11.15)\n",
            "Requirement already satisfied: tenacity!=8.4.0,<10,>=8.1.0 in /usr/local/lib/python3.11/dist-packages (from langchain_community) (9.1.2)\n",
            "Requirement already satisfied: dataclasses-json<0.7,>=0.5.7 in /usr/local/lib/python3.11/dist-packages (from langchain_community) (0.6.7)\n",
            "Requirement already satisfied: pydantic-settings<3.0.0,>=2.4.0 in /usr/local/lib/python3.11/dist-packages (from langchain_community) (2.9.1)\n",
            "Requirement already satisfied: langsmith<0.4,>=0.1.125 in /usr/local/lib/python3.11/dist-packages (from langchain_community) (0.3.31)\n",
            "Requirement already satisfied: httpx-sse<1.0.0,>=0.4.0 in /usr/local/lib/python3.11/dist-packages (from langchain_community) (0.4.0)\n",
            "Requirement already satisfied: numpy<3,>=1.26.2 in /usr/local/lib/python3.11/dist-packages (from langchain_community) (2.0.2)\n",
            "Requirement already satisfied: openai<2.0.0,>=1.68.2 in /usr/local/lib/python3.11/dist-packages (from langchain_openai) (1.75.0)\n",
            "Requirement already satisfied: tiktoken<1,>=0.7 in /usr/local/lib/python3.11/dist-packages (from langchain_openai) (0.9.0)\n",
            "Requirement already satisfied: aiohappyeyeballs>=2.3.0 in /usr/local/lib/python3.11/dist-packages (from aiohttp<4.0.0,>=3.8.3->langchain_community) (2.6.1)\n",
            "Requirement already satisfied: aiosignal>=1.1.2 in /usr/local/lib/python3.11/dist-packages (from aiohttp<4.0.0,>=3.8.3->langchain_community) (1.3.2)\n",
            "Requirement already satisfied: attrs>=17.3.0 in /usr/local/lib/python3.11/dist-packages (from aiohttp<4.0.0,>=3.8.3->langchain_community) (25.3.0)\n",
            "Requirement already satisfied: frozenlist>=1.1.1 in /usr/local/lib/python3.11/dist-packages (from aiohttp<4.0.0,>=3.8.3->langchain_community) (1.5.0)\n",
            "Requirement already satisfied: multidict<7.0,>=4.5 in /usr/local/lib/python3.11/dist-packages (from aiohttp<4.0.0,>=3.8.3->langchain_community) (6.4.3)\n",
            "Requirement already satisfied: propcache>=0.2.0 in /usr/local/lib/python3.11/dist-packages (from aiohttp<4.0.0,>=3.8.3->langchain_community) (0.3.1)\n",
            "Requirement already satisfied: yarl<2.0,>=1.17.0 in /usr/local/lib/python3.11/dist-packages (from aiohttp<4.0.0,>=3.8.3->langchain_community) (1.19.0)\n",
            "Requirement already satisfied: marshmallow<4.0.0,>=3.18.0 in /usr/local/lib/python3.11/dist-packages (from dataclasses-json<0.7,>=0.5.7->langchain_community) (3.26.1)\n",
            "Requirement already satisfied: typing-inspect<1,>=0.4.0 in /usr/local/lib/python3.11/dist-packages (from dataclasses-json<0.7,>=0.5.7->langchain_community) (0.9.0)\n",
            "Requirement already satisfied: langchain-text-splitters<1.0.0,>=0.3.8 in /usr/local/lib/python3.11/dist-packages (from langchain<1.0.0,>=0.3.23->langchain_community) (0.3.8)\n",
            "Requirement already satisfied: pydantic<3.0.0,>=2.7.4 in /usr/local/lib/python3.11/dist-packages (from langchain<1.0.0,>=0.3.23->langchain_community) (2.11.3)\n",
            "Requirement already satisfied: jsonpatch<2.0,>=1.33 in /usr/local/lib/python3.11/dist-packages (from langchain-core<1.0.0,>=0.3.51->langchain_community) (1.33)\n",
            "Requirement already satisfied: packaging<25,>=23.2 in /usr/local/lib/python3.11/dist-packages (from langchain-core<1.0.0,>=0.3.51->langchain_community) (24.2)\n",
            "Requirement already satisfied: typing-extensions>=4.7 in /usr/local/lib/python3.11/dist-packages (from langchain-core<1.0.0,>=0.3.51->langchain_community) (4.13.2)\n",
            "Requirement already satisfied: httpx<1,>=0.23.0 in /usr/local/lib/python3.11/dist-packages (from langsmith<0.4,>=0.1.125->langchain_community) (0.28.1)\n",
            "Requirement already satisfied: orjson<4.0.0,>=3.9.14 in /usr/local/lib/python3.11/dist-packages (from langsmith<0.4,>=0.1.125->langchain_community) (3.10.16)\n",
            "Requirement already satisfied: requests-toolbelt<2.0.0,>=1.0.0 in /usr/local/lib/python3.11/dist-packages (from langsmith<0.4,>=0.1.125->langchain_community) (1.0.0)\n",
            "Requirement already satisfied: zstandard<0.24.0,>=0.23.0 in /usr/local/lib/python3.11/dist-packages (from langsmith<0.4,>=0.1.125->langchain_community) (0.23.0)\n",
            "Requirement already satisfied: anyio<5,>=3.5.0 in /usr/local/lib/python3.11/dist-packages (from openai<2.0.0,>=1.68.2->langchain_openai) (4.9.0)\n",
            "Requirement already satisfied: distro<2,>=1.7.0 in /usr/local/lib/python3.11/dist-packages (from openai<2.0.0,>=1.68.2->langchain_openai) (1.9.0)\n",
            "Requirement already satisfied: jiter<1,>=0.4.0 in /usr/local/lib/python3.11/dist-packages (from openai<2.0.0,>=1.68.2->langchain_openai) (0.9.0)\n",
            "Requirement already satisfied: sniffio in /usr/local/lib/python3.11/dist-packages (from openai<2.0.0,>=1.68.2->langchain_openai) (1.3.1)\n",
            "Requirement already satisfied: tqdm>4 in /usr/local/lib/python3.11/dist-packages (from openai<2.0.0,>=1.68.2->langchain_openai) (4.67.1)\n",
            "Requirement already satisfied: python-dotenv>=0.21.0 in /usr/local/lib/python3.11/dist-packages (from pydantic-settings<3.0.0,>=2.4.0->langchain_community) (1.1.0)\n",
            "Requirement already satisfied: typing-inspection>=0.4.0 in /usr/local/lib/python3.11/dist-packages (from pydantic-settings<3.0.0,>=2.4.0->langchain_community) (0.4.0)\n",
            "Requirement already satisfied: charset-normalizer<4,>=2 in /usr/local/lib/python3.11/dist-packages (from requests<3,>=2->langchain_community) (3.4.1)\n",
            "Requirement already satisfied: idna<4,>=2.5 in /usr/local/lib/python3.11/dist-packages (from requests<3,>=2->langchain_community) (3.10)\n",
            "Requirement already satisfied: urllib3<3,>=1.21.1 in /usr/local/lib/python3.11/dist-packages (from requests<3,>=2->langchain_community) (2.3.0)\n",
            "Requirement already satisfied: certifi>=2017.4.17 in /usr/local/lib/python3.11/dist-packages (from requests<3,>=2->langchain_community) (2025.1.31)\n",
            "Requirement already satisfied: greenlet>=1 in /usr/local/lib/python3.11/dist-packages (from SQLAlchemy<3,>=1.4->langchain_community) (3.2.0)\n",
            "Requirement already satisfied: regex>=2022.1.18 in /usr/local/lib/python3.11/dist-packages (from tiktoken<1,>=0.7->langchain_openai) (2024.11.6)\n",
            "Requirement already satisfied: httpcore==1.* in /usr/local/lib/python3.11/dist-packages (from httpx<1,>=0.23.0->langsmith<0.4,>=0.1.125->langchain_community) (1.0.8)\n",
            "Requirement already satisfied: h11<0.15,>=0.13 in /usr/local/lib/python3.11/dist-packages (from httpcore==1.*->httpx<1,>=0.23.0->langsmith<0.4,>=0.1.125->langchain_community) (0.14.0)\n",
            "Requirement already satisfied: jsonpointer>=1.9 in /usr/local/lib/python3.11/dist-packages (from jsonpatch<2.0,>=1.33->langchain-core<1.0.0,>=0.3.51->langchain_community) (3.0.0)\n",
            "Requirement already satisfied: annotated-types>=0.6.0 in /usr/local/lib/python3.11/dist-packages (from pydantic<3.0.0,>=2.7.4->langchain<1.0.0,>=0.3.23->langchain_community) (0.7.0)\n",
            "Requirement already satisfied: pydantic-core==2.33.1 in /usr/local/lib/python3.11/dist-packages (from pydantic<3.0.0,>=2.7.4->langchain<1.0.0,>=0.3.23->langchain_community) (2.33.1)\n",
            "Requirement already satisfied: mypy-extensions>=0.3.0 in /usr/local/lib/python3.11/dist-packages (from typing-inspect<1,>=0.4.0->dataclasses-json<0.7,>=0.5.7->langchain_community) (1.0.0)\n"
          ]
        }
      ],
      "source": [
        "!pip install langchain_community langchain_experimental langchain_openai"
      ]
    },
    {
      "cell_type": "code",
      "source": [
        "!pip install faiss-cpu\n"
      ],
      "metadata": {
        "colab": {
          "base_uri": "https://localhost:8080/"
        },
        "id": "bHJJt3G6u6Mn",
        "outputId": "ed7a6925-47f8-488c-a22d-c02a27292829"
      },
      "id": "bHJJt3G6u6Mn",
      "execution_count": 2,
      "outputs": [
        {
          "output_type": "stream",
          "name": "stdout",
          "text": [
            "Requirement already satisfied: faiss-cpu in /usr/local/lib/python3.11/dist-packages (1.10.0)\n",
            "Requirement already satisfied: numpy<3.0,>=1.25.0 in /usr/local/lib/python3.11/dist-packages (from faiss-cpu) (2.0.2)\n",
            "Requirement already satisfied: packaging in /usr/local/lib/python3.11/dist-packages (from faiss-cpu) (24.2)\n"
          ]
        }
      ]
    },
    {
      "cell_type": "code",
      "source": [
        "# ✅ Install SerpAPI Python client\n",
        "!pip install google-search-results\n"
      ],
      "metadata": {
        "colab": {
          "base_uri": "https://localhost:8080/"
        },
        "id": "7-NSwwimvKYv",
        "outputId": "3981207a-397e-46be-8665-706e45644607"
      },
      "id": "7-NSwwimvKYv",
      "execution_count": 3,
      "outputs": [
        {
          "output_type": "stream",
          "name": "stdout",
          "text": [
            "Requirement already satisfied: google-search-results in /usr/local/lib/python3.11/dist-packages (2.4.2)\n",
            "Requirement already satisfied: requests in /usr/local/lib/python3.11/dist-packages (from google-search-results) (2.32.3)\n",
            "Requirement already satisfied: charset-normalizer<4,>=2 in /usr/local/lib/python3.11/dist-packages (from requests->google-search-results) (3.4.1)\n",
            "Requirement already satisfied: idna<4,>=2.5 in /usr/local/lib/python3.11/dist-packages (from requests->google-search-results) (3.10)\n",
            "Requirement already satisfied: urllib3<3,>=1.21.1 in /usr/local/lib/python3.11/dist-packages (from requests->google-search-results) (2.3.0)\n",
            "Requirement already satisfied: certifi>=2017.4.17 in /usr/local/lib/python3.11/dist-packages (from requests->google-search-results) (2025.1.31)\n"
          ]
        }
      ]
    },
    {
      "cell_type": "code",
      "source": [
        "from typing import Optional\n",
        "from langchain.chains import LLMChain\n",
        "from langchain.prompts import PromptTemplate\n",
        "from langchain_experimental.autonomous_agents import BabyAGI\n",
        "from langchain_openai import OpenAI, OpenAIEmbeddings\n",
        "from langchain.docstore import InMemoryDocstore\n",
        "from langchain_community.vectorstores import FAISS\n",
        "from langchain.agents import AgentExecutor, Tool, ZeroShotAgent\n",
        "from langchain_community.utilities import SerpAPIWrapper\n",
        "import faiss\n",
        "import os"
      ],
      "metadata": {
        "id": "4yLsi9DYurIq"
      },
      "id": "4yLsi9DYurIq",
      "execution_count": 4,
      "outputs": []
    },
    {
      "cell_type": "code",
      "execution_count": 5,
      "id": "c8a354b6",
      "metadata": {
        "tags": [],
        "id": "c8a354b6"
      },
      "outputs": [],
      "source": [
        "from typing import Optional\n",
        "\n",
        "from langchain.chains import LLMChain\n",
        "from langchain.prompts import PromptTemplate\n",
        "from langchain_experimental.autonomous_agents import BabyAGI\n",
        "from langchain_openai import OpenAI, OpenAIEmbeddings"
      ]
    },
    {
      "cell_type": "markdown",
      "id": "09f70772",
      "metadata": {
        "id": "09f70772"
      },
      "source": [
        "## Connect to the Vector Store\n",
        "\n",
        "Depending on what vectorstore you use, this step may look different."
      ]
    },
    {
      "cell_type": "code",
      "execution_count": 6,
      "id": "794045d4",
      "metadata": {
        "tags": [],
        "id": "794045d4"
      },
      "outputs": [],
      "source": [
        "# %pip install faiss-cpu > /dev/null\n",
        "# %pip install google-search-results > /dev/null\n",
        "from langchain.docstore import InMemoryDocstore\n",
        "from langchain_community.vectorstores import FAISS"
      ]
    },
    {
      "cell_type": "code",
      "execution_count": 7,
      "id": "c4164841-915d-4c60-8a47-3a502a5cf71d",
      "metadata": {
        "tags": [],
        "colab": {
          "base_uri": "https://localhost:8080/"
        },
        "id": "c4164841-915d-4c60-8a47-3a502a5cf71d",
        "outputId": "73d2341d-e84a-406b-8a8b-febca520d929"
      },
      "outputs": [
        {
          "output_type": "stream",
          "name": "stdout",
          "text": [
            "Drive already mounted at /content/drive; to attempt to forcibly remount, call drive.mount(\"/content/drive\", force_remount=True).\n",
            "OPENAI_API_KEY is set: True\n",
            "SERPAPI_API_KEY is set: True\n"
          ]
        }
      ],
      "source": [
        "from google.colab import drive\n",
        "drive.mount('/content/drive')\n",
        "\n",
        "import os\n",
        "from google.colab import userdata\n",
        "\n",
        "# ✅ Retrieve and manually inject the secret into environment\n",
        "os.environ[\"OPENAI_API_KEY\"] = userdata.get(\"OPENAI_API_KEY\")\n",
        "os.environ[\"SERPAPI_API_KEY\"] = userdata.get(\"SERPAPI_API_KEY\")\n",
        "\n",
        "# ✅ Confirm\n",
        "print(\"OPENAI_API_KEY is set:\", os.environ.get(\"OPENAI_API_KEY\") is not None)\n",
        "print(\"SERPAPI_API_KEY is set:\", os.environ.get(\"SERPAPI_API_KEY\") is not None)\n"
      ]
    },
    {
      "cell_type": "code",
      "execution_count": 18,
      "id": "6e0305eb",
      "metadata": {
        "tags": [],
        "colab": {
          "base_uri": "https://localhost:8080/"
        },
        "id": "6e0305eb",
        "outputId": "0dfe0777-e256-4012-da2a-4c88b2288d93"
      },
      "outputs": [
        {
          "output_type": "stream",
          "name": "stderr",
          "text": [
            "WARNING:langchain_community.vectorstores.faiss:`embedding_function` is expected to be an Embeddings object, support for passing in a function will soon be removed.\n"
          ]
        }
      ],
      "source": [
        "# Define your embedding model\n",
        "embeddings_model = OpenAIEmbeddings()\n",
        "# Initialize the vectorstore as empty\n",
        "import faiss\n",
        "\n",
        "embedding_size = 1536\n",
        "index = faiss.IndexFlatL2(embedding_size)\n",
        "vectorstore = FAISS(embeddings_model.embed_query, index, InMemoryDocstore({}), {})"
      ]
    },
    {
      "cell_type": "markdown",
      "id": "0f3b72bf",
      "metadata": {
        "id": "0f3b72bf"
      },
      "source": [
        "## Define the Chains\n",
        "\n",
        "BabyAGI relies on three LLM chains:\n",
        "- Task creation chain to select new tasks to add to the list\n",
        "- Task prioritization chain to re-prioritize tasks\n",
        "- Execution Chain to execute the tasks\n",
        "\n",
        "\n",
        "NOTE: in this notebook, the Execution chain will now be an agent."
      ]
    },
    {
      "cell_type": "code",
      "execution_count": 19,
      "id": "b43cd580",
      "metadata": {
        "tags": [],
        "id": "b43cd580"
      },
      "outputs": [],
      "source": [
        "from langchain.agents import AgentExecutor, Tool, ZeroShotAgent\n",
        "from langchain.chains import LLMChain\n",
        "from langchain_community.utilities import SerpAPIWrapper\n",
        "from langchain_openai import OpenAI\n",
        "\n",
        "# A TODO tool — helps plan survival actions\n",
        "todo_prompt = PromptTemplate.from_template(\n",
        "    \"You are a prepper AI expert. Create a survival to-do list for: {objective}\"\n",
        ")\n",
        "todo_chain = LLMChain(llm=OpenAI(temperature=0), prompt=todo_prompt)\n",
        "\n",
        "# Web search tool\n",
        "search = SerpAPIWrapper()\n",
        "\n",
        "tools = [\n",
        "    Tool(\n",
        "        name=\"Survival Search\",\n",
        "        func=search.run,\n",
        "        description=\"Useful for finding up-to-date survival tips or emergency procedures online.\",\n",
        "    ),\n",
        "    Tool(\n",
        "        name=\"Survival Planner\",\n",
        "        func=todo_chain.run,\n",
        "        description=\"Use this to create survival plans or checklists. Input: an objective to survive. Output: a detailed checklist.\",\n",
        "    ),\n",
        "]\n"
      ]
    },
    {
      "cell_type": "code",
      "source": [
        "prefix = \"\"\"You are a survivalist AI performing a task based on the following objective: {objective}.\n",
        "Consider these previously completed tasks: {context}.\"\"\"\n",
        "\n",
        "suffix = \"\"\"Task: {task}\n",
        "{agent_scratchpad}\"\"\"\n",
        "\n",
        "prompt = ZeroShotAgent.create_prompt(\n",
        "    tools, prefix=prefix, suffix=suffix,\n",
        "    input_variables=[\"objective\", \"task\", \"context\", \"agent_scratchpad\"],\n",
        ")\n"
      ],
      "metadata": {
        "id": "GurpUZ79vz6V"
      },
      "id": "GurpUZ79vz6V",
      "execution_count": 20,
      "outputs": []
    },
    {
      "cell_type": "code",
      "execution_count": 26,
      "id": "4b00ae2e",
      "metadata": {
        "tags": [],
        "id": "4b00ae2e"
      },
      "outputs": [],
      "source": [
        "llm = OpenAI(temperature=0)\n",
        "llm_chain = LLMChain(llm=llm, prompt=prompt)\n",
        "tool_names = [tool.name for tool in tools]\n",
        "\n",
        "agent = ZeroShotAgent(llm_chain=llm_chain, allowed_tools=tool_names)\n",
        "agent_executor = AgentExecutor.from_agent_and_tools(\n",
        "    agent=agent,\n",
        "    tools=tools,\n",
        "    verbose=True,\n",
        "    handle_parsing_errors=True  # <- add this\n",
        ")\n"
      ]
    },
    {
      "cell_type": "markdown",
      "id": "05ba762e",
      "metadata": {
        "id": "05ba762e"
      },
      "source": [
        "### Run the BabyAGI\n",
        "\n",
        "Now it's time to create the BabyAGI controller and watch it try to accomplish your objective."
      ]
    },
    {
      "cell_type": "code",
      "source": [
        "OBJECTIVE = \"Create a beginner’s guide to surviving your first week in a zombie apocalypse\"\n",
        "\n",
        "baby_agi = BabyAGI.from_llm(\n",
        "    llm=llm,\n",
        "    vectorstore=vectorstore,\n",
        "    task_execution_chain=agent_executor,\n",
        "    verbose=False,\n",
        "    max_iterations=3  # Keep it short and observable\n",
        ")\n",
        "\n",
        "baby_agi({\"objective\": OBJECTIVE})\n"
      ],
      "metadata": {
        "colab": {
          "base_uri": "https://localhost:8080/"
        },
        "id": "e3WpNdCUxc8o",
        "outputId": "e0d285f7-6a98-4626-cf41-4ef65559ac5b"
      },
      "id": "e3WpNdCUxc8o",
      "execution_count": 27,
      "outputs": [
        {
          "output_type": "stream",
          "name": "stdout",
          "text": [
            "\u001b[95m\u001b[1m\n",
            "*****TASK LIST*****\n",
            "\u001b[0m\u001b[0m\n",
            "1: Make a todo list\n",
            "\u001b[92m\u001b[1m\n",
            "*****NEXT TASK*****\n",
            "\u001b[0m\u001b[0m\n",
            "1: Make a todo list\n",
            "\n",
            "\n",
            "\u001b[1m> Entering new AgentExecutor chain...\u001b[0m\n",
            "\u001b[32;1m\u001b[1;3m\n",
            "Question: What should be included in a todo list for surviving the first week of a zombie apocalypse?\n",
            "Thought: It's important to prioritize tasks and have a plan in place.\n",
            "Action: Survival Planner\n",
            "Action Input: Objective - Surviving the first week of a zombie apocalypse\u001b[0m\n",
            "Observation: \u001b[33;1m\u001b[1;3m\n",
            "\n",
            "1. Secure Shelter: The first step in surviving a zombie apocalypse is finding a safe place to stay. Look for a sturdy building with minimal entry points, such as a house with a fenced yard or a high-rise apartment with secure entrances.\n",
            "\n",
            "2. Gather Supplies: Stock up on essential supplies such as food, water, and medical supplies. Aim for at least a week's worth of provisions, but try to gather as much as possible. Don't forget to include tools, weapons, and other survival gear.\n",
            "\n",
            "3. Create a Plan: Develop a plan for how you will survive the first week of the zombie apocalypse. This should include a designated meeting place for your group, a communication plan, and a strategy for defending your shelter.\n",
            "\n",
            "4. Fortify Your Shelter: Once you have secured a shelter, take steps to fortify it against potential zombie attacks. This could include boarding up windows and reinforcing doors, as well as setting up traps and alarms.\n",
            "\n",
            "5. Stay Informed: Keep a radio or other communication device on hand to stay informed about the situation outside. Listen for updates on the zombie outbreak and any potential rescue efforts.\n",
            "\n",
            "6. Avoid Contact with Zombies: The key to surviving a zombie apocalypse is to avoid contact with zombies at all costs. Stay inside your shelter\u001b[0m\n",
            "Thought:\u001b[32;1m\u001b[1;3m It's important to constantly reassess and update your plan as the situation evolves.\n",
            "Action: Survival Planner\n",
            "Action Input: Objective - Updating survival plan\u001b[0m\n",
            "Observation: \u001b[33;1m\u001b[1;3m\n",
            "\n",
            "1. Review and assess current survival plan: The first step in updating your survival plan is to review and assess your current plan. This will help you identify any areas that need improvement or updating.\n",
            "\n",
            "2. Identify potential threats and risks: Take some time to research and identify potential threats and risks in your area. This could include natural disasters, civil unrest, or other emergencies.\n",
            "\n",
            "3. Update emergency contact information: Make sure to update your emergency contact information, including phone numbers and addresses, for family members, friends, and local authorities.\n",
            "\n",
            "4. Re-evaluate your bug-out location: If you have a bug-out location, now is the time to re-evaluate its suitability. Consider factors such as accessibility, resources, and security.\n",
            "\n",
            "5. Check and rotate emergency supplies: Go through your emergency supplies and check for expiration dates. Replace any expired items and rotate your supplies to ensure they are always fresh.\n",
            "\n",
            "6. Update your first aid kit: Make sure your first aid kit is fully stocked and up to date. Consider adding any new items that may be necessary for potential threats in your area.\n",
            "\n",
            "7. Review and update your evacuation plan: If you have an evacuation plan, review and update it as needed. Make sure everyone in your household knows the plan and their roles in\u001b[0m\n",
            "Thought:\u001b[32;1m\u001b[1;3m It's important to stay organized and keep track of tasks that still need to be completed.\n",
            "Action: Survival Planner\n",
            "Action Input: Objective - Creating a to-do list for the first week of a zombie apocalypse\u001b[0m\n",
            "Observation: \u001b[33;1m\u001b[1;3m\n",
            "\n",
            "1. Secure Shelter: The first priority in any survival situation is finding a safe place to stay. Look for a sturdy building with minimal entry points and stock up on supplies to fortify it.\n",
            "\n",
            "2. Gather Supplies: Start gathering essential supplies such as food, water, and medical supplies. Focus on non-perishable items that can last for an extended period of time.\n",
            "\n",
            "3. Create a Survival Kit: Put together a survival kit that includes items such as a first aid kit, flashlight, batteries, multi-tool, and a map of the area.\n",
            "\n",
            "4. Establish Communication: In case of emergency, it is important to have a way to communicate with others. Make sure to have a fully charged phone or a two-way radio.\n",
            "\n",
            "5. Plan an Escape Route: It is important to have a plan in case you need to leave your shelter. Identify multiple escape routes and have a backup plan in case one is blocked.\n",
            "\n",
            "6. Secure Weapons: In a zombie apocalypse, it is crucial to have a way to defend yourself. Secure weapons such as guns, knives, or bats and make sure you know how to use them safely.\n",
            "\n",
            "7. Gather Information: Stay informed about the situation by listening to the radio or checking online for updates. This will help you make informed decisions\u001b[0m\n",
            "Thought:\u001b[32;1m\u001b[1;3m With a well-organized and updated to-do list, you will be better prepared to survive the first week of a zombie apocalypse.\n",
            "Final Answer: A to-do list for surviving the first week of a zombie apocalypse should include securing shelter, gathering supplies, creating a plan, fortifying your shelter, staying informed, avoiding contact with zombies, updating your survival plan, identifying potential threats, updating emergency contact information, re-evaluating your bug-out location, checking and rotating emergency supplies, updating your first aid kit, reviewing and updating your evacuation plan, securing weapons, and staying informed.\u001b[0m\n",
            "\n",
            "\u001b[1m> Finished chain.\u001b[0m\n",
            "\u001b[93m\u001b[1m\n",
            "*****TASK RESULT*****\n",
            "\u001b[0m\u001b[0m\n",
            "A to-do list for surviving the first week of a zombie apocalypse should include securing shelter, gathering supplies, creating a plan, fortifying your shelter, staying informed, avoiding contact with zombies, updating your survival plan, identifying potential threats, updating emergency contact information, re-evaluating your bug-out location, checking and rotating emergency supplies, updating your first aid kit, reviewing and updating your evacuation plan, securing weapons, and staying informed.\n",
            "\u001b[95m\u001b[1m\n",
            "*****TASK LIST*****\n",
            "\u001b[0m\u001b[0m\n",
            "1: Stay updated on the latest news and information about the zombie outbreak.\n",
            "2: Research and gather information on different types of shelters suitable for a zombie apocalypse.\n",
            "3: Create a list of essential supplies needed for survival in a zombie apocalypse.\n",
            "4: Develop a detailed plan for securing and fortifying your chosen shelter.\n",
            "5: Create a strategy for avoiding contact with zombies while gathering supplies.\n",
            "6: Update your survival plan with any new information or changes.\n",
            "7: Identify potential threats in your surrounding area and develop a plan to handle them.\n",
            "8: Update your emergency contact information and make sure it is easily accessible.\n",
            "9: Re-evaluate your bug-out location and make any necessary changes.\n",
            "10: Regularly check and rotate your emergency supplies to ensure they are up to date.\n",
            "11: Review and update your first aid kit with any necessary items.\n",
            "12: Develop an evacuation plan in case your shelter becomes compromised.\n",
            "13: Secure weapons and learn how to properly use them for self-defense.\n",
            "14: Stay informed about potential safe zones or evacuation routes.\n",
            "15: Practice and refine your survival skills, such as building a fire or purifying water.\n",
            "\u001b[92m\u001b[1m\n",
            "*****NEXT TASK*****\n",
            "\u001b[0m\u001b[0m\n",
            "1: Stay updated on the latest news and information about the zombie outbreak.\n",
            "\n",
            "\n",
            "\u001b[1m> Entering new AgentExecutor chain...\u001b[0m\n",
            "\u001b[32;1m\u001b[1;3m\n",
            "Question: How can I stay updated on the latest news and information about the zombie outbreak?\n",
            "Thought: It is important to stay informed about the current situation in order to make informed decisions.\n",
            "Action: Survival Search\n",
            "Action Input: \"zombie outbreak news\"\u001b[0m\n",
            "Observation: \u001b[36;1m\u001b[1;3m['The \"zombie virus\" news refers to the thawing of permafrost in the Arctic and the potential release of ancient viruses that could pose a threat to human health. Scientists have revived a 48,500-year-old virus from permafrost, demonstrating the possibility of such viruses resurfacing and potentially causing outbreaks. This has led to comparisons to zombie-like outbreaks in popular media, highlighting the potential for real-world threats from these ancient microbes.', ' entity_type: related_questions.', \"Ancient viruses frozen in the Arctic permafrost could one day be released by Earth's warming climate and unleash a major disease outbreak, they ...\", \"Scientists have revived a 'zombie' virus that spent 48,500 years in permafrost. Warmer temperatures in the Arctic are thawing the region's permafrost — a frozen ...\", \"News · New 'zombie virus' sending caterpillars on a death march · Romero died after 'brief but aggressive battle' with lung cancer. News · 'Night of the Living ...\", \"Melting ice can free long-frozen 'zombie viruses.' The nickname may perpetuate misunderstandings about the real threat of Arctic disease.\", 'From the first reports of violence in Yakima on March 19th, in a bit more then a month a zombie epidemic has taken over a large portion of the ...', \"The scientists stated that the melting Arctic permafrost could release the 'zombie viruses' and trigger a catastrophic global health emergency.\", \"'Zombie viruses' trapped in Arctic ice could unleash deadly new pandemic. Here is what we know. The deepest layers of permafrost could be preserving viruses.\", 'Zombies sought for slice-of-life satire film. Jacob Bentley-Green is seeking a cast of the undead for his mockumentary being filmed in York.', \"“A zombie outbreak is possible,” says Jennifer Horney, core faculty member at the Disaster Research Center and the founding director of UD's epidemiology ...\"]\u001b[0m\n",
            "Thought:\u001b[32;1m\u001b[1;3m This is a lot of information to sift through. I should narrow down my search to reliable sources and recent news.\n",
            "Action: Survival Search\n",
            "Action Input: \"zombie outbreak news reliable sources\"\u001b[0m\n",
            "Observation: \u001b[36;1m\u001b[1;3m[' entity_type: related_questions.', 'The zombie apocalypse is nigh ... A scene from HBO\\'s \"Vice: Greenland Is Melting.\" Gavin Schmidt, a colleague of mine at NASA, was interviewed ...', 'The Zombie Survival Guide identifies the cause of zombies as a virus called “solanum.” Other zombie origins shown in films include radiation from a ...', 'News Reports In An America Suffering From A Zombie Outbreak ... I guess the Pacific Northwest for some reason seems like a good place for zombies.', \"There are Pacific islands that look like that and don't have any zombies on them. I'll say this tongue in cheek, hope for a zombie apocalypse, ...\", \"Scientists have revived a 'zombie' virus that spent 48,500 years frozen in permafrost ... Cores of earth drilled from Siberian permafrost have ...\", 'Pentagon document lays out battle plan against zombies. CNN.com. May 16, 2014. http://www.cnn.com/2014/05/16/politics/pentagon-zombie-apocalypse ...', 'In most fictional stories of a zombie apocalypse, the reanimated corpses feed on humans. After a bite, humans become ravaging zombies looking ...', \"WashU Expert: Some parasites turn hosts into 'zombies'. Parasitic infections are extremely common, but not likely to cause zombie apocalypse.\", ': Different sources suggest varying degrees of dexterity for the average zombie. But most sources suggest that zombies are slow, clumsy, and none too bright.', 'Prepare a survival kit: A zombie kit includes the standard non-perishable food, water, first aid supplies, flashlight and batteries, and a ...']\u001b[0m\n",
            "Thought:\u001b[32;1m\u001b[1;3m These sources seem more reliable and recent. I should also consider checking for updates regularly.\n",
            "Action: Survival Planner\n",
            "Action Input: \"Stay updated on zombie outbreak news\"\u001b[0m\n",
            "Observation: \u001b[33;1m\u001b[1;3m\n",
            "\n",
            "1. Stay informed: Keep up-to-date with the latest news and information about the zombie outbreak. This can include monitoring local news channels, government websites, and social media for any updates or warnings.\n",
            "\n",
            "2. Have a plan: Develop a plan for what you and your family will do in the event of a zombie outbreak. This should include a designated meeting place, evacuation routes, and a list of essential supplies to have on hand.\n",
            "\n",
            "3. Stock up on supplies: Make sure you have enough food, water, and other essential supplies to last for at least a few weeks. This should include non-perishable food items, first aid supplies, and any necessary medications.\n",
            "\n",
            "4. Secure your home: Take steps to secure your home and make it less vulnerable to zombie attacks. This can include reinforcing doors and windows, setting up barricades, and having a backup power source.\n",
            "\n",
            "5. Have a communication plan: In case of a widespread zombie outbreak, traditional forms of communication may be disrupted. Have a plan in place for how you will communicate with loved ones and other survivors.\n",
            "\n",
            "6. Stay vigilant: Keep an eye out for any signs of a zombie outbreak in your area. This can include unusual behavior from people, reports of strange illnesses, or sightings of the undead.\n",
            "\n",
            "\u001b[0m\n",
            "Thought:\u001b[32;1m\u001b[1;3m I now know the final answer.\n",
            "Final Answer: To stay updated on the latest news and information about the zombie outbreak, regularly check reliable sources and have a plan in place for communication and survival.\u001b[0m\n",
            "\n",
            "\u001b[1m> Finished chain.\u001b[0m\n",
            "\u001b[93m\u001b[1m\n",
            "*****TASK RESULT*****\n",
            "\u001b[0m\u001b[0m\n",
            "To stay updated on the latest news and information about the zombie outbreak, regularly check reliable sources and have a plan in place for communication and survival.\n",
            "\u001b[95m\u001b[1m\n",
            "*****TASK LIST*****\n",
            "\u001b[0m\u001b[0m\n",
            "1: Research and gather information on different types of shelters suitable for a zombie apocalypse.\n",
            "2: Create a list of essential supplies needed for survival in a zombie apocalypse.\n",
            "3: Develop a detailed plan for securing and fortifying your chosen shelter.\n",
            "4: Create a strategy for avoiding contact with zombies while gathering supplies.\n",
            "5: Update your survival plan with any new information or changes.\n",
            "6: Identify potential threats in your surrounding area and develop a plan to handle them.\n",
            "7: Update your emergency contact information and make sure it is easily accessible.\n",
            "8: Re-evaluate your bug-out location and make any necessary changes.\n",
            "9: Regularly check and rotate your emergency supplies to ensure they are up to date.\n",
            "10: Review and update your first aid kit with any necessary items.\n",
            "11: Develop an evacuation plan in case your shelter becomes compromised.\n",
            "12: Secure weapons and learn how to properly use them for self-defense.\n",
            "13: Stay informed about potential safe zones or evacuation routes.\n",
            "14: Practice and refine your survival skills, such as building a fire or purifying water.\n",
            "15: Research and gather information on different types of transportation suitable for a zombie apocalypse.\n",
            "16: Create a list of essential medical supplies needed for survival in a zombie apocalypse.\n",
            "17: Develop a detailed plan for securing\n",
            "\u001b[92m\u001b[1m\n",
            "*****NEXT TASK*****\n",
            "\u001b[0m\u001b[0m\n",
            "1: Research and gather information on different types of shelters suitable for a zombie apocalypse.\n",
            "\n",
            "\n",
            "\u001b[1m> Entering new AgentExecutor chain...\u001b[0m\n",
            "\u001b[32;1m\u001b[1;3m\n",
            "Question: What types of shelters are suitable for a zombie apocalypse?\n",
            "Thought: It is important to have a safe and secure shelter during a zombie apocalypse.\n",
            "Action: Survival Search\n",
            "Action Input: \"Types of shelters for zombie apocalypse\"\u001b[0m\n",
            "Observation: \u001b[36;1m\u001b[1;3m[' entity_type: related_questions.', 'Bomb Shelters · Basketball court · Secret Rooms · Shipping Containers · Tree Houses · Telephone Booth · Water Towers. Small bases. Small bases are bases ...', 'The best place for this is abandoned private residences. You may have to fight zombies, but hopefully not too many at a time. Make every effort ...', \"A base is a place of shelter for a group, and provides a safe place to sleep and store supplies. Bases can be temporary or permanent, depending on one's current ...\", 'Your Home. There is a major, major misconception about homes in the apocalypse. They are the safest place you can be.', 'Precast concrete also has better resistance against things like wind or the pounding fists of zombie hordes. Your fortress will also have increased fire ...', \"One of the safest places to be during a zombie apocalypse is underground, and as far as subterranean cities go, Wiltshire's underground city is ...\", \"In the event of a zombie apocalypse, it's vitally important that you have a safe place to hide out in. · An Island · Jail or Prison · A Castle · A Boat or Yacht.\", 'Atlas Survival Shelters produce a wide range of survival shelters, underground bunkers & NBC air filtration systems under your home.']\u001b[0m\n",
            "Thought:\u001b[32;1m\u001b[1;3m These are all potential options for shelters, but I need to consider which one would be the most suitable for my specific situation.\n",
            "Action: Survival Planner\n",
            "Action Input: \"Choosing a shelter for a zombie apocalypse\"\u001b[0m\n",
            "Observation: \u001b[33;1m\u001b[1;3m\n",
            "\n",
            "1. Assess the location: The first step in choosing a shelter for a zombie apocalypse is to assess the location. Look for a place that is remote and isolated, away from major cities and populated areas. This will reduce the risk of encountering large numbers of zombies.\n",
            "\n",
            "2. Consider the structure: The ideal shelter for a zombie apocalypse should have a sturdy and secure structure. Look for buildings made of concrete or brick, as they are less likely to be breached by zombies. Avoid wooden structures, as they can easily be broken into.\n",
            "\n",
            "3. Check for escape routes: It is important to have multiple escape routes in case the shelter is compromised. Look for shelters with multiple exits, such as windows and doors, and make sure they are easily accessible.\n",
            "\n",
            "4. Stock up on supplies: Once you have chosen a shelter, it is important to stock up on essential supplies. This includes food, water, medical supplies, and weapons for self-defense. Make sure to have enough supplies to last for an extended period of time.\n",
            "\n",
            "5. Fortify the shelter: To make the shelter more secure, consider fortifying it with barricades and traps. This will make it more difficult for zombies to enter and give you more time to escape if needed.\n",
            "\n",
            "6. Plan for long-term survival:\u001b[0m\n",
            "Thought:\u001b[32;1m\u001b[1;3m It is important to have a long-term plan for survival in case the zombie apocalypse lasts for an extended period of time.\n",
            "Action: Survival Planner\n",
            "Action Input: \"Long-term survival plan for a zombie apocalypse\"\u001b[0m\n",
            "Observation: \u001b[33;1m\u001b[1;3m\n",
            "\n",
            "1. Secure a safe location: The first step in any survival plan is to find a secure location to ride out the zombie apocalypse. This could be a remote cabin, a fortified building, or even a hidden underground bunker. Make sure the location is easily defensible and has access to resources such as water and food.\n",
            "\n",
            "2. Stock up on supplies: Once you have a safe location, it's important to stock up on essential supplies. This includes non-perishable food, water, medical supplies, and tools for self-defense. Aim to have enough supplies to last at least 6 months to a year.\n",
            "\n",
            "3. Create a self-sufficient environment: In a long-term survival situation, it's important to be self-sufficient. This means having the skills and resources to grow your own food, purify water, and generate electricity. Consider setting up a garden, installing a water filtration system, and investing in renewable energy sources.\n",
            "\n",
            "4. Develop a defense plan: Zombies are a constant threat in a zombie apocalypse, so it's important to have a defense plan in place. This could include setting up barricades, creating escape routes, and having weapons for self-defense. It's also important to establish a watch schedule to keep an eye out for any potential threats.\n",
            "\n",
            "\u001b[0m\n",
            "Thought:\u001b[32;1m\u001b[1;3m With this information, I can now make an informed decision on which shelter would be the best for my survival in a zombie apocalypse.\n",
            "Final Answer: Based on my research and survival planning, the best shelter for a zombie apocalypse would be a remote, fortified building with multiple escape routes and a self-sufficient environment. It is also important to have a long-term survival plan in place to ensure safety and sustainability.\u001b[0m\n",
            "\n",
            "\u001b[1m> Finished chain.\u001b[0m\n",
            "\u001b[93m\u001b[1m\n",
            "*****TASK RESULT*****\n",
            "\u001b[0m\u001b[0m\n",
            "Based on my research and survival planning, the best shelter for a zombie apocalypse would be a remote, fortified building with multiple escape routes and a self-sufficient environment. It is also important to have a long-term survival plan in place to ensure safety and sustainability.\n",
            "\u001b[91m\u001b[1m\n",
            "*****TASK ENDING*****\n",
            "\u001b[0m\u001b[0m\n"
          ]
        },
        {
          "output_type": "execute_result",
          "data": {
            "text/plain": [
              "{'objective': 'Create a beginner’s guide to surviving your first week in a zombie apocalypse'}"
            ]
          },
          "metadata": {},
          "execution_count": 27
        }
      ]
    },
    {
      "cell_type": "code",
      "source": [
        "def reset_baby_agi():\n",
        "    index = faiss.IndexFlatL2(1536)\n",
        "    vectorstore = FAISS(\n",
        "        OpenAIEmbeddings().embed_query,\n",
        "        index,\n",
        "        InMemoryDocstore({}),\n",
        "        {}\n",
        "    )\n",
        "    return BabyAGI.from_llm(\n",
        "        llm=llm,\n",
        "        vectorstore=vectorstore,\n",
        "        task_execution_chain=agent_executor,\n",
        "        verbose=True,\n",
        "        max_iterations=3\n",
        "    )\n",
        "\n",
        "baby_agi = reset_baby_agi()\n"
      ],
      "metadata": {
        "colab": {
          "base_uri": "https://localhost:8080/"
        },
        "id": "ijW3hdbFzRcQ",
        "outputId": "6282c364-0839-4b5c-920d-08ead74a2a08"
      },
      "id": "ijW3hdbFzRcQ",
      "execution_count": 23,
      "outputs": [
        {
          "output_type": "stream",
          "name": "stderr",
          "text": [
            "WARNING:langchain_community.vectorstores.faiss:`embedding_function` is expected to be an Embeddings object, support for passing in a function will soon be removed.\n"
          ]
        }
      ]
    },
    {
      "cell_type": "code",
      "execution_count": null,
      "id": "3d220b69",
      "metadata": {
        "tags": [],
        "id": "3d220b69"
      },
      "outputs": [],
      "source": [
        "# OBJECTIVE = \"Write a weather report for SF today\""
      ]
    },
    {
      "cell_type": "code",
      "execution_count": null,
      "id": "3d69899b",
      "metadata": {
        "tags": [],
        "id": "3d69899b"
      },
      "outputs": [],
      "source": [
        "# # Logging of LLMChains\n",
        "# verbose = False\n",
        "# # If None, will keep on going forever\n",
        "# max_iterations: Optional[int] = 3\n",
        "# baby_agi = BabyAGI.from_llm(\n",
        "#     llm=llm,\n",
        "#     vectorstore=vectorstore,\n",
        "#     task_execution_chain=agent_executor,\n",
        "#     verbose=verbose,\n",
        "#     max_iterations=max_iterations,\n",
        "# )"
      ]
    },
    {
      "cell_type": "code",
      "execution_count": null,
      "id": "f7957b51",
      "metadata": {
        "tags": [],
        "id": "f7957b51"
      },
      "outputs": [],
      "source": [
        "# baby_agi({\"objective\": OBJECTIVE})"
      ]
    },
    {
      "cell_type": "code",
      "execution_count": null,
      "id": "898a210b",
      "metadata": {
        "id": "898a210b"
      },
      "outputs": [],
      "source": []
    }
  ],
  "metadata": {
    "kernelspec": {
      "display_name": "Python 3 (ipykernel)",
      "language": "python",
      "name": "python3"
    },
    "language_info": {
      "codemirror_mode": {
        "name": "ipython",
        "version": 3
      },
      "file_extension": ".py",
      "mimetype": "text/x-python",
      "name": "python",
      "nbconvert_exporter": "python",
      "pygments_lexer": "ipython3",
      "version": "3.11.8"
    },
    "colab": {
      "provenance": []
    }
  },
  "nbformat": 4,
  "nbformat_minor": 5
}