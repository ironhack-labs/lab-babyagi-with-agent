{
  "cells": [
    {
      "cell_type": "markdown",
      "id": "1cdba6f7-142d-4dd2-96f6-a13bb5d978ce",
      "metadata": {
        "id": "1cdba6f7-142d-4dd2-96f6-a13bb5d978ce"
      },
      "source": [
        "# Lab | BabyAGI with agent\n",
        "\n",
        "**Change the planner objective below by changing the objective and the associated prompts and potential tools and agents - Wear your creativity and AI engineering hats\n",
        "You can't get this wrong!**\n",
        "\n",
        "You would need the OpenAI API KEY and the [SerpAPI KEY](https://serpapi.com/manage-api-keyhttps://serpapi.com/manage-api-key) to run this lab.\n"
      ]
    },
    {
      "cell_type": "markdown",
      "id": "517a9fd4",
      "metadata": {
        "id": "517a9fd4"
      },
      "source": [
        "## BabyAGI with Tools\n",
        "\n",
        "This notebook builds on top of [baby agi](baby_agi.html), but shows how you can swap out the execution chain. The previous execution chain was just an LLM which made stuff up. By swapping it out with an agent that has access to tools, we can hopefully get real reliable information"
      ]
    },
    {
      "cell_type": "markdown",
      "id": "556af556",
      "metadata": {
        "id": "556af556"
      },
      "source": [
        "## Install and Import Required Modules"
      ]
    },
    {
      "cell_type": "code",
      "execution_count": 45,
      "id": "85b7ca88",
      "metadata": {
        "colab": {
          "base_uri": "https://localhost:8080/"
        },
        "id": "85b7ca88",
        "outputId": "cf2ce416-444e-4080-94ef-1165defaf49e"
      },
      "outputs": [
        {
          "name": "stdout",
          "output_type": "stream",
          "text": [
            "Requirement already satisfied: langchain_community in /usr/local/lib/python3.11/dist-packages (0.3.21)\n",
            "Requirement already satisfied: langchain_experimental in /usr/local/lib/python3.11/dist-packages (0.3.4)\n",
            "Requirement already satisfied: langchain_openai in /usr/local/lib/python3.11/dist-packages (0.3.13)\n",
            "Requirement already satisfied: langchain-core<1.0.0,>=0.3.51 in /usr/local/lib/python3.11/dist-packages (from langchain_community) (0.3.52)\n",
            "Requirement already satisfied: langchain<1.0.0,>=0.3.23 in /usr/local/lib/python3.11/dist-packages (from langchain_community) (0.3.23)\n",
            "Requirement already satisfied: SQLAlchemy<3,>=1.4 in /usr/local/lib/python3.11/dist-packages (from langchain_community) (2.0.40)\n",
            "Requirement already satisfied: requests<3,>=2 in /usr/local/lib/python3.11/dist-packages (from langchain_community) (2.32.3)\n",
            "Requirement already satisfied: PyYAML>=5.3 in /usr/local/lib/python3.11/dist-packages (from langchain_community) (6.0.2)\n",
            "Requirement already satisfied: aiohttp<4.0.0,>=3.8.3 in /usr/local/lib/python3.11/dist-packages (from langchain_community) (3.11.15)\n",
            "Requirement already satisfied: tenacity!=8.4.0,<10,>=8.1.0 in /usr/local/lib/python3.11/dist-packages (from langchain_community) (9.1.2)\n",
            "Requirement already satisfied: dataclasses-json<0.7,>=0.5.7 in /usr/local/lib/python3.11/dist-packages (from langchain_community) (0.6.7)\n",
            "Requirement already satisfied: pydantic-settings<3.0.0,>=2.4.0 in /usr/local/lib/python3.11/dist-packages (from langchain_community) (2.8.1)\n",
            "Requirement already satisfied: langsmith<0.4,>=0.1.125 in /usr/local/lib/python3.11/dist-packages (from langchain_community) (0.3.28)\n",
            "Requirement already satisfied: httpx-sse<1.0.0,>=0.4.0 in /usr/local/lib/python3.11/dist-packages (from langchain_community) (0.4.0)\n",
            "Requirement already satisfied: numpy<3,>=1.26.2 in /usr/local/lib/python3.11/dist-packages (from langchain_community) (2.0.2)\n",
            "Requirement already satisfied: openai<2.0.0,>=1.68.2 in /usr/local/lib/python3.11/dist-packages (from langchain_openai) (1.72.0)\n",
            "Requirement already satisfied: tiktoken<1,>=0.7 in /usr/local/lib/python3.11/dist-packages (from langchain_openai) (0.9.0)\n",
            "Requirement already satisfied: aiohappyeyeballs>=2.3.0 in /usr/local/lib/python3.11/dist-packages (from aiohttp<4.0.0,>=3.8.3->langchain_community) (2.6.1)\n",
            "Requirement already satisfied: aiosignal>=1.1.2 in /usr/local/lib/python3.11/dist-packages (from aiohttp<4.0.0,>=3.8.3->langchain_community) (1.3.2)\n",
            "Requirement already satisfied: attrs>=17.3.0 in /usr/local/lib/python3.11/dist-packages (from aiohttp<4.0.0,>=3.8.3->langchain_community) (25.3.0)\n",
            "Requirement already satisfied: frozenlist>=1.1.1 in /usr/local/lib/python3.11/dist-packages (from aiohttp<4.0.0,>=3.8.3->langchain_community) (1.5.0)\n",
            "Requirement already satisfied: multidict<7.0,>=4.5 in /usr/local/lib/python3.11/dist-packages (from aiohttp<4.0.0,>=3.8.3->langchain_community) (6.4.2)\n",
            "Requirement already satisfied: propcache>=0.2.0 in /usr/local/lib/python3.11/dist-packages (from aiohttp<4.0.0,>=3.8.3->langchain_community) (0.3.1)\n",
            "Requirement already satisfied: yarl<2.0,>=1.17.0 in /usr/local/lib/python3.11/dist-packages (from aiohttp<4.0.0,>=3.8.3->langchain_community) (1.19.0)\n",
            "Requirement already satisfied: marshmallow<4.0.0,>=3.18.0 in /usr/local/lib/python3.11/dist-packages (from dataclasses-json<0.7,>=0.5.7->langchain_community) (3.26.1)\n",
            "Requirement already satisfied: typing-inspect<1,>=0.4.0 in /usr/local/lib/python3.11/dist-packages (from dataclasses-json<0.7,>=0.5.7->langchain_community) (0.9.0)\n",
            "Requirement already satisfied: langchain-text-splitters<1.0.0,>=0.3.8 in /usr/local/lib/python3.11/dist-packages (from langchain<1.0.0,>=0.3.23->langchain_community) (0.3.8)\n",
            "Requirement already satisfied: pydantic<3.0.0,>=2.7.4 in /usr/local/lib/python3.11/dist-packages (from langchain<1.0.0,>=0.3.23->langchain_community) (2.11.3)\n",
            "Requirement already satisfied: jsonpatch<2.0,>=1.33 in /usr/local/lib/python3.11/dist-packages (from langchain-core<1.0.0,>=0.3.51->langchain_community) (1.33)\n",
            "Requirement already satisfied: packaging<25,>=23.2 in /usr/local/lib/python3.11/dist-packages (from langchain-core<1.0.0,>=0.3.51->langchain_community) (24.2)\n",
            "Requirement already satisfied: typing-extensions>=4.7 in /usr/local/lib/python3.11/dist-packages (from langchain-core<1.0.0,>=0.3.51->langchain_community) (4.13.1)\n",
            "Requirement already satisfied: httpx<1,>=0.23.0 in /usr/local/lib/python3.11/dist-packages (from langsmith<0.4,>=0.1.125->langchain_community) (0.28.1)\n",
            "Requirement already satisfied: orjson<4.0.0,>=3.9.14 in /usr/local/lib/python3.11/dist-packages (from langsmith<0.4,>=0.1.125->langchain_community) (3.10.16)\n",
            "Requirement already satisfied: requests-toolbelt<2.0.0,>=1.0.0 in /usr/local/lib/python3.11/dist-packages (from langsmith<0.4,>=0.1.125->langchain_community) (1.0.0)\n",
            "Requirement already satisfied: zstandard<0.24.0,>=0.23.0 in /usr/local/lib/python3.11/dist-packages (from langsmith<0.4,>=0.1.125->langchain_community) (0.23.0)\n",
            "Requirement already satisfied: anyio<5,>=3.5.0 in /usr/local/lib/python3.11/dist-packages (from openai<2.0.0,>=1.68.2->langchain_openai) (4.9.0)\n",
            "Requirement already satisfied: distro<2,>=1.7.0 in /usr/local/lib/python3.11/dist-packages (from openai<2.0.0,>=1.68.2->langchain_openai) (1.9.0)\n",
            "Requirement already satisfied: jiter<1,>=0.4.0 in /usr/local/lib/python3.11/dist-packages (from openai<2.0.0,>=1.68.2->langchain_openai) (0.9.0)\n",
            "Requirement already satisfied: sniffio in /usr/local/lib/python3.11/dist-packages (from openai<2.0.0,>=1.68.2->langchain_openai) (1.3.1)\n",
            "Requirement already satisfied: tqdm>4 in /usr/local/lib/python3.11/dist-packages (from openai<2.0.0,>=1.68.2->langchain_openai) (4.67.1)\n",
            "Requirement already satisfied: python-dotenv>=0.21.0 in /usr/local/lib/python3.11/dist-packages (from pydantic-settings<3.0.0,>=2.4.0->langchain_community) (1.1.0)\n",
            "Requirement already satisfied: charset-normalizer<4,>=2 in /usr/local/lib/python3.11/dist-packages (from requests<3,>=2->langchain_community) (3.4.1)\n",
            "Requirement already satisfied: idna<4,>=2.5 in /usr/local/lib/python3.11/dist-packages (from requests<3,>=2->langchain_community) (3.10)\n",
            "Requirement already satisfied: urllib3<3,>=1.21.1 in /usr/local/lib/python3.11/dist-packages (from requests<3,>=2->langchain_community) (2.3.0)\n",
            "Requirement already satisfied: certifi>=2017.4.17 in /usr/local/lib/python3.11/dist-packages (from requests<3,>=2->langchain_community) (2025.1.31)\n",
            "Requirement already satisfied: greenlet>=1 in /usr/local/lib/python3.11/dist-packages (from SQLAlchemy<3,>=1.4->langchain_community) (3.1.1)\n",
            "Requirement already satisfied: regex>=2022.1.18 in /usr/local/lib/python3.11/dist-packages (from tiktoken<1,>=0.7->langchain_openai) (2024.11.6)\n",
            "Requirement already satisfied: httpcore==1.* in /usr/local/lib/python3.11/dist-packages (from httpx<1,>=0.23.0->langsmith<0.4,>=0.1.125->langchain_community) (1.0.7)\n",
            "Requirement already satisfied: h11<0.15,>=0.13 in /usr/local/lib/python3.11/dist-packages (from httpcore==1.*->httpx<1,>=0.23.0->langsmith<0.4,>=0.1.125->langchain_community) (0.14.0)\n",
            "Requirement already satisfied: jsonpointer>=1.9 in /usr/local/lib/python3.11/dist-packages (from jsonpatch<2.0,>=1.33->langchain-core<1.0.0,>=0.3.51->langchain_community) (3.0.0)\n",
            "Requirement already satisfied: annotated-types>=0.6.0 in /usr/local/lib/python3.11/dist-packages (from pydantic<3.0.0,>=2.7.4->langchain<1.0.0,>=0.3.23->langchain_community) (0.7.0)\n",
            "Requirement already satisfied: pydantic-core==2.33.1 in /usr/local/lib/python3.11/dist-packages (from pydantic<3.0.0,>=2.7.4->langchain<1.0.0,>=0.3.23->langchain_community) (2.33.1)\n",
            "Requirement already satisfied: typing-inspection>=0.4.0 in /usr/local/lib/python3.11/dist-packages (from pydantic<3.0.0,>=2.7.4->langchain<1.0.0,>=0.3.23->langchain_community) (0.4.0)\n",
            "Requirement already satisfied: mypy-extensions>=0.3.0 in /usr/local/lib/python3.11/dist-packages (from typing-inspect<1,>=0.4.0->dataclasses-json<0.7,>=0.5.7->langchain_community) (1.0.0)\n"
          ]
        }
      ],
      "source": [
        "!pip install langchain_community langchain_experimental langchain_openai"
      ]
    },
    {
      "cell_type": "code",
      "execution_count": 46,
      "id": "c8a354b6",
      "metadata": {
        "id": "c8a354b6",
        "tags": []
      },
      "outputs": [],
      "source": [
        "from typing import Optional\n",
        "\n",
        "from langchain.chains import LLMChain\n",
        "from langchain.prompts import PromptTemplate\n",
        "from langchain_experimental.autonomous_agents import BabyAGI\n",
        "from langchain_openai import OpenAI, OpenAIEmbeddings"
      ]
    },
    {
      "cell_type": "markdown",
      "id": "09f70772",
      "metadata": {
        "id": "09f70772"
      },
      "source": [
        "## Connect to the Vector Store\n",
        "\n",
        "Depending on what vectorstore you use, this step may look different."
      ]
    },
    {
      "cell_type": "code",
      "execution_count": 47,
      "id": "794045d4",
      "metadata": {
        "id": "794045d4",
        "tags": []
      },
      "outputs": [],
      "source": [
        "# %pip install faiss-cpu > /dev/null\n",
        "# %pip install google-search-results > /dev/null\n",
        "from langchain.docstore import InMemoryDocstore\n",
        "from langchain_community.vectorstores import FAISS"
      ]
    },
    {
      "cell_type": "code",
      "execution_count": null,
      "id": "c4164841-915d-4c60-8a47-3a502a5cf71d",
      "metadata": {
        "id": "c4164841-915d-4c60-8a47-3a502a5cf71d",
        "tags": []
      },
      "outputs": [],
      "source": [
        "import os\n",
        "from dotenv import load_dotenv, find_dotenv\n",
        "_ = load_dotenv(find_dotenv())\n"
      ]
    },
    {
      "cell_type": "code",
      "execution_count": 49,
      "id": "LxBqsvPwiZSS",
      "metadata": {
        "colab": {
          "base_uri": "https://localhost:8080/"
        },
        "id": "LxBqsvPwiZSS",
        "outputId": "aa3572e5-f364-404b-d810-5f5daae8f2ec"
      },
      "outputs": [
        {
          "name": "stdout",
          "output_type": "stream",
          "text": [
            "Requirement already satisfied: faiss-cpu in /usr/local/lib/python3.11/dist-packages (1.10.0)\n",
            "Requirement already satisfied: numpy<3.0,>=1.25.0 in /usr/local/lib/python3.11/dist-packages (from faiss-cpu) (2.0.2)\n",
            "Requirement already satisfied: packaging in /usr/local/lib/python3.11/dist-packages (from faiss-cpu) (24.2)\n"
          ]
        }
      ],
      "source": [
        "!pip install faiss-cpu"
      ]
    },
    {
      "cell_type": "code",
      "execution_count": 50,
      "id": "6e0305eb",
      "metadata": {
        "colab": {
          "base_uri": "https://localhost:8080/"
        },
        "id": "6e0305eb",
        "outputId": "a1e4570b-2528-4acc-ab5d-6d0cdcbd19f6",
        "tags": []
      },
      "outputs": [
        {
          "name": "stderr",
          "output_type": "stream",
          "text": [
            "WARNING:langchain_community.vectorstores.faiss:`embedding_function` is expected to be an Embeddings object, support for passing in a function will soon be removed.\n"
          ]
        }
      ],
      "source": [
        "# Define your embedding model\n",
        "embeddings_model = OpenAIEmbeddings()\n",
        "# Initialize the vectorstore as empty\n",
        "import faiss\n",
        "\n",
        "embedding_size = 1536\n",
        "index = faiss.IndexFlatL2(embedding_size)\n",
        "vectorstore = FAISS(embeddings_model.embed_query, index, InMemoryDocstore({}), {})"
      ]
    },
    {
      "cell_type": "markdown",
      "id": "0f3b72bf",
      "metadata": {
        "id": "0f3b72bf"
      },
      "source": [
        "## Define the Chains\n",
        "\n",
        "BabyAGI relies on three LLM chains:\n",
        "- Task creation chain to select new tasks to add to the list\n",
        "- Task prioritization chain to re-prioritize tasks\n",
        "- Execution Chain to execute the tasks\n",
        "\n",
        "\n",
        "NOTE: in this notebook, the Execution chain will now be an agent."
      ]
    },
    {
      "cell_type": "code",
      "execution_count": 51,
      "id": "3NqNwgfLiytc",
      "metadata": {
        "colab": {
          "base_uri": "https://localhost:8080/"
        },
        "id": "3NqNwgfLiytc",
        "outputId": "11bd1f2b-7378-4a77-da9f-0d1b350b8c3d"
      },
      "outputs": [
        {
          "name": "stdout",
          "output_type": "stream",
          "text": [
            "Requirement already satisfied: google-search-results in /usr/local/lib/python3.11/dist-packages (2.4.2)\n",
            "Requirement already satisfied: requests in /usr/local/lib/python3.11/dist-packages (from google-search-results) (2.32.3)\n",
            "Requirement already satisfied: charset-normalizer<4,>=2 in /usr/local/lib/python3.11/dist-packages (from requests->google-search-results) (3.4.1)\n",
            "Requirement already satisfied: idna<4,>=2.5 in /usr/local/lib/python3.11/dist-packages (from requests->google-search-results) (3.10)\n",
            "Requirement already satisfied: urllib3<3,>=1.21.1 in /usr/local/lib/python3.11/dist-packages (from requests->google-search-results) (2.3.0)\n",
            "Requirement already satisfied: certifi>=2017.4.17 in /usr/local/lib/python3.11/dist-packages (from requests->google-search-results) (2025.1.31)\n"
          ]
        }
      ],
      "source": [
        "!pip install google-search-results"
      ]
    },
    {
      "cell_type": "code",
      "execution_count": 52,
      "id": "b43cd580",
      "metadata": {
        "id": "b43cd580",
        "tags": []
      },
      "outputs": [],
      "source": [
        "from langchain.agents import AgentExecutor, Tool, ZeroShotAgent\n",
        "from langchain.chains import LLMChain\n",
        "from langchain_community.utilities import SerpAPIWrapper\n",
        "from langchain_openai import OpenAI\n",
        "\n",
        "# Define a placeholder function for my_stock_price_fetcher\n",
        "def my_stock_price_fetcher(query):\n",
        "    \"\"\"\n",
        "    Placeholder function for fetching stock prices.\n",
        "    This needs to be replaced with a real implementation.\n",
        "    \"\"\"\n",
        "    # For now, it will just return a sample response.\n",
        "    return \"The current price of AAPL is $170.34.\"\n",
        "\n",
        "todo_prompt = PromptTemplate.from_template(\n",
        "    \"You are a stock trading assistant. Given this investment objective: {objective}, generate a todo list with clear actions like 'Check TSLA earnings', 'Monitor market open performance', or 'Review oil stock trends'.\"\n",
        ")\n",
        "todo_chain = LLMChain(llm=OpenAI(temperature=0), prompt=todo_prompt)\n",
        "search = SerpAPIWrapper()\n",
        "tools = [\n",
        "    Tool(\n",
        "        name=\"Search\",\n",
        "        func=search.run,\n",
        "        description=\"useful for when you need to answer questions about current events\",\n",
        "    ),\n",
        "    Tool(\n",
        "        name=\"StockPriceFetcher\",\n",
        "        func=my_stock_price_fetcher,  # Now refers to the defined function\n",
        "        description=\"Fetches current stock prices for given ticker symbols.\"\n",
        "    ),\n",
        "]\n",
        "\n",
        "\n",
        "prefix = \"\"\"You are a stock market assistant who performs one task to help achieve the following investor objective: {objective}. Take into account these previously completed tasks: {context}.\"\"\"\n",
        "suffix = \"\"\"Question: {task}\n",
        "{agent_scratchpad}\"\"\"\n",
        "prompt = ZeroShotAgent.create_prompt(\n",
        "    tools,\n",
        "    prefix=prefix,\n",
        "    suffix=suffix,\n",
        "    input_variables=[\"objective\", \"task\", \"context\", \"agent_scratchpad\"],\n",
        ")"
      ]
    },
    {
      "cell_type": "code",
      "execution_count": 53,
      "id": "4b00ae2e",
      "metadata": {
        "id": "4b00ae2e",
        "tags": []
      },
      "outputs": [],
      "source": [
        "llm = OpenAI(temperature=0)\n",
        "llm_chain = LLMChain(llm=llm, prompt=prompt)\n",
        "tool_names = [tool.name for tool in tools]\n",
        "agent = ZeroShotAgent(llm_chain=llm_chain, allowed_tools=tool_names)\n",
        "agent_executor = AgentExecutor.from_agent_and_tools(\n",
        "    agent=agent, tools=tools, verbose=True\n",
        ")"
      ]
    },
    {
      "cell_type": "markdown",
      "id": "05ba762e",
      "metadata": {
        "id": "05ba762e"
      },
      "source": [
        "### Run the BabyAGI\n",
        "\n",
        "Now it's time to create the BabyAGI controller and watch it try to accomplish your objective."
      ]
    },
    {
      "cell_type": "code",
      "execution_count": 54,
      "id": "3d220b69",
      "metadata": {
        "id": "3d220b69",
        "tags": []
      },
      "outputs": [],
      "source": [
        "OBJECTIVE = \"Generate a daily digest for a stock market investor, including current news, major stock movements, and a todo list for potential trades.\""
      ]
    },
    {
      "cell_type": "code",
      "execution_count": 55,
      "id": "3d69899b",
      "metadata": {
        "id": "3d69899b",
        "tags": []
      },
      "outputs": [],
      "source": [
        "# Logging of LLMChains\n",
        "verbose = False\n",
        "# If None, will keep on going forever\n",
        "max_iterations: Optional[int] = 3\n",
        "baby_agi = BabyAGI.from_llm(\n",
        "    llm=llm,\n",
        "    vectorstore=vectorstore,\n",
        "    task_execution_chain=agent_executor,\n",
        "    verbose=verbose,\n",
        "    max_iterations=max_iterations,\n",
        ")"
      ]
    },
    {
      "cell_type": "code",
      "execution_count": 56,
      "id": "f7957b51",
      "metadata": {
        "colab": {
          "base_uri": "https://localhost:8080/"
        },
        "id": "f7957b51",
        "outputId": "023984f8-ca6c-4a78-fd49-8f386e40719f",
        "tags": []
      },
      "outputs": [
        {
          "name": "stdout",
          "output_type": "stream",
          "text": [
            "\u001b[95m\u001b[1m\n",
            "*****TASK LIST*****\n",
            "\u001b[0m\u001b[0m\n",
            "1: Make a todo list\n",
            "\u001b[92m\u001b[1m\n",
            "*****NEXT TASK*****\n",
            "\u001b[0m\u001b[0m\n",
            "1: Make a todo list\n",
            "\n",
            "\n",
            "\u001b[1m> Entering new AgentExecutor chain...\u001b[0m\n",
            "\u001b[32;1m\u001b[1;3mThought: To create a todo list, we need to gather information about current stock prices and major stock movements.\n",
            "Action: StockPriceFetcher\n",
            "Action Input: TSLA, AAPL, GOOGL\u001b[0m\n",
            "Observation: \u001b[33;1m\u001b[1;3mThe current price of AAPL is $170.34.\u001b[0m\n",
            "Thought:\u001b[32;1m\u001b[1;3m We should consider adding AAPL to our todo list as it has a relatively low price compared to TSLA and GOOGL.\n",
            "Action: StockPriceFetcher\n",
            "Action Input: TSLA, AAPL, GOOGL\u001b[0m\n",
            "Observation: \u001b[33;1m\u001b[1;3mThe current price of AAPL is $170.34.\u001b[0m\n",
            "Thought:\u001b[32;1m\u001b[1;3m We should also look at the major stock movements for these companies to determine if there are any potential trades.\n",
            "Action: Search\n",
            "Action Input: \"TSLA stock news\"\u001b[0m\n",
            "Observation: \u001b[36;1m\u001b[1;3m[{'title': 'Tesla (TSLA) Stock Forms Ominous ‘Death Cross’', 'link': 'https://www.tipranks.com/news/tesla-tsla-stock-forms-ominous-death-cross', 'source': 'TipRanks', 'source_logo': 'https://serpapi.com/searches/67ffa8bd4b1386ff0a850996/images/d58986f96ec8e74549be15788e1b42a273b2d1397521e24212f42202928c3e3c.png', 'date': '18 hours ago', 'thumbnail': 'https://serpapi.com/searches/67ffa8bd4b1386ff0a850996/images/d58986f96ec8e745c4e225398fd3b98b0633da317468333b.jpeg'}, {'title': 'Tesla, Inc. (TSLA): Seen as an ‘Embodied AI Secular Winner’', 'link': 'https://finance.yahoo.com/news/tesla-inc-tsla-seen-embodied-185057311.html', 'source': 'Yahoo Finance', 'source_logo': 'https://serpapi.com/searches/67ffa8bd4b1386ff0a850996/images/d58986f96ec8e7456382973bc45452f46855d1d76c69b0b8d626b05e9e1fee59.png', 'date': '18 hours ago', 'thumbnail': 'https://serpapi.com/searches/67ffa8bd4b1386ff0a850996/images/d58986f96ec8e7455aed33ee614022388c71d5ea1da096ff.jpeg'}, {'title': 'Stocks making the biggest moves premarket: United Airlines, Nvidia, Tesla, Travelers and more', 'link': 'https://www.cnbc.com/2025/04/16/stocks-making-the-biggest-moves-premarket-ual-nvda-tsla-trv-and-more.html', 'source': 'CNBC', 'source_logo': 'https://serpapi.com/searches/67ffa8bd4b1386ff0a850996/images/d58986f96ec8e745d9625357d88cfbf0fcea682675888180a807cdf57855e25d.png', 'date': '35 minutes ago', 'thumbnail': 'https://serpapi.com/searches/67ffa8bd4b1386ff0a850996/images/d58986f96ec8e745e89bdf91213f7dcce4a34753c87fcae1.jpeg'}]\u001b[0m\n",
            "Thought:\u001b[32;1m\u001b[1;3m Based on the news articles, it seems like TSLA may be experiencing some negative sentiment, so we should keep an eye on it before making any trades.\n",
            "Action: Search\n",
            "Action Input: \"AAPL stock news\"\u001b[0m\n",
            "Observation: \u001b[36;1m\u001b[1;3m[{'title': 'Surprising China news sends Apple stock surging', 'link': 'https://www.thestreet.com/investing/surprising-china-news-sends-apple-stock-surging', 'source': 'TheStreet', 'source_logo': 'https://serpapi.com/searches/67ffa8bf5c0c8bc17b56f284/images/f21a36e22f927302ee026530d075fa5a89b6646fbe268a0c63e4de6de7d98a57.png', 'date': '1 day ago', 'thumbnail': 'https://serpapi.com/searches/67ffa8bf5c0c8bc17b56f284/images/f21a36e22f927302350162a9ce600ecde7890751f8a4133b.jpeg'}, {'title': \"Apple stock jumps on Trump's tariff exemptions. How Jim Cramer says to play it\", 'link': 'https://www.cnbc.com/2025/04/14/apple-stock-jumps-on-trumps-tariff-exemptions-how-cramer-says-to-play-it.html', 'source': 'CNBC', 'source_logo': 'https://serpapi.com/searches/67ffa8bf5c0c8bc17b56f284/images/f21a36e22f9273021d796e1b7118ea7d17d3fd963aebc2bdea1597eaa9304565.png', 'date': '1 day ago', 'thumbnail': 'https://serpapi.com/searches/67ffa8bf5c0c8bc17b56f284/images/f21a36e22f927302bad986f86691507f76d79132d5715ca4.jpeg'}, {'title': 'Apple Stock Dropped 30% From Its High. History Says This Will Happen Next.', 'link': 'https://finance.yahoo.com/news/apple-stock-dropped-30-high-075500980.html', 'source': 'Yahoo Finance', 'source_logo': 'https://serpapi.com/searches/67ffa8bf5c0c8bc17b56f284/images/f21a36e22f927302bf2d9e35b2c2dd6cd078991c01bd3a08881a72a128e6a33a.png', 'date': '1 day ago', 'thumbnail': 'https://serpapi.com/searches/67ffa8bf5c0c8bc17b56f284/images/f21a36e22f927302f19fb440475482ecb961b4d5f1fe6616.jpeg'}, {'title': 'Analysts Are Calling for Apple’s 2025 EPS to Fall 28%. Should You Buy, Sell, or Hold AAPL Stock Here?', 'link': 'https://www.barchart.com/story/news/31876752/analysts-are-calling-for-apples-2025-eps-to-fall-28-should-you-buy-sell-or-hold-aapl-stock-here', 'source': 'Barchart.com', 'source_logo': 'https://serpapi.com/searches/67ffa8bf5c0c8bc17b56f284/images/f21a36e22f9273029ea0846ba40a393162f92b291b50b6e1c0a2e1eb156598db.png', 'date': '1 day ago', 'thumbnail': 'https://serpapi.com/searches/67ffa8bf5c0c8bc17b56f284/images/f21a36e22f92730290643160c3146397746ee36cad71e652.jpeg'}, {'title': 'Analysts Cheer as Apple Stock Rockets Back to $3 Trillion on Tariff Break', 'link': 'https://markets.businessinsider.com/news/stocks/analysts-cheer-as-apple-stock-rockets-back-to-3-trillion-on-tariff-break-1034583935', 'source': 'markets.businessinsider.com', 'source_logo': 'https://serpapi.com/searches/67ffa8bf5c0c8bc17b56f284/images/f21a36e22f927302777a1dae43798fac3a9e3cf744d1e693956d09f03b6479dc.png', 'date': '1 day ago', 'thumbnail': 'https://serpapi.com/searches/67ffa8bf5c0c8bc17b56f284/images/f21a36e22f9273027b7427ddc886c690b0f6b4f8aae70c3d.jpeg'}, {'title': 'Apple, Dell, and Other Tech Stocks Surge on Tariff Exemptions', 'link': 'https://www.investopedia.com/apple-dell-and-other-tech-stocks-surge-on-tariff-exemptions-11714493', 'source': 'Investopedia', 'source_logo': 'https://serpapi.com/searches/67ffa8bf5c0c8bc17b56f284/images/f21a36e22f92730286982f92baefd504aa764173d097811dda2d1b29511c2736.png', 'date': '2 days ago', 'thumbnail': 'https://serpapi.com/searches/67ffa8bf5c0c8bc17b56f284/images/f21a36e22f92730272f365e9250c6bd169c98e7fde7059d0.jpeg'}, {'title': \"Apple Stock Plunged on Tariff News, But It's Proving to Be Unstoppable in Another Lucrative Area\", 'link': 'https://www.fool.com/investing/2025/04/13/apple-stock-plunged-tariff-unstoppable/', 'source': 'The Motley Fool', 'source_logo': 'https://serpapi.com/searches/67ffa8bf5c0c8bc17b56f284/images/f21a36e22f9273022dfe14dccf5907c567b20f5c38b058dd7b863f105560667a.png', 'date': '3 days ago', 'thumbnail': 'https://serpapi.com/searches/67ffa8bf5c0c8bc17b56f284/images/f21a36e22f927302f8884de7d3afc001d9a5172fe7494924.jpeg'}]\u001b[0m\n",
            "Thought:\u001b[32;1m\u001b[1;3m It seems like there is a lot of positive news surrounding AAPL, so we should definitely consider adding it to our todo list for potential trades.\n",
            "Thought: I now know the final answer\n",
            "Final Answer: Based on the current stock prices and news articles, we should add AAPL to our todo list for potential trades.\u001b[0m\n",
            "\n",
            "\u001b[1m> Finished chain.\u001b[0m\n",
            "\u001b[93m\u001b[1m\n",
            "*****TASK RESULT*****\n",
            "\u001b[0m\u001b[0m\n",
            "Based on the current stock prices and news articles, we should add AAPL to our todo list for potential trades.\n",
            "\u001b[95m\u001b[1m\n",
            "*****TASK LIST*****\n",
            "\u001b[0m\u001b[0m\n",
            "1: Retrieve current stock prices and news articles.\n",
            "2: Analyze stock movements and identify potential trades.\n",
            "3: Create a daily digest for the stock market investor.\n",
            "4: Add AAPL to the todo list for potential trades.\n",
            "5: Update the todo list with any new potential trades.\n",
            "6: Monitor stock prices and news throughout the day.\n",
            "7: Generate a mid-day update for the investor.\n",
            "8: Review and adjust the todo list based on mid-day update.\n",
            "9: Continuously monitor and analyze stock movements.\n",
            "10: Generate end-of-day report for the investor.\n",
            "11: Update the todo list with any final potential trades.\n",
            "12: Review and adjust the todo list based on end-of-day report.\n",
            "13: Prepare for the next day's trading by analyzing overnight news and stock movements.\n",
            "14: Generate a pre-market report for the investor.\n",
            "15: Update the todo list with any potential trades for the day.\n",
            "16: Continuously monitor and analyze stock movements throughout the day.\n",
            "17: Generate a mid-day update for the investor.\n",
            "18: Review and adjust the todo list based on mid-day update.\n",
            "19: Prepare for end-of-day report by analyzing afternoon news and stock movements.\n",
            "20: Generate end-of-day report for the investor and update the todo list with any\n",
            "\u001b[92m\u001b[1m\n",
            "*****NEXT TASK*****\n",
            "\u001b[0m\u001b[0m\n",
            "1: Retrieve current stock prices and news articles.\n",
            "\n",
            "\n",
            "\u001b[1m> Entering new AgentExecutor chain...\u001b[0m\n",
            "\u001b[32;1m\u001b[1;3mThought: I should use the StockPriceFetcher and Search functions to gather the necessary information.\n",
            "Action: StockPriceFetcher\n",
            "Action Input: Ticker symbols for desired stocks\u001b[0m\n",
            "Observation: \u001b[33;1m\u001b[1;3mThe current price of AAPL is $170.34.\u001b[0m\n",
            "Thought:\u001b[32;1m\u001b[1;3m I should also use the Search function to find relevant news articles.\n",
            "Action: Search\n",
            "Action Input: \"AAPL stock news\"\u001b[0m\n",
            "Observation: \u001b[36;1m\u001b[1;3m[{'title': 'Surprising China news sends Apple stock surging', 'link': 'https://www.thestreet.com/investing/surprising-china-news-sends-apple-stock-surging', 'source': 'TheStreet', 'source_logo': 'https://serpapi.com/searches/67ffa8bf5c0c8bc17b56f284/images/f21a36e22f927302ee026530d075fa5a89b6646fbe268a0c63e4de6de7d98a57.png', 'date': '1 day ago', 'thumbnail': 'https://serpapi.com/searches/67ffa8bf5c0c8bc17b56f284/images/f21a36e22f927302350162a9ce600ecde7890751f8a4133b.jpeg'}, {'title': \"Apple stock jumps on Trump's tariff exemptions. How Jim Cramer says to play it\", 'link': 'https://www.cnbc.com/2025/04/14/apple-stock-jumps-on-trumps-tariff-exemptions-how-cramer-says-to-play-it.html', 'source': 'CNBC', 'source_logo': 'https://serpapi.com/searches/67ffa8bf5c0c8bc17b56f284/images/f21a36e22f9273021d796e1b7118ea7d17d3fd963aebc2bdea1597eaa9304565.png', 'date': '1 day ago', 'thumbnail': 'https://serpapi.com/searches/67ffa8bf5c0c8bc17b56f284/images/f21a36e22f927302bad986f86691507f76d79132d5715ca4.jpeg'}, {'title': 'Apple Stock Dropped 30% From Its High. History Says This Will Happen Next.', 'link': 'https://finance.yahoo.com/news/apple-stock-dropped-30-high-075500980.html', 'source': 'Yahoo Finance', 'source_logo': 'https://serpapi.com/searches/67ffa8bf5c0c8bc17b56f284/images/f21a36e22f927302bf2d9e35b2c2dd6cd078991c01bd3a08881a72a128e6a33a.png', 'date': '1 day ago', 'thumbnail': 'https://serpapi.com/searches/67ffa8bf5c0c8bc17b56f284/images/f21a36e22f927302f19fb440475482ecb961b4d5f1fe6616.jpeg'}, {'title': 'Analysts Are Calling for Apple’s 2025 EPS to Fall 28%. Should You Buy, Sell, or Hold AAPL Stock Here?', 'link': 'https://www.barchart.com/story/news/31876752/analysts-are-calling-for-apples-2025-eps-to-fall-28-should-you-buy-sell-or-hold-aapl-stock-here', 'source': 'Barchart.com', 'source_logo': 'https://serpapi.com/searches/67ffa8bf5c0c8bc17b56f284/images/f21a36e22f9273029ea0846ba40a393162f92b291b50b6e1c0a2e1eb156598db.png', 'date': '1 day ago', 'thumbnail': 'https://serpapi.com/searches/67ffa8bf5c0c8bc17b56f284/images/f21a36e22f92730290643160c3146397746ee36cad71e652.jpeg'}, {'title': 'Analysts Cheer as Apple Stock Rockets Back to $3 Trillion on Tariff Break', 'link': 'https://markets.businessinsider.com/news/stocks/analysts-cheer-as-apple-stock-rockets-back-to-3-trillion-on-tariff-break-1034583935', 'source': 'markets.businessinsider.com', 'source_logo': 'https://serpapi.com/searches/67ffa8bf5c0c8bc17b56f284/images/f21a36e22f927302777a1dae43798fac3a9e3cf744d1e693956d09f03b6479dc.png', 'date': '1 day ago', 'thumbnail': 'https://serpapi.com/searches/67ffa8bf5c0c8bc17b56f284/images/f21a36e22f9273027b7427ddc886c690b0f6b4f8aae70c3d.jpeg'}, {'title': 'Apple, Dell, and Other Tech Stocks Surge on Tariff Exemptions', 'link': 'https://www.investopedia.com/apple-dell-and-other-tech-stocks-surge-on-tariff-exemptions-11714493', 'source': 'Investopedia', 'source_logo': 'https://serpapi.com/searches/67ffa8bf5c0c8bc17b56f284/images/f21a36e22f92730286982f92baefd504aa764173d097811dda2d1b29511c2736.png', 'date': '2 days ago', 'thumbnail': 'https://serpapi.com/searches/67ffa8bf5c0c8bc17b56f284/images/f21a36e22f92730272f365e9250c6bd169c98e7fde7059d0.jpeg'}, {'title': \"Apple Stock Plunged on Tariff News, But It's Proving to Be Unstoppable in Another Lucrative Area\", 'link': 'https://www.fool.com/investing/2025/04/13/apple-stock-plunged-tariff-unstoppable/', 'source': 'The Motley Fool', 'source_logo': 'https://serpapi.com/searches/67ffa8bf5c0c8bc17b56f284/images/f21a36e22f9273022dfe14dccf5907c567b20f5c38b058dd7b863f105560667a.png', 'date': '3 days ago', 'thumbnail': 'https://serpapi.com/searches/67ffa8bf5c0c8bc17b56f284/images/f21a36e22f927302f8884de7d3afc001d9a5172fe7494924.jpeg'}]\u001b[0m\n",
            "Thought:\u001b[32;1m\u001b[1;3m I now have all the necessary information to create a daily digest for the investor.\n",
            "Final Answer: The current price of AAPL is $170.34. Relevant news articles for AAPL stock include \"Surprising China news sends Apple stock surging\", \"Apple stock jumps on Trump's tariff exemptions. How Jim Cramer says to play it\", \"Apple Stock Dropped 30% From Its High. History Says This Will Happen Next.\", \"Analysts Are Calling for Apple’s 2025 EPS to Fall 28%. Should You Buy, Sell, or Hold AAPL Stock Here?\", \"Analysts Cheer as Apple Stock Rockets Back to $3 Trillion on Tariff Break\", \"Apple, Dell, and Other Tech Stocks Surge on Tariff Exemptions\", and \"Apple Stock Plunged on Tariff News, But It's Proving to Be Unstoppable in Another Lucrative Area\".\u001b[0m\n",
            "\n",
            "\u001b[1m> Finished chain.\u001b[0m\n",
            "\u001b[93m\u001b[1m\n",
            "*****TASK RESULT*****\n",
            "\u001b[0m\u001b[0m\n",
            "The current price of AAPL is $170.34. Relevant news articles for AAPL stock include \"Surprising China news sends Apple stock surging\", \"Apple stock jumps on Trump's tariff exemptions. How Jim Cramer says to play it\", \"Apple Stock Dropped 30% From Its High. History Says This Will Happen Next.\", \"Analysts Are Calling for Apple’s 2025 EPS to Fall 28%. Should You Buy, Sell, or Hold AAPL Stock Here?\", \"Analysts Cheer as Apple Stock Rockets Back to $3 Trillion on Tariff Break\", \"Apple, Dell, and Other Tech Stocks Surge on Tariff Exemptions\", and \"Apple Stock Plunged on Tariff News, But It's Proving to Be Unstoppable in Another Lucrative Area\".\n",
            "\u001b[95m\u001b[1m\n",
            "*****TASK LIST*****\n",
            "\u001b[0m\u001b[0m\n",
            "1: Retrieve current stock prices and news articles.\n",
            "2: Analyze stock movements and identify potential trades.\n",
            "3: Create a daily digest for the stock market investor.\n",
            "4: Add AAPL to the todo list for potential trades.\n",
            "5: Update the todo list with any new potential trades.\n",
            "6: Monitor stock prices and news throughout the day.\n",
            "7: Generate a mid-day update for the investor.\n",
            "8: Review and adjust the todo list based on mid-day update.\n",
            "9: Continuously monitor and analyze stock movements.\n",
            "10: Generate end-of-day report for the investor.\n",
            "11: Update the todo list with any final potential trades.\n",
            "12: Review and adjust the todo list based on end-of-day report.\n",
            "13: Prepare for the next day's trading by analyzing overnight news and stock movements.\n",
            "14: Generate a pre-market report for the investor.\n",
            "15: Update the todo list with any potential trades for the day.\n",
            "16: Continuously monitor and analyze stock movements throughout the day.\n",
            "17: Generate a mid-day update for the investor.\n",
            "18: Review and adjust the todo list based on mid-day update.\n",
            "19: Prepare for end-of-day report by analyzing afternoon news and stock movements.\n",
            "20: Generate end-of-day report for the investor and update the todo list with any\n",
            "\u001b[92m\u001b[1m\n",
            "*****NEXT TASK*****\n",
            "\u001b[0m\u001b[0m\n",
            "1: Retrieve current stock prices and news articles.\n",
            "\n",
            "\n",
            "\u001b[1m> Entering new AgentExecutor chain...\u001b[0m\n",
            "\u001b[32;1m\u001b[1;3mThought: I should use the StockPriceFetcher and Search functions to retrieve the necessary information.\n",
            "Action: StockPriceFetcher\n",
            "Action Input: ticker symbols\u001b[0m\n",
            "Observation: \u001b[33;1m\u001b[1;3mThe current price of AAPL is $170.34.\u001b[0m\n",
            "Thought:\u001b[32;1m\u001b[1;3m I should also use the Search function to retrieve news articles related to the stock market.\n",
            "Action: Search\n",
            "Action Input: \"stock market news\"\u001b[0m\n",
            "Observation: \u001b[36;1m\u001b[1;3m[{'title': \"Stock market today: Dow, S&P 500, Nasdaq waver in volatile trading as China strikes back on Trump's tariffs\", 'link': 'https://finance.yahoo.com/news/live/stock-market-today-dow-sp-500-nasdaq-futures-struggle-after-trumps-massive-tariffs-take-effect-223523769.html', 'source': 'Yahoo Finance', 'source_logo': 'https://serpapi.com/searches/67ffa8d2700e7a0c0260496a/images/6a8fb074860b0de580b362082ee23bb19a3910e5cabe16ccc60ff13de191a0c3.png', 'date': '6 days ago', 'thumbnail': 'https://serpapi.com/searches/67ffa8d2700e7a0c0260496a/images/6a8fb074860b0de52196d3bba079b7fcd9d9464d2b3c30d4.jpeg'}, {'title': 'Stock market today: Dow, S&P 500, Nasdaq futures fall as Nvidia stock weighs on tech', 'link': 'https://finance.yahoo.com/news/live/stock-market-today-dow-sp-500-nasdaq-futures-fall-as-nvidia-stock-weighs-on-tech-232520900.html', 'source': 'Yahoo Finance', 'source_logo': 'https://serpapi.com/searches/67ffa8d2700e7a0c0260496a/images/6a8fb074860b0de52aad9ec84e59650987d628a03a429b16597dde775c3cd953.png', 'date': '8 minutes ago', 'thumbnail': 'https://serpapi.com/searches/67ffa8d2700e7a0c0260496a/images/6a8fb074860b0de5ea88da4e00b451a9982a44b2912fdbb7.jpeg', 'live': True}, {'title': 'Stock Market Today: Nasdaq Futures Fall After Nvidia Records $5.5 Billion Charge', 'link': 'https://www.wsj.com/livecoverage/stock-market-trump-tariffs-trade-war-04-16-25', 'source': 'WSJ', 'source_logo': 'https://serpapi.com/searches/67ffa8d2700e7a0c0260496a/images/6a8fb074860b0de5c677f8f69cd550f60ea73990f0bd4cfaacdd7f72af517f45.png', 'date': '1 hour ago', 'thumbnail': 'https://serpapi.com/searches/67ffa8d2700e7a0c0260496a/images/6a8fb074860b0de52e13202cfa15848f42b72b28827d1c6f.jpeg', 'live': True}, {'title': \"Jim Cramer's top 10 things to watch in the stock market Wednesday\", 'link': 'https://www.cnbc.com/2025/04/16/jim-cramers-top-10-things-to-watch-in-the-stock-market-wednesday.html', 'source': 'CNBC', 'source_logo': 'https://serpapi.com/searches/67ffa8d2700e7a0c0260496a/images/6a8fb074860b0de511bdf9695a884fc545b9502bbcf325983ab9546aa55fbbc2.png', 'date': '11 minutes ago', 'thumbnail': 'https://serpapi.com/searches/67ffa8d2700e7a0c0260496a/images/6a8fb074860b0de53212b8a60c3c8f8649ab11c1f0046eb2.jpeg'}]\u001b[0m\n",
            "Thought:\u001b[32;1m\u001b[1;3m I now have all the necessary information to create a daily digest for the stock market investor.\n",
            "Final Answer: The current price of AAPL is $170.34 and the latest stock market news includes updates on the trade war and tech stocks. The investor should keep an eye on the market and consider potential trades based on this information.\u001b[0m\n",
            "\n",
            "\u001b[1m> Finished chain.\u001b[0m\n",
            "\u001b[93m\u001b[1m\n",
            "*****TASK RESULT*****\n",
            "\u001b[0m\u001b[0m\n",
            "The current price of AAPL is $170.34 and the latest stock market news includes updates on the trade war and tech stocks. The investor should keep an eye on the market and consider potential trades based on this information.\n",
            "\u001b[91m\u001b[1m\n",
            "*****TASK ENDING*****\n",
            "\u001b[0m\u001b[0m\n"
          ]
        },
        {
          "data": {
            "text/plain": [
              "{'objective': 'Generate a daily digest for a stock market investor, including current news, major stock movements, and a todo list for potential trades.'}"
            ]
          },
          "execution_count": 56,
          "metadata": {},
          "output_type": "execute_result"
        }
      ],
      "source": [
        "baby_agi({\"objective\": OBJECTIVE})"
      ]
    }
  ],
  "metadata": {
    "colab": {
      "provenance": []
    },
    "kernelspec": {
      "display_name": "Python 3 (ipykernel)",
      "language": "python",
      "name": "python3"
    },
    "language_info": {
      "codemirror_mode": {
        "name": "ipython",
        "version": 3
      },
      "file_extension": ".py",
      "mimetype": "text/x-python",
      "name": "python",
      "nbconvert_exporter": "python",
      "pygments_lexer": "ipython3",
      "version": "3.11.8"
    }
  },
  "nbformat": 4,
  "nbformat_minor": 5
}
