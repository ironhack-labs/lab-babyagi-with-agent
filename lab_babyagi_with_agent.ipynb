{
  "cells": [
    {
      "cell_type": "markdown",
      "id": "1cdba6f7-142d-4dd2-96f6-a13bb5d978ce",
      "metadata": {
        "id": "1cdba6f7-142d-4dd2-96f6-a13bb5d978ce"
      },
      "source": [
        "# Lab | BabyAGI with agent\n",
        "\n",
        "**Change the planner objective below by changing the objective and the associated prompts and potential tools and agents - Wear your creativity and AI engineering hats\n",
        "You can't get this wrong!**\n",
        "\n",
        "You would need the OpenAI API KEY and the [SerpAPI KEY](https://serpapi.com/manage-api-keyhttps://serpapi.com/manage-api-key) to run this lab.\n"
      ]
    },
    {
      "cell_type": "markdown",
      "id": "517a9fd4",
      "metadata": {
        "id": "517a9fd4"
      },
      "source": [
        "## BabyAGI with Tools\n",
        "\n",
        "This notebook builds on top of [baby agi](baby_agi.html), but shows how you can swap out the execution chain. The previous execution chain was just an LLM which made stuff up. By swapping it out with an agent that has access to tools, we can hopefully get real reliable information"
      ]
    },
    {
      "cell_type": "markdown",
      "id": "556af556",
      "metadata": {
        "id": "556af556"
      },
      "source": [
        "## Install and Import Required Modules"
      ]
    },
    {
      "cell_type": "code",
      "execution_count": null,
      "id": "c8a354b6",
      "metadata": {
        "tags": [],
        "id": "c8a354b6"
      },
      "outputs": [],
      "source": [
        "from typing import Optional\n",
        "\n",
        "from langchain.chains import LLMChain\n",
        "from langchain.prompts import PromptTemplate\n",
        "from langchain_experimental.autonomous_agents import BabyAGI\n",
        "from langchain_openai import OpenAI, OpenAIEmbeddings"
      ]
    },
    {
      "cell_type": "markdown",
      "id": "09f70772",
      "metadata": {
        "id": "09f70772"
      },
      "source": [
        "## Connect to the Vector Store\n",
        "\n",
        "Depending on what vectorstore you use, this step may look different."
      ]
    },
    {
      "cell_type": "code",
      "execution_count": null,
      "id": "794045d4",
      "metadata": {
        "tags": [],
        "id": "794045d4"
      },
      "outputs": [],
      "source": [
        "# %pip install faiss-cpu > /dev/null\n",
        "# %pip install google-search-results > /dev/null\n",
        "from langchain.docstore import InMemoryDocstore\n",
        "from langchain_community.vectorstores import FAISS"
      ]
    },
    {
      "cell_type": "code",
      "execution_count": null,
      "id": "c4164841-915d-4c60-8a47-3a502a5cf71d",
      "metadata": {
        "tags": [],
        "id": "c4164841-915d-4c60-8a47-3a502a5cf71d"
      },
      "outputs": [],
      "source": [
        "import os\n",
        "from dotenv import load_dotenv, find_dotenv\n",
        "_ = load_dotenv(find_dotenv())\n",
        "\n",
        "OPENAI_API_KEY  = os.getenv('OPENAI_API_KEY')\n",
        "SERPAPI_API_KEY = os.getenv('SERPAPI_API_KEY')"
      ]
    },
    {
      "cell_type": "code",
      "execution_count": null,
      "id": "6e0305eb",
      "metadata": {
        "tags": [],
        "id": "6e0305eb",
        "outputId": "959e9d76-cf1c-49c3-ec08-04e7c2d52387"
      },
      "outputs": [
        {
          "name": "stderr",
          "output_type": "stream",
          "text": [
            "`embedding_function` is expected to be an Embeddings object, support for passing in a function will soon be removed.\n"
          ]
        }
      ],
      "source": [
        "# Define your embedding model\n",
        "embeddings_model = OpenAIEmbeddings()\n",
        "# Initialize the vectorstore as empty\n",
        "import faiss\n",
        "\n",
        "embedding_size = 1536\n",
        "index = faiss.IndexFlatL2(embedding_size)\n",
        "vectorstore = FAISS(embeddings_model.embed_query, index, InMemoryDocstore({}), {})"
      ]
    },
    {
      "cell_type": "markdown",
      "id": "0f3b72bf",
      "metadata": {
        "id": "0f3b72bf"
      },
      "source": [
        "## Define the Chains\n",
        "\n",
        "BabyAGI relies on three LLM chains:\n",
        "- Task creation chain to select new tasks to add to the list\n",
        "- Task prioritization chain to re-prioritize tasks\n",
        "- Execution Chain to execute the tasks\n",
        "\n",
        "\n",
        "NOTE: in this notebook, the Execution chain will now be an agent."
      ]
    },
    {
      "cell_type": "code",
      "execution_count": null,
      "id": "b43cd580",
      "metadata": {
        "tags": [],
        "id": "b43cd580",
        "outputId": "5ed928b4-6683-4a5a-a326-df7fadfb751f"
      },
      "outputs": [
        {
          "name": "stderr",
          "output_type": "stream",
          "text": [
            "/opt/anaconda3/lib/python3.11/site-packages/langchain_core/_api/deprecation.py:119: LangChainDeprecationWarning: The class `LLMChain` was deprecated in LangChain 0.1.17 and will be removed in 0.3.0. Use RunnableSequence, e.g., `prompt | llm` instead.\n",
            "  warn_deprecated(\n"
          ]
        }
      ],
      "source": [
        "from langchain.agents import AgentExecutor, Tool, ZeroShotAgent\n",
        "from langchain.chains import LLMChain\n",
        "from langchain_community.utilities import SerpAPIWrapper\n",
        "from langchain_openai import OpenAI\n",
        "\n",
        "todo_prompt = PromptTemplate.from_template(\n",
        "    \"You are a planner who is an expert at coming up with a todo list for a given objective. Come up with a todo list for this objective: {objective}\"\n",
        ")\n",
        "todo_chain = LLMChain(llm=OpenAI(temperature=0), prompt=todo_prompt)\n",
        "search = SerpAPIWrapper()\n",
        "tools = [\n",
        "    Tool(\n",
        "        name=\"Search\",\n",
        "        func=search.run,\n",
        "        description=\"useful for when you need to answer questions about current events\",\n",
        "    ),\n",
        "    Tool(\n",
        "        name=\"TODO\",\n",
        "        func=todo_chain.run,\n",
        "        description=\"useful for when you need to come up with todo lists. Input: an objective to create a todo list for. Output: a todo list for that objective. Please be very clear what the objective is!\",\n",
        "    ),\n",
        "]\n",
        "\n",
        "\n",
        "prefix = \"\"\"You are an AI who performs one task based on the following objective: {objective}. Take into account these previously completed tasks: {context}.\"\"\"\n",
        "suffix = \"\"\"Question: {task}\n",
        "{agent_scratchpad}\"\"\"\n",
        "prompt = ZeroShotAgent.create_prompt(\n",
        "    tools,\n",
        "    prefix=prefix,\n",
        "    suffix=suffix,\n",
        "    input_variables=[\"objective\", \"task\", \"context\", \"agent_scratchpad\"],\n",
        ")"
      ]
    },
    {
      "cell_type": "code",
      "execution_count": null,
      "id": "4b00ae2e",
      "metadata": {
        "tags": [],
        "id": "4b00ae2e",
        "outputId": "52e54fe3-582c-4da3-be7f-3eff02ad9dd8"
      },
      "outputs": [
        {
          "name": "stderr",
          "output_type": "stream",
          "text": [
            "/opt/anaconda3/lib/python3.11/site-packages/langchain_core/_api/deprecation.py:119: LangChainDeprecationWarning: The class `ZeroShotAgent` was deprecated in LangChain 0.1.0 and will be removed in 0.2.0. Use create_react_agent instead.\n",
            "  warn_deprecated(\n"
          ]
        }
      ],
      "source": [
        "llm = OpenAI(temperature=0)\n",
        "llm_chain = LLMChain(llm=llm, prompt=prompt)\n",
        "tool_names = [tool.name for tool in tools]\n",
        "agent = ZeroShotAgent(llm_chain=llm_chain, allowed_tools=tool_names)\n",
        "agent_executor = AgentExecutor.from_agent_and_tools(\n",
        "    agent=agent, tools=tools, verbose=True\n",
        ")"
      ]
    },
    {
      "cell_type": "markdown",
      "id": "05ba762e",
      "metadata": {
        "id": "05ba762e"
      },
      "source": [
        "### Run the BabyAGI\n",
        "\n",
        "Now it's time to create the BabyAGI controller and watch it try to accomplish your objective."
      ]
    },
    {
      "cell_type": "code",
      "execution_count": null,
      "id": "3d220b69",
      "metadata": {
        "tags": [],
        "id": "3d220b69"
      },
      "outputs": [],
      "source": [
        "OBJECTIVE = \"Write a weather report for SF today\""
      ]
    },
    {
      "cell_type": "code",
      "execution_count": null,
      "id": "3d69899b",
      "metadata": {
        "tags": [],
        "id": "3d69899b"
      },
      "outputs": [],
      "source": [
        "# Logging of LLMChains\n",
        "verbose = False\n",
        "# If None, will keep on going forever\n",
        "max_iterations: Optional[int] = 3\n",
        "baby_agi = BabyAGI.from_llm(\n",
        "    llm=llm,\n",
        "    vectorstore=vectorstore,\n",
        "    task_execution_chain=agent_executor,\n",
        "    verbose=verbose,\n",
        "    max_iterations=max_iterations,\n",
        ")"
      ]
    },
    {
      "cell_type": "code",
      "execution_count": null,
      "id": "f7957b51",
      "metadata": {
        "tags": [],
        "id": "f7957b51",
        "outputId": "7977a7c2-5d3b-4fd2-9e24-f4db12ea4d8d"
      },
      "outputs": [
        {
          "name": "stderr",
          "output_type": "stream",
          "text": [
            "/opt/anaconda3/lib/python3.11/site-packages/langchain_core/_api/deprecation.py:119: LangChainDeprecationWarning: The method `Chain.__call__` was deprecated in langchain 0.1.0 and will be removed in 0.2.0. Use invoke instead.\n",
            "  warn_deprecated(\n"
          ]
        },
        {
          "name": "stdout",
          "output_type": "stream",
          "text": [
            "\u001b[95m\u001b[1m\n",
            "*****TASK LIST*****\n",
            "\u001b[0m\u001b[0m\n",
            "1: Make a todo list\n",
            "\u001b[92m\u001b[1m\n",
            "*****NEXT TASK*****\n",
            "\u001b[0m\u001b[0m\n",
            "1: Make a todo list\n",
            "\n",
            "\n",
            "\u001b[1m> Entering new AgentExecutor chain...\u001b[0m\n",
            "\u001b[32;1m\u001b[1;3mThought: I should create a todo list based on the given objective\n",
            "Action: TODO\n",
            "Action Input: Create a todo list for SF weather report\u001b[0m\n",
            "Observation: \u001b[33;1m\u001b[1;3m\n",
            "\n",
            "1. Research the current weather patterns in San Francisco.\n",
            "2. Determine the sources for obtaining accurate weather information for the city.\n",
            "3. Create a list of key weather elements to include in the report, such as temperature, precipitation, wind speed, and humidity.\n",
            "4. Decide on the format of the report, whether it will be a written document, a presentation, or a combination of both.\n",
            "5. Set a timeline for when the report needs to be completed and shared.\n",
            "6. Gather data from reliable sources, such as the National Weather Service or local meteorologists.\n",
            "7. Organize the data into a clear and easy-to-understand format.\n",
            "8. Include any relevant graphics or visuals to enhance the report.\n",
            "9. Proofread and edit the report for accuracy and clarity.\n",
            "10. Share the report with the intended audience, whether it be colleagues, clients, or the general public.\n",
            "11. Monitor and update the report as needed to reflect any changes in the weather.\n",
            "12. Consider creating a template for future SF weather reports to streamline the process.\n",
            "13. Request feedback from the audience to improve future reports.\n",
            "14. Stay updated on any major weather events or changes in the forecast to provide timely and accurate information.\n",
            "15. Continuously evaluate and improve the report to ensure\u001b[0m\n",
            "Thought:\u001b[32;1m\u001b[1;3m I have completed all the necessary steps to create a comprehensive and informative weather report for San Francisco.\n",
            "Final Answer: My todo list for creating a weather report for SF is complete.\u001b[0m\n",
            "\n",
            "\u001b[1m> Finished chain.\u001b[0m\n",
            "\u001b[93m\u001b[1m\n",
            "*****TASK RESULT*****\n",
            "\u001b[0m\u001b[0m\n",
            "My todo list for creating a weather report for SF is complete.\n",
            "\u001b[95m\u001b[1m\n",
            "*****TASK LIST*****\n",
            "\u001b[0m\u001b[0m\n",
            "1: Analyze weather patterns and trends in San Francisco\n",
            "2: Gather current weather data for San Francisco\n",
            "3: Research and include any potential weather hazards for San Francisco\n",
            "4: Write an introduction for the weather report\n",
            "5: Include current temperature and humidity in the weather report\n",
            "6: Write a section on the forecast for the rest of the day\n",
            "7: Include a section on the forecast for the upcoming week\n",
            "8: Create a report template for the weather report\n",
            "9: Create a visual representation of the weather data for the report\n",
            "10: Add any additional relevant information to the weather report\n",
            "11: Proofread and edit the weather report for accuracy and clarity\n",
            "12: Finalize and publish the weather report for San Francisco\n",
            "\u001b[92m\u001b[1m\n",
            "*****NEXT TASK*****\n",
            "\u001b[0m\u001b[0m\n",
            "1: Analyze weather patterns and trends in San Francisco\n",
            "\n",
            "\n",
            "\u001b[1m> Entering new AgentExecutor chain...\u001b[0m\n",
            "\u001b[32;1m\u001b[1;3mThought: I should search for information about the weather in San Francisco\n",
            "Action: Search\n",
            "Action Input: \"San Francisco weather\"\u001b[0m\n",
            "Observation: \u001b[36;1m\u001b[1;3m{'type': 'weather_result', 'temperature': '55', 'unit': 'Fahrenheit', 'precipitation': '2%', 'humidity': '92%', 'wind': '11 mph', 'location': 'San Francisco, CA', 'date': 'Wednesday 8:00 AM', 'weather': 'Mostly cloudy'}\u001b[0m\n",
            "Thought:\u001b[32;1m\u001b[1;3m I should use the information from the weather result to create a todo list for today's weather report\n",
            "Action: TODO\n",
            "Action Input: \"Create a todo list for SF weather report\"\u001b[0m\n",
            "Observation: \u001b[33;1m\u001b[1;3m\n",
            "\n",
            "1. Determine the purpose of the weather report: Before creating the todo list, it is important to understand the purpose of the weather report. Is it for personal use, for a specific event, or for a business? This will help guide the content and format of the report.\n",
            "\n",
            "2. Research the weather patterns in San Francisco: Start by gathering information on the typical weather patterns in San Francisco. This includes temperature, precipitation, and any other relevant factors that may impact the weather.\n",
            "\n",
            "3. Identify reliable sources for weather information: It is important to use reliable sources for the weather report, such as the National Weather Service or local news stations. Make a list of these sources for easy reference.\n",
            "\n",
            "4. Determine the frequency of the weather report: Will the report be daily, weekly, or for a specific event? This will help determine the level of detail and effort needed for each report.\n",
            "\n",
            "5. Create a template for the weather report: Having a template will make it easier to consistently create the report and ensure all necessary information is included. This can include sections for current weather, forecast, and any additional information.\n",
            "\n",
            "6. Gather current weather data: Use reliable sources to gather current weather data for San Francisco. This can include temperature, humidity, wind speed, and any other relevant\u001b[0m\n",
            "Thought:\u001b[32;1m\u001b[1;3m I have gathered all the necessary information and created a todo list for the SF weather report\n",
            "Final Answer: Use the todo list to create a comprehensive and accurate weather report for San Francisco today.\u001b[0m\n",
            "\n",
            "\u001b[1m> Finished chain.\u001b[0m\n",
            "\u001b[93m\u001b[1m\n",
            "*****TASK RESULT*****\n",
            "\u001b[0m\u001b[0m\n",
            "Use the todo list to create a comprehensive and accurate weather report for San Francisco today.\n",
            "\u001b[95m\u001b[1m\n",
            "*****TASK LIST*****\n",
            "\u001b[0m\u001b[0m\n",
            "1: Use the todo list to gather current weather data for San Francisco.\n",
            "2: Use the todo list to research and include any potential weather hazards for San Francisco.\n",
            "3: Use the todo list to write an introduction for the weather report.\n",
            "4: Use the todo list to include current temperature and humidity in the weather report.\n",
            "5: Use the todo list to write a section on the forecast for the rest of the day.\n",
            "6: Use the todo list to include a section on the forecast for the upcoming week.\n",
            "7: Use the todo list to create a report template for the weather report.\n",
            "8: Use the todo list to create a visual representation of the weather data for the report.\n",
            "9: Use the todo list to add any additional relevant information to the weather report.\n",
            "10: Use the todo list to proofread and edit the weather report for accuracy and clarity.\n",
            "11: Use the todo list to finalize and publish the weather report for San Francisco.\n",
            "\u001b[92m\u001b[1m\n",
            "*****NEXT TASK*****\n",
            "\u001b[0m\u001b[0m\n",
            "1: Use the todo list to gather current weather data for San Francisco.\n",
            "\n",
            "\n",
            "\u001b[1m> Entering new AgentExecutor chain...\u001b[0m\n",
            "\u001b[32;1m\u001b[1;3mThought: I should use the todo list to gather current weather data for San Francisco.\n",
            "Action: TODO\n",
            "Action Input: Create a todo list for gathering current weather data for San Francisco.\u001b[0m\n",
            "Observation: \u001b[33;1m\u001b[1;3m\n",
            "\n",
            "1. Research reliable sources for current weather data in San Francisco, such as the National Weather Service or local news stations.\n",
            "\n",
            "2. Determine the specific data points needed, such as temperature, humidity, wind speed, and precipitation.\n",
            "\n",
            "3. Create a spreadsheet or document to organize the data and make it easy to update.\n",
            "\n",
            "4. Set up a system for regularly checking and updating the data, whether it be daily, weekly, or monthly.\n",
            "\n",
            "5. Consider using a weather API or app to automate the data gathering process.\n",
            "\n",
            "6. If using a weather API, make sure to properly set up and test the integration to ensure accurate and timely data.\n",
            "\n",
            "7. Create a backup plan in case the primary data source is unavailable or inaccurate.\n",
            "\n",
            "8. Determine the best way to present the data, whether it be through charts, graphs, or tables.\n",
            "\n",
            "9. Set up a schedule for reviewing and analyzing the data to identify any patterns or trends.\n",
            "\n",
            "10. Consider sharing the data with others, such as colleagues or clients, to keep them informed about the current weather in San Francisco.\n",
            "\n",
            "11. Continuously monitor and update the data as needed to ensure it remains accurate and relevant.\n",
            "\n",
            "12. Make any necessary adjustments to the data gathering process based on feedback or changes in the weather patterns.\n",
            "\n",
            "13.\u001b[0m\n",
            "Thought:\u001b[32;1m\u001b[1;3m I have completed the todo list and have all the necessary steps to gather current weather data for San Francisco.\n",
            "Final Answer: The final answer is a todo list for gathering current weather data for San Francisco.\u001b[0m\n",
            "\n",
            "\u001b[1m> Finished chain.\u001b[0m\n",
            "\u001b[93m\u001b[1m\n",
            "*****TASK RESULT*****\n",
            "\u001b[0m\u001b[0m\n",
            "The final answer is a todo list for gathering current weather data for San Francisco.\n",
            "\u001b[91m\u001b[1m\n",
            "*****TASK ENDING*****\n",
            "\u001b[0m\u001b[0m\n"
          ]
        },
        {
          "data": {
            "text/plain": [
              "{'objective': 'Write a weather report for SF today'}"
            ]
          },
          "execution_count": 16,
          "metadata": {},
          "output_type": "execute_result"
        }
      ],
      "source": [
        "baby_agi({\"objective\": OBJECTIVE})"
      ]
    },
    {
      "cell_type": "code",
      "execution_count": null,
      "id": "898a210b",
      "metadata": {
        "id": "898a210b"
      },
      "outputs": [],
      "source": [
        "from langchain_experimental.autonomous_agents import BabyAGI\n",
        "from typing import Optional\n",
        "\n",
        "# Define the main objective\n",
        "OBJECTIVE = \"Write a weather report for SF today\"\n",
        "\n",
        "# Define BabyAGI execution parameters\n",
        "verbose = True  # Set to True to see detailed logs\n",
        "max_iterations: Optional[int] = 3  # Set to None to run indefinitely\n",
        "\n",
        "# Initialize BabyAGI\n",
        "baby_agi = BabyAGI.from_llm(\n",
        "    llm=llm,\n",
        "    vectorstore=vectorstore,\n",
        "    task_execution_chain=agent_executor,\n",
        "    verbose=verbose,\n",
        "    max_iterations=max_iterations,\n",
        ")\n",
        "\n",
        "# Run BabyAGI with the given objective\n",
        "baby_agi({\"objective\": OBJECTIVE})\n"
      ]
    }
  ],
  "metadata": {
    "kernelspec": {
      "display_name": "Python 3 (ipykernel)",
      "language": "python",
      "name": "python3"
    },
    "language_info": {
      "codemirror_mode": {
        "name": "ipython",
        "version": 3
      },
      "file_extension": ".py",
      "mimetype": "text/x-python",
      "name": "python",
      "nbconvert_exporter": "python",
      "pygments_lexer": "ipython3",
      "version": "3.11.8"
    },
    "colab": {
      "provenance": []
    }
  },
  "nbformat": 4,
  "nbformat_minor": 5
}