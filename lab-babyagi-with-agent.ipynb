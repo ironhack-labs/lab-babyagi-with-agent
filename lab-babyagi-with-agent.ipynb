{
 "cells": [
  {
   "cell_type": "markdown",
   "id": "1cdba6f7-142d-4dd2-96f6-a13bb5d978ce",
   "metadata": {},
   "source": [
    "# Lab | BabyAGI with agent\n",
    "\n",
    "**Change the planner objective below by changing the objective and the associated prompts and potential tools and agents - Wear your creativity and AI engineering hats\n",
    "You can't get this wrong!**\n",
    "\n",
    "You would need the OpenAI API KEY and the [SerpAPI KEY](https://serpapi.com/manage-api-keyhttps://serpapi.com/manage-api-key) to run this lab.\n"
   ]
  },
  {
   "cell_type": "markdown",
   "id": "517a9fd4",
   "metadata": {},
   "source": [
    "## BabyAGI with Tools\n",
    "\n",
    "This notebook builds on top of [baby agi](baby_agi.html), but shows how you can swap out the execution chain. The previous execution chain was just an LLM which made stuff up. By swapping it out with an agent that has access to tools, we can hopefully get real reliable information"
   ]
  },
  {
   "cell_type": "markdown",
   "id": "556af556",
   "metadata": {},
   "source": [
    "## Install and Import Required Modules"
   ]
  },
  {
   "cell_type": "code",
   "execution_count": 8,
   "id": "c8a354b6",
   "metadata": {
    "tags": []
   },
   "outputs": [],
   "source": [
    "from typing import Optional\n",
    "\n",
    "from langchain.chains import LLMChain\n",
    "from langchain.prompts import PromptTemplate\n",
    "from langchain_experimental.autonomous_agents import BabyAGI\n",
    "from langchain_openai import OpenAI, OpenAIEmbeddings"
   ]
  },
  {
   "cell_type": "markdown",
   "id": "09f70772",
   "metadata": {},
   "source": [
    "## Connect to the Vector Store\n",
    "\n",
    "Depending on what vectorstore you use, this step may look different."
   ]
  },
  {
   "cell_type": "code",
   "execution_count": 9,
   "id": "794045d4",
   "metadata": {
    "tags": []
   },
   "outputs": [],
   "source": [
    "#%pip install faiss-cpu > /dev/null\n",
    "#%pip install google-search-results > /dev/null\n",
    "from langchain.docstore import InMemoryDocstore\n",
    "from langchain_community.vectorstores import FAISS\n",
    "\n",
    "import openai\n",
    "import faiss"
   ]
  },
  {
   "cell_type": "code",
   "execution_count": 11,
   "id": "c4164841-915d-4c60-8a47-3a502a5cf71d",
   "metadata": {
    "tags": []
   },
   "outputs": [],
   "source": [
    "import os\n",
    "from dotenv import load_dotenv, find_dotenv\n",
    "_ = load_dotenv(find_dotenv())\n",
    "\n",
    "OPENAI_API_KEY  = os.getenv('OPENAI_API_KEY')\n",
    "SERPAPI_API_KEY = os.getenv('SERPAPI_API_KEY')\n"
   ]
  },
  {
   "cell_type": "code",
   "execution_count": 12,
   "id": "6e0305eb",
   "metadata": {
    "tags": []
   },
   "outputs": [
    {
     "name": "stderr",
     "output_type": "stream",
     "text": [
      "`embedding_function` is expected to be an Embeddings object, support for passing in a function will soon be removed.\n"
     ]
    }
   ],
   "source": [
    "# Define your embedding model\n",
    "embeddings_model = OpenAIEmbeddings()\n",
    "# Initialize the vectorstore as empty\n",
    "import faiss\n",
    "\n",
    "embedding_size = 1536\n",
    "index = faiss.IndexFlatL2(embedding_size)\n",
    "vectorstore = FAISS(embeddings_model.embed_query, index, InMemoryDocstore({}), {})"
   ]
  },
  {
   "cell_type": "markdown",
   "id": "0f3b72bf",
   "metadata": {},
   "source": [
    "## Define the Chains\n",
    "\n",
    "BabyAGI relies on three LLM chains:\n",
    "- Task creation chain to select new tasks to add to the list\n",
    "- Task prioritization chain to re-prioritize tasks\n",
    "- Execution Chain to execute the tasks\n",
    "\n",
    "\n",
    "NOTE: in this notebook, the Execution chain will now be an agent."
   ]
  },
  {
   "cell_type": "code",
   "execution_count": 13,
   "id": "b43cd580",
   "metadata": {
    "tags": []
   },
   "outputs": [],
   "source": [
    "from langchain.agents import AgentExecutor, Tool, ZeroShotAgent\n",
    "from langchain.chains import LLMChain\n",
    "from langchain_community.utilities import SerpAPIWrapper\n",
    "from langchain_openai import OpenAI\n",
    "\n",
    "todo_prompt = PromptTemplate.from_template(\n",
    "    \"You are a planner who is an expert at coming up with a todo list for a given objective. Come up with a todo list for this objective: {objective}\"\n",
    ")\n",
    "todo_chain = LLMChain(llm=OpenAI(temperature=0), prompt=todo_prompt)\n",
    "search = SerpAPIWrapper()\n",
    "tools = [\n",
    "    Tool(\n",
    "        name=\"Search\",\n",
    "        func=search.run,\n",
    "        description=\"useful for when you need to answer questions about current events\",\n",
    "    ),\n",
    "    Tool(\n",
    "        name=\"TODO\",\n",
    "        func=todo_chain.run,\n",
    "        description=\"useful for when you need to come up with todo lists. Input: an objective to create a todo list for. Output: a todo list for that objective. Please be very clear what the objective is!\",\n",
    "    ),\n",
    "]\n",
    "\n",
    "\n",
    "prefix = \"\"\"You are an AI who performs one task based on the following objective: {objective}. Take into account these previously completed tasks: {context}.\"\"\"\n",
    "suffix = \"\"\"Question: {task}\n",
    "{agent_scratchpad}\"\"\"\n",
    "prompt = ZeroShotAgent.create_prompt(\n",
    "    tools,\n",
    "    prefix=prefix,\n",
    "    suffix=suffix,\n",
    "    input_variables=[\"objective\", \"task\", \"context\", \"agent_scratchpad\"],\n",
    ")"
   ]
  },
  {
   "cell_type": "code",
   "execution_count": 14,
   "id": "4b00ae2e",
   "metadata": {
    "tags": []
   },
   "outputs": [
    {
     "name": "stderr",
     "output_type": "stream",
     "text": [
      "C:\\Users\\diego\\AppData\\Local\\Packages\\PythonSoftwareFoundation.Python.3.12_qbz5n2kfra8p0\\LocalCache\\local-packages\\Python312\\site-packages\\langchain_core\\_api\\deprecation.py:117: LangChainDeprecationWarning: The class `langchain.agents.mrkl.base.ZeroShotAgent` was deprecated in langchain 0.1.0 and will be removed in 0.2.0. Use create_react_agent instead.\n",
      "  warn_deprecated(\n"
     ]
    }
   ],
   "source": [
    "llm = OpenAI(temperature=0)\n",
    "llm_chain = LLMChain(llm=llm, prompt=prompt)\n",
    "tool_names = [tool.name for tool in tools]\n",
    "agent = ZeroShotAgent(llm_chain=llm_chain, allowed_tools=tool_names)\n",
    "agent_executor = AgentExecutor.from_agent_and_tools(\n",
    "    agent=agent, tools=tools, verbose=True\n",
    ")"
   ]
  },
  {
   "cell_type": "markdown",
   "id": "05ba762e",
   "metadata": {},
   "source": [
    "### Run the BabyAGI\n",
    "\n",
    "Now it's time to create the BabyAGI controller and watch it try to accomplish your objective."
   ]
  },
  {
   "cell_type": "code",
   "execution_count": 16,
   "id": "3d220b69",
   "metadata": {
    "tags": []
   },
   "outputs": [],
   "source": [
    "OBJECTIVE = \"Write a weather report for SF today\""
   ]
  },
  {
   "cell_type": "code",
   "execution_count": 17,
   "id": "3d69899b",
   "metadata": {
    "tags": []
   },
   "outputs": [],
   "source": [
    "# Logging of LLMChains\n",
    "verbose = False\n",
    "# If None, will keep on going forever\n",
    "max_iterations: Optional[int] = 3\n",
    "baby_agi = BabyAGI.from_llm(\n",
    "    llm=llm,\n",
    "    vectorstore=vectorstore,\n",
    "    task_execution_chain=agent_executor,\n",
    "    verbose=verbose,\n",
    "    max_iterations=max_iterations,\n",
    ")"
   ]
  },
  {
   "cell_type": "code",
   "execution_count": 18,
   "id": "f7957b51",
   "metadata": {
    "tags": []
   },
   "outputs": [
    {
     "name": "stderr",
     "output_type": "stream",
     "text": [
      "C:\\Users\\diego\\AppData\\Local\\Packages\\PythonSoftwareFoundation.Python.3.12_qbz5n2kfra8p0\\LocalCache\\local-packages\\Python312\\site-packages\\langchain_core\\_api\\deprecation.py:117: LangChainDeprecationWarning: The function `__call__` was deprecated in LangChain 0.1.0 and will be removed in 0.2.0. Use invoke instead.\n",
      "  warn_deprecated(\n"
     ]
    },
    {
     "name": "stdout",
     "output_type": "stream",
     "text": [
      "\u001b[95m\u001b[1m\n",
      "*****TASK LIST*****\n",
      "\u001b[0m\u001b[0m\n",
      "1: Make a todo list\n",
      "\u001b[92m\u001b[1m\n",
      "*****NEXT TASK*****\n",
      "\u001b[0m\u001b[0m\n",
      "1: Make a todo list\n",
      "\n",
      "\n",
      "\u001b[1m> Entering new AgentExecutor chain...\u001b[0m\n",
      "\u001b[32;1m\u001b[1;3mThought: I should create a todo list based on the objective given\n",
      "Action: TODO\n",
      "Action Input: \"Create a todo list for SF weather report\"\u001b[0m\n",
      "Observation: \u001b[33;1m\u001b[1;3m\n",
      "\n",
      "1. Determine the purpose of the weather report: Before creating the todo list, it is important to understand the purpose of the weather report. Is it for personal use, for a specific event, or for a business? This will help guide the rest of the planning process.\n",
      "\n",
      "2. Research the weather patterns in San Francisco: Start by gathering information on the typical weather patterns in San Francisco. This will help in predicting the weather for the upcoming days and weeks.\n",
      "\n",
      "3. Identify reliable sources for weather information: Make a list of reliable sources for weather information in San Francisco. This can include local news channels, weather websites, and apps.\n",
      "\n",
      "4. Decide on the frequency of the weather report: Determine how often the weather report will be created. Will it be a daily report, weekly report, or only when there are significant changes in the weather?\n",
      "\n",
      "5. Create a template for the weather report: Design a template for the weather report that includes all the necessary information such as temperature, precipitation, wind speed, and any other relevant details.\n",
      "\n",
      "6. Set a schedule for creating the weather report: Decide on a specific time and day to create the weather report. This will ensure consistency and reliability for the audience.\n",
      "\n",
      "7. Assign roles and responsibilities: If creating the weather report for a\u001b[0m\n",
      "Thought:\u001b[32;1m\u001b[1;3m It is important to delegate tasks and responsibilities to ensure efficiency and accuracy in the weather report.\n",
      "Action: TODO\n",
      "Action Input: \"Assign roles and responsibilities for creating the SF weather report\"\u001b[0m\n",
      "Observation: \u001b[33;1m\u001b[1;3m\n",
      "\n",
      "1. Identify team members: The first step in assigning roles and responsibilities is to identify the team members who will be involved in creating the SF weather report. This could include meteorologists, data analysts, graphic designers, and writers.\n",
      "\n",
      "2. Define roles and responsibilities: Once the team members have been identified, it is important to clearly define their roles and responsibilities. This will ensure that everyone knows what is expected of them and there is no confusion or overlap of tasks.\n",
      "\n",
      "3. Assign a project manager: It is important to have a project manager who will oversee the entire process and ensure that everything is running smoothly. This person will be responsible for delegating tasks, setting deadlines, and keeping track of progress.\n",
      "\n",
      "4. Determine the scope of the report: Before assigning specific tasks, it is important to determine the scope of the SF weather report. This could include the time period to be covered, the type of data to be included, and the format of the report.\n",
      "\n",
      "5. Assign tasks based on expertise: Each team member should be assigned tasks based on their expertise and strengths. For example, a meteorologist would be responsible for analyzing weather data, while a graphic designer would be in charge of creating visual elements for the report.\n",
      "\n",
      "6. Set deadlines: It is important to set\u001b[0m\n",
      "Thought:\u001b[32;1m\u001b[1;3m Setting deadlines will help ensure that the weather report is completed on time and with accuracy.\n",
      "Action: TODO\n",
      "Action Input: \"Set deadlines for creating the SF weather report\"\u001b[0m\n",
      "Observation: \u001b[33;1m\u001b[1;3m\n",
      "\n",
      "1. Determine the purpose of the SF weather report and the target audience.\n",
      "2. Research and gather relevant data and information on the weather patterns in San Francisco.\n",
      "3. Consult with meteorologists or weather experts to gain insights and predictions for the upcoming weather in SF.\n",
      "4. Create a template or format for the weather report, including sections such as current conditions, forecast, and any special weather alerts.\n",
      "5. Set a deadline for completing the first draft of the weather report.\n",
      "6. Review and revise the draft, making sure all information is accurate and presented clearly.\n",
      "7. Set a deadline for completing the final version of the weather report.\n",
      "8. Design and create any necessary graphics or visuals to enhance the report.\n",
      "9. Proofread and edit the final version of the weather report.\n",
      "10. Set a deadline for publishing or distributing the weather report.\n",
      "11. Monitor and update the weather report as needed, especially if there are any significant changes in the weather forecast.\n",
      "12. Set a deadline for creating a new weather report for the following week.\n",
      "13. Evaluate the success of the weather report and make any necessary improvements for future reports.\n",
      "14. Set a deadline for implementing any changes or improvements to the weather report process.\n",
      "15. Continuously monitor and update the weather report process\u001b[0m\n",
      "Thought:\u001b[32;1m\u001b[1;3m I now know the final answer\n",
      "Final Answer: The final answer is a comprehensive todo list for creating a weather report for San Francisco. It includes steps for researching, assigning roles and responsibilities, and setting deadlines to ensure an accurate and timely report.\u001b[0m\n",
      "\n",
      "\u001b[1m> Finished chain.\u001b[0m\n",
      "\u001b[93m\u001b[1m\n",
      "*****TASK RESULT*****\n",
      "\u001b[0m\u001b[0m\n",
      "The final answer is a comprehensive todo list for creating a weather report for San Francisco. It includes steps for researching, assigning roles and responsibilities, and setting deadlines to ensure an accurate and timely report.\n",
      "\u001b[95m\u001b[1m\n",
      "*****TASK LIST*****\n",
      "\u001b[0m\u001b[0m\n",
      "1: Assign a team member to gather data on temperature and precipitation\n",
      "2: Assign a team member to gather data on wind speed and direction\n",
      "3: Assign a team member to gather data on humidity levels\n",
      "4: Research current weather conditions in San Francisco\n",
      "5: Set a deadline for data collection to be completed by end of day\n",
      "6: Analyze data and create a summary of current weather conditions\n",
      "7: Assign a team member to write a detailed description of the weather for today\n",
      "8: Set a deadline for weather report to be completed by tomorrow morning\n",
      "9: Review and edit weather report for accuracy and clarity\n",
      "10: Assign a team member to create visual aids, such as charts or graphs, to accompany the weather report\n",
      "11: Set a deadline for visual aids to be completed by tomorrow afternoon\n",
      "12: Finalize weather report and submit to appropriate parties for distribution\n",
      "\u001b[92m\u001b[1m\n",
      "*****NEXT TASK*****\n",
      "\u001b[0m\u001b[0m\n",
      "1: Assign a team member to gather data on temperature and precipitation\n",
      "\n",
      "\n",
      "\u001b[1m> Entering new AgentExecutor chain...\u001b[0m\n",
      "\u001b[32;1m\u001b[1;3mThought: I need to create a todo list for this objective\n",
      "Action: TODO\n",
      "Action Input: Create a todo list for gathering data on temperature and precipitation\u001b[0m\n",
      "Observation: \u001b[33;1m\u001b[1;3m\n",
      "\n",
      "1. Determine the purpose of gathering data on temperature and precipitation.\n",
      "2. Identify the specific locations and time periods for which data will be collected.\n",
      "3. Research and select appropriate methods for collecting temperature and precipitation data, such as weather stations, satellite imagery, or manual measurements.\n",
      "4. Create a data collection plan, including a schedule for when and how data will be collected.\n",
      "5. Gather necessary equipment and materials for data collection, such as thermometers, rain gauges, and data recording sheets.\n",
      "6. Train any team members who will be assisting with data collection on proper techniques and procedures.\n",
      "7. Begin data collection according to the established plan and schedule.\n",
      "8. Record all data accurately and consistently, ensuring proper units and measurements are used.\n",
      "9. Monitor and track any changes or anomalies in the data, and make note of any potential factors that may affect the accuracy of the data.\n",
      "10. Organize and store the collected data in a secure and accessible manner.\n",
      "11. Analyze the data to identify patterns and trends in temperature and precipitation.\n",
      "12. Create visual representations of the data, such as graphs or charts, to aid in understanding and interpretation.\n",
      "13. Share the data and findings with relevant stakeholders, such as researchers, government agencies, or community members.\n",
      "14\u001b[0m\n",
      "Thought:\u001b[32;1m\u001b[1;3m I have completed the todo list and can now move on to the next step.\n",
      "Final Answer: The final answer is a todo list for gathering data on temperature and precipitation, including determining the purpose, selecting methods, creating a data collection plan, training team members, collecting and recording data, monitoring and analyzing data, and sharing findings.\u001b[0m\n",
      "\n",
      "\u001b[1m> Finished chain.\u001b[0m\n",
      "\u001b[93m\u001b[1m\n",
      "*****TASK RESULT*****\n",
      "\u001b[0m\u001b[0m\n",
      "The final answer is a todo list for gathering data on temperature and precipitation, including determining the purpose, selecting methods, creating a data collection plan, training team members, collecting and recording data, monitoring and analyzing data, and sharing findings.\n",
      "\u001b[95m\u001b[1m\n",
      "*****TASK LIST*****\n",
      "\u001b[0m\u001b[0m\n",
      "1: Determine the purpose of the data collection and create a plan for how it will be used.\n",
      "2: Select appropriate methods for collecting temperature and precipitation data.\n",
      "3: Train team members on how to accurately collect and record temperature and precipitation data.\n",
      "4: Monitor and analyze the collected data to identify any patterns or trends.\n",
      "5: Share the findings of the data analysis with appropriate parties.\n",
      "6: Assign a team member to gather data on wind speed and direction for the next 24 hours.\n",
      "7: Assign a team member to gather data on humidity levels for the next 24 hours.\n",
      "8: Research current weather conditions in San Francisco and compare them to historical data.\n",
      "9: Set a deadline for all data collection to be completed by end of day.\n",
      "10: Analyze all collected data and create a comprehensive summary of current weather conditions.\n",
      "11: Assign a team member to write a detailed description of the weather for today, including any notable changes or events.\n",
      "12: Set a deadline for the weather report to be completed by tomorrow morning.\n",
      "13: Review and edit the weather report for accuracy and clarity.\n",
      "14: Assign a team member to create visual aids, such as charts or graphs, to accompany the weather report.\n",
      "15: Set a deadline for visual aids to be completed by\n",
      "\u001b[92m\u001b[1m\n",
      "*****NEXT TASK*****\n",
      "\u001b[0m\u001b[0m\n",
      "1: Determine the purpose of the data collection and create a plan for how it will be used.\n",
      "\n",
      "\n",
      "\u001b[1m> Entering new AgentExecutor chain...\u001b[0m\n",
      "\u001b[32;1m\u001b[1;3mThought: I need to understand the objective of the data collection and how it will be used in order to create a plan.\n",
      "Action: Search\n",
      "Action Input: \"Purpose of data collection and usage plan\"\u001b[0m\n",
      "Observation: \u001b[36;1m\u001b[1;3mWith a clear data collection plan in place, you ensure that the collected data leads to actionable insights. Effective data collection is key to smart decision-making, grounding strategies in solid evidence rather than guesses.\u001b[0m\n",
      "Thought:\u001b[32;1m\u001b[1;3m I now have a better understanding of the purpose of the data collection and how it will be used.\n",
      "Action: TODO\n",
      "Action Input: \"Create a plan for data collection and usage\"\u001b[0m\n",
      "Observation: \u001b[33;1m\u001b[1;3m\n",
      "\n",
      "1. Define the objective: The first step in creating a plan for data collection and usage is to clearly define the objective. This will help guide the rest of the planning process and ensure that the data collected is relevant and useful.\n",
      "\n",
      "2. Identify the data needed: Once the objective is defined, the next step is to identify the specific data that will be needed to achieve the objective. This could include customer demographics, sales data, website analytics, or any other relevant information.\n",
      "\n",
      "3. Determine data sources: After identifying the data needed, the next step is to determine where this data can be obtained from. This could include internal sources such as company databases or external sources such as market research reports.\n",
      "\n",
      "4. Set a timeline: It is important to set a timeline for data collection and usage to ensure that the project stays on track and deadlines are met. This timeline should include specific dates for data collection, analysis, and reporting.\n",
      "\n",
      "5. Assign responsibilities: Assigning responsibilities to team members will help ensure that the data collection and usage plan is executed efficiently. This could include designating someone to oversee data collection, analysis, and reporting.\n",
      "\n",
      "6. Determine data collection methods: There are various methods for collecting data, such as surveys, interviews, or observation. Determine which methods will be\u001b[0m\n",
      "Thought:\u001b[32;1m\u001b[1;3m I have created a comprehensive plan for data collection and usage.\n",
      "Final Answer: The purpose of the data collection is to gather relevant information to achieve a specific objective. The plan for data collection and usage includes defining the objective, identifying data needed, determining data sources, setting a timeline, assigning responsibilities, and determining data collection methods.\u001b[0m\n",
      "\n",
      "\u001b[1m> Finished chain.\u001b[0m\n",
      "\u001b[93m\u001b[1m\n",
      "*****TASK RESULT*****\n",
      "\u001b[0m\u001b[0m\n",
      "The purpose of the data collection is to gather relevant information to achieve a specific objective. The plan for data collection and usage includes defining the objective, identifying data needed, determining data sources, setting a timeline, assigning responsibilities, and determining data collection methods.\n",
      "\u001b[91m\u001b[1m\n",
      "*****TASK ENDING*****\n",
      "\u001b[0m\u001b[0m\n"
     ]
    },
    {
     "data": {
      "text/plain": [
       "{'objective': 'Write a weather report for SF today'}"
      ]
     },
     "execution_count": 18,
     "metadata": {},
     "output_type": "execute_result"
    }
   ],
   "source": [
    "baby_agi({\"objective\": OBJECTIVE})"
   ]
  },
  {
   "cell_type": "code",
   "execution_count": null,
   "id": "898a210b",
   "metadata": {},
   "outputs": [],
   "source": []
  }
 ],
 "metadata": {
  "kernelspec": {
   "display_name": "Python 3",
   "language": "python",
   "name": "python3"
  },
  "language_info": {
   "codemirror_mode": {
    "name": "ipython",
    "version": 3
   },
   "file_extension": ".py",
   "mimetype": "text/x-python",
   "name": "python",
   "nbconvert_exporter": "python",
   "pygments_lexer": "ipython3",
   "version": "3.12.7"
  }
 },
 "nbformat": 4,
 "nbformat_minor": 5
}
