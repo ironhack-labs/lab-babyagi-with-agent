{
 "cells": [
  {
   "cell_type": "markdown",
   "id": "1cdba6f7-142d-4dd2-96f6-a13bb5d978ce",
   "metadata": {},
   "source": [
    "# Lab | BabyAGI with agent\n",
    "\n",
    "**Change the planner objective below by changing the objective and the associated prompts and potential tools and agents - Wear your creativity and AI engineering hats\n",
    "You can't get this wrong!**\n",
    "\n",
    "You would need the OpenAI API KEY and the [SerpAPI KEY](https://serpapi.com/manage-api-keyhttps://serpapi.com/manage-api-key) to run this lab.\n"
   ]
  },
  {
   "cell_type": "markdown",
   "id": "517a9fd4",
   "metadata": {},
   "source": [
    "## BabyAGI with Tools\n",
    "\n",
    "This notebook builds on top of [baby agi](baby_agi.html), but shows how you can swap out the execution chain. The previous execution chain was just an LLM which made stuff up. By swapping it out with an agent that has access to tools, we can hopefully get real reliable information"
   ]
  },
  {
   "cell_type": "markdown",
   "id": "556af556",
   "metadata": {},
   "source": [
    "## Install and Import Required Modules"
   ]
  },
  {
   "cell_type": "code",
   "execution_count": 1,
   "id": "c8a354b6",
   "metadata": {
    "tags": []
   },
   "outputs": [],
   "source": [
    "from typing import Optional\n",
    "\n",
    "from langchain.chains import LLMChain\n",
    "from langchain.prompts import PromptTemplate\n",
    "from langchain_experimental.autonomous_agents import BabyAGI\n",
    "from langchain_openai import OpenAI, OpenAIEmbeddings"
   ]
  },
  {
   "cell_type": "markdown",
   "id": "09f70772",
   "metadata": {},
   "source": [
    "## Connect to the Vector Store\n",
    "\n",
    "Depending on what vectorstore you use, this step may look different."
   ]
  },
  {
   "cell_type": "code",
   "execution_count": 2,
   "id": "794045d4",
   "metadata": {
    "tags": []
   },
   "outputs": [],
   "source": [
    "# %pip install faiss-cpu > /dev/null\n",
    "# %pip install google-search-results > /dev/null\n",
    "from langchain.docstore import InMemoryDocstore\n",
    "from langchain_community.vectorstores import FAISS"
   ]
  },
  {
   "cell_type": "code",
   "execution_count": 3,
   "id": "c4164841-915d-4c60-8a47-3a502a5cf71d",
   "metadata": {
    "tags": []
   },
   "outputs": [],
   "source": [
    "import os\n",
    "from dotenv import load_dotenv, find_dotenv\n",
    "_ = load_dotenv(find_dotenv())\n",
    "\n",
    "OPENAI_API_KEY  = os.getenv('OPENAI_API_KEY')\n",
    "SERPAPI_API_KEY = os.getenv('SERPAPI_API_KEY')"
   ]
  },
  {
   "cell_type": "code",
   "execution_count": 4,
   "id": "6e0305eb",
   "metadata": {
    "tags": []
   },
   "outputs": [
    {
     "name": "stderr",
     "output_type": "stream",
     "text": [
      "`embedding_function` is expected to be an Embeddings object, support for passing in a function will soon be removed.\n"
     ]
    }
   ],
   "source": [
    "# Define your embedding model\n",
    "embeddings_model = OpenAIEmbeddings()\n",
    "# Initialize the vectorstore as empty\n",
    "import faiss\n",
    "\n",
    "embedding_size = 1536\n",
    "index = faiss.IndexFlatL2(embedding_size)\n",
    "vectorstore = FAISS(embeddings_model.embed_query, index, InMemoryDocstore({}), {})"
   ]
  },
  {
   "cell_type": "markdown",
   "id": "0f3b72bf",
   "metadata": {},
   "source": [
    "## Define the Chains\n",
    "\n",
    "BabyAGI relies on three LLM chains:\n",
    "- Task creation chain to select new tasks to add to the list\n",
    "- Task prioritization chain to re-prioritize tasks\n",
    "- Execution Chain to execute the tasks\n",
    "\n",
    "\n",
    "NOTE: in this notebook, the Execution chain will now be an agent."
   ]
  },
  {
   "cell_type": "code",
   "execution_count": 5,
   "id": "b43cd580",
   "metadata": {
    "tags": []
   },
   "outputs": [
    {
     "name": "stderr",
     "output_type": "stream",
     "text": [
      "/var/folders/d7/f99mzmr12dqbty5ptd50z0dc0000gn/T/ipykernel_69591/842275654.py:9: LangChainDeprecationWarning: The class `LLMChain` was deprecated in LangChain 0.1.17 and will be removed in 1.0. Use :meth:`~RunnableSequence, e.g., `prompt | llm`` instead.\n",
      "  todo_chain = LLMChain(llm=OpenAI(temperature=0), prompt=todo_prompt)\n"
     ]
    }
   ],
   "source": [
    "from langchain.agents import AgentExecutor, Tool, ZeroShotAgent\n",
    "from langchain.chains import LLMChain\n",
    "from langchain_community.utilities import SerpAPIWrapper\n",
    "from langchain_openai import OpenAI\n",
    "\n",
    "todo_prompt = PromptTemplate.from_template(\n",
    "    \"You are a planner who is an expert at coming up with a todo list for a given objective. Come up with a todo list for this objective: {objective}\"\n",
    ")\n",
    "todo_chain = LLMChain(llm=OpenAI(temperature=0), prompt=todo_prompt)\n",
    "search = SerpAPIWrapper()\n",
    "tools = [\n",
    "    Tool(\n",
    "        name=\"Search\",\n",
    "        func=search.run,\n",
    "        description=\"useful for when you need to answer questions about current events\",\n",
    "    ),\n",
    "    Tool(\n",
    "        name=\"TODO\",\n",
    "        func=todo_chain.run,\n",
    "        description=\"useful for when you need to come up with todo lists. Input: an objective to create a todo list for. Output: a todo list for that objective. Please be very clear what the objective is!\",\n",
    "    ),\n",
    "]\n",
    "\n",
    "\n",
    "prefix = \"\"\"You are an AI who performs one task based on the following objective: {objective}. Take into account these previously completed tasks: {context}.\"\"\"\n",
    "suffix = \"\"\"Question: {task}\n",
    "{agent_scratchpad}\"\"\"\n",
    "prompt = ZeroShotAgent.create_prompt(\n",
    "    tools,\n",
    "    prefix=prefix,\n",
    "    suffix=suffix,\n",
    "    input_variables=[\"objective\", \"task\", \"context\", \"agent_scratchpad\"],\n",
    ")"
   ]
  },
  {
   "cell_type": "code",
   "execution_count": 6,
   "id": "4b00ae2e",
   "metadata": {
    "tags": []
   },
   "outputs": [
    {
     "name": "stderr",
     "output_type": "stream",
     "text": [
      "/var/folders/d7/f99mzmr12dqbty5ptd50z0dc0000gn/T/ipykernel_69591/3064747660.py:4: LangChainDeprecationWarning: LangChain agents will continue to be supported, but it is recommended for new use cases to be built with LangGraph. LangGraph offers a more flexible and full-featured framework for building agents, including support for tool-calling, persistence of state, and human-in-the-loop workflows. For details, refer to the `LangGraph documentation <https://langchain-ai.github.io/langgraph/>`_ as well as guides for `Migrating from AgentExecutor <https://python.langchain.com/docs/how_to/migrate_agent/>`_ and LangGraph's `Pre-built ReAct agent <https://langchain-ai.github.io/langgraph/how-tos/create-react-agent/>`_.\n",
      "  agent = ZeroShotAgent(llm_chain=llm_chain, allowed_tools=tool_names)\n"
     ]
    }
   ],
   "source": [
    "llm = OpenAI(temperature=0)\n",
    "llm_chain = LLMChain(llm=llm, prompt=prompt)\n",
    "tool_names = [tool.name for tool in tools]\n",
    "agent = ZeroShotAgent(llm_chain=llm_chain, allowed_tools=tool_names)\n",
    "agent_executor = AgentExecutor.from_agent_and_tools(\n",
    "    agent=agent, tools=tools, verbose=True\n",
    ")"
   ]
  },
  {
   "cell_type": "markdown",
   "id": "05ba762e",
   "metadata": {},
   "source": [
    "### Run the BabyAGI\n",
    "\n",
    "Now it's time to create the BabyAGI controller and watch it try to accomplish your objective."
   ]
  },
  {
   "cell_type": "code",
   "execution_count": 7,
   "id": "3d220b69",
   "metadata": {
    "tags": []
   },
   "outputs": [],
   "source": [
    "OBJECTIVE = \"Write a weather report for SF today\""
   ]
  },
  {
   "cell_type": "code",
   "execution_count": 8,
   "id": "3d69899b",
   "metadata": {
    "tags": []
   },
   "outputs": [],
   "source": [
    "# Logging of LLMChains\n",
    "verbose = False\n",
    "# If None, will keep on going forever\n",
    "max_iterations: Optional[int] = 3\n",
    "baby_agi = BabyAGI.from_llm(\n",
    "    llm=llm,\n",
    "    vectorstore=vectorstore,\n",
    "    task_execution_chain=agent_executor,\n",
    "    verbose=verbose,\n",
    "    max_iterations=max_iterations,\n",
    ")"
   ]
  },
  {
   "cell_type": "code",
   "execution_count": 9,
   "id": "f7957b51",
   "metadata": {
    "tags": []
   },
   "outputs": [
    {
     "name": "stderr",
     "output_type": "stream",
     "text": [
      "/var/folders/d7/f99mzmr12dqbty5ptd50z0dc0000gn/T/ipykernel_69591/3867971396.py:1: LangChainDeprecationWarning: The method `Chain.__call__` was deprecated in langchain 0.1.0 and will be removed in 1.0. Use :meth:`~invoke` instead.\n",
      "  baby_agi({\"objective\": OBJECTIVE})\n"
     ]
    },
    {
     "name": "stdout",
     "output_type": "stream",
     "text": [
      "\u001b[95m\u001b[1m\n",
      "*****TASK LIST*****\n",
      "\u001b[0m\u001b[0m\n",
      "1: Make a todo list\n",
      "\u001b[92m\u001b[1m\n",
      "*****NEXT TASK*****\n",
      "\u001b[0m\u001b[0m\n",
      "1: Make a todo list\n",
      "\n",
      "\n",
      "\u001b[1m> Entering new AgentExecutor chain...\u001b[0m\n",
      "\u001b[32;1m\u001b[1;3mThought: I should use the TODO action to create a todo list\n",
      "Action: TODO\n",
      "Action Input: \"Create a todo list for writing a weather report for SF today\"\u001b[0m\n",
      "Observation: \u001b[33;1m\u001b[1;3m\n",
      "\n",
      "1. Gather all necessary information: Start by collecting all the necessary information for writing a weather report for San Francisco today. This includes current temperature, humidity, wind speed, and any other relevant data.\n",
      "\n",
      "2. Check weather forecast: Before writing the report, check the weather forecast for San Francisco today to get an idea of what to expect. This will help you accurately report on the current weather conditions.\n",
      "\n",
      "3. Determine target audience: Consider who will be reading the weather report and tailor your writing style and language accordingly. A report for a local news station may be different from one for a scientific journal.\n",
      "\n",
      "4. Create an outline: Organize your thoughts and information by creating an outline for the weather report. This will help you stay focused and ensure that all important points are covered.\n",
      "\n",
      "5. Start with an attention-grabbing headline: The headline is the first thing readers will see, so make it catchy and informative. It should give a brief overview of the weather conditions in San Francisco today.\n",
      "\n",
      "6. Write an introduction: In the introduction, provide a brief overview of the current weather conditions in San Francisco and why it is important for readers to know.\n",
      "\n",
      "7. Include relevant data: Use the information gathered in step 1 to provide accurate and up-to-date data in your\u001b[0m\n",
      "Thought:\u001b[32;1m\u001b[1;3m I have created a comprehensive todo list for writing a weather report for SF today\n",
      "Final Answer: Use the TODO action with the input \"Create a todo list for writing a weather report for SF today\" to get a detailed list of steps to follow for writing a weather report for San Francisco today.\u001b[0m\n",
      "\n",
      "\u001b[1m> Finished chain.\u001b[0m\n",
      "\u001b[93m\u001b[1m\n",
      "*****TASK RESULT*****\n",
      "\u001b[0m\u001b[0m\n",
      "Use the TODO action with the input \"Create a todo list for writing a weather report for SF today\" to get a detailed list of steps to follow for writing a weather report for San Francisco today.\n",
      "\u001b[95m\u001b[1m\n",
      "*****TASK LIST*****\n",
      "\u001b[0m\u001b[0m\n",
      "1: Use the TODO action with the input \"Gather weather data for San Francisco\" to collect all necessary information for the weather report.\n",
      "2: Use the TODO action with the input \"Create an outline for the weather report\" to organize the gathered data into a structured format.\n",
      "3: Use the TODO action with the input \"Write the introduction for the weather report\" to provide an overview of the current weather conditions in San Francisco.\n",
      "4: Use the TODO action with the input \"Write the body of the weather report\" to describe in detail the weather patterns and forecast for San Francisco.\n",
      "5: Use the TODO action with the input \"Include relevant images and graphics in the weather report\" to enhance the visual representation of the weather report.\n",
      "6: Use the TODO action with the input \"Proofread and edit the weather report\" to ensure accuracy and clarity in the final report.\n",
      "7: Use the TODO action with the input \"Publish the weather report on designated platform\" to make the report accessible to the intended audience.\n",
      "8: Use the TODO action with the input \"Send out notifications for the weather report\" to inform relevant parties about the updated weather conditions in San Francisco.\n",
      "9: Use the TODO action with the input \"Archive the weather report for future reference\" to keep\n",
      "\u001b[92m\u001b[1m\n",
      "*****NEXT TASK*****\n",
      "\u001b[0m\u001b[0m\n",
      "1: Use the TODO action with the input \"Gather weather data for San Francisco\" to collect all necessary information for the weather report.\n",
      "\n",
      "\n",
      "\u001b[1m> Entering new AgentExecutor chain...\u001b[0m\n",
      "\u001b[32;1m\u001b[1;3mThought: I need to gather all the necessary information for the weather report.\n",
      "Action: TODO\n",
      "Action Input: \"Gather weather data for San Francisco\"\u001b[0m\n",
      "Observation: \u001b[33;1m\u001b[1;3m\n",
      "\n",
      "1. Research reliable sources for weather data in San Francisco, such as the National Weather Service or local news stations.\n",
      "\n",
      "2. Determine the specific data points needed, such as temperature, precipitation, wind speed, etc.\n",
      "\n",
      "3. Create a spreadsheet or document to organize and track the data.\n",
      "\n",
      "4. Set a schedule for collecting the data, whether it be daily, weekly, or monthly.\n",
      "\n",
      "5. Identify any potential obstacles or challenges in gathering the data, such as inclement weather or technical difficulties.\n",
      "\n",
      "6. Determine the best method for collecting the data, whether it be through online sources, weather stations, or personal observations.\n",
      "\n",
      "7. Consider using a variety of sources to ensure accuracy and reliability of the data.\n",
      "\n",
      "8. Set up a system for recording and storing the data, such as using a weather app or creating a database.\n",
      "\n",
      "9. Monitor and track the data over a period of time to identify any patterns or trends.\n",
      "\n",
      "10. Analyze the data and create visual representations, such as graphs or charts, to better understand the weather patterns in San Francisco.\n",
      "\n",
      "11. Continuously update and review the data to ensure it remains current and relevant.\n",
      "\n",
      "12. Consider sharing the data with others, such as local businesses or organizations, to provide valuable insights and information.\n",
      "\n",
      "13. Make adjustments\u001b[0m\n",
      "Thought:\u001b[32;1m\u001b[1;3m I now have all the necessary information for the weather report.\n",
      "Final Answer: The weather report for San Francisco today is [insert data points here].\u001b[0m\n",
      "\n",
      "\u001b[1m> Finished chain.\u001b[0m\n",
      "\u001b[93m\u001b[1m\n",
      "*****TASK RESULT*****\n",
      "\u001b[0m\u001b[0m\n",
      "The weather report for San Francisco today is [insert data points here].\n",
      "\u001b[95m\u001b[1m\n",
      "*****TASK LIST*****\n",
      "\u001b[0m\u001b[0m\n",
      "1: Use the TODO action with the input \"Create an outline for the weather report\" to organize the gathered data into a structured format.\n",
      "2: Use the TODO action with the input \"Write the introduction for the weather report\" to provide an overview of the current weather conditions in San Francisco.\n",
      "3: Use the TODO action with the input \"Write the body of the weather report\" to describe in detail the weather patterns and forecast for San Francisco.\n",
      "4: Use the TODO action with the input \"Include relevant images and graphics in the weather report\" to enhance the visual representation of the weather report.\n",
      "5: Use the TODO action with the input \"Proofread and edit the weather report\" to ensure accuracy and clarity in the final report.\n",
      "6: Use the TODO action with the input \"Publish the weather report on designated platform\" to make the report accessible to the intended audience.\n",
      "7: Use the TODO action with the input \"Send out notifications for the weather report\" to inform relevant parties about the updated weather conditions in San Francisco.\n",
      "8: Use the TODO action with the input \"Archive the weather report for future reference\" to keep the report for future reference.\n",
      "9: Use the TODO action with the input \"Create a conclusion for the weather report\" to summarize the overall\n",
      "\u001b[92m\u001b[1m\n",
      "*****NEXT TASK*****\n",
      "\u001b[0m\u001b[0m\n",
      "1: Use the TODO action with the input \"Create an outline for the weather report\" to organize the gathered data into a structured format.\n",
      "\n",
      "\n",
      "\u001b[1m> Entering new AgentExecutor chain...\u001b[0m\n",
      "\u001b[32;1m\u001b[1;3mThought: I need to organize the gathered data into a structured format in order to create an outline for the weather report.\n",
      "Action: TODO\n",
      "Action Input: \"Create an outline for the weather report\"\u001b[0m\n",
      "Observation: \u001b[33;1m\u001b[1;3m\n",
      "\n",
      "1. Determine the purpose of the weather report: Before creating an outline, it is important to understand the purpose of the weather report. Is it for a news broadcast, a school project, or a personal blog? This will help guide the content and structure of the outline.\n",
      "\n",
      "2. Research the weather: Gather information about the current weather conditions, including temperature, precipitation, wind speed, and any other relevant data. This can be done through online sources, weather apps, or by consulting a meteorologist.\n",
      "\n",
      "3. Identify the target audience: Consider who will be reading or listening to the weather report. Is it for a general audience, or for a specific group such as farmers or travelers? This will help determine the level of detail and language used in the report.\n",
      "\n",
      "4. Determine the format of the report: Will the weather report be in written form, or presented verbally? This will impact the organization and structure of the outline.\n",
      "\n",
      "5. Create a clear and concise introduction: The introduction should provide a brief overview of the current weather conditions and any significant events or changes that may be occurring.\n",
      "\n",
      "6. Organize the report by location: If the weather report covers multiple locations, it may be helpful to organize the information by region or city. This will make it easier for the\u001b[0m\n",
      "Thought:\u001b[32;1m\u001b[1;3m Now that I have gathered all the necessary information and considered the purpose, audience, and format of the report, I can create an outline for the weather report.\n",
      "Action: TODO\n",
      "Action Input: \"Create an outline for the weather report\"\u001b[0m\n",
      "Observation: \u001b[33;1m\u001b[1;3m\n",
      "\n",
      "1. Determine the purpose of the weather report: Before creating an outline, it is important to understand the purpose of the weather report. Is it for a news broadcast, a school project, or a personal blog? This will help guide the content and structure of the outline.\n",
      "\n",
      "2. Research the weather: Gather information about the current weather conditions, including temperature, precipitation, wind speed, and any other relevant data. This can be done through online sources, weather apps, or by consulting a meteorologist.\n",
      "\n",
      "3. Identify the target audience: Consider who will be reading or listening to the weather report. Is it for a general audience, or for a specific group such as farmers or travelers? This will help determine the level of detail and language used in the report.\n",
      "\n",
      "4. Determine the format of the report: Will the weather report be in written form, or presented verbally? This will impact the organization and structure of the outline.\n",
      "\n",
      "5. Create a clear and concise introduction: The introduction should provide a brief overview of the current weather conditions and any significant events or changes that may have occurred.\n",
      "\n",
      "6. Divide the report into sections: Organize the report into sections based on the different aspects of the weather, such as temperature, precipitation, and wind. This will help make the\u001b[0m\n",
      "Thought:\u001b[32;1m\u001b[1;3m Now that I have organized the gathered data into a structured format and created an outline for the weather report, I can begin writing the report.\n",
      "Final Answer: The final answer is a todo list for creating an outline for the weather report, which includes determining the purpose, researching the weather, identifying the target audience, determining the format, creating an introduction, and dividing the report into sections.\u001b[0m\n",
      "\n",
      "\u001b[1m> Finished chain.\u001b[0m\n",
      "\u001b[93m\u001b[1m\n",
      "*****TASK RESULT*****\n",
      "\u001b[0m\u001b[0m\n",
      "The final answer is a todo list for creating an outline for the weather report, which includes determining the purpose, researching the weather, identifying the target audience, determining the format, creating an introduction, and dividing the report into sections.\n",
      "\u001b[91m\u001b[1m\n",
      "*****TASK ENDING*****\n",
      "\u001b[0m\u001b[0m\n"
     ]
    },
    {
     "data": {
      "text/plain": [
       "{'objective': 'Write a weather report for SF today'}"
      ]
     },
     "execution_count": 9,
     "metadata": {},
     "output_type": "execute_result"
    }
   ],
   "source": [
    "baby_agi({\"objective\": OBJECTIVE})"
   ]
  },
  {
   "cell_type": "code",
   "execution_count": null,
   "id": "898a210b",
   "metadata": {},
   "outputs": [],
   "source": []
  }
 ],
 "metadata": {
  "kernelspec": {
   "display_name": "base",
   "language": "python",
   "name": "python3"
  },
  "language_info": {
   "codemirror_mode": {
    "name": "ipython",
    "version": 3
   },
   "file_extension": ".py",
   "mimetype": "text/x-python",
   "name": "python",
   "nbconvert_exporter": "python",
   "pygments_lexer": "ipython3",
   "version": "3.12.4"
  }
 },
 "nbformat": 4,
 "nbformat_minor": 5
}
