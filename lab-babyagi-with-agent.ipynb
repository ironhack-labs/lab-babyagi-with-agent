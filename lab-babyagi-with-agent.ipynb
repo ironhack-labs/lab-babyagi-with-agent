{
 "cells": [
  {
   "cell_type": "markdown",
   "id": "1cdba6f7-142d-4dd2-96f6-a13bb5d978ce",
   "metadata": {},
   "source": [
    "# Lab | BabyAGI with agent\n",
    "\n",
    "**Change the planner objective below by changing the objective and the associated prompts and potential tools and agents - Wear your creativity and AI engineering hats\n",
    "You can't get this wrong!**\n",
    "\n",
    "You would need the OpenAI API KEY and the [SerpAPI KEY](https://serpapi.com/manage-api-keyhttps://serpapi.com/manage-api-key) to run this lab.\n"
   ]
  },
  {
   "cell_type": "markdown",
   "id": "517a9fd4",
   "metadata": {},
   "source": [
    "## BabyAGI with Tools\n",
    "\n",
    "This notebook builds on top of [baby agi](baby_agi.html), but shows how you can swap out the execution chain. The previous execution chain was just an LLM which made stuff up. By swapping it out with an agent that has access to tools, we can hopefully get real reliable information"
   ]
  },
  {
   "cell_type": "markdown",
   "id": "556af556",
   "metadata": {},
   "source": [
    "## Install and Import Required Modules"
   ]
  },
  {
   "cell_type": "code",
   "execution_count": 2,
   "id": "c8a354b6",
   "metadata": {
    "tags": []
   },
   "outputs": [],
   "source": [
    "from typing import Optional\n",
    "\n",
    "from langchain.chains import LLMChain\n",
    "from langchain.prompts import PromptTemplate\n",
    "from langchain_experimental.autonomous_agents import BabyAGI\n",
    "from langchain_openai import OpenAI, OpenAIEmbeddings"
   ]
  },
  {
   "cell_type": "markdown",
   "id": "09f70772",
   "metadata": {},
   "source": [
    "## Connect to the Vector Store\n",
    "\n",
    "Depending on what vectorstore you use, this step may look different."
   ]
  },
  {
   "cell_type": "code",
   "execution_count": 4,
   "id": "794045d4",
   "metadata": {
    "tags": []
   },
   "outputs": [
    {
     "name": "stdout",
     "output_type": "stream",
     "text": [
      "Collecting google-search-results\n",
      "  Downloading google_search_results-2.4.2.tar.gz (18 kB)\n",
      "  Preparing metadata (setup.py): started\n",
      "  Preparing metadata (setup.py): finished with status 'done'\n",
      "Requirement already satisfied: requests in c:\\users\\kk\\anaconda3\\lib\\site-packages (from google-search-results) (2.32.2)\n",
      "Requirement already satisfied: charset-normalizer<4,>=2 in c:\\users\\kk\\anaconda3\\lib\\site-packages (from requests->google-search-results) (2.0.4)\n",
      "Requirement already satisfied: idna<4,>=2.5 in c:\\users\\kk\\anaconda3\\lib\\site-packages (from requests->google-search-results) (3.7)\n",
      "Requirement already satisfied: urllib3<3,>=1.21.1 in c:\\users\\kk\\anaconda3\\lib\\site-packages (from requests->google-search-results) (2.2.2)\n",
      "Requirement already satisfied: certifi>=2017.4.17 in c:\\users\\kk\\anaconda3\\lib\\site-packages (from requests->google-search-results) (2024.8.30)\n",
      "Building wheels for collected packages: google-search-results\n",
      "  Building wheel for google-search-results (setup.py): started\n",
      "  Building wheel for google-search-results (setup.py): finished with status 'done'\n",
      "  Created wheel for google-search-results: filename=google_search_results-2.4.2-py3-none-any.whl size=32084 sha256=24c40e830895e3c29dc48874e80f6ea15c3b8d5bb8c9bfb122146b7b1587f993\n",
      "  Stored in directory: c:\\users\\kk\\appdata\\local\\pip\\cache\\wheels\\0c\\47\\f5\\89b7e770ab2996baf8c910e7353d6391e373075a0ac213519e\n",
      "Successfully built google-search-results\n",
      "Installing collected packages: google-search-results\n",
      "Successfully installed google-search-results-2.4.2\n"
     ]
    }
   ],
   "source": [
    "# %pip install faiss-cpu > /dev/null\n",
    "#!pip install google-search-results \n",
    "from langchain.docstore import InMemoryDocstore\n",
    "from langchain_community.vectorstores import FAISS"
   ]
  },
  {
   "cell_type": "code",
   "execution_count": 9,
   "id": "c4164841-915d-4c60-8a47-3a502a5cf71d",
   "metadata": {
    "tags": []
   },
   "outputs": [],
   "source": [
    "import os\n",
    "from dotenv import load_dotenv, find_dotenv\n",
    "_ = load_dotenv(find_dotenv())\n",
    "\n",
    "OPENAI_API_KEY  = os.getenv('OPENAI_API_KEY')\n",
    "SERPAPI_API_KEY = os.getenv('SERPAPI_API_KEY')"
   ]
  },
  {
   "cell_type": "code",
   "execution_count": 11,
   "id": "6e0305eb",
   "metadata": {
    "tags": []
   },
   "outputs": [
    {
     "name": "stderr",
     "output_type": "stream",
     "text": [
      "`embedding_function` is expected to be an Embeddings object, support for passing in a function will soon be removed.\n"
     ]
    }
   ],
   "source": [
    "# Define your embedding model\n",
    "embeddings_model = OpenAIEmbeddings()\n",
    "# Initialize the vectorstore as empty\n",
    "import faiss\n",
    "\n",
    "embedding_size = 1536\n",
    "index = faiss.IndexFlatL2(embedding_size)\n",
    "vectorstore = FAISS(embeddings_model.embed_query, index, InMemoryDocstore({}), {})"
   ]
  },
  {
   "cell_type": "markdown",
   "id": "0f3b72bf",
   "metadata": {},
   "source": [
    "## Define the Chains\n",
    "\n",
    "BabyAGI relies on three LLM chains:\n",
    "- Task creation chain to select new tasks to add to the list\n",
    "- Task prioritization chain to re-prioritize tasks\n",
    "- Execution Chain to execute the tasks\n",
    "\n",
    "\n",
    "NOTE: in this notebook, the Execution chain will now be an agent."
   ]
  },
  {
   "cell_type": "code",
   "execution_count": 12,
   "id": "b43cd580",
   "metadata": {
    "tags": []
   },
   "outputs": [
    {
     "name": "stderr",
     "output_type": "stream",
     "text": [
      "C:\\Users\\KK\\AppData\\Local\\Temp\\ipykernel_27524\\842275654.py:9: LangChainDeprecationWarning: The class `LLMChain` was deprecated in LangChain 0.1.17 and will be removed in 1.0. Use :meth:`~RunnableSequence, e.g., `prompt | llm`` instead.\n",
      "  todo_chain = LLMChain(llm=OpenAI(temperature=0), prompt=todo_prompt)\n"
     ]
    }
   ],
   "source": [
    "from langchain.agents import AgentExecutor, Tool, ZeroShotAgent\n",
    "from langchain.chains import LLMChain\n",
    "from langchain_community.utilities import SerpAPIWrapper\n",
    "from langchain_openai import OpenAI\n",
    "\n",
    "todo_prompt = PromptTemplate.from_template(\n",
    "    \"You are a planner who is an expert at coming up with a todo list for a given objective. Come up with a todo list for this objective: {objective}\"\n",
    ")\n",
    "todo_chain = LLMChain(llm=OpenAI(temperature=0), prompt=todo_prompt)\n",
    "search = SerpAPIWrapper()\n",
    "tools = [\n",
    "    Tool(\n",
    "        name=\"Search\",\n",
    "        func=search.run,\n",
    "        description=\"useful for when you need to answer questions about current events\",\n",
    "    ),\n",
    "    Tool(\n",
    "        name=\"TODO\",\n",
    "        func=todo_chain.run,\n",
    "        description=\"useful for when you need to come up with todo lists. Input: an objective to create a todo list for. Output: a todo list for that objective. Please be very clear what the objective is!\",\n",
    "    ),\n",
    "]\n",
    "\n",
    "\n",
    "prefix = \"\"\"You are an AI who performs one task based on the following objective: {objective}. Take into account these previously completed tasks: {context}.\"\"\"\n",
    "suffix = \"\"\"Question: {task}\n",
    "{agent_scratchpad}\"\"\"\n",
    "prompt = ZeroShotAgent.create_prompt(\n",
    "    tools,\n",
    "    prefix=prefix,\n",
    "    suffix=suffix,\n",
    "    input_variables=[\"objective\", \"task\", \"context\", \"agent_scratchpad\"],\n",
    ")"
   ]
  },
  {
   "cell_type": "code",
   "execution_count": 13,
   "id": "4b00ae2e",
   "metadata": {
    "tags": []
   },
   "outputs": [
    {
     "name": "stderr",
     "output_type": "stream",
     "text": [
      "C:\\Users\\KK\\AppData\\Local\\Temp\\ipykernel_27524\\3064747660.py:4: LangChainDeprecationWarning: The class `ZeroShotAgent` was deprecated in LangChain 0.1.0 and will be removed in 1.0. Use :meth:`~create_react_agent` instead.\n",
      "  agent = ZeroShotAgent(llm_chain=llm_chain, allowed_tools=tool_names)\n"
     ]
    }
   ],
   "source": [
    "llm = OpenAI(temperature=0)\n",
    "llm_chain = LLMChain(llm=llm, prompt=prompt)\n",
    "tool_names = [tool.name for tool in tools]\n",
    "agent = ZeroShotAgent(llm_chain=llm_chain, allowed_tools=tool_names)\n",
    "agent_executor = AgentExecutor.from_agent_and_tools(\n",
    "    agent=agent, tools=tools, verbose=True\n",
    ")"
   ]
  },
  {
   "cell_type": "markdown",
   "id": "05ba762e",
   "metadata": {},
   "source": [
    "### Run the BabyAGI\n",
    "\n",
    "Now it's time to create the BabyAGI controller and watch it try to accomplish your objective."
   ]
  },
  {
   "cell_type": "code",
   "execution_count": 14,
   "id": "3d220b69",
   "metadata": {
    "tags": []
   },
   "outputs": [],
   "source": [
    "OBJECTIVE = \"Write a weather report for SF today\""
   ]
  },
  {
   "cell_type": "code",
   "execution_count": 15,
   "id": "3d69899b",
   "metadata": {
    "tags": []
   },
   "outputs": [],
   "source": [
    "# Logging of LLMChains\n",
    "verbose = False\n",
    "# If None, will keep on going forever\n",
    "max_iterations: Optional[int] = 3\n",
    "baby_agi = BabyAGI.from_llm(\n",
    "    llm=llm,\n",
    "    vectorstore=vectorstore,\n",
    "    task_execution_chain=agent_executor,\n",
    "    verbose=verbose,\n",
    "    max_iterations=max_iterations,\n",
    ")"
   ]
  },
  {
   "cell_type": "code",
   "execution_count": 16,
   "id": "f7957b51",
   "metadata": {
    "tags": []
   },
   "outputs": [
    {
     "name": "stderr",
     "output_type": "stream",
     "text": [
      "C:\\Users\\KK\\AppData\\Local\\Temp\\ipykernel_27524\\3867971396.py:1: LangChainDeprecationWarning: The method `Chain.__call__` was deprecated in langchain 0.1.0 and will be removed in 1.0. Use :meth:`~invoke` instead.\n",
      "  baby_agi({\"objective\": OBJECTIVE})\n"
     ]
    },
    {
     "name": "stdout",
     "output_type": "stream",
     "text": [
      "\u001b[95m\u001b[1m\n",
      "*****TASK LIST*****\n",
      "\u001b[0m\u001b[0m\n",
      "1: Make a todo list\n",
      "\u001b[92m\u001b[1m\n",
      "*****NEXT TASK*****\n",
      "\u001b[0m\u001b[0m\n",
      "1: Make a todo list\n",
      "\n",
      "\n",
      "\u001b[1m> Entering new AgentExecutor chain...\u001b[0m\n",
      "\u001b[32;1m\u001b[1;3mThought: I should use the TODO action to create a todo list\n",
      "Action: TODO\n",
      "Action Input: \"Create a todo list for writing a weather report for SF today\"\u001b[0m\n",
      "Observation: \u001b[33;1m\u001b[1;3m\n",
      "\n",
      "1. Gather all necessary information: Start by collecting all the necessary information for writing a weather report for San Francisco today. This includes current temperature, humidity, wind speed, and any other relevant data.\n",
      "\n",
      "2. Check weather forecast: Before writing the report, check the weather forecast for San Francisco today to get an idea of what to expect. This will help you accurately report on the current weather conditions.\n",
      "\n",
      "3. Determine target audience: Consider who will be reading the weather report and tailor your writing style and language accordingly. A report for a local news station may be different from one for a scientific journal.\n",
      "\n",
      "4. Create an outline: Organize your thoughts and information by creating an outline for the weather report. This will help you stay focused and ensure that all important points are covered.\n",
      "\n",
      "5. Start with an attention-grabbing headline: The headline is the first thing readers will see, so make it catchy and informative. It should give a brief overview of the weather conditions in San Francisco today.\n",
      "\n",
      "6. Write an introduction: In the introduction, provide a brief overview of the current weather conditions in San Francisco and why it is important for readers to know.\n",
      "\n",
      "7. Include relevant data: Use the information gathered in step 1 to provide accurate and up-to-date data in your\u001b[0m\n",
      "Thought:\u001b[32;1m\u001b[1;3m I have created a detailed todo list for writing a weather report for San Francisco today\n",
      "Final Answer: Use the todo list to write a comprehensive and informative weather report for San Francisco today.\u001b[0m\n",
      "\n",
      "\u001b[1m> Finished chain.\u001b[0m\n",
      "\u001b[93m\u001b[1m\n",
      "*****TASK RESULT*****\n",
      "\u001b[0m\u001b[0m\n",
      "Use the todo list to write a comprehensive and informative weather report for San Francisco today.\n",
      "\u001b[95m\u001b[1m\n",
      "*****TASK LIST*****\n",
      "\u001b[0m\u001b[0m\n",
      "1: Gather data on temperature, humidity, and wind speed\n",
      "2: Research current weather conditions in San Francisco\n",
      "3: Check for any weather alerts or warnings in the area\n",
      "4: Create a detailed outline for the weather report\n",
      "5: Write an introduction for the weather report\n",
      "6: Include a section on the current temperature in San Francisco\n",
      "7: Describe the humidity levels in the city\n",
      "8: Discuss the wind speed and direction in San Francisco\n",
      "9: Include a section on any potential weather hazards or risks\n",
      "10: Write a conclusion summarizing the weather conditions in San Francisco today.\n",
      "\u001b[92m\u001b[1m\n",
      "*****NEXT TASK*****\n",
      "\u001b[0m\u001b[0m\n",
      "1: Gather data on temperature, humidity, and wind speed\n",
      "\n",
      "\n",
      "\u001b[1m> Entering new AgentExecutor chain...\u001b[0m\n",
      "\u001b[32;1m\u001b[1;3mThought: I should search for a reliable source of weather data\n",
      "Action: Search\n",
      "Action Input: \"weather data for San Francisco\"\u001b[0m\n",
      "Observation: \u001b[36;1m\u001b[1;3m['37.78 °N, 122.42 °W. San Francisco, CA Weather Historystar_ratehome. icon 56 °F San Francisco Intl Airport Station|Report. Report Station.', 'DAILY DATA FOR A MONTH - daily maximum, minimum and average temperature (degrees F), average temperature departure from normal (degrees F), heating and ...', 'San Francisco Weather History for the Previous 24 Hours ; 51 °F · Passing clouds. 16 mph ...', \"Partly cloudy. Low 48F. Winds light and variable. undefined. Heads-up. Temperature Whiplash Ahead, Here's Where. Humidity92%. UV Index0 of 11.\", 'Historical Monthly Averages in San Francisco ; 67°. High ; 55°. Low ; 67. 54. Feels ; 4. Days of Precip ; 1in. Rain.', 'Temperature (°F), Max, Average, Min. Max Temperature, 98, 77.05, 64. Avg Temperature, 77.79, 65.63, 58.38. Min Temperature, 68, 58.3, 52 ...', \"View Station Data is a web based interface which allows easy access to NCDC's station databases. Data coverage is stored based on observations over a specific ...\", 'NWS Forecast Office San Francisco, CA · Observations · Precipitation · Satellite · Hydro Maps Data · Buoy Reports · Radar · Fire Weather Snooper.', 'Over the course of the year, the temperature typically varies from 45°F to 72°F and is rarely below 39°F or above 83°F. Climate in San Francisco. Link. Download.', 'The weather history data on this page is sourced from Visual Crossing Weather Data. The data includes select hourly and daily weather and climate data elements.']\u001b[0m\n",
      "Thought:\u001b[32;1m\u001b[1;3m I should use the data to create a todo list for writing a weather report\n",
      "Action: TODO\n",
      "Action Input: \"Write a weather report for SF today\"\u001b[0m\n",
      "Observation: \u001b[33;1m\u001b[1;3m\n",
      "\n",
      "1. Check the current weather conditions in San Francisco.\n",
      "2. Gather information on the temperature, humidity, wind speed, and precipitation.\n",
      "3. Research any potential weather patterns or systems that may affect the current conditions.\n",
      "4. Look at historical data and trends for this time of year in San Francisco.\n",
      "5. Consult with local meteorologists or weather experts for their insights and predictions.\n",
      "6. Create a rough outline or structure for the weather report, including sections for current conditions, forecast, and any notable weather events.\n",
      "7. Begin writing the report, starting with a brief overview of the current conditions.\n",
      "8. Use descriptive language and visuals (such as maps or charts) to enhance the report.\n",
      "9. Include any important safety or advisory information for the current weather conditions.\n",
      "10. Double check all information and sources for accuracy.\n",
      "11. Proofread and edit the report for clarity and conciseness.\n",
      "12. Publish the weather report on the designated platform or medium.\n",
      "13. Share the report on social media or other relevant channels to reach a wider audience.\n",
      "14. Monitor and update the report as needed throughout the day.\n",
      "15. Reflect on the process and make note of any improvements or changes for future weather reports.\u001b[0m\n",
      "Thought:\u001b[32;1m\u001b[1;3m I now know the final answer\n",
      "Final Answer: To write a weather report for SF today, I will need to gather data on temperature, humidity, and wind speed by searching for a reliable source of weather data. Then, I will use that data to create a todo list for writing the report, which includes steps such as checking current conditions, researching weather patterns, and consulting with experts. Once the report is written and published, I will continue to monitor and update it as needed throughout the day.\u001b[0m\n",
      "\n",
      "\u001b[1m> Finished chain.\u001b[0m\n",
      "\u001b[93m\u001b[1m\n",
      "*****TASK RESULT*****\n",
      "\u001b[0m\u001b[0m\n",
      "To write a weather report for SF today, I will need to gather data on temperature, humidity, and wind speed by searching for a reliable source of weather data. Then, I will use that data to create a todo list for writing the report, which includes steps such as checking current conditions, researching weather patterns, and consulting with experts. Once the report is written and published, I will continue to monitor and update it as needed throughout the day.\n",
      "\u001b[95m\u001b[1m\n",
      "*****TASK LIST*****\n",
      "\u001b[0m\u001b[0m\n",
      "1: Check current weather conditions in San Francisco.\n",
      "2: Gather data on temperature, humidity, and wind speed from a reliable source of weather data.\n",
      "3: Research weather patterns in the area.\n",
      "4: Consult with experts on the current weather conditions in San Francisco.\n",
      "5: Monitor and update the weather report throughout the day.\n",
      "6: Create a todo list for writing the weather report.\n",
      "7: Check for any weather alerts or warnings in the area.\n",
      "8: Create a detailed outline for the weather report.\n",
      "9: Write an introduction for the weather report.\n",
      "10: Include a section on the current temperature in San Francisco.\n",
      "11: Describe the humidity levels in the city.\n",
      "12: Discuss the wind speed and direction in San Francisco.\n",
      "13: Include a section on any potential weather hazards or risks.\n",
      "14: Write a conclusion summarizing the weather conditions in San Francisco today.\n",
      "\u001b[92m\u001b[1m\n",
      "*****NEXT TASK*****\n",
      "\u001b[0m\u001b[0m\n",
      "1: Check current weather conditions in San Francisco.\n",
      "\n",
      "\n",
      "\u001b[1m> Entering new AgentExecutor chain...\u001b[0m\n",
      "\u001b[32;1m\u001b[1;3mThought: I should gather data on temperature, humidity, and wind speed.\n",
      "Action: Search\n",
      "Action Input: \"weather conditions in San Francisco\"\u001b[0m\n",
      "Observation: \u001b[36;1m\u001b[1;3m{'type': 'weather_result', 'temperature': '55', 'unit': 'Fahrenheit', 'precipitation': '0%', 'humidity': '86%', 'wind': '2 mph', 'location': 'San Francisco, CA', 'date': 'Wednesday 6:00 AM', 'weather': 'Partly cloudy'}\u001b[0m\n",
      "Thought:\u001b[32;1m\u001b[1;3m I should use the gathered data to create a weather report.\n",
      "Action: TODO\n",
      "Action Input: \"Write a weather report for SF today\"\u001b[0m\n",
      "Observation: \u001b[33;1m\u001b[1;3m\n",
      "\n",
      "1. Check the current weather conditions in San Francisco.\n",
      "2. Gather information on the temperature, humidity, wind speed, and precipitation.\n",
      "3. Research any potential weather patterns or systems that may affect the current conditions.\n",
      "4. Look at historical data and trends for this time of year in San Francisco.\n",
      "5. Consult with local meteorologists or weather experts for their insights and predictions.\n",
      "6. Create a rough outline or structure for the weather report.\n",
      "7. Begin writing the report, starting with a brief overview of the current conditions.\n",
      "8. Include details on the temperature, humidity, wind speed, and precipitation.\n",
      "9. Use descriptive language to paint a picture of the weather for readers.\n",
      "10. Include any potential impacts or hazards associated with the current weather conditions.\n",
      "11. Proofread and edit the report for accuracy and clarity.\n",
      "12. Add any relevant images or graphics to enhance the report.\n",
      "13. Double-check all sources and data used in the report.\n",
      "14. Finalize and publish the weather report.\n",
      "15. Share the report on appropriate platforms or channels, such as a news website or social media.\u001b[0m\n",
      "Thought:\u001b[32;1m\u001b[1;3m I now know the final answer.\n",
      "Final Answer: The weather report for San Francisco today is partly cloudy with a temperature of 55 degrees Fahrenheit, 86% humidity, and 2 mph winds. There is no precipitation expected. Keep an eye out for potential weather patterns or systems that may affect the current conditions. Stay safe and enjoy the day!\u001b[0m\n",
      "\n",
      "\u001b[1m> Finished chain.\u001b[0m\n",
      "\u001b[93m\u001b[1m\n",
      "*****TASK RESULT*****\n",
      "\u001b[0m\u001b[0m\n",
      "The weather report for San Francisco today is partly cloudy with a temperature of 55 degrees Fahrenheit, 86% humidity, and 2 mph winds. There is no precipitation expected. Keep an eye out for potential weather patterns or systems that may affect the current conditions. Stay safe and enjoy the day!\n",
      "\u001b[91m\u001b[1m\n",
      "*****TASK ENDING*****\n",
      "\u001b[0m\u001b[0m\n"
     ]
    },
    {
     "data": {
      "text/plain": [
       "{'objective': 'Write a weather report for SF today'}"
      ]
     },
     "execution_count": 16,
     "metadata": {},
     "output_type": "execute_result"
    }
   ],
   "source": [
    "baby_agi({\"objective\": OBJECTIVE})"
   ]
  },
  {
   "cell_type": "code",
   "execution_count": null,
   "id": "898a210b",
   "metadata": {},
   "outputs": [],
   "source": []
  }
 ],
 "metadata": {
  "kernelspec": {
   "display_name": "base",
   "language": "python",
   "name": "python3"
  },
  "language_info": {
   "codemirror_mode": {
    "name": "ipython",
    "version": 3
   },
   "file_extension": ".py",
   "mimetype": "text/x-python",
   "name": "python",
   "nbconvert_exporter": "python",
   "pygments_lexer": "ipython3",
   "version": "3.12.3"
  }
 },
 "nbformat": 4,
 "nbformat_minor": 5
}
