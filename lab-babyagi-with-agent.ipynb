{
 "cells": [
  {
   "cell_type": "markdown",
   "id": "1cdba6f7-142d-4dd2-96f6-a13bb5d978ce",
   "metadata": {},
   "source": [
    "# Lab | BabyAGI with agent\n",
    "\n",
    "**Change the planner objective below by changing the objective and the associated prompts and potential tools and agents - Wear your creativity and AI engineering hats\n",
    "You can't get this wrong!**\n",
    "\n",
    "You would need the OpenAI API KEY and the [SerpAPI KEY](https://serpapi.com/manage-api-keyhttps://serpapi.com/manage-api-key) to run this lab.\n"
   ]
  },
  {
   "cell_type": "markdown",
   "id": "517a9fd4",
   "metadata": {},
   "source": [
    "## BabyAGI with Tools\n",
    "\n",
    "This notebook builds on top of [baby agi](baby_agi.html), but shows how you can swap out the execution chain. The previous execution chain was just an LLM which made stuff up. By swapping it out with an agent that has access to tools, we can hopefully get real reliable information"
   ]
  },
  {
   "cell_type": "markdown",
   "id": "556af556",
   "metadata": {},
   "source": [
    "## Install and Import Required Modules"
   ]
  },
  {
   "cell_type": "code",
   "execution_count": 1,
   "id": "85b7ca88",
   "metadata": {},
   "outputs": [
    {
     "name": "stdout",
     "output_type": "stream",
     "text": [
      "Requirement already satisfied: langchain_community in ./Travel Assistent 4/.venv/lib/python3.9/site-packages (0.3.23)\n",
      "Collecting langchain_experimental\n",
      "  Using cached langchain_experimental-0.3.4-py3-none-any.whl.metadata (1.7 kB)\n",
      "Requirement already satisfied: langchain_openai in ./Travel Assistent 4/.venv/lib/python3.9/site-packages (0.3.16)\n",
      "Requirement already satisfied: langchain-core<1.0.0,>=0.3.56 in ./Travel Assistent 4/.venv/lib/python3.9/site-packages (from langchain_community) (0.3.58)\n",
      "Requirement already satisfied: langchain<1.0.0,>=0.3.24 in ./Travel Assistent 4/.venv/lib/python3.9/site-packages (from langchain_community) (0.3.25)\n",
      "Requirement already satisfied: SQLAlchemy<3,>=1.4 in ./Travel Assistent 4/.venv/lib/python3.9/site-packages (from langchain_community) (2.0.40)\n",
      "Requirement already satisfied: requests<3,>=2 in ./Travel Assistent 4/.venv/lib/python3.9/site-packages (from langchain_community) (2.32.3)\n",
      "Requirement already satisfied: PyYAML>=5.3 in ./Travel Assistent 4/.venv/lib/python3.9/site-packages (from langchain_community) (6.0.2)\n",
      "Requirement already satisfied: aiohttp<4.0.0,>=3.8.3 in ./Travel Assistent 4/.venv/lib/python3.9/site-packages (from langchain_community) (3.11.18)\n",
      "Requirement already satisfied: tenacity!=8.4.0,<10,>=8.1.0 in ./Travel Assistent 4/.venv/lib/python3.9/site-packages (from langchain_community) (9.1.2)\n",
      "Requirement already satisfied: dataclasses-json<0.7,>=0.5.7 in ./Travel Assistent 4/.venv/lib/python3.9/site-packages (from langchain_community) (0.6.7)\n",
      "Requirement already satisfied: pydantic-settings<3.0.0,>=2.4.0 in ./Travel Assistent 4/.venv/lib/python3.9/site-packages (from langchain_community) (2.9.1)\n",
      "Requirement already satisfied: langsmith<0.4,>=0.1.125 in ./Travel Assistent 4/.venv/lib/python3.9/site-packages (from langchain_community) (0.3.42)\n",
      "Requirement already satisfied: httpx-sse<1.0.0,>=0.4.0 in ./Travel Assistent 4/.venv/lib/python3.9/site-packages (from langchain_community) (0.4.0)\n",
      "Requirement already satisfied: numpy>=1.26.2 in ./Travel Assistent 4/.venv/lib/python3.9/site-packages (from langchain_community) (2.0.2)\n",
      "Requirement already satisfied: aiohappyeyeballs>=2.3.0 in ./Travel Assistent 4/.venv/lib/python3.9/site-packages (from aiohttp<4.0.0,>=3.8.3->langchain_community) (2.6.1)\n",
      "Requirement already satisfied: aiosignal>=1.1.2 in ./Travel Assistent 4/.venv/lib/python3.9/site-packages (from aiohttp<4.0.0,>=3.8.3->langchain_community) (1.3.2)\n",
      "Requirement already satisfied: async-timeout<6.0,>=4.0 in ./Travel Assistent 4/.venv/lib/python3.9/site-packages (from aiohttp<4.0.0,>=3.8.3->langchain_community) (4.0.3)\n",
      "Requirement already satisfied: attrs>=17.3.0 in ./Travel Assistent 4/.venv/lib/python3.9/site-packages (from aiohttp<4.0.0,>=3.8.3->langchain_community) (25.3.0)\n",
      "Requirement already satisfied: frozenlist>=1.1.1 in ./Travel Assistent 4/.venv/lib/python3.9/site-packages (from aiohttp<4.0.0,>=3.8.3->langchain_community) (1.6.0)\n",
      "Requirement already satisfied: multidict<7.0,>=4.5 in ./Travel Assistent 4/.venv/lib/python3.9/site-packages (from aiohttp<4.0.0,>=3.8.3->langchain_community) (6.4.3)\n",
      "Requirement already satisfied: propcache>=0.2.0 in ./Travel Assistent 4/.venv/lib/python3.9/site-packages (from aiohttp<4.0.0,>=3.8.3->langchain_community) (0.3.1)\n",
      "Requirement already satisfied: yarl<2.0,>=1.17.0 in ./Travel Assistent 4/.venv/lib/python3.9/site-packages (from aiohttp<4.0.0,>=3.8.3->langchain_community) (1.20.0)\n",
      "Requirement already satisfied: marshmallow<4.0.0,>=3.18.0 in ./Travel Assistent 4/.venv/lib/python3.9/site-packages (from dataclasses-json<0.7,>=0.5.7->langchain_community) (3.26.1)\n",
      "Requirement already satisfied: typing-inspect<1,>=0.4.0 in ./Travel Assistent 4/.venv/lib/python3.9/site-packages (from dataclasses-json<0.7,>=0.5.7->langchain_community) (0.9.0)\n",
      "Requirement already satisfied: langchain-text-splitters<1.0.0,>=0.3.8 in ./Travel Assistent 4/.venv/lib/python3.9/site-packages (from langchain<1.0.0,>=0.3.24->langchain_community) (0.3.8)\n",
      "Requirement already satisfied: pydantic<3.0.0,>=2.7.4 in ./Travel Assistent 4/.venv/lib/python3.9/site-packages (from langchain<1.0.0,>=0.3.24->langchain_community) (2.11.4)\n",
      "Requirement already satisfied: jsonpatch<2.0,>=1.33 in ./Travel Assistent 4/.venv/lib/python3.9/site-packages (from langchain-core<1.0.0,>=0.3.56->langchain_community) (1.33)\n",
      "Requirement already satisfied: packaging<25,>=23.2 in ./Travel Assistent 4/.venv/lib/python3.9/site-packages (from langchain-core<1.0.0,>=0.3.56->langchain_community) (24.2)\n",
      "Requirement already satisfied: typing-extensions>=4.7 in ./Travel Assistent 4/.venv/lib/python3.9/site-packages (from langchain-core<1.0.0,>=0.3.56->langchain_community) (4.13.2)\n",
      "Requirement already satisfied: jsonpointer>=1.9 in ./Travel Assistent 4/.venv/lib/python3.9/site-packages (from jsonpatch<2.0,>=1.33->langchain-core<1.0.0,>=0.3.56->langchain_community) (3.0.0)\n",
      "Requirement already satisfied: httpx<1,>=0.23.0 in ./Travel Assistent 4/.venv/lib/python3.9/site-packages (from langsmith<0.4,>=0.1.125->langchain_community) (0.28.1)\n",
      "Requirement already satisfied: orjson<4.0.0,>=3.9.14 in ./Travel Assistent 4/.venv/lib/python3.9/site-packages (from langsmith<0.4,>=0.1.125->langchain_community) (3.10.18)\n",
      "Requirement already satisfied: requests-toolbelt<2.0.0,>=1.0.0 in ./Travel Assistent 4/.venv/lib/python3.9/site-packages (from langsmith<0.4,>=0.1.125->langchain_community) (1.0.0)\n",
      "Requirement already satisfied: zstandard<0.24.0,>=0.23.0 in ./Travel Assistent 4/.venv/lib/python3.9/site-packages (from langsmith<0.4,>=0.1.125->langchain_community) (0.23.0)\n",
      "Requirement already satisfied: anyio in ./Travel Assistent 4/.venv/lib/python3.9/site-packages (from httpx<1,>=0.23.0->langsmith<0.4,>=0.1.125->langchain_community) (4.9.0)\n",
      "Requirement already satisfied: certifi in ./Travel Assistent 4/.venv/lib/python3.9/site-packages (from httpx<1,>=0.23.0->langsmith<0.4,>=0.1.125->langchain_community) (2025.4.26)\n",
      "Requirement already satisfied: httpcore==1.* in ./Travel Assistent 4/.venv/lib/python3.9/site-packages (from httpx<1,>=0.23.0->langsmith<0.4,>=0.1.125->langchain_community) (1.0.9)\n",
      "Requirement already satisfied: idna in ./Travel Assistent 4/.venv/lib/python3.9/site-packages (from httpx<1,>=0.23.0->langsmith<0.4,>=0.1.125->langchain_community) (3.10)\n",
      "Requirement already satisfied: h11>=0.16 in ./Travel Assistent 4/.venv/lib/python3.9/site-packages (from httpcore==1.*->httpx<1,>=0.23.0->langsmith<0.4,>=0.1.125->langchain_community) (0.16.0)\n",
      "Requirement already satisfied: annotated-types>=0.6.0 in ./Travel Assistent 4/.venv/lib/python3.9/site-packages (from pydantic<3.0.0,>=2.7.4->langchain<1.0.0,>=0.3.24->langchain_community) (0.7.0)\n",
      "Requirement already satisfied: pydantic-core==2.33.2 in ./Travel Assistent 4/.venv/lib/python3.9/site-packages (from pydantic<3.0.0,>=2.7.4->langchain<1.0.0,>=0.3.24->langchain_community) (2.33.2)\n",
      "Requirement already satisfied: typing-inspection>=0.4.0 in ./Travel Assistent 4/.venv/lib/python3.9/site-packages (from pydantic<3.0.0,>=2.7.4->langchain<1.0.0,>=0.3.24->langchain_community) (0.4.0)\n",
      "Requirement already satisfied: python-dotenv>=0.21.0 in ./Travel Assistent 4/.venv/lib/python3.9/site-packages (from pydantic-settings<3.0.0,>=2.4.0->langchain_community) (1.1.0)\n",
      "Requirement already satisfied: charset-normalizer<4,>=2 in ./Travel Assistent 4/.venv/lib/python3.9/site-packages (from requests<3,>=2->langchain_community) (3.4.1)\n",
      "Requirement already satisfied: urllib3<3,>=1.21.1 in ./Travel Assistent 4/.venv/lib/python3.9/site-packages (from requests<3,>=2->langchain_community) (2.4.0)\n",
      "Requirement already satisfied: mypy-extensions>=0.3.0 in ./Travel Assistent 4/.venv/lib/python3.9/site-packages (from typing-inspect<1,>=0.4.0->dataclasses-json<0.7,>=0.5.7->langchain_community) (1.1.0)\n",
      "Collecting openai<2.0.0,>=1.68.2 (from langchain_openai)\n",
      "  Using cached openai-1.77.0-py3-none-any.whl.metadata (25 kB)\n",
      "Requirement already satisfied: tiktoken<1,>=0.7 in ./Travel Assistent 4/.venv/lib/python3.9/site-packages (from langchain_openai) (0.9.0)\n",
      "Requirement already satisfied: distro<2,>=1.7.0 in ./Travel Assistent 4/.venv/lib/python3.9/site-packages (from openai<2.0.0,>=1.68.2->langchain_openai) (1.9.0)\n",
      "Requirement already satisfied: jiter<1,>=0.4.0 in ./Travel Assistent 4/.venv/lib/python3.9/site-packages (from openai<2.0.0,>=1.68.2->langchain_openai) (0.9.0)\n",
      "Requirement already satisfied: sniffio in ./Travel Assistent 4/.venv/lib/python3.9/site-packages (from openai<2.0.0,>=1.68.2->langchain_openai) (1.3.1)\n",
      "Requirement already satisfied: tqdm>4 in ./Travel Assistent 4/.venv/lib/python3.9/site-packages (from openai<2.0.0,>=1.68.2->langchain_openai) (4.67.1)\n",
      "Requirement already satisfied: exceptiongroup>=1.0.2 in ./Travel Assistent 4/.venv/lib/python3.9/site-packages (from anyio->httpx<1,>=0.23.0->langsmith<0.4,>=0.1.125->langchain_community) (1.2.2)\n",
      "Requirement already satisfied: regex>=2022.1.18 in ./Travel Assistent 4/.venv/lib/python3.9/site-packages (from tiktoken<1,>=0.7->langchain_openai) (2024.11.6)\n",
      "Using cached langchain_experimental-0.3.4-py3-none-any.whl (209 kB)\n",
      "Using cached openai-1.77.0-py3-none-any.whl (662 kB)\n",
      "Installing collected packages: openai, langchain_experimental\n",
      "\u001b[2K  Attempting uninstall: openai\n",
      "\u001b[2K    Found existing installation: openai 0.28.0\n",
      "\u001b[2K    Uninstalling openai-0.28.0:\n",
      "\u001b[2K      Successfully uninstalled openai-0.28.0\n",
      "\u001b[2K   \u001b[90m━━━━━━━━━━━━━━━━━━━━━━━━━━━━━━━━━━━━━━━━\u001b[0m \u001b[32m2/2\u001b[0m [langchain_experimental]\n",
      "\u001b[1A\u001b[2KSuccessfully installed langchain_experimental-0.3.4 openai-1.77.0\n"
     ]
    }
   ],
   "source": [
    "!pip install langchain_community langchain_experimental langchain_openai"
   ]
  },
  {
   "cell_type": "code",
   "execution_count": 2,
   "id": "c8a354b6",
   "metadata": {
    "tags": []
   },
   "outputs": [
    {
     "name": "stderr",
     "output_type": "stream",
     "text": [
      "/Users/amjad/Downloads/Travel Assistent 4/.venv/lib/python3.9/site-packages/urllib3/__init__.py:35: NotOpenSSLWarning: urllib3 v2 only supports OpenSSL 1.1.1+, currently the 'ssl' module is compiled with 'LibreSSL 2.8.3'. See: https://github.com/urllib3/urllib3/issues/3020\n",
      "  warnings.warn(\n"
     ]
    }
   ],
   "source": [
    "from typing import Optional\n",
    "\n",
    "from langchain.chains import LLMChain\n",
    "from langchain.prompts import PromptTemplate\n",
    "from langchain_experimental.autonomous_agents import BabyAGI\n",
    "from langchain_openai import OpenAI, OpenAIEmbeddings"
   ]
  },
  {
   "cell_type": "markdown",
   "id": "09f70772",
   "metadata": {},
   "source": [
    "## Connect to the Vector Store\n",
    "\n",
    "Depending on what vectorstore you use, this step may look different."
   ]
  },
  {
   "cell_type": "code",
   "execution_count": 3,
   "id": "794045d4",
   "metadata": {
    "tags": []
   },
   "outputs": [],
   "source": [
    "# %pip install faiss-cpu > /dev/null\n",
    "# %pip install google-search-results > /dev/null\n",
    "from langchain.docstore import InMemoryDocstore\n",
    "from langchain_community.vectorstores import FAISS"
   ]
  },
  {
   "cell_type": "code",
   "execution_count": 4,
   "id": "c4164841-915d-4c60-8a47-3a502a5cf71d",
   "metadata": {
    "tags": []
   },
   "outputs": [],
   "source": [
    "import os\n",
    "from dotenv import load_dotenv, find_dotenv\n",
    "_ = load_dotenv(find_dotenv())\n",
    "\n",
    "OPENAI_API_KEY  = os.getenv('OPENAI_API_KEY')\n",
    "SERPAPI_API_KEY = os.getenv('SERPAPI_API_KEY')"
   ]
  },
  {
   "cell_type": "code",
   "execution_count": 5,
   "id": "6e0305eb",
   "metadata": {
    "tags": []
   },
   "outputs": [
    {
     "name": "stderr",
     "output_type": "stream",
     "text": [
      "`embedding_function` is expected to be an Embeddings object, support for passing in a function will soon be removed.\n"
     ]
    }
   ],
   "source": [
    "# Define your embedding model\n",
    "embeddings_model = OpenAIEmbeddings()\n",
    "# Initialize the vectorstore as empty\n",
    "import faiss\n",
    "\n",
    "embedding_size = 1536\n",
    "index = faiss.IndexFlatL2(embedding_size)\n",
    "vectorstore = FAISS(embeddings_model.embed_query, index, InMemoryDocstore({}), {})"
   ]
  },
  {
   "cell_type": "markdown",
   "id": "0f3b72bf",
   "metadata": {},
   "source": [
    "## Define the Chains\n",
    "\n",
    "BabyAGI relies on three LLM chains:\n",
    "- Task creation chain to select new tasks to add to the list\n",
    "- Task prioritization chain to re-prioritize tasks\n",
    "- Execution Chain to execute the tasks\n",
    "\n",
    "\n",
    "NOTE: in this notebook, the Execution chain will now be an agent."
   ]
  },
  {
   "cell_type": "code",
   "execution_count": 7,
   "id": "f30bb8d6",
   "metadata": {},
   "outputs": [
    {
     "name": "stdout",
     "output_type": "stream",
     "text": [
      "Collecting google-search-results\n",
      "  Downloading google_search_results-2.4.2.tar.gz (18 kB)\n",
      "  Installing build dependencies ... \u001b[?25ldone\n",
      "\u001b[?25h  Getting requirements to build wheel ... \u001b[?25ldone\n",
      "\u001b[?25h  Preparing metadata (pyproject.toml) ... \u001b[?25ldone\n",
      "\u001b[?25hRequirement already satisfied: requests in ./Travel Assistent 4/.venv/lib/python3.9/site-packages (from google-search-results) (2.32.3)\n",
      "Requirement already satisfied: charset-normalizer<4,>=2 in ./Travel Assistent 4/.venv/lib/python3.9/site-packages (from requests->google-search-results) (3.4.1)\n",
      "Requirement already satisfied: idna<4,>=2.5 in ./Travel Assistent 4/.venv/lib/python3.9/site-packages (from requests->google-search-results) (3.10)\n",
      "Requirement already satisfied: urllib3<3,>=1.21.1 in ./Travel Assistent 4/.venv/lib/python3.9/site-packages (from requests->google-search-results) (2.4.0)\n",
      "Requirement already satisfied: certifi>=2017.4.17 in ./Travel Assistent 4/.venv/lib/python3.9/site-packages (from requests->google-search-results) (2025.4.26)\n",
      "Building wheels for collected packages: google-search-results\n",
      "  Building wheel for google-search-results (pyproject.toml) ... \u001b[?25ldone\n",
      "\u001b[?25h  Created wheel for google-search-results: filename=google_search_results-2.4.2-py3-none-any.whl size=32091 sha256=824aac7fea30b4a2fc352c10cf557e834c7284289b38cd496436fba7af39c506\n",
      "  Stored in directory: /Users/amjad/Library/Caches/pip/wheels/68/8e/73/744b7d9d7ac618849d93081a20e1c0deccd2aef90901c9f5a9\n",
      "Successfully built google-search-results\n",
      "Installing collected packages: google-search-results\n",
      "Successfully installed google-search-results-2.4.2\n",
      "Note: you may need to restart the kernel to use updated packages.\n"
     ]
    }
   ],
   "source": [
    "pip install google-search-results"
   ]
  },
  {
   "cell_type": "code",
   "execution_count": 8,
   "id": "b43cd580",
   "metadata": {
    "tags": []
   },
   "outputs": [],
   "source": [
    "from langchain.agents import AgentExecutor, Tool, ZeroShotAgent\n",
    "from langchain.chains import LLMChain\n",
    "from langchain_community.utilities import SerpAPIWrapper\n",
    "from langchain_openai import OpenAI\n",
    "\n",
    "todo_prompt = PromptTemplate.from_template(\n",
    "    \"You are a planner who is an expert at coming up with a todo list for a given objective. Come up with a todo list for this objective: {objective}\"\n",
    ")\n",
    "todo_chain = LLMChain(llm=OpenAI(temperature=0), prompt=todo_prompt)\n",
    "search = SerpAPIWrapper()\n",
    "tools = [\n",
    "    Tool(\n",
    "        name=\"Search\",\n",
    "        func=search.run,\n",
    "        description=\"useful for when you need to answer questions about current events\",\n",
    "    ),\n",
    "    Tool(\n",
    "        name=\"TODO\",\n",
    "        func=todo_chain.run,\n",
    "        description=\"useful for when you need to come up with todo lists. Input: an objective to create a todo list for. Output: a todo list for that objective. Please be very clear what the objective is!\",\n",
    "    ),\n",
    "]\n",
    "\n",
    "\n",
    "prefix = \"\"\"You are an AI who performs one task based on the following objective: {objective}. Take into account these previously completed tasks: {context}.\"\"\"\n",
    "suffix = \"\"\"Question: {task}\n",
    "{agent_scratchpad}\"\"\"\n",
    "prompt = ZeroShotAgent.create_prompt(\n",
    "    tools,\n",
    "    prefix=prefix,\n",
    "    suffix=suffix,\n",
    "    input_variables=[\"objective\", \"task\", \"context\", \"agent_scratchpad\"],\n",
    ")"
   ]
  },
  {
   "cell_type": "code",
   "execution_count": 9,
   "id": "4b00ae2e",
   "metadata": {
    "tags": []
   },
   "outputs": [
    {
     "name": "stderr",
     "output_type": "stream",
     "text": [
      "/var/folders/9s/snfcxp3j4gv4r29jbzrzlgsr0000gn/T/ipykernel_1329/3064747660.py:4: LangChainDeprecationWarning: LangChain agents will continue to be supported, but it is recommended for new use cases to be built with LangGraph. LangGraph offers a more flexible and full-featured framework for building agents, including support for tool-calling, persistence of state, and human-in-the-loop workflows. For details, refer to the `LangGraph documentation <https://langchain-ai.github.io/langgraph/>`_ as well as guides for `Migrating from AgentExecutor <https://python.langchain.com/docs/how_to/migrate_agent/>`_ and LangGraph's `Pre-built ReAct agent <https://langchain-ai.github.io/langgraph/how-tos/create-react-agent/>`_.\n",
      "  agent = ZeroShotAgent(llm_chain=llm_chain, allowed_tools=tool_names)\n"
     ]
    }
   ],
   "source": [
    "llm = OpenAI(temperature=0)\n",
    "llm_chain = LLMChain(llm=llm, prompt=prompt)\n",
    "tool_names = [tool.name for tool in tools]\n",
    "agent = ZeroShotAgent(llm_chain=llm_chain, allowed_tools=tool_names)\n",
    "agent_executor = AgentExecutor.from_agent_and_tools(\n",
    "    agent=agent, tools=tools, verbose=True\n",
    ")"
   ]
  },
  {
   "cell_type": "markdown",
   "id": "05ba762e",
   "metadata": {},
   "source": [
    "### Run the BabyAGI\n",
    "\n",
    "Now it's time to create the BabyAGI controller and watch it try to accomplish your objective."
   ]
  },
  {
   "cell_type": "code",
   "execution_count": 10,
   "id": "3d220b69",
   "metadata": {
    "tags": []
   },
   "outputs": [],
   "source": [
    "OBJECTIVE = \"Write a weather report for SF today\""
   ]
  },
  {
   "cell_type": "code",
   "execution_count": 11,
   "id": "3d69899b",
   "metadata": {
    "tags": []
   },
   "outputs": [],
   "source": [
    "# Logging of LLMChains\n",
    "verbose = False\n",
    "# If None, will keep on going forever\n",
    "max_iterations: Optional[int] = 3\n",
    "baby_agi = BabyAGI.from_llm(\n",
    "    llm=llm,\n",
    "    vectorstore=vectorstore,\n",
    "    task_execution_chain=agent_executor,\n",
    "    verbose=verbose,\n",
    "    max_iterations=max_iterations,\n",
    ")"
   ]
  },
  {
   "cell_type": "code",
   "execution_count": 12,
   "id": "f7957b51",
   "metadata": {
    "tags": []
   },
   "outputs": [
    {
     "name": "stderr",
     "output_type": "stream",
     "text": [
      "/var/folders/9s/snfcxp3j4gv4r29jbzrzlgsr0000gn/T/ipykernel_1329/3867971396.py:1: LangChainDeprecationWarning: The method `Chain.__call__` was deprecated in langchain 0.1.0 and will be removed in 1.0. Use :meth:`~invoke` instead.\n",
      "  baby_agi({\"objective\": OBJECTIVE})\n"
     ]
    },
    {
     "name": "stdout",
     "output_type": "stream",
     "text": [
      "\u001b[95m\u001b[1m\n",
      "*****TASK LIST*****\n",
      "\u001b[0m\u001b[0m\n",
      "1: Make a todo list\n",
      "\u001b[92m\u001b[1m\n",
      "*****NEXT TASK*****\n",
      "\u001b[0m\u001b[0m\n",
      "1: Make a todo list\n",
      "\n",
      "\n",
      "\u001b[1m> Entering new AgentExecutor chain...\u001b[0m\n",
      "\u001b[32;1m\u001b[1;3mThought: I should use the TODO action to create a todo list\n",
      "Action: TODO\n",
      "Action Input: \"Create a todo list for writing a weather report for SF today\"\u001b[0m\n",
      "Observation: \u001b[33;1m\u001b[1;3m\n",
      "\n",
      "1. Gather all necessary information: Start by collecting all the necessary information for writing a weather report for San Francisco today. This includes current temperature, humidity, wind speed, and any potential weather events.\n",
      "\n",
      "2. Check reliable sources: Make sure to check reliable sources such as the National Weather Service or local news stations for accurate and up-to-date information.\n",
      "\n",
      "3. Determine the format: Decide on the format for the weather report. Will it be a written report, a video, or a combination of both? This will help guide the rest of the process.\n",
      "\n",
      "4. Create an outline: Before diving into writing, create an outline for the weather report. This will help organize the information and ensure all important details are included.\n",
      "\n",
      "5. Start with an attention-grabbing headline: The headline is the first thing readers will see, so make it attention-grabbing and informative. It should give a brief overview of the weather for SF today.\n",
      "\n",
      "6. Write an introduction: The introduction should provide a brief overview of the current weather conditions in San Francisco and any notable events or changes.\n",
      "\n",
      "7. Include relevant data: Use the information gathered in step 1 to provide accurate and relevant data in the weather report. This can include current temperature, humidity, wind speed, and any potential\u001b[0m\n",
      "Thought:\u001b[32;1m\u001b[1;3m I should also consider including any relevant images or graphics to enhance the report\n",
      "Action: TODO\n",
      "Action Input: \"Find and include relevant images or graphics for the weather report\"\u001b[0m\n",
      "Observation: \u001b[33;1m\u001b[1;3m\n",
      "\n",
      "1. Determine the purpose and target audience of the weather report.\n",
      "2. Research and gather relevant images or graphics that align with the purpose and target audience.\n",
      "3. Consider the format and layout of the weather report and how the images or graphics will be incorporated.\n",
      "4. Choose high-quality images or graphics that are visually appealing and enhance the overall presentation of the weather report.\n",
      "5. Make sure the images or graphics accurately represent the weather conditions being reported.\n",
      "6. Consider using a mix of different types of images or graphics, such as photographs, charts, or icons, to add variety and interest to the report.\n",
      "7. Edit and resize images or graphics as needed to fit the layout and format of the weather report.\n",
      "8. Include captions or labels for each image or graphic to provide context and information for the audience.\n",
      "9. Ensure that all images or graphics are properly cited and credited, if necessary.\n",
      "10. Review and revise the weather report to ensure that the images or graphics are effectively integrated and enhance the overall message and presentation.\u001b[0m\n",
      "Thought:\u001b[32;1m\u001b[1;3m I should also proofread and edit the weather report before finalizing it\n",
      "Action: TODO\n",
      "Action Input: \"Proofread and edit the weather report\"\u001b[0m\n",
      "Observation: \u001b[33;1m\u001b[1;3m\n",
      "\n",
      "1. Review the weather report: Start by reading through the entire weather report to get a general understanding of the content and any potential errors.\n",
      "\n",
      "2. Check for accuracy: Go through the report and verify that all the information is accurate, including temperatures, precipitation, and any other data.\n",
      "\n",
      "3. Verify sources: Make sure that all sources used in the report are reliable and up-to-date. If there are any discrepancies, double-check with other sources.\n",
      "\n",
      "4. Check for consistency: Ensure that the report is consistent in terms of formatting, language, and style. This will make it easier for readers to understand and follow.\n",
      "\n",
      "5. Correct spelling and grammar: Use a spell checker and proofread the report for any spelling or grammar errors. Pay attention to punctuation and sentence structure as well.\n",
      "\n",
      "6. Check for clarity: Make sure that the report is easy to understand and free of any confusing or ambiguous language. If necessary, rephrase sentences or add clarifying information.\n",
      "\n",
      "7. Review visuals: If the report includes any charts, graphs, or images, make sure they are accurate and support the information in the report.\n",
      "\n",
      "8. Fact-check: Verify any statistics or data used in the report to ensure they are correct and up-to-date.\n",
      "\n",
      "9. Edit for length: If the\u001b[0m\n",
      "Thought:\u001b[32;1m\u001b[1;3m I should also consider adding a conclusion or summary to the weather report\n",
      "Action: TODO\n",
      "Action Input: \"Write a conclusion or summary for the weather report\"\u001b[0m\n",
      "Observation: \u001b[33;1m\u001b[1;3m\n",
      "\n",
      "1. Review the main points of the weather report: Before writing the conclusion, make sure to review the main points of the weather report. This will help you to summarize the information accurately.\n",
      "\n",
      "2. Identify the key takeaways: Think about the most important information that you want to convey in the conclusion. This could include the current weather conditions, any significant changes or patterns, and any potential impacts on the local area.\n",
      "\n",
      "3. Use clear and concise language: The conclusion should be brief and to the point. Use clear and concise language to summarize the weather report in a way that is easy for readers to understand.\n",
      "\n",
      "4. Mention any important warnings or alerts: If there are any important warnings or alerts mentioned in the weather report, be sure to include them in the conclusion. This will help readers to stay informed and take necessary precautions.\n",
      "\n",
      "5. Provide a future outlook: In addition to summarizing the current weather conditions, it can be helpful to provide a brief outlook for the future. This could include any expected changes in the weather or potential impacts on the local area.\n",
      "\n",
      "6. Proofread and edit: Before finalizing the conclusion, make sure to proofread and edit for any spelling or grammatical errors. This will ensure that the conclusion is clear and professional.\n",
      "\n",
      "7.\u001b[0m\n",
      "Thought:\u001b[32;1m\u001b[1;3m I now know the final answer\n",
      "Final Answer: The final answer is a todo list for writing a weather report for San Francisco today, which includes gathering information, checking reliable sources, determining the format, creating an outline, writing an attention-grabbing headline and introduction, including relevant data and visuals, proofreading and editing, and adding a conclusion or summary.\u001b[0m\n",
      "\n",
      "\u001b[1m> Finished chain.\u001b[0m\n",
      "\u001b[93m\u001b[1m\n",
      "*****TASK RESULT*****\n",
      "\u001b[0m\u001b[0m\n",
      "The final answer is a todo list for writing a weather report for San Francisco today, which includes gathering information, checking reliable sources, determining the format, creating an outline, writing an attention-grabbing headline and introduction, including relevant data and visuals, proofreading and editing, and adding a conclusion or summary.\n",
      "\u001b[95m\u001b[1m\n",
      "*****TASK LIST*****\n",
      "\u001b[0m\u001b[0m\n",
      "1: Check reliable sources for accurate weather data\n",
      "2: Gather information for SF weather report\n",
      "3: Determine the format for the weather report\n",
      "4: Create an outline for the report\n",
      "5: Write an attention-grabbing headline and introduction\n",
      "6: Include relevant data and visuals in the report\n",
      "7: Proofread and edit the weather report\n",
      "8: Add a conclusion or summary to the report\n",
      "\u001b[92m\u001b[1m\n",
      "*****NEXT TASK*****\n",
      "\u001b[0m\u001b[0m\n",
      "1: Check reliable sources for accurate weather data\n",
      "\n",
      "\n",
      "\u001b[1m> Entering new AgentExecutor chain...\u001b[0m\n",
      "\u001b[32;1m\u001b[1;3mThought: I should use the Search function to find reliable sources for weather data\n",
      "Action: Search\n",
      "Action Input: \"weather data sources\"\u001b[0m\n",
      "Observation: \u001b[36;1m\u001b[1;3m[' entity_type: related_questions.', 'All certified data must be obtained directly from NCEI. NCEI archives 99% of all NOAA data and makes it available in a number of formats. Climatological ...', \"Climate Data Online (CDO) provides free access to NCDC's archive of global historical weather and climate data in addition to station history information.\", 'Daily summaries of past weather by location come from the Global Historical Climatology Network daily (GHCNd) database and are accessed through the Climate ...', \"Google's Dataset Search Engine: https://datasetsearch.research.google.com/ General climate data (historical temperature, precipitation, etc.)\", 'OpenWeather provides comprehensive weather data services, including current, forecast, and historical weather information. Explore a wide range of APIs for ...', 'Our platform ingests, cleanses, and processes data from all available weather sensors to deliver analytics-grade weather data built for machine learning.', 'NOAA collects real-time data from satellites, buoys, weather stations, citizen scientists, and more. See what is happening right now in this collection.', 'Meteostat is one of the largest vendors of open weather and climate data. Access long-term time series of thousands of weather stations.', 'Our weather models rely on a wealth of real-time data, including measurements from various sources such as airplanes, buoys, radar systems, and satellites. By ...', 'ACTIVE ALERTS · FORECAST MAPS · RADAR · Standard Radar (Low Bandwidth) · Enhanced Radar · RIVERS, LAKES, RAINFALL · AIR QUALITY · SATELLITE · PAST WEATHER.']\u001b[0m\n",
      "Thought:\u001b[32;1m\u001b[1;3m I should use the TODO function to create a todo list for gathering weather data from these sources\n",
      "Action: TODO\n",
      "Action Input: \"Create a todo list for gathering weather data from reliable sources\"\u001b[0m\n",
      "Observation: \u001b[33;1m\u001b[1;3m\n",
      "\n",
      "1. Define the objective: The first step in creating a todo list is to clearly define the objective. In this case, the objective is to gather weather data from reliable sources.\n",
      "\n",
      "2. Research reliable sources: Start by researching and identifying reliable sources for weather data. This could include government websites, meteorological organizations, and reputable news outlets.\n",
      "\n",
      "3. Determine the type of data needed: Next, determine the specific type of weather data that is needed for the project. This could include temperature, precipitation, wind speed, etc.\n",
      "\n",
      "4. Create a data collection plan: Develop a plan for how the data will be collected. This could include using online tools, setting up weather stations, or working with a data provider.\n",
      "\n",
      "5. Set a timeline: Set a realistic timeline for when the data needs to be gathered. This will help keep the project on track and ensure that all necessary data is collected in a timely manner.\n",
      "\n",
      "6. Assign responsibilities: Determine who will be responsible for gathering the data and assign specific tasks to team members. This will help ensure that everyone knows their role and the project runs smoothly.\n",
      "\n",
      "7. Gather the data: Begin collecting the data according to the plan and timeline. Make sure to record the data accurately and consistently.\n",
      "\n",
      "8. Verify the data: Once the\u001b[0m\n",
      "Thought:\u001b[32;1m\u001b[1;3m I have completed the todo list for gathering weather data from reliable sources\n",
      "Final Answer: The final answer is a todo list for gathering weather data from reliable sources, including defining the objective, researching reliable sources, determining the type of data needed, creating a data collection plan, setting a timeline, assigning responsibilities, gathering the data, and verifying the data.\u001b[0m\n",
      "\n",
      "\u001b[1m> Finished chain.\u001b[0m\n",
      "\u001b[93m\u001b[1m\n",
      "*****TASK RESULT*****\n",
      "\u001b[0m\u001b[0m\n",
      "The final answer is a todo list for gathering weather data from reliable sources, including defining the objective, researching reliable sources, determining the type of data needed, creating a data collection plan, setting a timeline, assigning responsibilities, gathering the data, and verifying the data.\n",
      "\u001b[95m\u001b[1m\n",
      "*****TASK LIST*****\n",
      "\u001b[0m\u001b[0m\n",
      "1: Determine the format for the weather report\n",
      "2: Create an outline for the report\n",
      "3: Write an attention-grabbing headline and introduction\n",
      "4: Include relevant data and visuals in the report\n",
      "5: Proofread and edit the weather report\n",
      "6: Add a conclusion or summary to the report\n",
      "7: Research reliable sources for SF weather data\n",
      "8: Determine the type of data needed for the weather report\n",
      "9: Create a data collection plan for gathering weather data\n",
      "10: Set a timeline for completing the weather report\n",
      "11: Assign responsibilities for gathering and verifying the data\n",
      "12: Gather weather data from reliable sources\n",
      "13: Verify the accuracy of the gathered data\n",
      "14: Define the objective of the weather report\n",
      "\u001b[92m\u001b[1m\n",
      "*****NEXT TASK*****\n",
      "\u001b[0m\u001b[0m\n",
      "1: Determine the format for the weather report\n",
      "\n",
      "\n",
      "\u001b[1m> Entering new AgentExecutor chain...\u001b[0m\n",
      "\u001b[32;1m\u001b[1;3mThought: I should check reliable sources for accurate weather data to determine the format for the weather report.\n",
      "Action: Search\n",
      "Action Input: \"weather report format\"\u001b[0m\n",
      "Observation: \u001b[36;1m\u001b[1;3m[' entity_type: related_questions.', 'Explore professionally designed weather templates you can customize and share easily from Canva.', 'Printable Forecasts · Detailed Hazards · Submit Report · Current Outlooks · Daily Briefing · Flash Flood · Hour by Hour Watches, Warnings and Advisories · Detailed ...', 'Begin by creating an outline that outlines the essential sections of your report, including the date and time of the forecast, weather conditions, and the ...', 'METAR is a format for weather reporting that is predominately used for pilots and meteorologists. · These reports are issued at each reporting location every ...', 'Use these no-prep differentiated writing templates to help your students practice informative writing and write information books on weather storms.', '1. Use Clear, Concise Language · 2. Paint a Picture with Words · 3. Provide Context · 4. Incorporate Visual Elements · 5. Maintain a Consistent Tone.', 'A METAR report (Aviation Routine Weather Report) is an observation of current surface weather reported in a standard international format.', 'If your group is new to weather reporting, explain that a weather forecast is a statement saying what the weather will be like the next.', \"Daily newspapers typically run a 5 Day Forecast while a weekly newspaper typically presents a 7 Day Forecast. This can be customized to the newspaper's ...\"]\u001b[0m\n",
      "Thought:\u001b[32;1m\u001b[1;3m I should use the information from the search to create a clear and concise weather report format.\n",
      "Action: TODO\n",
      "Action Input: \"weather report format\"\u001b[0m\n",
      "Observation: \u001b[33;1m\u001b[1;3m\n",
      "\n",
      "1. Determine the purpose of the weather report - Is it for a specific location or a general forecast? Is it for a specific time period or a daily report?\n",
      "\n",
      "2. Gather necessary information - This includes current weather conditions, temperature, humidity, wind speed and direction, precipitation, and any other relevant data.\n",
      "\n",
      "3. Choose a format for the report - Will it be a written report, a visual chart, or a combination of both? Consider the audience and their preferences when deciding on the format.\n",
      "\n",
      "4. Create a template - Use a consistent layout and design for the report to make it easy to read and understand. Include sections for each type of information gathered in step 2.\n",
      "\n",
      "5. Determine the frequency of the report - Will it be a daily, weekly, or monthly report? This will depend on the purpose of the report and the needs of the audience.\n",
      "\n",
      "6. Set a schedule for data collection - Determine when and how often the data will be collected to ensure accurate and up-to-date information for the report.\n",
      "\n",
      "7. Analyze the data - Use the gathered information to create a summary of the current weather conditions and any trends or patterns that may be relevant.\n",
      "\n",
      "8. Include relevant visuals - If using a visual format, include maps, graphs, or charts to\u001b[0m\n",
      "Thought:\u001b[32;1m\u001b[1;3m I should also consider incorporating any additional information or tips from reliable sources to make the weather report more informative and useful.\n",
      "Action: Search\n",
      "Action Input: \"weather report tips\"\u001b[0m\n",
      "Observation: \u001b[36;1m\u001b[1;3m[' entity_type: related_questions.', 'Thunderstorm Safety. When a thunderstorm threatens, protect yourself by taking cover within your home, a large building, or a hard-topped automobile.', 'The key to tornado survival is a safety plan. Your plan at home should be known by everyone in the home and practiced at least twice each year.', '10 Day Weather-Kalispell, MT. As of 5:35 pm MDT. Tonight. --/46°. 10%. Wed 07 | Night. 46°. 10%. SW 12 mph. Mainly clear. Low 46F. Winds SW at 10 to 15 mph.', 'This article explains how to read and understand the typical weather reports found online or in newspapers, with definitions of common terms.', 'UV Index2 of 11. Sunrise6:44 am. Sunset8:29 pm. Wed 16 | Night. 25°. 4%. NNW 11 mph. Cloudy skies early, followed by partial clearing. Low near 25F.', \"An hourly weather forecast provides details for when you'll be outside. Below, you can dive into different weather forecasts to help make the decision.\", '1. Get Familiar with the Forecast Layout · 2. Master Weather Symbols and Icon · 3. Analyze Temperature Ranges · 4. Decode Precipitation Probability.', 'An easier method is to memorize a few sets of F and C temperatures and interpolate to get an estimate of the temperature.']\u001b[0m\n",
      "Thought:\u001b[32;1m\u001b[1;3m I should use the tips and information gathered to enhance the accuracy and usefulness of the weather report.\n",
      "Action: TODO\n",
      "Action Input: \"weather report tips\"\u001b[0m\n",
      "Observation: \u001b[33;1m\u001b[1;3m\n",
      "\n",
      "1. Research the current weather patterns and trends in the area.\n",
      "2. Familiarize yourself with the local weather forecasting tools and resources.\n",
      "3. Keep track of any upcoming weather events or changes in the forecast.\n",
      "4. Create a schedule for regularly checking and updating the weather report.\n",
      "5. Take note of any potential weather hazards or warnings.\n",
      "6. Consider the impact of the weather on your daily activities or plans.\n",
      "7. Plan ahead for any necessary adjustments or precautions based on the weather report.\n",
      "8. Stay informed about any changes or updates to the weather forecast.\n",
      "9. Utilize multiple sources for weather information to ensure accuracy.\n",
      "10. Keep a backup plan in case of unexpected weather conditions.\n",
      "11. Communicate the weather report and any necessary information to others who may be affected.\n",
      "12. Stay prepared with necessary supplies or equipment for different weather scenarios.\n",
      "13. Monitor the weather report throughout the day for any sudden changes.\n",
      "14. Stay flexible and adaptable to changes in the weather forecast.\n",
      "15. Reflect on the accuracy of the weather report and make adjustments for future planning.\u001b[0m\n",
      "Thought:\u001b[32;1m\u001b[1;3m I now know the final answer.\n",
      "Final Answer: The weather report for San Francisco today will include current weather conditions, temperature, humidity, wind speed and direction, precipitation, and any other relevant data. It will be presented in a clear and concise format, with a combination of written and visual elements. The report will be updated regularly and include tips and information from reliable sources to enhance its accuracy and usefulness. It is important to stay informed and prepared for any potential weather hazards or changes in the forecast.\u001b[0m\n",
      "\n",
      "\u001b[1m> Finished chain.\u001b[0m\n",
      "\u001b[93m\u001b[1m\n",
      "*****TASK RESULT*****\n",
      "\u001b[0m\u001b[0m\n",
      "The weather report for San Francisco today will include current weather conditions, temperature, humidity, wind speed and direction, precipitation, and any other relevant data. It will be presented in a clear and concise format, with a combination of written and visual elements. The report will be updated regularly and include tips and information from reliable sources to enhance its accuracy and usefulness. It is important to stay informed and prepared for any potential weather hazards or changes in the forecast.\n",
      "\u001b[91m\u001b[1m\n",
      "*****TASK ENDING*****\n",
      "\u001b[0m\u001b[0m\n"
     ]
    },
    {
     "data": {
      "text/plain": [
       "{'objective': 'Write a weather report for SF today'}"
      ]
     },
     "execution_count": 12,
     "metadata": {},
     "output_type": "execute_result"
    }
   ],
   "source": [
    "baby_agi({\"objective\": OBJECTIVE})"
   ]
  }
 ],
 "metadata": {
  "kernelspec": {
   "display_name": ".venv",
   "language": "python",
   "name": "python3"
  },
  "language_info": {
   "codemirror_mode": {
    "name": "ipython",
    "version": 3
   },
   "file_extension": ".py",
   "mimetype": "text/x-python",
   "name": "python",
   "nbconvert_exporter": "python",
   "pygments_lexer": "ipython3",
   "version": "3.9.6"
  }
 },
 "nbformat": 4,
 "nbformat_minor": 5
}
