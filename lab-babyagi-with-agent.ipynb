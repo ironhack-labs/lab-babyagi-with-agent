{
 "cells": [
  {
   "cell_type": "markdown",
   "id": "1cdba6f7-142d-4dd2-96f6-a13bb5d978ce",
   "metadata": {},
   "source": [
    "# Lab | BabyAGI with agent\n",
    "\n",
    "**Change the planner objective below by changing the objective and the associated prompts and potential tools and agents - Wear your creativity and AI engineering hats\n",
    "You can't get this wrong!**\n",
    "\n",
    "You would need the OpenAI API KEY and the [SerpAPI KEY](https://serpapi.com/manage-api-keyhttps://serpapi.com/manage-api-key) to run this lab.\n"
   ]
  },
  {
   "cell_type": "markdown",
   "id": "517a9fd4",
   "metadata": {},
   "source": [
    "## BabyAGI with Tools\n",
    "\n",
    "This notebook builds on top of [baby agi](baby_agi.html), but shows how you can swap out the execution chain. The previous execution chain was just an LLM which made stuff up. By swapping it out with an agent that has access to tools, we can hopefully get real reliable information"
   ]
  },
  {
   "cell_type": "markdown",
   "id": "556af556",
   "metadata": {},
   "source": [
    "## Install and Import Required Modules"
   ]
  },
  {
   "cell_type": "code",
   "execution_count": 1,
   "id": "c8a354b6",
   "metadata": {
    "tags": []
   },
   "outputs": [],
   "source": [
    "from typing import Optional\n",
    "\n",
    "from langchain.chains import LLMChain\n",
    "from langchain.prompts import PromptTemplate\n",
    "from langchain_experimental.autonomous_agents import BabyAGI\n",
    "from langchain_openai import OpenAI, OpenAIEmbeddings"
   ]
  },
  {
   "cell_type": "markdown",
   "id": "09f70772",
   "metadata": {},
   "source": [
    "## Connect to the Vector Store\n",
    "\n",
    "Depending on what vectorstore you use, this step may look different."
   ]
  },
  {
   "cell_type": "code",
   "execution_count": 2,
   "id": "794045d4",
   "metadata": {
    "tags": []
   },
   "outputs": [],
   "source": [
    "#!pip install faiss-cpu > /dev/null\n",
    "#!pip install google-search-results > /dev/null\n",
    "from langchain.docstore import InMemoryDocstore\n",
    "from langchain_community.vectorstores import FAISS"
   ]
  },
  {
   "cell_type": "code",
   "execution_count": 3,
   "id": "c4164841-915d-4c60-8a47-3a502a5cf71d",
   "metadata": {
    "tags": []
   },
   "outputs": [],
   "source": [
    "import os\n",
    "from dotenv import load_dotenv, find_dotenv\n",
    "_ = load_dotenv(find_dotenv())\n",
    "\n",
    "OPENAI_API_KEY  = os.getenv('OPENAI_API_KEY')\n",
    "SERPAPI_API_KEY = os.getenv('SERPAPI_API_KEY')"
   ]
  },
  {
   "cell_type": "code",
   "execution_count": 4,
   "id": "6e0305eb",
   "metadata": {
    "tags": []
   },
   "outputs": [
    {
     "name": "stderr",
     "output_type": "stream",
     "text": [
      "`embedding_function` is expected to be an Embeddings object, support for passing in a function will soon be removed.\n"
     ]
    }
   ],
   "source": [
    "# Define your embedding model\n",
    "embeddings_model = OpenAIEmbeddings()\n",
    "# Initialize the vectorstore as empty\n",
    "import faiss\n",
    "\n",
    "embedding_size = 1536\n",
    "index = faiss.IndexFlatL2(embedding_size)\n",
    "vectorstore = FAISS(embeddings_model.embed_query, index, InMemoryDocstore({}), {})"
   ]
  },
  {
   "cell_type": "markdown",
   "id": "0f3b72bf",
   "metadata": {},
   "source": [
    "## Define the Chains\n",
    "\n",
    "BabyAGI relies on three LLM chains:\n",
    "- Task creation chain to select new tasks to add to the list\n",
    "- Task prioritization chain to re-prioritize tasks\n",
    "- Execution Chain to execute the tasks\n",
    "\n",
    "\n",
    "NOTE: in this notebook, the Execution chain will now be an agent."
   ]
  },
  {
   "cell_type": "code",
   "execution_count": 5,
   "id": "b43cd580",
   "metadata": {
    "tags": []
   },
   "outputs": [
    {
     "name": "stderr",
     "output_type": "stream",
     "text": [
      "/var/folders/qp/3cxfqxvd0dq7rn_xc3tvtcz00000gp/T/ipykernel_8835/842275654.py:9: LangChainDeprecationWarning: The class `LLMChain` was deprecated in LangChain 0.1.17 and will be removed in 1.0. Use :meth:`~RunnableSequence, e.g., `prompt | llm`` instead.\n",
      "  todo_chain = LLMChain(llm=OpenAI(temperature=0), prompt=todo_prompt)\n"
     ]
    }
   ],
   "source": [
    "from langchain.agents import AgentExecutor, Tool, ZeroShotAgent\n",
    "from langchain.chains import LLMChain\n",
    "from langchain_community.utilities import SerpAPIWrapper\n",
    "from langchain_openai import OpenAI\n",
    "\n",
    "todo_prompt = PromptTemplate.from_template(\n",
    "    \"You are a planner who is an expert at coming up with a todo list for a given objective. Come up with a todo list for this objective: {objective}\"\n",
    ")\n",
    "todo_chain = LLMChain(llm=OpenAI(temperature=0), prompt=todo_prompt)\n",
    "search = SerpAPIWrapper()\n",
    "tools = [\n",
    "    Tool(\n",
    "        name=\"Search\",\n",
    "        func=search.run,\n",
    "        description=\"useful for when you need to answer questions about current events\",\n",
    "    ),\n",
    "    Tool(\n",
    "        name=\"TODO\",\n",
    "        func=todo_chain.run,\n",
    "        description=\"useful for when you need to come up with todo lists. Input: an objective to create a todo list for. Output: a todo list for that objective. Please be very clear what the objective is!\",\n",
    "    ),\n",
    "]\n",
    "\n",
    "\n",
    "prefix = \"\"\"You are an AI who performs one task based on the following objective: {objective}. Take into account these previously completed tasks: {context}.\"\"\"\n",
    "suffix = \"\"\"Question: {task}\n",
    "{agent_scratchpad}\"\"\"\n",
    "prompt = ZeroShotAgent.create_prompt(\n",
    "    tools,\n",
    "    prefix=prefix,\n",
    "    suffix=suffix,\n",
    "    input_variables=[\"objective\", \"task\", \"context\", \"agent_scratchpad\"],\n",
    ")"
   ]
  },
  {
   "cell_type": "code",
   "execution_count": 6,
   "id": "4b00ae2e",
   "metadata": {
    "tags": []
   },
   "outputs": [
    {
     "name": "stderr",
     "output_type": "stream",
     "text": [
      "/var/folders/qp/3cxfqxvd0dq7rn_xc3tvtcz00000gp/T/ipykernel_8835/3064747660.py:4: LangChainDeprecationWarning: The class `ZeroShotAgent` was deprecated in LangChain 0.1.0 and will be removed in 1.0. Use :meth:`~create_react_agent` instead.\n",
      "  agent = ZeroShotAgent(llm_chain=llm_chain, allowed_tools=tool_names)\n"
     ]
    }
   ],
   "source": [
    "llm = OpenAI(temperature=0)\n",
    "llm_chain = LLMChain(llm=llm, prompt=prompt)\n",
    "tool_names = [tool.name for tool in tools]\n",
    "agent = ZeroShotAgent(llm_chain=llm_chain, allowed_tools=tool_names)\n",
    "agent_executor = AgentExecutor.from_agent_and_tools(\n",
    "    agent=agent, tools=tools, verbose=True\n",
    ")"
   ]
  },
  {
   "cell_type": "markdown",
   "id": "05ba762e",
   "metadata": {},
   "source": [
    "### Run the BabyAGI\n",
    "\n",
    "Now it's time to create the BabyAGI controller and watch it try to accomplish your objective."
   ]
  },
  {
   "cell_type": "code",
   "execution_count": 7,
   "id": "3d220b69",
   "metadata": {
    "tags": []
   },
   "outputs": [],
   "source": [
    "OBJECTIVE = \"Write the top 5 recommendations of places to visit in Berlin\"\n"
   ]
  },
  {
   "cell_type": "code",
   "execution_count": 8,
   "id": "3d69899b",
   "metadata": {
    "tags": []
   },
   "outputs": [],
   "source": [
    "# Logging of LLMChains\n",
    "verbose = False\n",
    "# If None, will keep on going forever\n",
    "max_iterations: Optional[int] = 3\n",
    "baby_agi = BabyAGI.from_llm(\n",
    "    llm=llm,\n",
    "    vectorstore=vectorstore,\n",
    "    task_execution_chain=agent_executor,\n",
    "    verbose=verbose,\n",
    "    max_iterations=max_iterations,\n",
    ")"
   ]
  },
  {
   "cell_type": "code",
   "execution_count": 9,
   "id": "f7957b51",
   "metadata": {
    "tags": []
   },
   "outputs": [
    {
     "name": "stderr",
     "output_type": "stream",
     "text": [
      "/var/folders/qp/3cxfqxvd0dq7rn_xc3tvtcz00000gp/T/ipykernel_8835/628940203.py:1: LangChainDeprecationWarning: The method `Chain.__call__` was deprecated in langchain 0.1.0 and will be removed in 1.0. Use :meth:`~invoke` instead.\n",
      "  baby_agi({\"objective\": OBJECTIVE})\n"
     ]
    },
    {
     "name": "stdout",
     "output_type": "stream",
     "text": [
      "\u001b[95m\u001b[1m\n",
      "*****TASK LIST*****\n",
      "\u001b[0m\u001b[0m\n",
      "1: Make a todo list\n",
      "\u001b[92m\u001b[1m\n",
      "*****NEXT TASK*****\n",
      "\u001b[0m\u001b[0m\n",
      "1: Make a todo list\n",
      "\n",
      "\n",
      "\u001b[1m> Entering new AgentExecutor chain...\u001b[0m\n",
      "\u001b[32;1m\u001b[1;3mThought: I should consider the objective of creating a todo list\n",
      "Action: TODO\n",
      "Action Input: objective\u001b[0m\n",
      "Observation: \u001b[33;1m\u001b[1;3m\n",
      "\n",
      "1. Define the objective: The first step in creating a todo list is to clearly define the objective. This will help guide all the tasks and actions that need to be completed.\n",
      "\n",
      "2. Set a timeline: Determine a realistic timeline for completing the objective. This will help prioritize tasks and ensure that everything is completed in a timely manner.\n",
      "\n",
      "3. Identify key tasks: Break down the objective into smaller, manageable tasks. This will make it easier to tackle and ensure that nothing is overlooked.\n",
      "\n",
      "4. Assign responsibilities: Determine who will be responsible for each task. This will help ensure accountability and make sure that all tasks are completed.\n",
      "\n",
      "5. Gather necessary resources: Identify any resources that will be needed to complete the objective. This could include materials, equipment, or team members with specific skills.\n",
      "\n",
      "6. Create a schedule: Once all tasks and responsibilities have been identified, create a schedule or timeline for completing each task. This will help keep everyone on track and ensure that the objective is completed on time.\n",
      "\n",
      "7. Monitor progress: Regularly check in on the progress of the objective. This will help identify any potential issues or delays and allow for adjustments to be made if necessary.\n",
      "\n",
      "8. Communicate with team members: Keep all team members informed and updated on the progress of the objective\u001b[0m\n",
      "Thought:\u001b[32;1m\u001b[1;3m I now know the final answer\n",
      "Final Answer: The final answer is a comprehensive todo list that outlines all the necessary steps to complete the objective.\u001b[0m\n",
      "\n",
      "\u001b[1m> Finished chain.\u001b[0m\n",
      "\u001b[93m\u001b[1m\n",
      "*****TASK RESULT*****\n",
      "\u001b[0m\u001b[0m\n",
      "The final answer is a comprehensive todo list that outlines all the necessary steps to complete the objective.\n",
      "\u001b[95m\u001b[1m\n",
      "*****TASK LIST*****\n",
      "\u001b[0m\u001b[0m\n",
      "1: Create a list of must-visit historical sites in Berlin\n",
      "2: Research top tourist attractions in Berlin\n",
      "3: Compile a list of popular restaurants and cafes in Berlin\n",
      "4: Gather information on the best shopping areas in Berlin\n",
      "5: Create a list of recommended walking tours in Berlin\n",
      "\u001b[92m\u001b[1m\n",
      "*****NEXT TASK*****\n",
      "\u001b[0m\u001b[0m\n",
      "1: Create a list of must-visit historical sites in Berlin\n",
      "\n",
      "\n",
      "\u001b[1m> Entering new AgentExecutor chain...\u001b[0m\n",
      "\u001b[32;1m\u001b[1;3mThought: I should search for popular historical sites in Berlin\n",
      "Action: Search\n",
      "Action Input: \"must-visit historical sites in Berlin\"\u001b[0m\n",
      "Observation: \u001b[36;1m\u001b[1;3m[{'position': 1, 'block_position': 'top', 'title': 'Third Reich Berlin: Hitler and WWII Walking Tour', 'price': '$21', 'extracted_price': 21, 'link': 'https://www.viator.com/en-us/berlin/d488-ttd', 'source': 'Viator', 'rating': 4.9, 'reviews': 1500, 'reviews_original': '1.5K', 'thumbnail': 'https://encrypted-tbn0.gstatic.com/images?q=tbn:ANd9GcQw4hwZ23f6A4a8ceDjF_xZhYGbDXYqVUqR17Ho0es4PspwHA&s=4', 'extensions': ['Free cancellation']}, {'position': 2, 'block_position': 'top', 'title': 'Berlin Off-the-Beaten-Path Walking Tour: Kreuzberg, Mitte and Friedrichshain', 'price': '$27', 'extracted_price': 27, 'link': 'https://www.viator.com/en-us/berlin/d488-ttd', 'source': 'Viator', 'rating': 4.8, 'reviews': 381, 'reviews_original': '381', 'thumbnail': 'https://encrypted-tbn0.gstatic.com/images?q=tbn:ANd9GcR_zjblsAq0ZnpIS5MiFh1JxrVBJiB-CCQbEUCIqAP2OKyqxA&s=4', 'extensions': ['Free cancellation']}, {'position': 3, 'block_position': 'top', 'title': 'Sachsenhausen Concentration Camp Memorial Tour from Berlin', 'price': '$32', 'extracted_price': 32, 'link': 'https://www.viator.com/en-us/berlin/d488-ttd', 'source': 'Viator', 'rating': 4.8, 'reviews': 3000, 'reviews_original': '3K', 'thumbnail': 'https://encrypted-tbn0.gstatic.com/images?q=tbn:ANd9GcTWF1tH-Zy6OgOOROmUiVB_v619G3OINcC2gqBOMWnQslVqbw&s=4', 'extensions': ['Free cancellation']}]\u001b[0m\n",
      "Thought:\u001b[32;1m\u001b[1;3m I should create a todo list with these historical sites\n",
      "Action: TODO\n",
      "Action Input: \"must-visit historical sites in Berlin\"\u001b[0m\n",
      "Observation: \u001b[33;1m\u001b[1;3m\n",
      "\n",
      "1. Research and make a list of the top historical sites in Berlin.\n",
      "2. Prioritize the list based on personal interests and time constraints.\n",
      "3. Create a budget for transportation, entrance fees, and any other necessary expenses.\n",
      "4. Book flights or train tickets to Berlin.\n",
      "5. Reserve accommodations near the historical sites.\n",
      "6. Plan a daily itinerary, including which sites to visit on each day.\n",
      "7. Purchase tickets or make reservations for any guided tours or special events at the historical sites.\n",
      "8. Familiarize yourself with the history and significance of each site before visiting.\n",
      "9. Pack appropriate clothing and footwear for walking and exploring.\n",
      "10. Bring a camera or other means of capturing memories at each site.\n",
      "11. Plan for meals and snacks throughout the day, considering any dietary restrictions or preferences.\n",
      "12. Research and plan for any additional activities or attractions near the historical sites.\n",
      "13. Make copies of important documents, such as passports and travel insurance, and keep them in a safe place.\n",
      "14. Notify friends or family of your travel plans and provide them with a copy of your itinerary.\n",
      "15. Enjoy and immerse yourself in the rich history and culture of Berlin while visiting the historical sites.\u001b[0m\n",
      "Thought:\u001b[32;1m\u001b[1;3m I now know the final answer\n",
      "Final Answer: The top 5 recommendations of places to visit in Berlin are: 1) Third Reich Berlin: Hitler and WWII Walking Tour, 2) Berlin Off-the-Beaten-Path Walking Tour: Kreuzberg, Mitte and Friedrichshain, 3) Sachsenhausen Concentration Camp Memorial Tour from Berlin, 4) Brandenburg Gate, and 5) Berlin Wall Memorial.\u001b[0m\n",
      "\n",
      "\u001b[1m> Finished chain.\u001b[0m\n",
      "\u001b[93m\u001b[1m\n",
      "*****TASK RESULT*****\n",
      "\u001b[0m\u001b[0m\n",
      "The top 5 recommendations of places to visit in Berlin are: 1) Third Reich Berlin: Hitler and WWII Walking Tour, 2) Berlin Off-the-Beaten-Path Walking Tour: Kreuzberg, Mitte and Friedrichshain, 3) Sachsenhausen Concentration Camp Memorial Tour from Berlin, 4) Brandenburg Gate, and 5) Berlin Wall Memorial.\n",
      "\u001b[95m\u001b[1m\n",
      "*****TASK LIST*****\n",
      "\u001b[0m\u001b[0m\n",
      "1: Compile a list of popular restaurants and cafes in Berlin\n",
      "2: Gather information on the best shopping areas in Berlin\n",
      "3: Create a list of recommended walking tours in Berlin\n",
      "4: Research top tourist attractions in Berlin\n",
      "5: Research top historical sites in Berlin and create a list of lesser-known but equally significant locations.\n",
      "6: Compile a list of traditional German restaurants and cafes in Berlin, highlighting local specialties.\n",
      "7: Gather information on the best markets and flea markets in Berlin for a unique shopping experience.\n",
      "8: Create a list of recommended bike tours in Berlin, showcasing the city's beautiful parks and landmarks.\n",
      "9: Research and compile a list of free museums and galleries in Berlin for budget-friendly sightseeing.\n",
      "\u001b[92m\u001b[1m\n",
      "*****NEXT TASK*****\n",
      "\u001b[0m\u001b[0m\n",
      "1: Compile a list of popular restaurants and cafes in Berlin\n",
      "\n",
      "\n",
      "\u001b[1m> Entering new AgentExecutor chain...\u001b[0m\n",
      "\u001b[32;1m\u001b[1;3mThought: I should search for popular restaurants and cafes in Berlin\n",
      "Action: Search\n",
      "Action Input: \"popular restaurants and cafes in Berlin\"\u001b[0m\n",
      "Observation: \u001b[36;1m\u001b[1;3m{'type': 'organic_result', 'title': 'THE 10 BEST Restaurants in Berlin (Updated October 2024)', 'source': 'Tripadvisor'}\u001b[0m\n",
      "Thought:\u001b[32;1m\u001b[1;3m I should extract the top 10 results from the observation\n",
      "Action: Extract\n",
      "Action Input: top 10 results\u001b[0m\n",
      "Observation: Extract is not a valid tool, try one of [Search, TODO].\n",
      "Thought:\u001b[32;1m\u001b[1;3m I should use the search results to create a todo list\n",
      "Action: TODO\n",
      "Action Input: \"Create a todo list for popular restaurants and cafes in Berlin\"\u001b[0m\n",
      "Observation: \u001b[33;1m\u001b[1;3m\n",
      "\n",
      "1. Research popular restaurants and cafes in Berlin\n",
      "2. Make a list of top-rated restaurants and cafes based on customer reviews and ratings\n",
      "3. Determine the location and opening hours of each restaurant and cafe\n",
      "4. Create a budget for dining at each location\n",
      "5. Decide on the type of cuisine or atmosphere desired for each meal\n",
      "6. Make reservations for high-demand restaurants or cafes\n",
      "7. Plan transportation to and from each location\n",
      "8. Consider dietary restrictions or preferences of group members\n",
      "9. Create a schedule for visiting each restaurant and cafe\n",
      "10. Prioritize must-try dishes or specialties at each location\n",
      "11. Plan for potential wait times or lines at popular restaurants and cafes\n",
      "12. Research any special events or promotions happening at the chosen locations\n",
      "13. Make note of any dress codes or recommended attire for each restaurant or cafe\n",
      "14. Create a backup plan in case a chosen location is closed or fully booked\n",
      "15. Share the final todo list with group members and make any necessary adjustments.\u001b[0m\n",
      "Thought:\u001b[32;1m\u001b[1;3m I now know the final answer\n",
      "Final Answer: The top 5 recommendations of places to visit in Berlin are: 1) Brandenburg Gate, 2) Berlin Wall Memorial, 3) Reichstag Building, 4) Checkpoint Charlie, and 5) Museum Island.\u001b[0m\n",
      "\n",
      "\u001b[1m> Finished chain.\u001b[0m\n",
      "\u001b[93m\u001b[1m\n",
      "*****TASK RESULT*****\n",
      "\u001b[0m\u001b[0m\n",
      "The top 5 recommendations of places to visit in Berlin are: 1) Brandenburg Gate, 2) Berlin Wall Memorial, 3) Reichstag Building, 4) Checkpoint Charlie, and 5) Museum Island.\n",
      "\u001b[91m\u001b[1m\n",
      "*****TASK ENDING*****\n",
      "\u001b[0m\u001b[0m\n"
     ]
    },
    {
     "data": {
      "text/plain": [
       "{'objective': 'Write the top 5 recommendations of places to visit in Berlin'}"
      ]
     },
     "execution_count": 9,
     "metadata": {},
     "output_type": "execute_result"
    }
   ],
   "source": [
    "baby_agi({\"objective\": OBJECTIVE})\n"
   ]
  },
  {
   "cell_type": "code",
   "execution_count": null,
   "id": "898a210b",
   "metadata": {},
   "outputs": [],
   "source": []
  }
 ],
 "metadata": {
  "kernelspec": {
   "display_name": "base",
   "language": "python",
   "name": "python3"
  },
  "language_info": {
   "codemirror_mode": {
    "name": "ipython",
    "version": 3
   },
   "file_extension": ".py",
   "mimetype": "text/x-python",
   "name": "python",
   "nbconvert_exporter": "python",
   "pygments_lexer": "ipython3",
   "version": "3.12.4"
  }
 },
 "nbformat": 4,
 "nbformat_minor": 5
}
