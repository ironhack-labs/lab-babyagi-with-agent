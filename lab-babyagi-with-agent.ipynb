{
 "cells": [
  {
   "cell_type": "markdown",
   "id": "1cdba6f7-142d-4dd2-96f6-a13bb5d978ce",
   "metadata": {},
   "source": [
    "# Lab | BabyAGI with agent\n",
    "\n",
    "**Change the planner objective below by changing the objective and the associated prompts and potential tools and agents - Wear your creativity and AI engineering hats\n",
    "You can't get this wrong!**\n",
    "\n",
    "You would need the OpenAI API KEY and the [SerpAPI KEY](https://serpapi.com/manage-api-keyhttps://serpapi.com/manage-api-key) to run this lab.\n"
   ]
  },
  {
   "cell_type": "markdown",
   "id": "517a9fd4",
   "metadata": {},
   "source": [
    "## BabyAGI with Tools\n",
    "\n",
    "This notebook builds on top of [baby agi](baby_agi.html), but shows how you can swap out the execution chain. The previous execution chain was just an LLM which made stuff up. By swapping it out with an agent that has access to tools, we can hopefully get real reliable information"
   ]
  },
  {
   "cell_type": "markdown",
   "id": "556af556",
   "metadata": {},
   "source": [
    "## Install and Import Required Modules"
   ]
  },
  {
   "cell_type": "code",
   "execution_count": 3,
   "id": "e894d7fb",
   "metadata": {},
   "outputs": [
    {
     "name": "stdout",
     "output_type": "stream",
     "text": [
      "0.3.4\n",
      "Requirement already satisfied: langchain in /opt/anaconda3/lib/python3.12/site-packages (0.3.4)\n",
      "Requirement already satisfied: langchain-experimental in /opt/anaconda3/lib/python3.12/site-packages (0.3.2)\n",
      "Requirement already satisfied: langchain-openai in /opt/anaconda3/lib/python3.12/site-packages (0.2.3)\n",
      "Requirement already satisfied: PyYAML>=5.3 in /opt/anaconda3/lib/python3.12/site-packages (from langchain) (6.0.1)\n",
      "Requirement already satisfied: SQLAlchemy<3,>=1.4 in /opt/anaconda3/lib/python3.12/site-packages (from langchain) (2.0.30)\n",
      "Requirement already satisfied: aiohttp<4.0.0,>=3.8.3 in /opt/anaconda3/lib/python3.12/site-packages (from langchain) (3.9.5)\n",
      "Requirement already satisfied: langchain-core<0.4.0,>=0.3.12 in /opt/anaconda3/lib/python3.12/site-packages (from langchain) (0.3.12)\n",
      "Requirement already satisfied: langchain-text-splitters<0.4.0,>=0.3.0 in /opt/anaconda3/lib/python3.12/site-packages (from langchain) (0.3.0)\n",
      "Requirement already satisfied: langsmith<0.2.0,>=0.1.17 in /opt/anaconda3/lib/python3.12/site-packages (from langchain) (0.1.136)\n",
      "Requirement already satisfied: numpy<2.0.0,>=1.26.0 in /opt/anaconda3/lib/python3.12/site-packages (from langchain) (1.26.4)\n",
      "Requirement already satisfied: pydantic<3.0.0,>=2.7.4 in /opt/anaconda3/lib/python3.12/site-packages (from langchain) (2.9.2)\n",
      "Requirement already satisfied: requests<3,>=2 in /opt/anaconda3/lib/python3.12/site-packages (from langchain) (2.32.2)\n",
      "Requirement already satisfied: tenacity!=8.4.0,<10,>=8.1.0 in /opt/anaconda3/lib/python3.12/site-packages (from langchain) (8.5.0)\n",
      "Requirement already satisfied: langchain-community<0.4.0,>=0.3.0 in /opt/anaconda3/lib/python3.12/site-packages (from langchain-experimental) (0.3.3)\n",
      "Requirement already satisfied: openai<2.0.0,>=1.52.0 in /opt/anaconda3/lib/python3.12/site-packages (from langchain-openai) (1.52.1)\n",
      "Requirement already satisfied: tiktoken<1,>=0.7 in /opt/anaconda3/lib/python3.12/site-packages (from langchain-openai) (0.8.0)\n",
      "Requirement already satisfied: aiosignal>=1.1.2 in /opt/anaconda3/lib/python3.12/site-packages (from aiohttp<4.0.0,>=3.8.3->langchain) (1.2.0)\n",
      "Requirement already satisfied: attrs>=17.3.0 in /opt/anaconda3/lib/python3.12/site-packages (from aiohttp<4.0.0,>=3.8.3->langchain) (23.1.0)\n",
      "Requirement already satisfied: frozenlist>=1.1.1 in /opt/anaconda3/lib/python3.12/site-packages (from aiohttp<4.0.0,>=3.8.3->langchain) (1.4.0)\n",
      "Requirement already satisfied: multidict<7.0,>=4.5 in /opt/anaconda3/lib/python3.12/site-packages (from aiohttp<4.0.0,>=3.8.3->langchain) (6.0.4)\n",
      "Requirement already satisfied: yarl<2.0,>=1.0 in /opt/anaconda3/lib/python3.12/site-packages (from aiohttp<4.0.0,>=3.8.3->langchain) (1.9.3)\n",
      "Requirement already satisfied: dataclasses-json<0.7,>=0.5.7 in /opt/anaconda3/lib/python3.12/site-packages (from langchain-community<0.4.0,>=0.3.0->langchain-experimental) (0.6.7)\n",
      "Requirement already satisfied: pydantic-settings<3.0.0,>=2.4.0 in /opt/anaconda3/lib/python3.12/site-packages (from langchain-community<0.4.0,>=0.3.0->langchain-experimental) (2.5.2)\n",
      "Requirement already satisfied: jsonpatch<2.0,>=1.33 in /opt/anaconda3/lib/python3.12/site-packages (from langchain-core<0.4.0,>=0.3.12->langchain) (1.33)\n",
      "Requirement already satisfied: packaging<25,>=23.2 in /opt/anaconda3/lib/python3.12/site-packages (from langchain-core<0.4.0,>=0.3.12->langchain) (23.2)\n",
      "Requirement already satisfied: typing-extensions>=4.7 in /opt/anaconda3/lib/python3.12/site-packages (from langchain-core<0.4.0,>=0.3.12->langchain) (4.11.0)\n",
      "Requirement already satisfied: httpx<1,>=0.23.0 in /opt/anaconda3/lib/python3.12/site-packages (from langsmith<0.2.0,>=0.1.17->langchain) (0.27.0)\n",
      "Requirement already satisfied: orjson<4.0.0,>=3.9.14 in /opt/anaconda3/lib/python3.12/site-packages (from langsmith<0.2.0,>=0.1.17->langchain) (3.10.7)\n",
      "Requirement already satisfied: requests-toolbelt<2.0.0,>=1.0.0 in /opt/anaconda3/lib/python3.12/site-packages (from langsmith<0.2.0,>=0.1.17->langchain) (1.0.0)\n",
      "Requirement already satisfied: anyio<5,>=3.5.0 in /opt/anaconda3/lib/python3.12/site-packages (from openai<2.0.0,>=1.52.0->langchain-openai) (4.2.0)\n",
      "Requirement already satisfied: distro<2,>=1.7.0 in /opt/anaconda3/lib/python3.12/site-packages (from openai<2.0.0,>=1.52.0->langchain-openai) (1.9.0)\n",
      "Requirement already satisfied: jiter<1,>=0.4.0 in /opt/anaconda3/lib/python3.12/site-packages (from openai<2.0.0,>=1.52.0->langchain-openai) (0.5.0)\n",
      "Requirement already satisfied: sniffio in /opt/anaconda3/lib/python3.12/site-packages (from openai<2.0.0,>=1.52.0->langchain-openai) (1.3.0)\n",
      "Requirement already satisfied: tqdm>4 in /opt/anaconda3/lib/python3.12/site-packages (from openai<2.0.0,>=1.52.0->langchain-openai) (4.66.4)\n",
      "Requirement already satisfied: annotated-types>=0.6.0 in /opt/anaconda3/lib/python3.12/site-packages (from pydantic<3.0.0,>=2.7.4->langchain) (0.6.0)\n",
      "Requirement already satisfied: pydantic-core==2.23.4 in /opt/anaconda3/lib/python3.12/site-packages (from pydantic<3.0.0,>=2.7.4->langchain) (2.23.4)\n",
      "Requirement already satisfied: charset-normalizer<4,>=2 in /opt/anaconda3/lib/python3.12/site-packages (from requests<3,>=2->langchain) (2.0.4)\n",
      "Requirement already satisfied: idna<4,>=2.5 in /opt/anaconda3/lib/python3.12/site-packages (from requests<3,>=2->langchain) (3.7)\n",
      "Requirement already satisfied: urllib3<3,>=1.21.1 in /opt/anaconda3/lib/python3.12/site-packages (from requests<3,>=2->langchain) (2.2.2)\n",
      "Requirement already satisfied: certifi>=2017.4.17 in /opt/anaconda3/lib/python3.12/site-packages (from requests<3,>=2->langchain) (2024.8.30)\n",
      "Requirement already satisfied: regex>=2022.1.18 in /opt/anaconda3/lib/python3.12/site-packages (from tiktoken<1,>=0.7->langchain-openai) (2023.10.3)\n",
      "Requirement already satisfied: marshmallow<4.0.0,>=3.18.0 in /opt/anaconda3/lib/python3.12/site-packages (from dataclasses-json<0.7,>=0.5.7->langchain-community<0.4.0,>=0.3.0->langchain-experimental) (3.22.0)\n",
      "Requirement already satisfied: typing-inspect<1,>=0.4.0 in /opt/anaconda3/lib/python3.12/site-packages (from dataclasses-json<0.7,>=0.5.7->langchain-community<0.4.0,>=0.3.0->langchain-experimental) (0.9.0)\n",
      "Requirement already satisfied: httpcore==1.* in /opt/anaconda3/lib/python3.12/site-packages (from httpx<1,>=0.23.0->langsmith<0.2.0,>=0.1.17->langchain) (1.0.2)\n",
      "Requirement already satisfied: h11<0.15,>=0.13 in /opt/anaconda3/lib/python3.12/site-packages (from httpcore==1.*->httpx<1,>=0.23.0->langsmith<0.2.0,>=0.1.17->langchain) (0.14.0)\n",
      "Requirement already satisfied: jsonpointer>=1.9 in /opt/anaconda3/lib/python3.12/site-packages (from jsonpatch<2.0,>=1.33->langchain-core<0.4.0,>=0.3.12->langchain) (2.1)\n",
      "Requirement already satisfied: python-dotenv>=0.21.0 in /opt/anaconda3/lib/python3.12/site-packages (from pydantic-settings<3.0.0,>=2.4.0->langchain-community<0.4.0,>=0.3.0->langchain-experimental) (0.21.0)\n",
      "Requirement already satisfied: mypy-extensions>=0.3.0 in /opt/anaconda3/lib/python3.12/site-packages (from typing-inspect<1,>=0.4.0->dataclasses-json<0.7,>=0.5.7->langchain-community<0.4.0,>=0.3.0->langchain-experimental) (1.0.0)\n"
     ]
    }
   ],
   "source": [
    "import langchain\n",
    "print(langchain.__version__)\n",
    "!pip install --upgrade langchain langchain-experimental langchain-openai\n",
    "from typing import Optional\n",
    "from langchain.chains import LLMChain\n",
    "from langchain.prompts import PromptTemplate\n",
    "from langchain_experimental.autonomous_agents import BabyAGI\n",
    "from langchain_openai import OpenAI, OpenAIEmbeddings\n"
   ]
  },
  {
   "cell_type": "code",
   "execution_count": 4,
   "id": "c8a354b6",
   "metadata": {
    "tags": []
   },
   "outputs": [],
   "source": [
    "from typing import Optional\n",
    "\n",
    "from langchain.chains import LLMChain\n",
    "from langchain.prompts import PromptTemplate\n",
    "from langchain_experimental.autonomous_agents import BabyAGI\n",
    "from langchain_openai import OpenAI, OpenAIEmbeddings"
   ]
  },
  {
   "cell_type": "markdown",
   "id": "09f70772",
   "metadata": {},
   "source": [
    "## Connect to the Vector Store\n",
    "\n",
    "Depending on what vectorstore you use, this step may look different."
   ]
  },
  {
   "cell_type": "code",
   "execution_count": 7,
   "id": "794045d4",
   "metadata": {
    "tags": []
   },
   "outputs": [
    {
     "name": "stdout",
     "output_type": "stream",
     "text": [
      "Note: you may need to restart the kernel to use updated packages.\n",
      "Note: you may need to restart the kernel to use updated packages.\n"
     ]
    }
   ],
   "source": [
    "%pip install faiss-cpu > /dev/null\n",
    "%pip install google-search-results > /dev/null\n",
    "from langchain.docstore import InMemoryDocstore\n",
    "from langchain_community.vectorstores import FAISS"
   ]
  },
  {
   "cell_type": "code",
   "execution_count": 8,
   "id": "c4164841-915d-4c60-8a47-3a502a5cf71d",
   "metadata": {
    "tags": []
   },
   "outputs": [],
   "source": [
    "import os\n",
    "from dotenv import load_dotenv, find_dotenv\n",
    "_ = load_dotenv(find_dotenv())\n",
    "\n",
    "OPENAI_API_KEY  = os.getenv('OPENAI_API_KEY')\n",
    "SERPAPI_API_KEY = os.getenv('SERPAPI_API_KEY')"
   ]
  },
  {
   "cell_type": "code",
   "execution_count": 9,
   "id": "6e0305eb",
   "metadata": {
    "tags": []
   },
   "outputs": [
    {
     "name": "stderr",
     "output_type": "stream",
     "text": [
      "`embedding_function` is expected to be an Embeddings object, support for passing in a function will soon be removed.\n"
     ]
    }
   ],
   "source": [
    "# Define your embedding model\n",
    "embeddings_model = OpenAIEmbeddings()\n",
    "# Initialize the vectorstore as empty\n",
    "import faiss\n",
    "\n",
    "embedding_size = 1536\n",
    "index = faiss.IndexFlatL2(embedding_size)\n",
    "vectorstore = FAISS(embeddings_model.embed_query, index, InMemoryDocstore({}), {})"
   ]
  },
  {
   "cell_type": "markdown",
   "id": "0f3b72bf",
   "metadata": {},
   "source": [
    "## Define the Chains\n",
    "\n",
    "BabyAGI relies on three LLM chains:\n",
    "- Task creation chain to select new tasks to add to the list\n",
    "- Task prioritization chain to re-prioritize tasks\n",
    "- Execution Chain to execute the tasks\n",
    "\n",
    "\n",
    "NOTE: in this notebook, the Execution chain will now be an agent."
   ]
  },
  {
   "cell_type": "code",
   "execution_count": 10,
   "id": "b43cd580",
   "metadata": {
    "tags": []
   },
   "outputs": [
    {
     "name": "stderr",
     "output_type": "stream",
     "text": [
      "/var/folders/cw/hgl5p7pd36gfh8z1d954r9bw0000gn/T/ipykernel_77940/842275654.py:9: LangChainDeprecationWarning: The class `LLMChain` was deprecated in LangChain 0.1.17 and will be removed in 1.0. Use :meth:`~RunnableSequence, e.g., `prompt | llm`` instead.\n",
      "  todo_chain = LLMChain(llm=OpenAI(temperature=0), prompt=todo_prompt)\n"
     ]
    }
   ],
   "source": [
    "from langchain.agents import AgentExecutor, Tool, ZeroShotAgent\n",
    "from langchain.chains import LLMChain\n",
    "from langchain_community.utilities import SerpAPIWrapper\n",
    "from langchain_openai import OpenAI\n",
    "\n",
    "todo_prompt = PromptTemplate.from_template(\n",
    "    \"You are a planner who is an expert at coming up with a todo list for a given objective. Come up with a todo list for this objective: {objective}\"\n",
    ")\n",
    "todo_chain = LLMChain(llm=OpenAI(temperature=0), prompt=todo_prompt)\n",
    "search = SerpAPIWrapper()\n",
    "tools = [\n",
    "    Tool(\n",
    "        name=\"Search\",\n",
    "        func=search.run,\n",
    "        description=\"useful for when you need to answer questions about current events\",\n",
    "    ),\n",
    "    Tool(\n",
    "        name=\"TODO\",\n",
    "        func=todo_chain.run,\n",
    "        description=\"useful for when you need to come up with todo lists. Input: an objective to create a todo list for. Output: a todo list for that objective. Please be very clear what the objective is!\",\n",
    "    ),\n",
    "]\n",
    "\n",
    "\n",
    "prefix = \"\"\"You are an AI who performs one task based on the following objective: {objective}. Take into account these previously completed tasks: {context}.\"\"\"\n",
    "suffix = \"\"\"Question: {task}\n",
    "{agent_scratchpad}\"\"\"\n",
    "prompt = ZeroShotAgent.create_prompt(\n",
    "    tools,\n",
    "    prefix=prefix,\n",
    "    suffix=suffix,\n",
    "    input_variables=[\"objective\", \"task\", \"context\", \"agent_scratchpad\"],\n",
    ")"
   ]
  },
  {
   "cell_type": "code",
   "execution_count": 11,
   "id": "4b00ae2e",
   "metadata": {
    "tags": []
   },
   "outputs": [
    {
     "name": "stderr",
     "output_type": "stream",
     "text": [
      "/var/folders/cw/hgl5p7pd36gfh8z1d954r9bw0000gn/T/ipykernel_77940/3064747660.py:4: LangChainDeprecationWarning: The class `ZeroShotAgent` was deprecated in LangChain 0.1.0 and will be removed in 1.0. Use :meth:`~create_react_agent` instead.\n",
      "  agent = ZeroShotAgent(llm_chain=llm_chain, allowed_tools=tool_names)\n"
     ]
    }
   ],
   "source": [
    "llm = OpenAI(temperature=0)\n",
    "llm_chain = LLMChain(llm=llm, prompt=prompt)\n",
    "tool_names = [tool.name for tool in tools]\n",
    "agent = ZeroShotAgent(llm_chain=llm_chain, allowed_tools=tool_names)\n",
    "agent_executor = AgentExecutor.from_agent_and_tools(\n",
    "    agent=agent, tools=tools, verbose=True\n",
    ")"
   ]
  },
  {
   "cell_type": "markdown",
   "id": "05ba762e",
   "metadata": {},
   "source": [
    "### Run the BabyAGI\n",
    "\n",
    "Now it's time to create the BabyAGI controller and watch it try to accomplish your objective."
   ]
  },
  {
   "cell_type": "code",
   "execution_count": 12,
   "id": "3d220b69",
   "metadata": {
    "tags": []
   },
   "outputs": [],
   "source": [
    "OBJECTIVE = \"Write a weather report for SF today\""
   ]
  },
  {
   "cell_type": "code",
   "execution_count": 14,
   "id": "3d69899b",
   "metadata": {
    "tags": []
   },
   "outputs": [],
   "source": [
    "# Logging of LLMChains\n",
    "verbose = False\n",
    "# If None, will keep on going forever\n",
    "max_iterations: Optional[int] = 3\n",
    "baby_agi = BabyAGI.from_llm(\n",
    "    llm=llm,\n",
    "    vectorstore=vectorstore,\n",
    "    task_execution_chain=agent_executor,\n",
    "    verbose=verbose,\n",
    "    max_iterations=max_iterations,\n",
    ")"
   ]
  },
  {
   "cell_type": "code",
   "execution_count": 15,
   "id": "f7957b51",
   "metadata": {
    "tags": []
   },
   "outputs": [
    {
     "name": "stderr",
     "output_type": "stream",
     "text": [
      "/var/folders/cw/hgl5p7pd36gfh8z1d954r9bw0000gn/T/ipykernel_77940/3867971396.py:1: LangChainDeprecationWarning: The method `Chain.__call__` was deprecated in langchain 0.1.0 and will be removed in 1.0. Use :meth:`~invoke` instead.\n",
      "  baby_agi({\"objective\": OBJECTIVE})\n"
     ]
    },
    {
     "name": "stdout",
     "output_type": "stream",
     "text": [
      "\u001b[95m\u001b[1m\n",
      "*****TASK LIST*****\n",
      "\u001b[0m\u001b[0m\n",
      "1: Make a todo list\n",
      "\u001b[92m\u001b[1m\n",
      "*****NEXT TASK*****\n",
      "\u001b[0m\u001b[0m\n",
      "1: Make a todo list\n",
      "\n",
      "\n",
      "\u001b[1m> Entering new AgentExecutor chain...\u001b[0m\n",
      "\u001b[32;1m\u001b[1;3mThought: I should use the TODO action to create a todo list\n",
      "Action: TODO\n",
      "Action Input: \"Create a todo list for writing a weather report for SF today\"\u001b[0m\n",
      "Observation: \u001b[33;1m\u001b[1;3m\n",
      "\n",
      "1. Gather necessary information: Start by researching the current weather conditions in San Francisco. This includes temperature, humidity, wind speed, and any potential weather events such as rain or fog.\n",
      "\n",
      "2. Determine the target audience: Consider who will be reading the weather report and tailor the language and level of detail accordingly. For example, a report for a general audience may require simpler language and less technical information compared to a report for a meteorology class.\n",
      "\n",
      "3. Choose a format: Decide on the format for the weather report. This could be a written article, a video, or a visual graphic. Consider which format would be most effective for conveying the information to the target audience.\n",
      "\n",
      "4. Create an outline: Before diving into writing, create an outline to organize the information and ensure all important details are included. This will also help with the flow and structure of the report.\n",
      "\n",
      "5. Start with an attention-grabbing introduction: Begin the report with a brief overview of the current weather conditions in San Francisco and any notable events or changes.\n",
      "\n",
      "6. Provide detailed information: Use the gathered information to provide a thorough and accurate description of the weather. Include specific numbers and measurements, as well as any relevant historical data or comparisons.\n",
      "\n",
      "7. Use visuals: Incorporate visuals such as maps\u001b[0m\n",
      "Thought:\u001b[32;1m\u001b[1;3m I should also consider using visuals to enhance the report\n",
      "Action: TODO\n",
      "Action Input: \"Include visuals such as maps and charts to enhance the weather report\"\u001b[0m\n",
      "Observation: \u001b[33;1m\u001b[1;3m\n",
      "\n",
      "1. Determine the purpose of the weather report: Before creating any visuals, it is important to understand the purpose of the weather report. Is it for a news broadcast, a presentation, or a written report? This will help guide the type and amount of visuals needed.\n",
      "\n",
      "2. Research and gather data: Start by gathering all the necessary data for the weather report. This can include temperature, precipitation, wind speed, and any other relevant information. Make sure to gather data from reliable sources.\n",
      "\n",
      "3. Choose the appropriate visuals: Based on the purpose of the weather report, choose the appropriate visuals to enhance the presentation. This can include maps, charts, graphs, and images. Consider using a combination of visuals to provide a comprehensive overview of the weather.\n",
      "\n",
      "4. Create a visual hierarchy: When incorporating visuals, it is important to create a visual hierarchy to guide the viewer's attention. This can be done by using different sizes, colors, and placement of the visuals.\n",
      "\n",
      "5. Use clear and concise labels: Make sure to label all visuals clearly and concisely. This will help the audience understand the information being presented and avoid confusion.\n",
      "\n",
      "6. Use relevant and accurate visuals: It is important to use visuals that accurately represent the data being presented. Avoid using generic or outdated visuals\u001b[0m\n",
      "Thought:\u001b[32;1m\u001b[1;3m I should also proofread and edit the report before finalizing it\n",
      "Action: TODO\n",
      "Action Input: \"Proofread and edit the weather report for accuracy and clarity\"\u001b[0m\n",
      "Observation: \u001b[33;1m\u001b[1;3m\n",
      "\n",
      "1. Review the weather report thoroughly to get a general understanding of the content and purpose.\n",
      "2. Check for any spelling or grammatical errors and correct them.\n",
      "3. Verify the accuracy of all the information presented in the report, including temperatures, precipitation, and wind speeds.\n",
      "4. Make sure the report is written in a clear and concise manner, avoiding any confusing or ambiguous language.\n",
      "5. Double-check all data and statistics to ensure they are up-to-date and accurate.\n",
      "6. Pay attention to the formatting and layout of the report, making sure it is visually appealing and easy to read.\n",
      "7. Use reliable sources to fact-check any information that may seem questionable.\n",
      "8. Consider the target audience and make adjustments to the language and tone accordingly.\n",
      "9. Proofread the report multiple times to catch any overlooked errors or inconsistencies.\n",
      "10. Have someone else review the report for a fresh perspective and to catch any mistakes that may have been missed.\n",
      "11. Make necessary revisions and edits based on feedback and suggestions.\n",
      "12. Finalize the report and ensure it is ready for publication or distribution.\u001b[0m\n",
      "Thought:\u001b[32;1m\u001b[1;3m I now know the final answer\n",
      "Final Answer: To create a todo list for writing a weather report for SF today, follow these steps: gather necessary information, determine the target audience, choose a format, create an outline, start with an attention-grabbing introduction, provide detailed information, use visuals, proofread and edit the report.\u001b[0m\n",
      "\n",
      "\u001b[1m> Finished chain.\u001b[0m\n",
      "\u001b[93m\u001b[1m\n",
      "*****TASK RESULT*****\n",
      "\u001b[0m\u001b[0m\n",
      "To create a todo list for writing a weather report for SF today, follow these steps: gather necessary information, determine the target audience, choose a format, create an outline, start with an attention-grabbing introduction, provide detailed information, use visuals, proofread and edit the report.\n",
      "\u001b[95m\u001b[1m\n",
      "*****TASK LIST*****\n",
      "\u001b[0m\u001b[0m\n",
      "1: Determine the target audience for the weather report (local residents, tourists, etc.)\n",
      "2: Research current weather conditions in San Francisco\n",
      "3: Identify key factors to include in the weather report (temperature, precipitation, wind, etc.)\n",
      "4: Choose a format for the weather report (written, video, infographic, etc.)\n",
      "5: Create an outline for the weather report, including sections for each key factor\n",
      "6: Write an attention-grabbing introduction for the weather report\n",
      "7: Gather and include detailed information for each key factor in the report\n",
      "8: Use visuals, such as charts or images, to enhance the weather report\n",
      "9: Proofread and edit the weather report for accuracy and clarity\n",
      "10: Finalize the weather report and publish it for the target audience.\n",
      "\u001b[92m\u001b[1m\n",
      "*****NEXT TASK*****\n",
      "\u001b[0m\u001b[0m\n",
      "1: Determine the target audience for the weather report (local residents, tourists, etc.)\n",
      "\n",
      "\n",
      "\u001b[1m> Entering new AgentExecutor chain...\u001b[0m\n",
      "\u001b[32;1m\u001b[1;3mThought: I should consider the purpose of the weather report and who would benefit from it.\n",
      "Action: Search\n",
      "Action Input: \"target audience for weather report\"\u001b[0m\n",
      "Observation: \u001b[36;1m\u001b[1;3m[{'link': 'https://www.reddit.com/r/programmatic/comments/1civ82u/how_to_do_weather_targeting/', 'source': 'Reddit', 'question': \"I want to include today's weather criteria (like heavy rain, winter storm, etc.), when the weather is relevant, to my target segment criteria but also have other targeting criteria. If I had access to a national list of IPs/HEMs/MAIDs that had their weather status updated each day, how can I use it in a DSP like Beeswax or Madhive?\", 'answer': \"I'm aware of 3 ways to do this, roughly speaking - varying in complexity, flexibility and cost A) Some DSPs already have agreements with data providers for specific conditions - that is the easiest route, you can buy them as 3rdp data segments integrated into the DSP's data segment syndicated list. B) I have also heard of vendors imply they can do custom PMP deals for you where each deal ID is tied to a weather variable you want auctioned on, and they rotate the relevant Geos on top of the inventory they send you via the dealID. I have never used this option myself. C) ...the not so straightforward way, but the best way that will give you ultimate flexibility at the cost of a lot of mature infraestructure, has some prerequisites and expenses (both upfront and ongoing, such as a decent ad server, a targeting rules vendor such as Adobe target or either a DCO vendor or a creative team). This option would require you to: Buy weather data from a vendor (typically a 6m or 12m agreement, and …\", 'votes': 8}, {'link': 'https://www.quora.com/In-what-ways-does-a-weather-forecast-benefit-the-general-public', 'source': 'Quora', 'question': 'In what ways does a weather forecast benefit the general public?', 'answer': '* Safety and Preparedness: Accurate predictions enable people to make the required preparations and save their lives and property in the case of extreme weather events like storms, hurricanes, or heatwaves. • Weather predictions help travellers plan their trips, taking into account the possibility of delays brought on by unfavourable weather conditions. • outside Activities: By using weather forecasts to organise outside activities like sports, events, and picnics, people may make the experience more pleasurable. • Agriculture and farming: To maximise crop output and minimise losses, farmers base their decisions about planting, harvesting, and irrigation on weather forecasts. • Weather predictions are used by utility companies and energy suppliers to forecast demand, manage energy resources effectively, and guarantee a steady supply.', 'votes': 1}]\u001b[0m\n",
      "Thought:\u001b[32;1m\u001b[1;3m Based on the observations, it seems like the target audience for the weather report would be a mix of local residents and tourists, as both groups can benefit from knowing the weather conditions.\n",
      "Action: TODO\n",
      "Action Input: \"Create a todo list for determining the target audience for the weather report\"\u001b[0m\n",
      "Observation: \u001b[33;1m\u001b[1;3m\n",
      "\n",
      "1. Define the purpose of the weather report: Before determining the target audience, it is important to clearly define the purpose of the weather report. Is it for a specific region or for a general audience? Is it for daily updates or for special events? This will help in identifying the target audience.\n",
      "\n",
      "2. Conduct market research: Conducting market research will help in understanding the demographics, interests, and needs of the potential audience for the weather report. This can be done through surveys, focus groups, or analyzing data from previous weather reports.\n",
      "\n",
      "3. Identify the key stakeholders: Identify the key stakeholders who will benefit from the weather report. This could include local businesses, event organizers, or government agencies. Understanding their needs and preferences will help in determining the target audience.\n",
      "\n",
      "4. Analyze the competition: Look at other weather reports in the same region or for the same target audience. This will give an idea of what is already being offered and how to differentiate the weather report to attract the target audience.\n",
      "\n",
      "5. Determine the target audience demographics: Based on the market research and analysis, determine the key demographics of the target audience such as age, gender, location, income level, etc. This will help in tailoring the weather report to their specific needs.\n",
      "\n",
      "6. Consider the\u001b[0m\n",
      "Thought:\u001b[32;1m\u001b[1;3m With these steps, I have a clear understanding of the target audience for the weather report.\n",
      "Final Answer: The target audience for the weather report would be a mix of local residents and tourists, with a focus on safety and preparedness, outside activities, agriculture and farming, and utility companies and energy suppliers.\u001b[0m\n",
      "\n",
      "\u001b[1m> Finished chain.\u001b[0m\n",
      "\u001b[93m\u001b[1m\n",
      "*****TASK RESULT*****\n",
      "\u001b[0m\u001b[0m\n",
      "The target audience for the weather report would be a mix of local residents and tourists, with a focus on safety and preparedness, outside activities, agriculture and farming, and utility companies and energy suppliers.\n",
      "\u001b[95m\u001b[1m\n",
      "*****TASK LIST*****\n",
      "\u001b[0m\u001b[0m\n",
      "1: Determine the current weather conditions in San Francisco and gather data from reliable sources.\n",
      "2: Analyze the data and identify any potential safety hazards or risks for local residents and tourists.\n",
      "3: Research and gather information on outdoor activities and events happening in San Francisco today.\n",
      "4: Identify any potential impacts of the weather on agriculture and farming in the area.\n",
      "5: Research and gather information on any potential disruptions to utility services due to the weather.\n",
      "6: Create a section in the weather report specifically for safety and preparedness tips for the target audience.\n",
      "7: Develop a visually appealing format for the weather report, such as an infographic or interactive map.\n",
      "8: Write a compelling introduction that captures the attention of the target audience and highlights the key factors to be included in the report.\n",
      "9: Use visuals, such as charts or images, to enhance the weather report and make it more engaging for the target audience.\n",
      "10: Proofread and edit the weather report for accuracy and clarity, ensuring all key factors are included.\n",
      "11: Finalize the weather report and publish it for the target audience, making it easily accessible and shareable.\n",
      "12: Monitor and update the weather report as needed throughout the day to ensure the most accurate and up-to-date information is provided to the target audience\n",
      "\u001b[92m\u001b[1m\n",
      "*****NEXT TASK*****\n",
      "\u001b[0m\u001b[0m\n",
      "1: Determine the current weather conditions in San Francisco and gather data from reliable sources.\n",
      "\n",
      "\n",
      "\u001b[1m> Entering new AgentExecutor chain...\u001b[0m\n",
      "\u001b[32;1m\u001b[1;3mThought: I should use the Search action to find reliable sources for weather data.\n",
      "Action: Search\n",
      "Action Input: \"San Francisco weather conditions\"\u001b[0m\n",
      "Observation: \u001b[36;1m\u001b[1;3m{'type': 'weather_result', 'temperature': '54', 'unit': 'Fahrenheit', 'precipitation': '3%', 'humidity': '79%', 'wind': '1 mph', 'location': 'San Francisco, CA', 'date': 'Wednesday 8:00 AM', 'weather': 'Mostly sunny'}\u001b[0m\n",
      "Thought:\u001b[32;1m\u001b[1;3m I should use the TODO action to create a todo list for writing a weather report.\n",
      "Action: TODO\n",
      "Action Input: \"Write a weather report for SF today\"\u001b[0m\n",
      "Observation: \u001b[33;1m\u001b[1;3m\n",
      "\n",
      "1. Check the current weather conditions in San Francisco.\n",
      "2. Gather information on the temperature, humidity, wind speed, and precipitation.\n",
      "3. Research any potential weather patterns or systems that may affect the current conditions.\n",
      "4. Look at historical data and trends for this time of year in San Francisco.\n",
      "5. Consult with local meteorologists or weather experts for their insights and predictions.\n",
      "6. Create a rough outline or structure for the weather report, including sections for current conditions, forecast, and any notable weather events.\n",
      "7. Begin writing the report, starting with a brief overview of the current conditions.\n",
      "8. Use descriptive language and visuals (such as maps or charts) to enhance the report.\n",
      "9. Include any important safety or advisory information for the current weather conditions.\n",
      "10. Double check all information and sources for accuracy.\n",
      "11. Proofread and edit the report for clarity and conciseness.\n",
      "12. Add any relevant images or graphics to make the report visually appealing.\n",
      "13. Consider the target audience and adjust the tone and level of detail accordingly.\n",
      "14. Include a conclusion or summary of the weather report.\n",
      "15. Publish the report on the designated platform or share it with the intended audience.\u001b[0m\n",
      "Thought:\u001b[32;1m\u001b[1;3m I now know the final answer.\n",
      "Final Answer: The current weather conditions in San Francisco are mostly sunny with a temperature of 54 degrees Fahrenheit, 3% chance of precipitation, 79% humidity, and 1 mph wind. The weather report for SF today should include information on these conditions, as well as any potential weather patterns or systems, historical data, and expert insights. It should also be written in a clear and concise manner, with visuals and safety information included. The target audience for this weather report could be local residents or tourists.\u001b[0m\n",
      "\n",
      "\u001b[1m> Finished chain.\u001b[0m\n",
      "\u001b[93m\u001b[1m\n",
      "*****TASK RESULT*****\n",
      "\u001b[0m\u001b[0m\n",
      "The current weather conditions in San Francisco are mostly sunny with a temperature of 54 degrees Fahrenheit, 3% chance of precipitation, 79% humidity, and 1 mph wind. The weather report for SF today should include information on these conditions, as well as any potential weather patterns or systems, historical data, and expert insights. It should also be written in a clear and concise manner, with visuals and safety information included. The target audience for this weather report could be local residents or tourists.\n",
      "\u001b[91m\u001b[1m\n",
      "*****TASK ENDING*****\n",
      "\u001b[0m\u001b[0m\n"
     ]
    },
    {
     "data": {
      "text/plain": [
       "{'objective': 'Write a weather report for SF today'}"
      ]
     },
     "execution_count": 15,
     "metadata": {},
     "output_type": "execute_result"
    }
   ],
   "source": [
    "baby_agi({\"objective\": OBJECTIVE})"
   ]
  },
  {
   "cell_type": "code",
   "execution_count": null,
   "id": "898a210b",
   "metadata": {},
   "outputs": [],
   "source": []
  }
 ],
 "metadata": {
  "kernelspec": {
   "display_name": "Python 3 (ipykernel)",
   "language": "python",
   "name": "python3"
  },
  "language_info": {
   "codemirror_mode": {
    "name": "ipython",
    "version": 3
   },
   "file_extension": ".py",
   "mimetype": "text/x-python",
   "name": "python",
   "nbconvert_exporter": "python",
   "pygments_lexer": "ipython3",
   "version": "3.12.2"
  }
 },
 "nbformat": 4,
 "nbformat_minor": 5
}
