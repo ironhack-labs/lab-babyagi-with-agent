{
 "cells": [
  {
   "cell_type": "markdown",
   "id": "1cdba6f7-142d-4dd2-96f6-a13bb5d978ce",
   "metadata": {},
   "source": [
    "# Lab | BabyAGI with agent\n",
    "\n",
    "**Change the planner objective below by changing the objective and the associated prompts and potential tools and agents - Wear your creativity and AI engineering hats\n",
    "You can't get this wrong!**\n",
    "\n",
    "You would need the OpenAI API KEY and the [SerpAPI KEY](https://serpapi.com/manage-api-keyhttps://serpapi.com/manage-api-key) to run this lab.\n"
   ]
  },
  {
   "cell_type": "markdown",
   "id": "517a9fd4",
   "metadata": {},
   "source": [
    "## BabyAGI with Tools\n",
    "\n",
    "This notebook builds on top of [baby agi](baby_agi.html), but shows how you can swap out the execution chain. The previous execution chain was just an LLM which made stuff up. By swapping it out with an agent that has access to tools, we can hopefully get real reliable information"
   ]
  },
  {
   "cell_type": "markdown",
   "id": "556af556",
   "metadata": {},
   "source": [
    "## Install and Import Required Modules"
   ]
  },
  {
   "cell_type": "code",
   "execution_count": 1,
   "id": "c8a354b6",
   "metadata": {
    "tags": []
   },
   "outputs": [],
   "source": [
    "from typing import Optional\n",
    "\n",
    "from langchain.chains import LLMChain\n",
    "from langchain.prompts import PromptTemplate\n",
    "from langchain_experimental.autonomous_agents import BabyAGI\n",
    "from langchain_openai import OpenAI, OpenAIEmbeddings"
   ]
  },
  {
   "cell_type": "markdown",
   "id": "09f70772",
   "metadata": {},
   "source": [
    "## Connect to the Vector Store\n",
    "\n",
    "Depending on what vectorstore you use, this step may look different."
   ]
  },
  {
   "cell_type": "code",
   "execution_count": 2,
   "id": "794045d4",
   "metadata": {
    "tags": []
   },
   "outputs": [],
   "source": [
    "# %pip install faiss-cpu > /dev/null\n",
    "# %pip install google-search-results > /dev/null\n",
    "from langchain.docstore import InMemoryDocstore\n",
    "from langchain_community.vectorstores import FAISS"
   ]
  },
  {
   "cell_type": "code",
   "execution_count": 3,
   "id": "c4164841-915d-4c60-8a47-3a502a5cf71d",
   "metadata": {
    "tags": []
   },
   "outputs": [],
   "source": [
    "import os\n",
    "from dotenv import load_dotenv, find_dotenv\n",
    "_ = load_dotenv(find_dotenv())\n",
    "\n",
    "OPENAI_API_KEY  = os.getenv('OPENAI_API_KEY')\n",
    "SERPAPI_API_KEY = os.getenv('SERPAPI_API_KEY')"
   ]
  },
  {
   "cell_type": "code",
   "execution_count": 4,
   "id": "6e0305eb",
   "metadata": {
    "tags": []
   },
   "outputs": [
    {
     "name": "stderr",
     "output_type": "stream",
     "text": [
      "`embedding_function` is expected to be an Embeddings object, support for passing in a function will soon be removed.\n"
     ]
    }
   ],
   "source": [
    "# Define your embedding model\n",
    "embeddings_model = OpenAIEmbeddings()\n",
    "# Initialize the vectorstore as empty\n",
    "import faiss\n",
    "\n",
    "embedding_size = 1536\n",
    "index = faiss.IndexFlatL2(embedding_size)\n",
    "vectorstore = FAISS(embeddings_model.embed_query, index, InMemoryDocstore({}), {})"
   ]
  },
  {
   "cell_type": "markdown",
   "id": "0f3b72bf",
   "metadata": {},
   "source": [
    "## Define the Chains\n",
    "\n",
    "BabyAGI relies on three LLM chains:\n",
    "- Task creation chain to select new tasks to add to the list\n",
    "- Task prioritization chain to re-prioritize tasks\n",
    "- Execution Chain to execute the tasks\n",
    "\n",
    "\n",
    "NOTE: in this notebook, the Execution chain will now be an agent."
   ]
  },
  {
   "cell_type": "code",
   "execution_count": 5,
   "id": "b43cd580",
   "metadata": {
    "tags": []
   },
   "outputs": [
    {
     "name": "stderr",
     "output_type": "stream",
     "text": [
      "/var/folders/dy/909n7xmj5_70npk7nknw102m0000gn/T/ipykernel_14916/842275654.py:9: LangChainDeprecationWarning: The class `LLMChain` was deprecated in LangChain 0.1.17 and will be removed in 1.0. Use :meth:`~RunnableSequence, e.g., `prompt | llm`` instead.\n",
      "  todo_chain = LLMChain(llm=OpenAI(temperature=0), prompt=todo_prompt)\n"
     ]
    }
   ],
   "source": [
    "from langchain.agents import AgentExecutor, Tool, ZeroShotAgent\n",
    "from langchain.chains import LLMChain\n",
    "from langchain_community.utilities import SerpAPIWrapper\n",
    "from langchain_openai import OpenAI\n",
    "\n",
    "todo_prompt = PromptTemplate.from_template(\n",
    "    \"You are a planner who is an expert at coming up with a todo list for a given objective. Come up with a todo list for this objective: {objective}\"\n",
    ")\n",
    "todo_chain = LLMChain(llm=OpenAI(temperature=0), prompt=todo_prompt)\n",
    "search = SerpAPIWrapper()\n",
    "tools = [\n",
    "    Tool(\n",
    "        name=\"Search\",\n",
    "        func=search.run,\n",
    "        description=\"useful for when you need to answer questions about current events\",\n",
    "    ),\n",
    "    Tool(\n",
    "        name=\"TODO\",\n",
    "        func=todo_chain.run,\n",
    "        description=\"useful for when you need to come up with todo lists. Input: an objective to create a todo list for. Output: a todo list for that objective. Please be very clear what the objective is!\",\n",
    "    ),\n",
    "]\n",
    "\n",
    "\n",
    "prefix = \"\"\"You are an AI who performs one task based on the following objective: {objective}. Take into account these previously completed tasks: {context}.\"\"\"\n",
    "suffix = \"\"\"Question: {task}\n",
    "{agent_scratchpad}\"\"\"\n",
    "prompt = ZeroShotAgent.create_prompt(\n",
    "    tools,\n",
    "    prefix=prefix,\n",
    "    suffix=suffix,\n",
    "    input_variables=[\"objective\", \"task\", \"context\", \"agent_scratchpad\"],\n",
    ")"
   ]
  },
  {
   "cell_type": "code",
   "execution_count": 6,
   "id": "4b00ae2e",
   "metadata": {
    "tags": []
   },
   "outputs": [
    {
     "name": "stderr",
     "output_type": "stream",
     "text": [
      "/var/folders/dy/909n7xmj5_70npk7nknw102m0000gn/T/ipykernel_14916/3064747660.py:4: LangChainDeprecationWarning: The class `ZeroShotAgent` was deprecated in LangChain 0.1.0 and will be removed in 1.0. Use :meth:`~create_react_agent` instead.\n",
      "  agent = ZeroShotAgent(llm_chain=llm_chain, allowed_tools=tool_names)\n"
     ]
    }
   ],
   "source": [
    "llm = OpenAI(temperature=0)\n",
    "llm_chain = LLMChain(llm=llm, prompt=prompt)\n",
    "tool_names = [tool.name for tool in tools]\n",
    "agent = ZeroShotAgent(llm_chain=llm_chain, allowed_tools=tool_names)\n",
    "agent_executor = AgentExecutor.from_agent_and_tools(\n",
    "    agent=agent, tools=tools, verbose=True\n",
    ")"
   ]
  },
  {
   "cell_type": "markdown",
   "id": "05ba762e",
   "metadata": {},
   "source": [
    "### Run the BabyAGI\n",
    "\n",
    "Now it's time to create the BabyAGI controller and watch it try to accomplish your objective."
   ]
  },
  {
   "cell_type": "code",
   "execution_count": 7,
   "id": "3d220b69",
   "metadata": {
    "tags": []
   },
   "outputs": [],
   "source": [
    "OBJECTIVE = \"Write a weather report for Madrid today\""
   ]
  },
  {
   "cell_type": "code",
   "execution_count": 8,
   "id": "3d69899b",
   "metadata": {
    "tags": []
   },
   "outputs": [],
   "source": [
    "# Logging of LLMChains\n",
    "verbose = False\n",
    "# If None, will keep on going forever\n",
    "max_iterations: Optional[int] = 3\n",
    "baby_agi = BabyAGI.from_llm(\n",
    "    llm=llm,\n",
    "    vectorstore=vectorstore,\n",
    "    task_execution_chain=agent_executor,\n",
    "    verbose=verbose,\n",
    "    max_iterations=max_iterations,\n",
    ")"
   ]
  },
  {
   "cell_type": "code",
   "execution_count": 9,
   "id": "f7957b51",
   "metadata": {
    "tags": []
   },
   "outputs": [
    {
     "name": "stderr",
     "output_type": "stream",
     "text": [
      "/var/folders/dy/909n7xmj5_70npk7nknw102m0000gn/T/ipykernel_14916/3867971396.py:1: LangChainDeprecationWarning: The method `Chain.__call__` was deprecated in langchain 0.1.0 and will be removed in 1.0. Use :meth:`~invoke` instead.\n",
      "  baby_agi({\"objective\": OBJECTIVE})\n"
     ]
    },
    {
     "name": "stdout",
     "output_type": "stream",
     "text": [
      "\u001b[95m\u001b[1m\n",
      "*****TASK LIST*****\n",
      "\u001b[0m\u001b[0m\n",
      "1: Make a todo list\n",
      "\u001b[92m\u001b[1m\n",
      "*****NEXT TASK*****\n",
      "\u001b[0m\u001b[0m\n",
      "1: Make a todo list\n",
      "\n",
      "\n",
      "\u001b[1m> Entering new AgentExecutor chain...\u001b[0m\n",
      "\u001b[32;1m\u001b[1;3mThought: I should create a todo list for the objective of writing a weather report for Madrid today\n",
      "Action: TODO\n",
      "Action Input: Write a weather report for Madrid today\u001b[0m\n",
      "Observation: \u001b[33;1m\u001b[1;3m\n",
      "\n",
      "1. Check the current weather conditions in Madrid using reliable sources such as the National Weather Service or local news outlets.\n",
      "2. Gather information on the temperature, humidity, wind speed, and any potential weather events (e.g. rain, thunderstorms) for the day.\n",
      "3. Research the average weather patterns for Madrid during this time of year to provide context for the report.\n",
      "4. Begin drafting the report, including a brief overview of the current weather conditions and any notable changes from the average patterns.\n",
      "5. Use descriptive language and visuals (such as charts or maps) to enhance the report and make it more engaging for readers.\n",
      "6. Include any relevant safety information or precautions for the current weather conditions.\n",
      "7. Double-check all information and ensure accuracy before finalizing the report.\n",
      "8. Consider including a section on the forecast for the upcoming days to provide readers with a longer-term outlook.\n",
      "9. Proofread and edit the report for clarity, grammar, and spelling errors.\n",
      "10. Publish the report on the designated platform or share it with the appropriate audience.\u001b[0m\n",
      "Thought:\u001b[32;1m\u001b[1;3m I have completed all the necessary steps to create a comprehensive weather report for Madrid today.\n",
      "Final Answer: The final answer is a todo list for creating a weather report for Madrid today, including steps such as gathering information, drafting the report, and publishing it.\u001b[0m\n",
      "\n",
      "\u001b[1m> Finished chain.\u001b[0m\n",
      "\u001b[93m\u001b[1m\n",
      "*****TASK RESULT*****\n",
      "\u001b[0m\u001b[0m\n",
      "The final answer is a todo list for creating a weather report for Madrid today, including steps such as gathering information, drafting the report, and publishing it.\n",
      "\u001b[95m\u001b[1m\n",
      "*****TASK LIST*****\n",
      "\u001b[0m\u001b[0m\n",
      "1: Gather information for Madrid weather report\n",
      "2: Draft the weather report for Madrid\n",
      "3: Check for accuracy and make any necessary revisions\n",
      "4: Research and include relevant statistics and data in the weather report\n",
      "5: Collaborate with other weather experts for additional insights\n",
      "6: Analyze and interpret the data for future weather predictions in Madrid\n",
      "7: Create a visually appealing layout for the weather report\n",
      "8: Publish the weather report on appropriate platforms\n",
      "9: Monitor and update the weather report as needed\n",
      "10: Create a social media post promoting the weather report\n",
      "\u001b[92m\u001b[1m\n",
      "*****NEXT TASK*****\n",
      "\u001b[0m\u001b[0m\n",
      "1: Gather information for Madrid weather report\n",
      "\n",
      "\n",
      "\u001b[1m> Entering new AgentExecutor chain...\u001b[0m\n",
      "\u001b[32;1m\u001b[1;3mThought: I should search for current weather conditions in Madrid\n",
      "Action: Search\n",
      "Action Input: \"Madrid weather\"\u001b[0m\n",
      "Observation: \u001b[36;1m\u001b[1;3m{'type': 'weather_result', 'temperature': '67', 'unit': 'Fahrenheit', 'precipitation': '1%', 'humidity': '61%', 'wind': '3 mph', 'location': 'Madrid, Spain', 'date': 'Wednesday 4:00 PM', 'weather': 'Partly cloudy'}\u001b[0m\n",
      "Thought:\u001b[32;1m\u001b[1;3m I should also check for any weather alerts or warnings\n",
      "Action: Search\n",
      "Action Input: \"Madrid weather alerts\"\u001b[0m\n",
      "Observation: \u001b[36;1m\u001b[1;3m['See a list of all of the Official Weather Advisories, Warnings, and Severe Weather Alerts for Madrid, Madrid, Spain.', 'Elev 2194 ft, 40.42 °N, 3.7 °W. Madrid, Madrid, Spain Severe Weather Alertstar_ratehome. icon 59 °F INFANTAS. MADRID CENTRAL Station|Report. Report Station.', 'Quick access to active weather alerts throughout Valdeacederas, Madrid, Spain from The Weather Channel and Weather.com.', 'Official severe weather warnings near Madrid City Center ... Severe weather warnings are provided to meteoblue by more than 80 official agencies worldwide.', 'Day by day forecast ; Tonight · A clear sky and light winds · 53° · 10 ; Wednesday 23rd OctoberWed 23rd · Sunny intervals and light winds · High21° 70° · 53° · 10 ...', 'Overview map of active weather alerts for Madrid. ... Severe weather warnings Madrid. today. tomorrow. Sunday. Thunderstorm. Heavy rain.', 'Hourly Weather · 1 AM 58°. rain drop 2% · 2 AM 58°. rain drop 5% · 3 AM 57°.', 'Quick access to active weather alerts throughout La Estación y Pajares, Madrid, Spain from The Weather Channel and Weather.com.', 'Overview map of active Madrid weather alerts. ... Weather Alerts Madrid. today. tomorrow. Tuesday. Thunderstorm. Heavy Rain. High Winds.', \"71° | 54°. 57 °F. like 57°. icon. Mostly Cloudy. N. 1. Gusts 1 °mph. Today's temperature is forecast to be COOLER than yesterday. Radar; Satellite. WunderMap.\"]\u001b[0m\n",
      "Thought:\u001b[32;1m\u001b[1;3m I should also take note of the current temperature and any changes in weather patterns\n",
      "Action: Search\n",
      "Action Input: \"Madrid weather patterns\"\u001b[0m\n",
      "Observation: \u001b[36;1m\u001b[1;3m['In Madrid, the summers are short, hot, dry, and mostly clear and the winters are very cold and partly cloudy. Over the course of the year, the temperature ...', 'Madrid will surprise you with its intense, enveloping blue sky. With a dry climate and little rainfall, the city has hot summers and cold winters.', 'July is the hottest month in Madrid with an average temperature of 25°C (76°F) and the coldest is January at 6°C (42°F) with the most daily sunshine hours at 11 ...', 'Annual Weather Averages Near Madrid ; July (79 °F avg) · January (44 °F avg) · October (2.44\" avg) · April (13 mph avg).', 'The climate of Madrid is moderately continental, with quite cold, relatively rainy winters and hot, sunny summers. The city is the capital of Spain and is ...', 'According to the Troll-Paffen climate classification, Madrid has warm-temperate subtropical climate (Warmgemäßigt-subtropisches Zonenklima) and according to ...', 'The most pleasant warm weather falls between May and mid July when average temperatures are between 20 and 32 degrees Celsius (68°F - 90°F).', \"July and August are Madrid's hottest months. Daytime temperatures will stay at 31°C (88°F) or above, but there are many unbearably hot days at 35°C to 40° ...\", 'Madrid weather averages and climate information ; Average daily max (°C) · 10.9, 13.3 ; Average relative humdity (%) · 77, 68 ; Average total rainfall (mm) · 31, 28 ...', 'There is little rainfall throughout the year. The Köppen-Geiger climate classification is BSk. In Madrid, the mean yearly temperature amounts to 14.5 °C | 58.0 ...']\u001b[0m\n",
      "Thought:\u001b[32;1m\u001b[1;3m I should also consider the time of day and how it may affect the weather\n",
      "Action: Search\n",
      "Action Input: \"Madrid weather at 4 PM\"\u001b[0m\n",
      "Observation: \u001b[36;1m\u001b[1;3m{'type': 'weather_result', 'temperature': '70', 'unit': 'Fahrenheit', 'precipitation': '10%', 'humidity': '60%', 'wind': '4 mph', 'location': 'Madrid, Spain', 'date': 'Wednesday', 'weather': 'Partly cloudy'}\u001b[0m\n",
      "Thought:\u001b[32;1m\u001b[1;3m I should also check for any potential weather hazards or disruptions\n",
      "Action: Search\n",
      "Action Input: \"Madrid weather hazards\"\u001b[0m\n",
      "Observation: \u001b[36;1m\u001b[1;3m['Storms. Cyclones, hurricanes, and typhoons are different names for the same weather phenomenon: a rotating storm with extreme wind speeds and torrential rain.', 'Cloudy skies early, then partly cloudy in the afternoon. High 68F. Winds light and variable.', 'See a list of all of the Official Weather Advisories, Warnings, and Severe Weather Alerts for Madrid, Madrid, Spain ... Record dry conditions spark wildfire fears ...', 'Areas of very low or low wildfire hazard could see an increase in hazard, as climate projections indicate an expansion of the wildfire hazard zone.', 'Madrid, Madrid, Spain Forecast · Morning. 59°. Chance of Rain2% · Afternoon. 70°. Chance of Rain0% · Evening. 63°. Chance of Rain2% · Overnight. 57°. Chance of ...', 'Earthquakes can cause secondary hazards that include fires, landslides, floods (can be triggered by failing dams and embankments, glacial lake outbursts, or by ...', 'Madrid is at its best in the spring, even though you will risk getting some rainfall during March, April and even May. March and April bring temperatures of ...', 'With heat waves expected to increase in frequency, intensity and duration, Madrid City Council turned to Zurich Resilience Solutions to help the Spanish ...', 'Madrid, Madrid, Spain Forecast · Morning. 13°. -- · Afternoon. 22°. Chance of Rain0% · Evening. 17°. Chance of Rain2% · Overnight. 13°. Chance of Rain3% ...', 'Historical Hazards ; Drought \\u200b Drought ; Earthquake \\u200b Earthquake ; Epidemic \\u200b Epidemic ; Extreme temperature \\u200b Extreme temperature ; Flood \\u200b Flood ...']\u001b[0m\n",
      "Thought:\u001b[32;1m\u001b[1;3m I should also consider the overall climate and weather patterns in Madrid\n",
      "Action: Search\n",
      "Action Input: \"Madrid climate\"\u001b[0m\n",
      "Observation: \u001b[36;1m\u001b[1;3m['Madrid has hot summers and relatively cool winters with somewhat frequent frosts (15 days have lows under 0 °C (32 °F) on average) and occasional snowfalls, ...', 'Over the course of the year, the temperature typically varies from 33°F to 92°F and is rarely below 23°F or above 99°F.', 'Madrid will surprise you with its intense, enveloping blue sky. With a dry climate and little rainfall, the city has hot summers and cold winters.', 'The climate of Madrid is moderately continental, with quite cold, relatively rainy winters and hot, sunny summers.', \"July and August are Madrid's hottest months. Daytime temperatures will stay at 31°C (88°F) or above, but there are many unbearably hot days at 35°C to 40°C.\", 'Temperatures peak throughout the summer months with an average daily maximum temperature of 34 °C in July, while in winter the average daily maximum drops to 11 ...', 'The most pleasant warm weather falls between May and mid July when average temperatures are between 20 and 32 degrees Celsius (68°F - 90°F).', 'Get the monthly weather forecast for Madrid, Madrid, Spain, including daily high/low, historical averages, to help you plan ahead.', 'July is the hottest month in Madrid with an average temperature of 25°C (76°F) and the coldest is January at 6°C (42°F) with the most daily sunshine hours at 11 ...', 'In Madrid, the mean yearly temperature amounts to 14.5 °C | 58.0 °F. Each year, there is an approximate 415 mm | 16.3 inch of precipitation that occurs.']\u001b[0m\n",
      "Thought:\u001b[32;1m\u001b[1;3m I now know the final answer\n",
      "Final Answer: Today in Madrid, the weather is partly cloudy with a temperature of 67 degrees Fahrenheit and a low chance of precipitation. The overall climate in Madrid is hot in the summer and cold in the winter, with occasional snowfalls and frosts. It is important to be aware of potential weather hazards, such as storms and wildfires, and to stay updated on any weather alerts or warnings. Overall, Madrid has a dry climate with little rainfall and intense blue skies.\u001b[0m\n",
      "\n",
      "\u001b[1m> Finished chain.\u001b[0m\n",
      "\u001b[93m\u001b[1m\n",
      "*****TASK RESULT*****\n",
      "\u001b[0m\u001b[0m\n",
      "Today in Madrid, the weather is partly cloudy with a temperature of 67 degrees Fahrenheit and a low chance of precipitation. The overall climate in Madrid is hot in the summer and cold in the winter, with occasional snowfalls and frosts. It is important to be aware of potential weather hazards, such as storms and wildfires, and to stay updated on any weather alerts or warnings. Overall, Madrid has a dry climate with little rainfall and intense blue skies.\n",
      "\u001b[95m\u001b[1m\n",
      "*****TASK LIST*****\n",
      "\u001b[0m\u001b[0m\n",
      "1: Collect data on current weather conditions in Madrid\n",
      "2: Analyze and interpret data to determine temperature, precipitation, and other relevant factors\n",
      "3: Collaborate with other weather experts to gather additional insights and information\n",
      "4: Draft the weather report for Madrid, including all relevant data and statistics\n",
      "5: Check for accuracy and make any necessary revisions to the weather report\n",
      "6: Create a visually appealing layout for the weather report, including graphics and charts\n",
      "7: Publish the weather report on appropriate platforms, such as a website or news outlet\n",
      "8: Monitor and update the weather report as needed, taking into account any changes in weather conditions\n",
      "9: Create a social media post promoting the weather report to reach a wider audience\n",
      "10: Research and include relevant statistics and data in the weather report to provide a comprehensive overview of Madrid's climate\n",
      "\u001b[92m\u001b[1m\n",
      "*****NEXT TASK*****\n",
      "\u001b[0m\u001b[0m\n",
      "1: Collect data on current weather conditions in Madrid\n",
      "\n",
      "\n",
      "\u001b[1m> Entering new AgentExecutor chain...\u001b[0m\n",
      "\u001b[32;1m\u001b[1;3mThought: I should use the Search function to gather information on Madrid's weather.\n",
      "Action: Search\n",
      "Action Input: \"Madrid weather\"\u001b[0m\n",
      "Observation: \u001b[36;1m\u001b[1;3m{'type': 'weather_result', 'temperature': '67', 'unit': 'Fahrenheit', 'precipitation': '1%', 'humidity': '61%', 'wind': '3 mph', 'location': 'Madrid, Spain', 'date': 'Wednesday 4:00 PM', 'weather': 'Partly cloudy'}\u001b[0m\n",
      "Thought:\u001b[32;1m\u001b[1;3m I should use the TODO function to create a todo list for writing a weather report.\n",
      "Action: TODO\n",
      "Action Input: \"Write a weather report for Madrid today\"\u001b[0m\n",
      "Observation: \u001b[33;1m\u001b[1;3m\n",
      "\n",
      "1. Check the current weather conditions in Madrid using reliable sources such as the National Weather Service or local news outlets.\n",
      "2. Gather information on the temperature, humidity, wind speed, and any potential weather events (e.g. rain, thunderstorms) for the day.\n",
      "3. Research the average weather patterns for Madrid during this time of year to provide context for the report.\n",
      "4. Begin drafting the report, including a brief overview of the current weather conditions and any notable changes from the average patterns.\n",
      "5. Use descriptive language and visuals (such as charts or maps) to enhance the report and make it more engaging for readers.\n",
      "6. Include any important safety information or precautions that may be necessary for the current weather conditions.\n",
      "7. Double check all information and make any necessary edits or revisions.\n",
      "8. Proofread the report for grammar and spelling errors.\n",
      "9. Consider adding additional information, such as historical weather data or expert insights, to provide a more comprehensive report.\n",
      "10. Publish the report on a reliable platform, such as a news website or social media, for easy access to readers.\n",
      "11. Monitor the weather throughout the day and provide updates or revisions to the report as needed.\n",
      "12. Engage with readers by responding to comments or questions about the weather report.\n",
      "\u001b[0m\n",
      "Thought:\u001b[32;1m\u001b[1;3m I now know the final answer.\n",
      "Final Answer: The current weather conditions in Madrid are partly cloudy with a temperature of 67 degrees Fahrenheit, 61% humidity, and 3 mph winds. There is a 1% chance of precipitation. Use reliable sources and average weather patterns to create a comprehensive weather report for Madrid today.\u001b[0m\n",
      "\n",
      "\u001b[1m> Finished chain.\u001b[0m\n",
      "\u001b[93m\u001b[1m\n",
      "*****TASK RESULT*****\n",
      "\u001b[0m\u001b[0m\n",
      "The current weather conditions in Madrid are partly cloudy with a temperature of 67 degrees Fahrenheit, 61% humidity, and 3 mph winds. There is a 1% chance of precipitation. Use reliable sources and average weather patterns to create a comprehensive weather report for Madrid today.\n",
      "\u001b[91m\u001b[1m\n",
      "*****TASK ENDING*****\n",
      "\u001b[0m\u001b[0m\n"
     ]
    },
    {
     "data": {
      "text/plain": [
       "{'objective': 'Write a weather report for Madrid today'}"
      ]
     },
     "execution_count": 9,
     "metadata": {},
     "output_type": "execute_result"
    }
   ],
   "source": [
    "baby_agi({\"objective\": OBJECTIVE})"
   ]
  },
  {
   "cell_type": "code",
   "execution_count": null,
   "id": "898a210b",
   "metadata": {},
   "outputs": [],
   "source": []
  }
 ],
 "metadata": {
  "kernelspec": {
   "display_name": "Python 3",
   "language": "python",
   "name": "python3"
  },
  "language_info": {
   "codemirror_mode": {
    "name": "ipython",
    "version": 3
   },
   "file_extension": ".py",
   "mimetype": "text/x-python",
   "name": "python",
   "nbconvert_exporter": "python",
   "pygments_lexer": "ipython3",
   "version": "3.12.7"
  }
 },
 "nbformat": 4,
 "nbformat_minor": 5
}
