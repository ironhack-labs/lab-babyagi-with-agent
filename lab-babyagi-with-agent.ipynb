{
 "cells": [
  {
   "cell_type": "markdown",
   "id": "1cdba6f7-142d-4dd2-96f6-a13bb5d978ce",
   "metadata": {},
   "source": [
    "# Lab | BabyAGI with agent\n",
    "\n",
    "**Change the planner objective below by changing the objective and the associated prompts and potential tools and agents - Wear your creativity and AI engineering hats\n",
    "You can't get this wrong!**\n",
    "\n",
    "You would need the OpenAI API KEY and the [SerpAPI KEY](https://serpapi.com/manage-api-keyhttps://serpapi.com/manage-api-key) to run this lab.\n"
   ]
  },
  {
   "cell_type": "markdown",
   "id": "517a9fd4",
   "metadata": {},
   "source": [
    "## BabyAGI with Tools\n",
    "\n",
    "This notebook builds on top of [baby agi](baby_agi.html), but shows how you can swap out the execution chain. The previous execution chain was just an LLM which made stuff up. By swapping it out with an agent that has access to tools, we can hopefully get real reliable information"
   ]
  },
  {
   "cell_type": "markdown",
   "id": "556af556",
   "metadata": {},
   "source": [
    "## Install and Import Required Modules"
   ]
  },
  {
   "cell_type": "code",
   "id": "c8a354b6",
   "metadata": {
    "tags": [],
    "ExecuteTime": {
     "end_time": "2024-10-23T08:48:48.136438Z",
     "start_time": "2024-10-23T08:48:46.347689Z"
    }
   },
   "source": [
    "from typing import Optional\n",
    "\n",
    "from langchain.chains import LLMChain\n",
    "from langchain.prompts import PromptTemplate\n",
    "from langchain_experimental.autonomous_agents import BabyAGI\n",
    "from langchain_openai import OpenAI, OpenAIEmbeddings"
   ],
   "outputs": [],
   "execution_count": 1
  },
  {
   "cell_type": "markdown",
   "id": "09f70772",
   "metadata": {},
   "source": [
    "## Connect to the Vector Store\n",
    "\n",
    "Depending on what vectorstore you use, this step may look different."
   ]
  },
  {
   "cell_type": "code",
   "id": "794045d4",
   "metadata": {
    "tags": [],
    "ExecuteTime": {
     "end_time": "2024-10-23T08:48:51.535260Z",
     "start_time": "2024-10-23T08:48:51.519757Z"
    }
   },
   "source": [
    "# %pip install faiss-cpu > /dev/null\n",
    "# %pip install google-search-results > /dev/null\n",
    "from langchain.docstore import InMemoryDocstore\n",
    "from langchain_community.vectorstores import FAISS"
   ],
   "outputs": [],
   "execution_count": 2
  },
  {
   "cell_type": "code",
   "id": "c4164841-915d-4c60-8a47-3a502a5cf71d",
   "metadata": {
    "tags": [],
    "ExecuteTime": {
     "end_time": "2024-10-23T08:52:26.576433Z",
     "start_time": "2024-10-23T08:52:26.564021Z"
    }
   },
   "source": [
    "import os\n",
    "from dotenv import load_dotenv, find_dotenv\n",
    "_ = load_dotenv(find_dotenv())\n",
    "\n",
    "OPENAI_API_KEY  = os.getenv('OPENAI_API_KEY')\n",
    "SERPAPI_API_KEY = os.getenv('SERPAPI_API_KEY')"
   ],
   "outputs": [],
   "execution_count": 4
  },
  {
   "cell_type": "code",
   "id": "6e0305eb",
   "metadata": {
    "tags": [],
    "ExecuteTime": {
     "end_time": "2024-10-23T09:00:33.721609Z",
     "start_time": "2024-10-23T09:00:33.690675Z"
    }
   },
   "source": [
    "# Define your embedding model\n",
    "embeddings_model = OpenAIEmbeddings()\n",
    "# Initialize the vectorstore as empty\n",
    "import faiss\n",
    "\n",
    "embedding_size = 1536\n",
    "index = faiss.IndexFlatL2(embedding_size)\n",
    "vectorstore = FAISS(embeddings_model.embed_query, index, InMemoryDocstore({}), {})"
   ],
   "outputs": [
    {
     "name": "stderr",
     "output_type": "stream",
     "text": [
      "`embedding_function` is expected to be an Embeddings object, support for passing in a function will soon be removed.\n"
     ]
    }
   ],
   "execution_count": 13
  },
  {
   "cell_type": "markdown",
   "id": "0f3b72bf",
   "metadata": {},
   "source": [
    "## Define the Chains\n",
    "\n",
    "BabyAGI relies on three LLM chains:\n",
    "- Task creation chain to select new tasks to add to the list\n",
    "- Task prioritization chain to re-prioritize tasks\n",
    "- Execution Chain to execute the tasks\n",
    "\n",
    "\n",
    "NOTE: in this notebook, the Execution chain will now be an agent."
   ]
  },
  {
   "cell_type": "code",
   "id": "b43cd580",
   "metadata": {
    "tags": [],
    "ExecuteTime": {
     "end_time": "2024-10-23T09:00:36.607774Z",
     "start_time": "2024-10-23T09:00:36.564506Z"
    }
   },
   "source": [
    "from langchain.agents import AgentExecutor, Tool, ZeroShotAgent\n",
    "from langchain.chains import LLMChain\n",
    "from langchain_community.utilities import SerpAPIWrapper\n",
    "from langchain_openai import OpenAI\n",
    "\n",
    "todo_prompt = PromptTemplate.from_template(\n",
    "    \"You are a planner who is an expert at coming up with a todo list for a given objective. Come up with a todo list for this objective: {objective}\"\n",
    ")\n",
    "todo_chain = LLMChain(llm=OpenAI(temperature=0), prompt=todo_prompt)\n",
    "search = SerpAPIWrapper()\n",
    "tools = [\n",
    "    Tool(\n",
    "        name=\"Search\",\n",
    "        func=search.run,\n",
    "        description=\"useful for when you need to answer questions about current events\",\n",
    "    ),\n",
    "    Tool(\n",
    "        name=\"TODO\",\n",
    "        func=todo_chain.run,\n",
    "        description=\"useful for when you need to come up with todo lists. Input: an objective to create a todo list for. Output: a todo list for that objective. Please be very clear what the objective is!\",\n",
    "    ),\n",
    "]\n",
    "\n",
    "\n",
    "prefix = \"\"\"You are an AI who performs one task based on the following objective: {objective}. Take into account these previously completed tasks: {context}.\"\"\"\n",
    "suffix = \"\"\"Question: {task}\n",
    "{agent_scratchpad}\"\"\"\n",
    "prompt = ZeroShotAgent.create_prompt(\n",
    "    tools,\n",
    "    prefix=prefix,\n",
    "    suffix=suffix,\n",
    "    input_variables=[\"objective\", \"task\", \"context\", \"agent_scratchpad\"],\n",
    ")"
   ],
   "outputs": [],
   "execution_count": 14
  },
  {
   "cell_type": "code",
   "id": "4b00ae2e",
   "metadata": {
    "tags": [],
    "ExecuteTime": {
     "end_time": "2024-10-23T09:00:40.457099Z",
     "start_time": "2024-10-23T09:00:40.420903Z"
    }
   },
   "source": [
    "llm = OpenAI(temperature=0)\n",
    "llm_chain = LLMChain(llm=llm, prompt=prompt)\n",
    "tool_names = [tool.name for tool in tools]\n",
    "agent = ZeroShotAgent(llm_chain=llm_chain, allowed_tools=tool_names)\n",
    "agent_executor = AgentExecutor.from_agent_and_tools(\n",
    "    agent=agent, tools=tools, verbose=True\n",
    ")"
   ],
   "outputs": [],
   "execution_count": 15
  },
  {
   "cell_type": "markdown",
   "id": "05ba762e",
   "metadata": {},
   "source": [
    "### Run the BabyAGI\n",
    "\n",
    "Now it's time to create the BabyAGI controller and watch it try to accomplish your objective."
   ]
  },
  {
   "cell_type": "code",
   "id": "3d220b69",
   "metadata": {
    "tags": [],
    "ExecuteTime": {
     "end_time": "2024-10-23T08:58:25.781363Z",
     "start_time": "2024-10-23T08:58:25.776564Z"
    }
   },
   "source": [
    "OBJECTIVE = \"Write a weather report for SF today\""
   ],
   "outputs": [],
   "execution_count": 9
  },
  {
   "cell_type": "code",
   "id": "3d69899b",
   "metadata": {
    "tags": [],
    "ExecuteTime": {
     "end_time": "2024-10-23T08:58:30.303552Z",
     "start_time": "2024-10-23T08:58:30.298109Z"
    }
   },
   "source": [
    "# Logging of LLMChains\n",
    "verbose = False\n",
    "# If None, will keep on going forever\n",
    "max_iterations: Optional[int] = 3\n",
    "baby_agi = BabyAGI.from_llm(\n",
    "    llm=llm,\n",
    "    vectorstore=vectorstore,\n",
    "    task_execution_chain=agent_executor,\n",
    "    verbose=verbose,\n",
    "    max_iterations=max_iterations,\n",
    ")"
   ],
   "outputs": [],
   "execution_count": 10
  },
  {
   "cell_type": "code",
   "id": "f7957b51",
   "metadata": {
    "tags": [],
    "ExecuteTime": {
     "end_time": "2024-10-23T08:59:22.675161Z",
     "start_time": "2024-10-23T08:58:32.206306Z"
    }
   },
   "source": [
    "baby_agi({\"objective\": OBJECTIVE})"
   ],
   "outputs": [
    {
     "name": "stderr",
     "output_type": "stream",
     "text": [
      "C:\\Users\\hibi9\\AppData\\Local\\Temp\\ipykernel_13888\\628940203.py:1: LangChainDeprecationWarning: The method `Chain.__call__` was deprecated in langchain 0.1.0 and will be removed in 1.0. Use :meth:`~invoke` instead.\n",
      "  baby_agi({\"objective\": OBJECTIVE})\n"
     ]
    },
    {
     "name": "stdout",
     "output_type": "stream",
     "text": [
      "\u001B[95m\u001B[1m\n",
      "*****TASK LIST*****\n",
      "\u001B[0m\u001B[0m\n",
      "1: Make a todo list\n",
      "\u001B[92m\u001B[1m\n",
      "*****NEXT TASK*****\n",
      "\u001B[0m\u001B[0m\n",
      "1: Make a todo list\n",
      "\n",
      "\n",
      "\u001B[1m> Entering new AgentExecutor chain...\u001B[0m\n",
      "\u001B[32;1m\u001B[1;3mThought: I should use the TODO action to create a todo list\n",
      "Action: TODO\n",
      "Action Input: \"Create a todo list for writing a weather report for SF today\"\u001B[0m\n",
      "Observation: \u001B[33;1m\u001B[1;3m\n",
      "\n",
      "1. Gather necessary information: Start by researching the current weather conditions in San Francisco. This includes temperature, humidity, wind speed, and any potential weather events such as rain or fog.\n",
      "\n",
      "2. Determine the target audience: Consider who will be reading the weather report and tailor the language and level of detail accordingly. For example, a report for a general audience may require simpler language and less technical information compared to a report for a meteorology class.\n",
      "\n",
      "3. Choose a format: Decide on the format for the weather report. This could be a written article, a video, or a visual graphic. Consider which format would be most effective for conveying the information to the target audience.\n",
      "\n",
      "4. Create an outline: Before diving into writing, create an outline to organize the information and ensure all important details are included. This will also help with the flow and structure of the report.\n",
      "\n",
      "5. Start with an attention-grabbing introduction: Begin the report with a brief overview of the current weather conditions in San Francisco and any notable events or changes.\n",
      "\n",
      "6. Provide detailed information: Use the gathered information to provide a thorough and accurate description of the weather. Include specific numbers and measurements, as well as any relevant historical data or comparisons.\n",
      "\n",
      "7. Use visuals: Incorporate visuals such as maps\u001B[0m\n",
      "Thought:\u001B[32;1m\u001B[1;3m I should also consider using visuals to enhance the report\n",
      "Action: TODO\n",
      "Action Input: \"Include visuals such as maps and charts to enhance the weather report\"\u001B[0m\n",
      "Observation: \u001B[33;1m\u001B[1;3m\n",
      "\n",
      "1. Determine the purpose of the weather report: Before creating any visuals, it is important to understand the purpose of the weather report. Is it for a news broadcast, a presentation, or a written report? This will help guide the type and amount of visuals needed.\n",
      "\n",
      "2. Research and gather data: Start by gathering all the necessary data for the weather report. This can include temperature, precipitation, wind speed, and any other relevant information. Make sure to gather data from reliable sources.\n",
      "\n",
      "3. Choose the appropriate visuals: Based on the purpose of the weather report, choose the appropriate visuals to enhance the presentation. This can include maps, charts, graphs, and images. Consider using a combination of visuals to provide a comprehensive overview of the weather.\n",
      "\n",
      "4. Create a visual hierarchy: When incorporating visuals, it is important to create a visual hierarchy to guide the viewer's attention. This can be done by using different sizes, colors, and placement of the visuals.\n",
      "\n",
      "5. Use clear and concise labels: Make sure to label all visuals clearly and concisely. This will help the audience understand the information being presented and avoid confusion.\n",
      "\n",
      "6. Use relevant and accurate visuals: It is important to use visuals that accurately represent the data being presented. Avoid using generic or outdated visuals\u001B[0m\n",
      "Thought:\u001B[32;1m\u001B[1;3m I should also proofread and edit the report before finalizing it\n",
      "Action: TODO\n",
      "Action Input: \"Proofread and edit the weather report for accuracy and clarity\"\u001B[0m\n",
      "Observation: \u001B[33;1m\u001B[1;3m\n",
      "\n",
      "1. Review the weather report thoroughly to get a general understanding of the content and purpose.\n",
      "2. Check for any spelling or grammatical errors and correct them.\n",
      "3. Verify the accuracy of all the information presented in the report, including temperatures, precipitation, and wind speeds.\n",
      "4. Make sure the report is written in a clear and concise manner, avoiding any confusing or ambiguous language.\n",
      "5. Double-check all data and statistics to ensure they are up-to-date and accurate.\n",
      "6. Pay attention to the formatting and layout of the report, making sure it is visually appealing and easy to read.\n",
      "7. Use reliable sources to fact-check any information that may seem questionable.\n",
      "8. Consider the target audience and make adjustments to the language and tone accordingly.\n",
      "9. Proofread the report multiple times to catch any overlooked errors or inconsistencies.\n",
      "10. Have someone else review the report for a fresh perspective and to catch any mistakes that may have been missed.\n",
      "11. Make necessary revisions and edits based on feedback and suggestions.\n",
      "12. Finalize the report and ensure it is ready for publication or distribution.\u001B[0m\n",
      "Thought:\u001B[32;1m\u001B[1;3m I now know the final answer\n",
      "Final Answer: To create a todo list for writing a weather report for SF today, follow these steps: gather necessary information, determine the target audience, choose a format, create an outline, start with an attention-grabbing introduction, provide detailed information, use visuals, proofread and edit the report.\u001B[0m\n",
      "\n",
      "\u001B[1m> Finished chain.\u001B[0m\n",
      "\u001B[93m\u001B[1m\n",
      "*****TASK RESULT*****\n",
      "\u001B[0m\u001B[0m\n",
      "To create a todo list for writing a weather report for SF today, follow these steps: gather necessary information, determine the target audience, choose a format, create an outline, start with an attention-grabbing introduction, provide detailed information, use visuals, proofread and edit the report.\n",
      "\u001B[95m\u001B[1m\n",
      "*****TASK LIST*****\n",
      "\u001B[0m\u001B[0m\n",
      "1: Determine the target audience for the weather report (local residents, tourists, etc.)\n",
      "2: Research current weather conditions in San Francisco\n",
      "3: Identify key factors to include in the weather report (temperature, precipitation, wind, etc.)\n",
      "4: Choose a format for the weather report (written, video, infographic, etc.)\n",
      "5: Create an outline for the weather report, including sections for each key factor\n",
      "6: Write an attention-grabbing introduction for the weather report\n",
      "7: Gather and include detailed information for each key factor in the report\n",
      "8: Use visuals, such as charts or images, to enhance the weather report\n",
      "9: Proofread and edit the weather report for accuracy and clarity\n",
      "10: Finalize the weather report and publish it for the target audience.\n",
      "\u001B[92m\u001B[1m\n",
      "*****NEXT TASK*****\n",
      "\u001B[0m\u001B[0m\n",
      "1: Determine the target audience for the weather report (local residents, tourists, etc.)\n",
      "\n",
      "\n",
      "\u001B[1m> Entering new AgentExecutor chain...\u001B[0m\n",
      "\u001B[32;1m\u001B[1;3mThought: I should consider the purpose of the weather report and who would benefit from it.\n",
      "Action: Search\n",
      "Action Input: \"target audience for weather report\"\u001B[0m\n",
      "Observation: \u001B[36;1m\u001B[1;3m[{'link': 'https://www.reddit.com/r/programmatic/comments/1civ82u/how_to_do_weather_targeting/', 'source': 'Reddit', 'question': \"I want to include today's weather criteria (like heavy rain, winter storm, etc.), when the weather is relevant, to my target segment criteria but also have other targeting criteria. If I had access to a national list of IPs/HEMs/MAIDs that had their weather status updated each day, how can I use it in a DSP like Beeswax or Madhive?\", 'answer': \"I'm aware of 3 ways to do this, roughly speaking - varying in complexity, flexibility and cost A) Some DSPs already have agreements with data providers for specific conditions - that is the easiest route, you can buy them as 3rdp data segments integrated into the DSP's data segment syndicated list. B) I have also heard of vendors imply they can do custom PMP deals for you where each deal ID is tied to a weather variable you want auctioned on, and they rotate the relevant Geos on top of the inventory they send you via the dealID. I have never used this option myself. C) ...the not so straightforward way, but the best way that will give you ultimate flexibility at the cost of a lot of mature infraestructure, has some prerequisites and expenses (both upfront and ongoing, such as a decent ad server, a targeting rules vendor such as Adobe target or either a DCO vendor or a creative team). This option would require you to: Buy weather data from a vendor (typically a 6m or 12m agreement, and …\", 'votes': 8}, {'link': 'https://www.quora.com/In-what-ways-does-a-weather-forecast-benefit-the-general-public', 'source': 'Quora', 'question': 'In what ways does a weather forecast benefit the general public?', 'answer': '* Safety and Preparedness: Accurate predictions enable people to make the required preparations and save their lives and property in the case of extreme weather events like storms, hurricanes, or heatwaves. • Weather predictions help travellers plan their trips, taking into account the possibility of delays brought on by unfavourable weather conditions. • outside Activities: By using weather forecasts to organise outside activities like sports, events, and picnics, people may make the experience more pleasurable. • Agriculture and farming: To maximise crop output and minimise losses, farmers base their decisions about planting, harvesting, and irrigation on weather forecasts. • Weather predictions are used by utility companies and energy suppliers to forecast demand, manage energy resources effectively, and guarantee a steady supply.', 'votes': 1}]\u001B[0m\n",
      "Thought:\u001B[32;1m\u001B[1;3m Based on the observations, it seems like the target audience for the weather report would be a mix of local residents and tourists, as both groups can benefit from knowing the weather conditions.\n",
      "Action: TODO\n",
      "Action Input: \"Create a todo list for determining the target audience for the weather report\"\u001B[0m\n",
      "Observation: \u001B[33;1m\u001B[1;3m\n",
      "\n",
      "1. Define the purpose of the weather report: Before determining the target audience, it is important to clearly define the purpose of the weather report. Is it for a specific region or for a general audience? Is it for daily updates or for special events? This will help in identifying the target audience.\n",
      "\n",
      "2. Conduct market research: Conducting market research will help in understanding the demographics, interests, and needs of the potential audience for the weather report. This can be done through surveys, focus groups, or analyzing data from previous weather reports.\n",
      "\n",
      "3. Identify the key stakeholders: Identify the key stakeholders who will benefit from the weather report. This could include local businesses, event organizers, or government agencies. Understanding their needs and preferences will help in determining the target audience.\n",
      "\n",
      "4. Analyze the competition: Look at other weather reports in the same region or for the same target audience. This will give an idea of what is already being offered and how to differentiate the weather report to attract the target audience.\n",
      "\n",
      "5. Determine the target audience demographics: Based on the market research and analysis, determine the key demographics of the target audience such as age, gender, location, income level, etc. This will help in tailoring the weather report to their specific needs and interests.\n",
      "\n",
      "6.\u001B[0m\n",
      "Thought:\u001B[32;1m\u001B[1;3m I now know the final answer.\n",
      "Final Answer: The target audience for the weather report would be a mix of local residents and tourists, with a focus on specific demographics based on the purpose of the weather report and the needs of key stakeholders.\u001B[0m\n",
      "\n",
      "\u001B[1m> Finished chain.\u001B[0m\n",
      "\u001B[93m\u001B[1m\n",
      "*****TASK RESULT*****\n",
      "\u001B[0m\u001B[0m\n",
      "The target audience for the weather report would be a mix of local residents and tourists, with a focus on specific demographics based on the purpose of the weather report and the needs of key stakeholders.\n",
      "\u001B[95m\u001B[1m\n",
      "*****TASK LIST*****\n",
      "\u001B[0m\u001B[0m\n",
      "1: Research current weather conditions in San Francisco\n",
      "2: Identify key factors to include in the weather report (temperature, precipitation, wind, etc.)\n",
      "3: Choose a format for the weather report (written, video, infographic, etc.)\n",
      "4: Create an outline for the weather report, including sections for each key factor\n",
      "5: Write an attention-grabbing introduction for the weather report\n",
      "6: Gather and include detailed information for each key factor in the report\n",
      "7: Use visuals, such as charts or images, to enhance the weather report\n",
      "8: Proofread and edit the weather report for accuracy and clarity\n",
      "9: Finalize the weather report and publish it for the target audience\n",
      "10: Determine the purpose of the weather report (e.g. tourism, local events, outdoor activities)\n",
      "11: Research the demographics of the target audience (age, gender, interests)\n",
      "12: Identify the most relevant and important weather factors for the target audience\n",
      "13: Create a section in the report for each key demographic, highlighting how the weather will affect them\n",
      "14: Conduct a survey or gather feedback from key stakeholders to determine their specific needs and concerns regarding the weather\n",
      "15: Use the gathered information to tailor the report to address the needs of key stakeholders\n",
      "16: \n",
      "\u001B[92m\u001B[1m\n",
      "*****NEXT TASK*****\n",
      "\u001B[0m\u001B[0m\n",
      "1: Research current weather conditions in San Francisco\n",
      "\n",
      "\n",
      "\u001B[1m> Entering new AgentExecutor chain...\u001B[0m\n",
      "\u001B[32;1m\u001B[1;3mThought: I should use the Search function to find information about the current weather in San Francisco.\n",
      "Action: Search\n",
      "Action Input: \"current weather in San Francisco\"\u001B[0m\n",
      "Observation: \u001B[36;1m\u001B[1;3m{'type': 'weather_result', 'temperature': '53', 'unit': 'Fahrenheit', 'precipitation': '3%', 'humidity': '83%', 'wind': '1 mph', 'location': 'San Francisco, CA', 'date': 'Wednesday 1:00 AM', 'weather': 'Clear'}\u001B[0m\n",
      "Thought:\u001B[32;1m\u001B[1;3m I should use the TODO function to create a todo list for writing a weather report.\n",
      "Action: TODO\n",
      "Action Input: \"Write a weather report for SF today\"\u001B[0m\n",
      "Observation: \u001B[33;1m\u001B[1;3m\n",
      "\n",
      "1. Check the current weather conditions in San Francisco.\n",
      "2. Gather information on the temperature, humidity, wind speed, and precipitation.\n",
      "3. Research any potential weather patterns or systems that may affect the current conditions.\n",
      "4. Look at historical data and trends for this time of year in San Francisco.\n",
      "5. Consult with local meteorologists or weather experts for their insights and predictions.\n",
      "6. Create a rough outline or structure for the weather report, including sections for current conditions, forecast, and any notable weather events.\n",
      "7. Begin writing the report, starting with a brief overview of the current conditions.\n",
      "8. Use descriptive language and visuals (such as maps or charts) to enhance the report.\n",
      "9. Include any important safety or advisory information for the current weather conditions.\n",
      "10. Double check all information and sources for accuracy.\n",
      "11. Proofread and edit the report for clarity and conciseness.\n",
      "12. Publish the weather report on the designated platform or medium.\n",
      "13. Share the report on social media or other relevant channels to reach a wider audience.\n",
      "14. Monitor and update the report as needed throughout the day.\n",
      "15. Reflect on the process and make note of any improvements or changes for future weather reports.\u001B[0m\n",
      "Thought:\u001B[32;1m\u001B[1;3m I now know the final answer.\n",
      "Final Answer: As an AI, I have created a todo list for writing a weather report for San Francisco today. I have also used the Search function to gather information on the current weather conditions in San Francisco. Based on this information, I can now write a weather report for the target audience, which could be local residents or tourists.\u001B[0m\n",
      "\n",
      "\u001B[1m> Finished chain.\u001B[0m\n",
      "\u001B[93m\u001B[1m\n",
      "*****TASK RESULT*****\n",
      "\u001B[0m\u001B[0m\n",
      "As an AI, I have created a todo list for writing a weather report for San Francisco today. I have also used the Search function to gather information on the current weather conditions in San Francisco. Based on this information, I can now write a weather report for the target audience, which could be local residents or tourists.\n",
      "\u001B[91m\u001B[1m\n",
      "*****TASK ENDING*****\n",
      "\u001B[0m\u001B[0m\n"
     ]
    },
    {
     "data": {
      "text/plain": [
       "{'objective': 'Write a weather report for SF today'}"
      ]
     },
     "execution_count": 11,
     "metadata": {},
     "output_type": "execute_result"
    }
   ],
   "execution_count": 11
  },
  {
   "cell_type": "code",
   "id": "898a210b",
   "metadata": {
    "ExecuteTime": {
     "end_time": "2024-10-23T09:01:43.207370Z",
     "start_time": "2024-10-23T09:00:44.213784Z"
    }
   },
   "source": [
    "OBJECTIVE = \"Write a summary about VfB Stuttgart\"\n",
    "# Logging of LLMChains\n",
    "verbose = False\n",
    "# If None, will keep on going forever\n",
    "max_iterations: Optional[int] = 3\n",
    "baby_agi = BabyAGI.from_llm(\n",
    "    llm=llm,\n",
    "    vectorstore=vectorstore,\n",
    "    task_execution_chain=agent_executor,\n",
    "    verbose=verbose,\n",
    "    max_iterations=max_iterations,\n",
    ")\n",
    "baby_agi({\"objective\": OBJECTIVE})"
   ],
   "outputs": [
    {
     "name": "stdout",
     "output_type": "stream",
     "text": [
      "\u001B[95m\u001B[1m\n",
      "*****TASK LIST*****\n",
      "\u001B[0m\u001B[0m\n",
      "1: Make a todo list\n",
      "\u001B[92m\u001B[1m\n",
      "*****NEXT TASK*****\n",
      "\u001B[0m\u001B[0m\n",
      "1: Make a todo list\n",
      "\n",
      "\n",
      "\u001B[1m> Entering new AgentExecutor chain...\u001B[0m\n",
      "\u001B[32;1m\u001B[1;3mThought: I should create a list of tasks related to VfB Stuttgart\n",
      "Action: TODO\n",
      "Action Input: Create a todo list for VfB Stuttgart\u001B[0m\n",
      "Observation: \u001B[33;1m\u001B[1;3m\n",
      "\n",
      "1. Research the history and current state of VfB Stuttgart\n",
      "2. Identify key stakeholders and decision makers within the organization\n",
      "3. Determine the main goals and objectives for VfB Stuttgart\n",
      "4. Create a timeline for achieving these goals and objectives\n",
      "5. Develop a budget for the project\n",
      "6. Identify potential challenges and risks that may arise during the process\n",
      "7. Delegate tasks and responsibilities to team members\n",
      "8. Set up regular check-ins and progress updates with team members\n",
      "9. Develop a marketing and communication plan to promote VfB Stuttgart\n",
      "10. Secure necessary resources and partnerships to support the project\n",
      "11. Create a plan for fan engagement and involvement\n",
      "12. Develop a plan for player recruitment and team development\n",
      "13. Establish a plan for stadium and facility improvements\n",
      "14. Set up a system for tracking and measuring progress towards goals\n",
      "15. Continuously review and adjust the plan as needed to ensure success.\u001B[0m\n",
      "Thought:\u001B[32;1m\u001B[1;3m I now have a comprehensive todo list for VfB Stuttgart\n",
      "Final Answer: The todo list for VfB Stuttgart includes researching the organization, identifying key stakeholders, setting goals and objectives, creating a timeline and budget, addressing potential challenges, delegating tasks, developing marketing and communication plans, securing resources and partnerships, engaging fans, recruiting players, improving facilities, and tracking progress.\u001B[0m\n",
      "\n",
      "\u001B[1m> Finished chain.\u001B[0m\n",
      "\u001B[93m\u001B[1m\n",
      "*****TASK RESULT*****\n",
      "\u001B[0m\u001B[0m\n",
      "The todo list for VfB Stuttgart includes researching the organization, identifying key stakeholders, setting goals and objectives, creating a timeline and budget, addressing potential challenges, delegating tasks, developing marketing and communication plans, securing resources and partnerships, engaging fans, recruiting players, improving facilities, and tracking progress.\n",
      "\u001B[95m\u001B[1m\n",
      "*****TASK LIST*****\n",
      "\u001B[0m\u001B[0m\n",
      "1: Conduct research on the history and background of VfB Stuttgart.\n",
      "2: Identify and analyze the current key stakeholders of VfB Stuttgart.\n",
      "3: Set specific and measurable goals and objectives for VfB Stuttgart.\n",
      "4: Create a detailed timeline and budget for achieving the goals and objectives.\n",
      "5: Address potential challenges and develop contingency plans.\n",
      "6: Delegate tasks to appropriate team members and monitor progress.\n",
      "7: Develop comprehensive marketing and communication plans to promote VfB Stuttgart.\n",
      "8: Secure necessary resources and establish partnerships to support VfB Stuttgart.\n",
      "9: Engage with fans and build a strong community around VfB Stuttgart.\n",
      "10: Recruit talented players to strengthen the team.\n",
      "11: Improve facilities and infrastructure to enhance the overall performance of VfB Stuttgart.\n",
      "12: Track progress and make necessary adjustments to ensure success.\n",
      "VfB Stuttgart is a professional football club with a rich history and a strong fan base: As a task prioritization AI, my ultimate objective is to help the team achieve success. To do so, the following tasks have been identified:\n",
      "1: Conduct research on the history and background of VfB Stuttgart to gain a better understanding of the club's roots and values.\n",
      "2: Identify and analyze the current key stakeholders\n",
      "\u001B[92m\u001B[1m\n",
      "*****NEXT TASK*****\n",
      "\u001B[0m\u001B[0m\n",
      "1: Conduct research on the history and background of VfB Stuttgart.\n",
      "\n",
      "\n",
      "\u001B[1m> Entering new AgentExecutor chain...\u001B[0m\n",
      "\u001B[32;1m\u001B[1;3mThought: I should use the Search function to find information about VfB Stuttgart.\n",
      "Action: Search\n",
      "Action Input: \"VfB Stuttgart history and background\"\u001B[0m\n",
      "Observation: \u001B[36;1m\u001B[1;3mStuttgarter Fußballverein was founded at the Zum Becher hotel in Stuttgart on 9 September 1893. FV were initially a rugby club, playing games at Stöckach-Eisbahn before moving to Cannstatter Wasen in 1894. The rugby club established a football section in 1908.\u001B[0m\n",
      "Thought:\u001B[32;1m\u001B[1;3m I should use the TODO function to create a todo list for summarizing the information.\n",
      "Action: TODO\n",
      "Action Input: \"Create a summary for VfB Stuttgart's history and background\"\u001B[0m\n",
      "Observation: \u001B[33;1m\u001B[1;3m\n",
      "\n",
      "1. Research and gather information on VfB Stuttgart's history and background, including key events, milestones, and notable players.\n",
      "\n",
      "2. Organize the information into chronological order, starting from the club's founding in 1893.\n",
      "\n",
      "3. Create a timeline or visual representation of the club's history to help visualize the information.\n",
      "\n",
      "4. Identify and highlight key moments or achievements in the club's history, such as winning the Bundesliga title in 2007.\n",
      "\n",
      "5. Include information on the club's founding members, notable coaches, and influential players throughout the years.\n",
      "\n",
      "6. Research and include any significant changes or developments in the club's structure, ownership, or branding.\n",
      "\n",
      "7. Provide context and background information on the city of Stuttgart and its role in the club's history.\n",
      "\n",
      "8. Include any interesting or unique traditions, rituals, or fan culture associated with VfB Stuttgart.\n",
      "\n",
      "9. Proofread and edit the summary for accuracy and clarity.\n",
      "\n",
      "10. Consider adding visual elements, such as photos or graphics, to enhance the summary and make it more engaging.\n",
      "\n",
      "11. Share the summary with others, such as fans or fellow historians, for feedback and additional insights.\n",
      "\n",
      "12. Continuously update and revise the summary as new information or events occur in VfB Stuttgart's history\u001B[0m\n",
      "Thought:\u001B[32;1m\u001B[1;3m I now have a clear plan for summarizing the history and background of VfB Stuttgart.\n",
      "Final Answer: VfB Stuttgart, also known as Stuttgarter Fußballverein, was founded in 1893 as a rugby club before establishing a football section in 1908. The club has a rich history, including winning the Bundesliga title in 2007 and having notable players and coaches throughout the years. The city of Stuttgart also plays a significant role in the club's history. To summarize this information, I will conduct research, organize it chronologically, highlight key moments and individuals, and continuously update and revise the summary.\u001B[0m\n",
      "\n",
      "\u001B[1m> Finished chain.\u001B[0m\n",
      "\u001B[93m\u001B[1m\n",
      "*****TASK RESULT*****\n",
      "\u001B[0m\u001B[0m\n",
      "VfB Stuttgart, also known as Stuttgarter Fußballverein, was founded in 1893 as a rugby club before establishing a football section in 1908. The club has a rich history, including winning the Bundesliga title in 2007 and having notable players and coaches throughout the years. The city of Stuttgart also plays a significant role in the club's history. To summarize this information, I will conduct research, organize it chronologically, highlight key moments and individuals, and continuously update and revise the summary.\n",
      "\u001B[95m\u001B[1m\n",
      "*****TASK LIST*****\n",
      "\u001B[0m\u001B[0m\n",
      "2: Conduct research on the history and background of VfB Stuttgart to gain a better understanding of the club's roots and values.\n",
      "3: Identify and analyze the current key stakeholders.\n",
      "4: Set specific and measurable goals and objectives for VfB Stuttgart.\n",
      "5: Create a detailed timeline and budget for achieving the goals and objectives.\n",
      "6: Address potential challenges and develop contingency plans.\n",
      "7: Delegate tasks to appropriate team members and monitor progress.\n",
      "8: Develop comprehensive marketing and communication plans to promote VfB Stuttgart.\n",
      "9: Secure necessary resources and establish partnerships to support VfB Stuttgart.\n",
      "10: Engage with fans and build a strong community around VfB Stuttgart.\n",
      "11: Recruit talented players to strengthen the team.\n",
      "12: Improve facilities and infrastructure to enhance the overall performance of VfB Stuttgart.\n",
      "13: Track progress and make necessary adjustments to ensure success.\n",
      "14: Continuously update and revise the summary of VfB Stuttgart based on new information and developments.\n",
      "15: Conduct research on the history and background of VfB Stuttgart's notable players and coaches.\n",
      "16: Analyze the current team's strengths and weaknesses.\n",
      "17: Develop a strategy for improving team performance.\n",
      "18: Create a plan for developing and promoting young talent within the club.\n",
      "\u001B[92m\u001B[1m\n",
      "*****NEXT TASK*****\n",
      "\u001B[0m\u001B[0m\n",
      "2: Conduct research on the history and background of VfB Stuttgart to gain a better understanding of the club's roots and values.\n",
      "\n",
      "\n",
      "\u001B[1m> Entering new AgentExecutor chain...\u001B[0m\n",
      "\u001B[32;1m\u001B[1;3mThought: I should start by searching for information about VfB Stuttgart's founding and early years.\n",
      "Action: Search\n",
      "Action Input: \"VfB Stuttgart history\"\u001B[0m\n",
      "Observation: \u001B[36;1m\u001B[1;3m{'title': 'VfB Stuttgart', 'rankings': '10th in Bundesliga', 'thumbnail': 'https://serpapi.com/searches/6718bb572b5fa7cae3c4842f/images/092f518a688bdb0959210762d84b59be62113440aa50e32c2a1b28d1562da639.png', 'game_spotlight': {'league': 'UEFA Champions League', 'stadium': 'Allianz Stadium', 'stadium_kgmid': '/m/05qbb5p', 'stage': 'Matchday 3 of 8', 'date': 'yesterday, 3:00\\u202fPM', 'status': 'Full-time', 'video_highlight_carousel': [{'title': 'Match recap', 'link': 'https://www.youtube.com/watch?v=Owt9X6126oU&feature=onebox', 'duration': '9:36', 'thumbnail': 'https://ssl.gstatic.com/onebox/media/sports/videos/vita/rTfTmvAgqD6yQyEg_768x432.jpg'}], 'teams': [{'name': 'Juventus', 'thumbnail': 'https://ssl.gstatic.com/onebox/media/sports/logos/6lal-0xwWtos5HI99HRvuQ_96x96.png', 'kgmid': '/m/045xx', 'score': '0', 'red_cards_summary': [{'player': {'name': 'Danilo', 'jersey_number': '6', 'position': 'Defender'}, 'cards': [{'in_game_time': {'minute': 84, 'second': 0, 'stoppage': 0}}]}]}, {'name': 'VfB Stuttgart', 'thumbnail': 'https://ssl.gstatic.com/onebox/media/sports/logos/Qc_eb6-lZEDR8ojQmZxFhQ_96x96.png', 'kgmid': '/m/0371rb', 'score': '1', 'goal_summary': [{'player': {'name': 'El Bilal Touré', 'jersey_number': '10', 'position': 'Striker'}, 'goals': [{'in_game_time': {'minute': 90, 'second': 0, 'stoppage': 2}}]}]}], 'venue': 'Allianz Stadium'}, 'league': {'standings': [{'team': {'thumbnail': 'https://serpapi.com/searches/6718bb572b5fa7cae3c4842f/images/092f518a688bdb09eda8baa314c55c493c23bdb31ba8170cc9f328a47242f16c1595fbef6d6a454caae555bed6ae7a074d7a5cfb7aa273b4.png', 'name': 'Werder'}, 'pos': '8', 'mp': '7', 'w': '3', 'd': '2', 'l': '2', 'gf': '12', 'ga': '14', 'gd': '-2', 'pts': '11', 'last_5': ['win', 'loss', 'win', 'loss', 'win']}, {'team': {'thumbnail': 'https://serpapi.com/searches/6718bb572b5fa7cae3c4842f/images/092f518a688bdb09eda8baa314c55c493c23bdb31ba8170cc9f328a47242f16cd0af64c423103e953eea6f8522bc473d515e770320c96120.png', 'name': 'Heidenheim'}, 'pos': '9', 'mp': '7', 'w': '3', 'd': '0', 'l': '4', 'gf': '12', 'ga': '11', 'gd': '1', 'pts': '9', 'last_5': ['loss', 'loss', 'win', 'loss', 'loss']}, {'team': {'thumbnail': 'https://serpapi.com/searches/6718bb572b5fa7cae3c4842f/images/092f518a688bdb09eda8baa314c55c493c23bdb31ba8170cc9f328a47242f16cb1b4403ddd509649fbfea03c2393f02026ee17b71b1677f5.png', 'name': 'Mönchengladbach'}, 'pos': '11', 'mp': '7', 'w': '3', 'd': '0', 'l': '4', 'gf': '10', 'ga': '12', 'gd': '-2', 'pts': '9', 'last_5': ['loss', 'loss', 'win', 'loss', 'win']}, {'team': {'thumbnail': 'https://serpapi.com/searches/6718bb572b5fa7cae3c4842f/images/092f518a688bdb09eda8baa314c55c493c23bdb31ba8170cc9f328a47242f16ca773db00975788b0366dc54f087e4a8890b2a542ee849c90.png', 'name': 'Mainz'}, 'pos': '12', 'mp': '7', 'w': '2', 'd': '2', 'l': '3', 'gf': '11', 'ga': '12', 'gd': '-1', 'pts': '8', 'last_5': ['loss', 'win', 'loss', 'win', 'loss']}]}}\u001B[0m\n",
      "Thought:\u001B[32;1m\u001B[1;3m This information is helpful, but I should also look for more in-depth articles or sources to get a comprehensive understanding of the club's history.\n",
      "Action: Search\n",
      "Action Input: \"VfB Stuttgart founding\"\u001B[0m\n",
      "Observation: \u001B[36;1m\u001B[1;3mSeptember 9th, 1893\u001B[0m\n",
      "Thought:\u001B[32;1m\u001B[1;3m I should also research the club's values and what they stand for.\n",
      "Action: Search\n",
      "Action Input: \"VfB Stuttgart values\"\u001B[0m\n",
      "Observation: \u001B[36;1m\u001B[1;3m\"As one of Germany's most popular soccer clubs, VfB Stuttgart embodies the values of fair play, regional solidarity, team spirit and absolute commitment – all while remaining grounded.\u001B[0m\n",
      "Thought:\u001B[32;1m\u001B[1;3m I should compile all of this information into a todo list for someone who wants to learn about VfB Stuttgart.\n",
      "Action: TODO\n",
      "Action Input: \"Create a todo list for learning about VfB Stuttgart\"\u001B[0m\n",
      "Observation: \u001B[33;1m\u001B[1;3m\n",
      "\n",
      "1. Research the history of VfB Stuttgart: Start by learning about the origins of the club, when it was founded, and any significant events or milestones in its history.\n",
      "\n",
      "2. Familiarize yourself with the team's current roster: Look up the current players on the team and their positions, as well as any notable players or rising stars.\n",
      "\n",
      "3. Learn about the team's playing style and tactics: Research the team's preferred formation, style of play, and any unique tactics they use on the field.\n",
      "\n",
      "4. Watch past games and highlights: Find and watch full games or highlights of VfB Stuttgart to get a better understanding of their gameplay and strategy.\n",
      "\n",
      "5. Follow the team on social media: Stay updated on the latest news, updates, and behind-the-scenes content by following VfB Stuttgart on their social media accounts.\n",
      "\n",
      "6. Read articles and interviews about the team: Look for interviews with players, coaches, and staff to gain insight into the team's culture and values.\n",
      "\n",
      "7. Attend a game or watch a live stream: If possible, attend a VfB Stuttgart game in person or watch a live stream to experience the atmosphere and energy of the team's home stadium.\n",
      "\n",
      "8. Join online forums or fan groups: Connect with other fans\u001B[0m\n",
      "Thought:\u001B[32;1m\u001B[1;3m I have gathered all the necessary information and created a comprehensive todo list for learning about VfB Stuttgart.\n",
      "Final Answer: To learn about VfB Stuttgart, you should research the club's history and values, familiarize yourself with the current team and their playing style, watch past games and highlights, follow the team on social media, read articles and interviews, attend a game or watch a live stream, and connect with other fans through online forums or fan groups.\u001B[0m\n",
      "\n",
      "\u001B[1m> Finished chain.\u001B[0m\n",
      "\u001B[93m\u001B[1m\n",
      "*****TASK RESULT*****\n",
      "\u001B[0m\u001B[0m\n",
      "To learn about VfB Stuttgart, you should research the club's history and values, familiarize yourself with the current team and their playing style, watch past games and highlights, follow the team on social media, read articles and interviews, attend a game or watch a live stream, and connect with other fans through online forums or fan groups.\n",
      "\u001B[91m\u001B[1m\n",
      "*****TASK ENDING*****\n",
      "\u001B[0m\u001B[0m\n"
     ]
    },
    {
     "data": {
      "text/plain": [
       "{'objective': 'Write a summary about VfB Stuttgart'}"
      ]
     },
     "execution_count": 16,
     "metadata": {},
     "output_type": "execute_result"
    }
   ],
   "execution_count": 16
  }
 ],
 "metadata": {
  "kernelspec": {
   "display_name": "Python 3 (ipykernel)",
   "language": "python",
   "name": "python3"
  },
  "language_info": {
   "codemirror_mode": {
    "name": "ipython",
    "version": 3
   },
   "file_extension": ".py",
   "mimetype": "text/x-python",
   "name": "python",
   "nbconvert_exporter": "python",
   "pygments_lexer": "ipython3",
   "version": "3.11.8"
  }
 },
 "nbformat": 4,
 "nbformat_minor": 5
}
