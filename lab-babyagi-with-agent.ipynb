{
 "cells": [
  {
   "cell_type": "markdown",
   "id": "1cdba6f7-142d-4dd2-96f6-a13bb5d978ce",
   "metadata": {},
   "source": [
    "# Lab | BabyAGI with agent\n",
    "\n",
    "**Change the planner objective below by changing the objective and the associated prompts and potential tools and agents - Wear your creativity and AI engineering hats\n",
    "You can't get this wrong!**\n",
    "\n",
    "You would need the OpenAI API KEY and the [SerpAPI KEY](https://serpapi.com/manage-api-keyhttps://serpapi.com/manage-api-key) to run this lab.\n"
   ]
  },
  {
   "cell_type": "markdown",
   "id": "517a9fd4",
   "metadata": {},
   "source": [
    "## BabyAGI with Tools\n",
    "\n",
    "This notebook builds on top of [baby agi](baby_agi.html), but shows how you can swap out the execution chain. The previous execution chain was just an LLM which made stuff up. By swapping it out with an agent that has access to tools, we can hopefully get real reliable information"
   ]
  },
  {
   "cell_type": "markdown",
   "id": "556af556",
   "metadata": {},
   "source": [
    "## Install and Import Required Modules"
   ]
  },
  {
   "cell_type": "code",
   "execution_count": 3,
   "id": "c8a354b6",
   "metadata": {
    "tags": []
   },
   "outputs": [],
   "source": [
    "from typing import Optional\n",
    "\n",
    "from langchain.chains import LLMChain\n",
    "from langchain.prompts import PromptTemplate\n",
    "from langchain_experimental.autonomous_agents import BabyAGI\n",
    "from langchain_openai import OpenAI, OpenAIEmbeddings"
   ]
  },
  {
   "cell_type": "markdown",
   "id": "09f70772",
   "metadata": {},
   "source": [
    "## Connect to the Vector Store\n",
    "\n",
    "Depending on what vectorstore you use, this step may look different."
   ]
  },
  {
   "cell_type": "code",
   "execution_count": 4,
   "id": "794045d4",
   "metadata": {
    "tags": []
   },
   "outputs": [],
   "source": [
    "# %pip install faiss-cpu > /dev/null\n",
    "# %pip install google-search-results > /dev/null\n",
    "from langchain.docstore import InMemoryDocstore\n",
    "from langchain_community.vectorstores import FAISS"
   ]
  },
  {
   "cell_type": "code",
   "execution_count": 5,
   "id": "c4164841-915d-4c60-8a47-3a502a5cf71d",
   "metadata": {
    "tags": []
   },
   "outputs": [],
   "source": [
    "import os\n",
    "from dotenv import load_dotenv, find_dotenv\n",
    "_ = load_dotenv(find_dotenv())\n",
    "\n",
    "OPENAI_API_KEY  = os.getenv('OPENAI_API_KEY')\n",
    "SERPAPI_API_KEY = os.getenv('SERPAPI_API_KEY')"
   ]
  },
  {
   "cell_type": "code",
   "execution_count": 8,
   "id": "6e0305eb",
   "metadata": {
    "tags": []
   },
   "outputs": [
    {
     "name": "stderr",
     "output_type": "stream",
     "text": [
      "`embedding_function` is expected to be an Embeddings object, support for passing in a function will soon be removed.\n"
     ]
    }
   ],
   "source": [
    "# Define your embedding model\n",
    "embeddings_model = OpenAIEmbeddings()\n",
    "# Initialize the vectorstore as empty\n",
    "import faiss\n",
    "\n",
    "embedding_size = 1536\n",
    "index = faiss.IndexFlatL2(embedding_size)\n",
    "vectorstore = FAISS(embeddings_model.embed_query, index, InMemoryDocstore({}), {})"
   ]
  },
  {
   "cell_type": "markdown",
   "id": "0f3b72bf",
   "metadata": {},
   "source": [
    "## Define the Chains\n",
    "\n",
    "BabyAGI relies on three LLM chains:\n",
    "- Task creation chain to select new tasks to add to the list\n",
    "- Task prioritization chain to re-prioritize tasks\n",
    "- Execution Chain to execute the tasks\n",
    "\n",
    "\n",
    "NOTE: in this notebook, the Execution chain will now be an agent."
   ]
  },
  {
   "cell_type": "code",
   "execution_count": 10,
   "id": "b43cd580",
   "metadata": {
    "tags": []
   },
   "outputs": [
    {
     "name": "stderr",
     "output_type": "stream",
     "text": [
      "/var/folders/ck/mhktfb696vqc0jwr3cy7htm00000gn/T/ipykernel_48121/842275654.py:9: LangChainDeprecationWarning: The class `LLMChain` was deprecated in LangChain 0.1.17 and will be removed in 1.0. Use :meth:`~RunnableSequence, e.g., `prompt | llm`` instead.\n",
      "  todo_chain = LLMChain(llm=OpenAI(temperature=0), prompt=todo_prompt)\n"
     ]
    }
   ],
   "source": [
    "from langchain.agents import AgentExecutor, Tool, ZeroShotAgent\n",
    "from langchain.chains import LLMChain\n",
    "from langchain_community.utilities import SerpAPIWrapper\n",
    "from langchain_openai import OpenAI\n",
    "\n",
    "todo_prompt = PromptTemplate.from_template(\n",
    "    \"You are a planner who is an expert at coming up with a todo list for a given objective. Come up with a todo list for this objective: {objective}\"\n",
    ")\n",
    "todo_chain = LLMChain(llm=OpenAI(temperature=0), prompt=todo_prompt)\n",
    "search = SerpAPIWrapper()\n",
    "tools = [\n",
    "    Tool(\n",
    "        name=\"Search\",\n",
    "        func=search.run,\n",
    "        description=\"useful for when you need to answer questions about current events\",\n",
    "    ),\n",
    "    Tool(\n",
    "        name=\"TODO\",\n",
    "        func=todo_chain.run,\n",
    "        description=\"useful for when you need to come up with todo lists. Input: an objective to create a todo list for. Output: a todo list for that objective. Please be very clear what the objective is!\",\n",
    "    ),\n",
    "]\n",
    "\n",
    "\n",
    "prefix = \"\"\"You are an AI who performs one task based on the following objective: {objective}. Take into account these previously completed tasks: {context}.\"\"\"\n",
    "suffix = \"\"\"Question: {task}\n",
    "{agent_scratchpad}\"\"\"\n",
    "prompt = ZeroShotAgent.create_prompt(\n",
    "    tools,\n",
    "    prefix=prefix,\n",
    "    suffix=suffix,\n",
    "    input_variables=[\"objective\", \"task\", \"context\", \"agent_scratchpad\"],\n",
    ")"
   ]
  },
  {
   "cell_type": "code",
   "execution_count": 11,
   "id": "4b00ae2e",
   "metadata": {
    "tags": []
   },
   "outputs": [
    {
     "name": "stderr",
     "output_type": "stream",
     "text": [
      "/var/folders/ck/mhktfb696vqc0jwr3cy7htm00000gn/T/ipykernel_48121/3064747660.py:4: LangChainDeprecationWarning: LangChain agents will continue to be supported, but it is recommended for new use cases to be built with LangGraph. LangGraph offers a more flexible and full-featured framework for building agents, including support for tool-calling, persistence of state, and human-in-the-loop workflows. For details, refer to the `LangGraph documentation <https://langchain-ai.github.io/langgraph/>`_ as well as guides for `Migrating from AgentExecutor <https://python.langchain.com/docs/how_to/migrate_agent/>`_ and LangGraph's `Pre-built ReAct agent <https://langchain-ai.github.io/langgraph/how-tos/create-react-agent/>`_.\n",
      "  agent = ZeroShotAgent(llm_chain=llm_chain, allowed_tools=tool_names)\n"
     ]
    }
   ],
   "source": [
    "llm = OpenAI(temperature=0)\n",
    "llm_chain = LLMChain(llm=llm, prompt=prompt)\n",
    "tool_names = [tool.name for tool in tools]\n",
    "agent = ZeroShotAgent(llm_chain=llm_chain, allowed_tools=tool_names)\n",
    "agent_executor = AgentExecutor.from_agent_and_tools(\n",
    "    agent=agent, tools=tools, verbose=True\n",
    ")"
   ]
  },
  {
   "cell_type": "markdown",
   "id": "05ba762e",
   "metadata": {},
   "source": [
    "### Run the BabyAGI\n",
    "\n",
    "Now it's time to create the BabyAGI controller and watch it try to accomplish your objective."
   ]
  },
  {
   "cell_type": "code",
   "execution_count": 12,
   "id": "3d220b69",
   "metadata": {
    "tags": []
   },
   "outputs": [],
   "source": [
    "OBJECTIVE = \"Write a weather report for SF today\""
   ]
  },
  {
   "cell_type": "code",
   "execution_count": 13,
   "id": "3d69899b",
   "metadata": {
    "tags": []
   },
   "outputs": [],
   "source": [
    "# Logging of LLMChains\n",
    "verbose = False\n",
    "# If None, will keep on going forever\n",
    "max_iterations: Optional[int] = 3\n",
    "baby_agi = BabyAGI.from_llm(\n",
    "    llm=llm,\n",
    "    vectorstore=vectorstore,\n",
    "    task_execution_chain=agent_executor,\n",
    "    verbose=verbose,\n",
    "    max_iterations=max_iterations,\n",
    ")"
   ]
  },
  {
   "cell_type": "code",
   "execution_count": 14,
   "id": "f7957b51",
   "metadata": {
    "tags": []
   },
   "outputs": [
    {
     "name": "stderr",
     "output_type": "stream",
     "text": [
      "/var/folders/ck/mhktfb696vqc0jwr3cy7htm00000gn/T/ipykernel_48121/3867971396.py:1: LangChainDeprecationWarning: The method `Chain.__call__` was deprecated in langchain 0.1.0 and will be removed in 1.0. Use :meth:`~invoke` instead.\n",
      "  baby_agi({\"objective\": OBJECTIVE})\n"
     ]
    },
    {
     "name": "stdout",
     "output_type": "stream",
     "text": [
      "\u001b[95m\u001b[1m\n",
      "*****TASK LIST*****\n",
      "\u001b[0m\u001b[0m\n",
      "1: Make a todo list\n",
      "\u001b[92m\u001b[1m\n",
      "*****NEXT TASK*****\n",
      "\u001b[0m\u001b[0m\n",
      "1: Make a todo list\n",
      "\n",
      "\n",
      "\u001b[1m> Entering new AgentExecutor chain...\u001b[0m\n",
      "\u001b[32;1m\u001b[1;3mThought: I should use the TODO action to create a todo list\n",
      "Action: TODO\n",
      "Action Input: \"Create a todo list for writing a weather report for SF today\"\u001b[0m\n",
      "Observation: \u001b[33;1m\u001b[1;3m\n",
      "\n",
      "1. Gather all necessary information: Start by collecting all the necessary information for writing a weather report for San Francisco today. This includes current temperature, humidity, wind speed, and any other relevant data.\n",
      "\n",
      "2. Check weather forecast: Before writing the report, check the weather forecast for San Francisco today to get an idea of what to expect. This will help you accurately report on the current weather conditions.\n",
      "\n",
      "3. Determine target audience: Consider who will be reading the weather report and tailor your writing style and language accordingly. A report for a local news station may be different from one for a scientific journal.\n",
      "\n",
      "4. Create an outline: Organize your thoughts and information by creating an outline for the weather report. This will help you stay focused and ensure that all important points are covered.\n",
      "\n",
      "5. Start with an attention-grabbing headline: The headline is the first thing readers will see, so make it catchy and informative. It should give a brief overview of the weather conditions in San Francisco today.\n",
      "\n",
      "6. Write an introduction: In the introduction, provide a brief overview of the current weather conditions in San Francisco and why it is important for readers to know.\n",
      "\n",
      "7. Include relevant data: Use the information gathered in step 1 to provide accurate and up-to-date data in your\u001b[0m\n",
      "Thought:\u001b[32;1m\u001b[1;3m I have created a detailed todo list for writing a weather report for San Francisco today\n",
      "Final Answer: Use the todo list to write a comprehensive and informative weather report for San Francisco today.\u001b[0m\n",
      "\n",
      "\u001b[1m> Finished chain.\u001b[0m\n",
      "\u001b[93m\u001b[1m\n",
      "*****TASK RESULT*****\n",
      "\u001b[0m\u001b[0m\n",
      "Use the todo list to write a comprehensive and informative weather report for San Francisco today.\n",
      "\u001b[95m\u001b[1m\n",
      "*****TASK LIST*****\n",
      "\u001b[0m\u001b[0m\n",
      "1: Gather data on temperature, humidity, and wind speed\n",
      "2: Research current weather conditions in San Francisco\n",
      "3: Check for any weather alerts or warnings in the area\n",
      "4: Create a detailed outline for the weather report\n",
      "5: Write an introduction for the weather report\n",
      "6: Include a section on the current temperature in San Francisco\n",
      "7: Describe the humidity levels in the city\n",
      "8: Discuss the wind speed and direction in San Francisco\n",
      "9: Include a section on any potential weather hazards or risks\n",
      "10: Write a conclusion summarizing the weather conditions in San Francisco today.\n",
      "\u001b[92m\u001b[1m\n",
      "*****NEXT TASK*****\n",
      "\u001b[0m\u001b[0m\n",
      "1: Gather data on temperature, humidity, and wind speed\n",
      "\n",
      "\n",
      "\u001b[1m> Entering new AgentExecutor chain...\u001b[0m\n",
      "\u001b[32;1m\u001b[1;3mThought: I should search for a reliable source of weather data\n",
      "Action: Search\n",
      "Action Input: \"weather data for San Francisco\"\u001b[0m\n",
      "Observation: \u001b[36;1m\u001b[1;3m[' entity_type: related_questions.', '37.78 °N, 122.42 °W. San Francisco, CA Weather Historystar_ratehome. icon 49 °F San Francisco Intl Airport Station|Report. Report Station.', 'DAILY DATA FOR A MONTH - daily maximum, minimum and average temperature (degrees F), average temperature departure from normal (degrees F), heating and ...', 'San Francisco Weather History for the Previous 24 Hours ; 53 °F · Passing clouds. 13 mph ...', 'Temperature (°F), Max, Average, Min. Max Temperature, 82, 66.43, 58. Avg Temperature, 64.46, 57.69, 52.88. Min Temperature, 55, 51.71, 47 ...', 'This dataset contains daily weather observations for San Francisco, USA from January 1, 1993 to January 1, 2023. The data is collected from Meteostat. The ...', 'SAN FRANCISCO INTERNATIONAL AIRPORT, CA US (USW00023234) Average Temperature 2024-04-15 2025-04-14 2024-07-24 2024-11-01 2025-02-09 45°F 80°F 50°F 55°F 60°F ...', 'NWS Forecast Office San Francisco, CA · Observations · Buoy Reports · Satellite · Precipitation · Fire Weather Snooper.', 'The hottest month of the year in San Francisco is September, with an average high of 72°F and low of 58°F. The cool season lasts for 2.0 months, from December 4 ...', 'Detailed weather history data for San Francisco, CA, United States since 1970. Enter a location to view historical weather data charts and maps.', 'Overcast with rain showers at times. Low 46F. Winds SW at 10 to 20 mph. Chance of rain 60%. Locally heavy rainfall possible.']\u001b[0m\n",
      "Thought:\u001b[32;1m\u001b[1;3m I should extract the relevant data from the observation\n",
      "Action: TODO\n",
      "Action Input: \"create a todo list for gathering weather data\"\u001b[0m\n",
      "Observation: \u001b[33;1m\u001b[1;3m\n",
      "\n",
      "1. Define the purpose of gathering weather data: Before creating a todo list, it is important to clearly define the purpose of gathering weather data. This will help guide the rest of the planning process and ensure that all necessary tasks are included.\n",
      "\n",
      "2. Determine the scope of the project: Weather data can be collected for various purposes, such as research, forecasting, or monitoring. It is important to determine the specific scope of the project in order to identify the necessary tasks and resources.\n",
      "\n",
      "3. Identify the data sources: There are various sources of weather data, including government agencies, private companies, and personal weather stations. Research and identify the most reliable and relevant sources for the project.\n",
      "\n",
      "4. Create a data collection plan: Based on the scope and data sources, create a plan for how and when the data will be collected. This may include setting up equipment, scheduling regular data collection times, and determining the frequency of data collection.\n",
      "\n",
      "5. Gather necessary equipment and tools: Depending on the data collection plan, gather all necessary equipment and tools. This may include weather sensors, data loggers, computers, and software.\n",
      "\n",
      "6. Train personnel: If the project involves a team, make sure all members are trained on how to properly collect and record weather data. This will ensure consistency\u001b[0m\n",
      "Thought:\u001b[32;1m\u001b[1;3m I should review the todo list and make any necessary adjustments\n",
      "Action: TODO\n",
      "Action Input: \"review and adjust the todo list for gathering weather data\"\u001b[0m\n",
      "Observation: \u001b[33;1m\u001b[1;3m\n",
      "\n",
      "1. Review the current todo list for gathering weather data.\n",
      "2. Identify any tasks that are no longer relevant or necessary.\n",
      "3. Add any new tasks that may be needed for gathering weather data.\n",
      "4. Prioritize tasks based on importance and urgency.\n",
      "5. Assign tasks to team members or delegate responsibilities.\n",
      "6. Set a timeline for completing each task.\n",
      "7. Determine the necessary resources and materials for each task.\n",
      "8. Create a checklist for each task to ensure all steps are completed.\n",
      "9. Consider any potential challenges or obstacles and come up with solutions.\n",
      "10. Communicate the updated todo list to all team members.\n",
      "11. Monitor progress and make adjustments as needed.\n",
      "12. Regularly review and update the todo list as needed.\u001b[0m\n",
      "Thought:\u001b[32;1m\u001b[1;3m I now know the final answer\n",
      "Final Answer: The final answer is a comprehensive todo list for gathering weather data in San Francisco. It includes defining the purpose, determining the scope, identifying data sources, creating a data collection plan, gathering necessary equipment, training personnel, and reviewing and adjusting the todo list as needed.\u001b[0m\n",
      "\n",
      "\u001b[1m> Finished chain.\u001b[0m\n",
      "\u001b[93m\u001b[1m\n",
      "*****TASK RESULT*****\n",
      "\u001b[0m\u001b[0m\n",
      "The final answer is a comprehensive todo list for gathering weather data in San Francisco. It includes defining the purpose, determining the scope, identifying data sources, creating a data collection plan, gathering necessary equipment, training personnel, and reviewing and adjusting the todo list as needed.\n",
      "\u001b[95m\u001b[1m\n",
      "*****TASK LIST*****\n",
      "\u001b[0m\u001b[0m\n",
      "1: Research the purpose of creating a weather report for San Francisco.\n",
      "2: Determine the scope of the weather report, including what data to include and how to present it.\n",
      "3: Identify reliable data sources for temperature, humidity, and wind speed in San Francisco.\n",
      "4: Create a data collection plan, including the frequency and method of data collection.\n",
      "5: Gather necessary equipment for collecting weather data in San Francisco.\n",
      "6: Train personnel on how to properly collect and record weather data.\n",
      "7: Review and adjust the todo list for gathering weather data in San Francisco as needed.\n",
      "8: Analyze the current weather conditions in San Francisco, including temperature, humidity, and wind speed.\n",
      "9: Check for any weather alerts or warnings in the area and include them in the report.\n",
      "10: Create a detailed outline for the weather report, including sections for introduction, current temperature, humidity levels, wind speed and direction, and potential weather hazards.\n",
      "11: Write an introduction for the weather report, providing background information on San Francisco's climate.\n",
      "12: Include a section on the current temperature in San Francisco, including any significant changes or trends.\n",
      "13: Describe the humidity levels in the city and how they may affect the weather.\n",
      "14: Discuss the wind speed and direction in San Francisco.\n",
      "\u001b[92m\u001b[1m\n",
      "*****NEXT TASK*****\n",
      "\u001b[0m\u001b[0m\n",
      "1: Research the purpose of creating a weather report for San Francisco.\n",
      "\n",
      "\n",
      "\u001b[1m> Entering new AgentExecutor chain...\u001b[0m\n",
      "\u001b[32;1m\u001b[1;3mThought: The purpose of creating a weather report for San Francisco is to inform people about the current weather conditions in the city.\n",
      "Action: Search\n",
      "Action Input: \"Purpose of creating a weather report for San Francisco\"\u001b[0m\n",
      "Observation: \u001b[36;1m\u001b[1;3m[' entity_type: related_questions.', 'Francisco area. However, as knowledge and understanding increased, the purposes for making the observations have changed from medical to agricultural to ...', \"The forecasts are not as accurate as they use to be. It's never been perfect but something has changed with the reporting.\", 'Answer: The famous San Francisco fog created by the lateral transfer of warm air over the cooler water of the California Current, which flows just off the coast ...', \"The San Francisco Bay Operational Forecast System (SFBOFS) has been implemented by NOAA's National Ocean Service (NOS) to provide the maritime user community ...\", 'The San Francisco Extreme Weather Resilience Program aims to strengthen citywide resilience by establishing a network of culturally competent community-serving ...', 'NBC Bay Area meteorologists use microclimate weather to bring you local weather forecasts and radar from San Francisco, Oakland and San Jose.', 'The most accurate current weather in the area is to stick your head out a shady window and wave a thermometer. Even then the solar exposure ...', 'Be prepared with the most accurate 10-day forecast for San Francisco, CA with highs, lows, chance of precipitation from The Weather Channel and Weather.com.', 'San Francisco is surrounded on three sides by water, so its temperature is kept fairly stable and cool. SF is cooler in the Summer and slightly ...', 'Any forecast 7 days out can change although in some cities not enough to make a huge difference in attire. ... Before going out today, I keep ...']\u001b[0m\n",
      "Thought:\u001b[32;1m\u001b[1;3m I now have a better understanding of the purpose of creating a weather report for San Francisco.\n",
      "Final Answer: The purpose of creating a weather report for San Francisco is to inform people about the current weather conditions in the city.\u001b[0m\n",
      "\n",
      "\u001b[1m> Finished chain.\u001b[0m\n",
      "\u001b[93m\u001b[1m\n",
      "*****TASK RESULT*****\n",
      "\u001b[0m\u001b[0m\n",
      "The purpose of creating a weather report for San Francisco is to inform people about the current weather conditions in the city.\n",
      "\u001b[91m\u001b[1m\n",
      "*****TASK ENDING*****\n",
      "\u001b[0m\u001b[0m\n"
     ]
    },
    {
     "data": {
      "text/plain": [
       "{'objective': 'Write a weather report for SF today'}"
      ]
     },
     "execution_count": 14,
     "metadata": {},
     "output_type": "execute_result"
    }
   ],
   "source": [
    "baby_agi({\"objective\": OBJECTIVE})"
   ]
  },
  {
   "cell_type": "code",
   "execution_count": null,
   "id": "898a210b",
   "metadata": {},
   "outputs": [],
   "source": []
  }
 ],
 "metadata": {
  "kernelspec": {
   "display_name": ".venv",
   "language": "python",
   "name": "python3"
  },
  "language_info": {
   "codemirror_mode": {
    "name": "ipython",
    "version": 3
   },
   "file_extension": ".py",
   "mimetype": "text/x-python",
   "name": "python",
   "nbconvert_exporter": "python",
   "pygments_lexer": "ipython3",
   "version": "3.10.13"
  }
 },
 "nbformat": 4,
 "nbformat_minor": 5
}
