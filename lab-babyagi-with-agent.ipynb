{
 "cells": [
  {
   "cell_type": "markdown",
   "id": "1cdba6f7-142d-4dd2-96f6-a13bb5d978ce",
   "metadata": {},
   "source": [
    "# Lab | BabyAGI with agent\n",
    "\n",
    "**Change the planner objective below by changing the objective and the associated prompts and potential tools and agents - Wear your creativity and AI engineering hats\n",
    "You can't get this wrong!**\n",
    "\n",
    "You would need the OpenAI API KEY and the [SerpAPI KEY](https://serpapi.com/manage-api-keyhttps://serpapi.com/manage-api-key) to run this lab.\n"
   ]
  },
  {
   "cell_type": "markdown",
   "id": "517a9fd4",
   "metadata": {},
   "source": [
    "## BabyAGI with Tools\n",
    "\n",
    "This notebook builds on top of [baby agi](baby_agi.html), but shows how you can swap out the execution chain. The previous execution chain was just an LLM which made stuff up. By swapping it out with an agent that has access to tools, we can hopefully get real reliable information"
   ]
  },
  {
   "cell_type": "markdown",
   "id": "556af556",
   "metadata": {},
   "source": [
    "## Install and Import Required Modules"
   ]
  },
  {
   "cell_type": "code",
   "execution_count": null,
   "id": "85b7ca88",
   "metadata": {},
   "outputs": [],
   "source": [
    "!pip install langchain_community langchain_experimental langchain_openai"
   ]
  },
  {
   "cell_type": "code",
   "execution_count": 16,
   "id": "c8a354b6",
   "metadata": {
    "tags": []
   },
   "outputs": [],
   "source": [
    "from typing import Optional\n",
    "from langchain.chains import LLMChain\n",
    "from langchain.prompts import PromptTemplate\n",
    "from langchain_experimental.autonomous_agents import BabyAGI\n",
    "from langchain_openai import OpenAI, OpenAIEmbeddings"
   ]
  },
  {
   "cell_type": "markdown",
   "id": "09f70772",
   "metadata": {},
   "source": [
    "## Connect to the Vector Store\n",
    "\n",
    "Depending on what vectorstore you use, this step may look different."
   ]
  },
  {
   "cell_type": "code",
   "execution_count": 25,
   "id": "794045d4",
   "metadata": {
    "tags": []
   },
   "outputs": [],
   "source": [
    "# %pip install faiss-cpu > /dev/null\n",
    "# %pip install google-search-results > /dev/null\n",
    "from langchain.docstore import InMemoryDocstore\n",
    "from langchain_community.vectorstores import FAISS"
   ]
  },
  {
   "cell_type": "code",
   "execution_count": 26,
   "id": "c4164841-915d-4c60-8a47-3a502a5cf71d",
   "metadata": {
    "tags": []
   },
   "outputs": [],
   "source": [
    "import os\n",
    "from dotenv import load_dotenv, find_dotenv\n",
    "_ = load_dotenv(find_dotenv())\n",
    "\n",
    "OPENAI_API_KEY  = os.getenv('OPENAI_API_KEY')\n",
    "SERPAPI_API_KEY = os.getenv('SERPAPI_API_KEY')"
   ]
  },
  {
   "cell_type": "code",
   "execution_count": 34,
   "id": "e1db25f5",
   "metadata": {},
   "outputs": [
    {
     "data": {
      "text/plain": [
       "True"
      ]
     },
     "execution_count": 34,
     "metadata": {},
     "output_type": "execute_result"
    }
   ],
   "source": [
    "from dotenv import load_dotenv\n",
    "load_dotenv(override=True)"
   ]
  },
  {
   "cell_type": "code",
   "execution_count": 42,
   "id": "6e0305eb",
   "metadata": {
    "tags": []
   },
   "outputs": [
    {
     "name": "stderr",
     "output_type": "stream",
     "text": [
      "`embedding_function` is expected to be an Embeddings object, support for passing in a function will soon be removed.\n"
     ]
    }
   ],
   "source": [
    "# Define your embedding model\n",
    "embeddings_model = OpenAIEmbeddings()\n",
    "# Initialize the vectorstore as empty\n",
    "import faiss\n",
    "\n",
    "embedding_size = 1536\n",
    "index = faiss.IndexFlatL2(embedding_size)\n",
    "vectorstore = FAISS(embeddings_model.embed_query, index, InMemoryDocstore({}), {})"
   ]
  },
  {
   "cell_type": "markdown",
   "id": "0f3b72bf",
   "metadata": {},
   "source": [
    "## Define the Chains\n",
    "\n",
    "BabyAGI relies on three LLM chains:\n",
    "- Task creation chain to select new tasks to add to the list\n",
    "- Task prioritization chain to re-prioritize tasks\n",
    "- Execution Chain to execute the tasks\n",
    "\n",
    "\n",
    "NOTE: in this notebook, the Execution chain will now be an agent."
   ]
  },
  {
   "cell_type": "code",
   "execution_count": 43,
   "id": "b43cd580",
   "metadata": {
    "tags": []
   },
   "outputs": [],
   "source": [
    "from langchain.agents import AgentExecutor, Tool, ZeroShotAgent\n",
    "from langchain.chains import LLMChain\n",
    "from langchain_community.utilities import SerpAPIWrapper\n",
    "from langchain_openai import OpenAI\n",
    "\n",
    "todo_prompt = PromptTemplate.from_template(\n",
    "    \"You are a planner who is an expert at coming up with a todo list for a given objective. Come up with a todo list for this objective: {objective}\"\n",
    ")\n",
    "todo_chain = LLMChain(llm=OpenAI(temperature=0), prompt=todo_prompt)\n",
    "search = SerpAPIWrapper()\n",
    "tools = [\n",
    "    Tool(\n",
    "        name=\"Search\",\n",
    "        func=search.run,\n",
    "        description=\"useful for when you need to answer questions about current events\",\n",
    "    ),\n",
    "    Tool(\n",
    "        name=\"TODO\",\n",
    "        func=todo_chain.run,\n",
    "        description=\"useful for when you need to come up with todo lists. Input: an objective to create a todo list for. Output: a todo list for that objective. Please be very clear what the objective is!\",\n",
    "    ),\n",
    "]\n",
    "\n",
    "\n",
    "prefix = \"\"\"You are an AI who performs one task based on the following objective: {objective}. Take into account these previously completed tasks: {context}.\"\"\"\n",
    "suffix = \"\"\"Question: {task}\n",
    "{agent_scratchpad}\"\"\"\n",
    "prompt = ZeroShotAgent.create_prompt(\n",
    "    tools,\n",
    "    prefix=prefix,\n",
    "    suffix=suffix,\n",
    "    input_variables=[\"objective\", \"task\", \"context\", \"agent_scratchpad\"],\n",
    ")"
   ]
  },
  {
   "cell_type": "code",
   "execution_count": 44,
   "id": "4b00ae2e",
   "metadata": {
    "tags": []
   },
   "outputs": [],
   "source": [
    "llm = OpenAI(temperature=0)\n",
    "llm_chain = LLMChain(llm=llm, prompt=prompt)\n",
    "tool_names = [tool.name for tool in tools]\n",
    "agent = ZeroShotAgent(llm_chain=llm_chain, allowed_tools=tool_names)\n",
    "agent_executor = AgentExecutor.from_agent_and_tools(\n",
    "    agent=agent, tools=tools, verbose=True\n",
    ")"
   ]
  },
  {
   "cell_type": "markdown",
   "id": "05ba762e",
   "metadata": {},
   "source": [
    "### Run the BabyAGI\n",
    "\n",
    "Now it's time to create the BabyAGI controller and watch it try to accomplish your objective."
   ]
  },
  {
   "cell_type": "code",
   "execution_count": 45,
   "id": "3d220b69",
   "metadata": {
    "tags": []
   },
   "outputs": [],
   "source": [
    "OBJECTIVE = \"Create a daily meal plan for a vegan diet\""
   ]
  },
  {
   "cell_type": "code",
   "execution_count": 46,
   "id": "3d69899b",
   "metadata": {
    "tags": []
   },
   "outputs": [],
   "source": [
    "# Logging of LLMChains\n",
    "verbose = False\n",
    "# If None, will keep on going forever\n",
    "max_iterations: Optional[int] = 3\n",
    "baby_agi = BabyAGI.from_llm(\n",
    "    llm=llm,\n",
    "    vectorstore=vectorstore,\n",
    "    task_execution_chain=agent_executor,\n",
    "    verbose=verbose,\n",
    "    max_iterations=max_iterations,\n",
    ")"
   ]
  },
  {
   "cell_type": "code",
   "execution_count": 47,
   "id": "f7957b51",
   "metadata": {
    "tags": []
   },
   "outputs": [
    {
     "name": "stdout",
     "output_type": "stream",
     "text": [
      "\u001b[95m\u001b[1m\n",
      "*****TASK LIST*****\n",
      "\u001b[0m\u001b[0m\n",
      "1: Make a todo list\n",
      "\u001b[92m\u001b[1m\n",
      "*****NEXT TASK*****\n",
      "\u001b[0m\u001b[0m\n",
      "1: Make a todo list\n",
      "\n",
      "\n",
      "\u001b[1m> Entering new AgentExecutor chain...\u001b[0m\n",
      "\u001b[32;1m\u001b[1;3mThought: I should think about what tasks are involved in creating a daily meal plan for a vegan diet\n",
      "Action: TODO\n",
      "Action Input: Create a daily meal plan for a vegan diet\u001b[0m\n",
      "Observation: \u001b[33;1m\u001b[1;3m\n",
      "\n",
      "1. Research vegan dietary guidelines and recommended daily nutrient intake.\n",
      "2. Make a list of vegan-friendly foods and ingredients.\n",
      "3. Plan out meals for each day of the week, including breakfast, lunch, dinner, and snacks.\n",
      "4. Consider incorporating a variety of plant-based proteins such as beans, lentils, tofu, and tempeh.\n",
      "5. Include a variety of fruits and vegetables to ensure a well-rounded diet.\n",
      "6. Plan for any necessary substitutions for non-vegan ingredients, such as using plant-based milk instead of dairy milk.\n",
      "7. Take into account any dietary restrictions or allergies.\n",
      "8. Create a grocery list based on the planned meals.\n",
      "9. Set aside time for meal prep and batch cooking to save time during the week.\n",
      "10. Consider incorporating new and creative recipes to keep meals interesting.\n",
      "11. Plan for leftovers to reduce food waste and save time on meal planning.\n",
      "12. Make adjustments as needed based on personal preferences and taste.\n",
      "13. Keep track of meals and their nutritional value to ensure a balanced diet.\n",
      "14. Stay organized and stick to the plan to maintain a healthy vegan diet.\u001b[0m\n",
      "Thought:\u001b[32;1m\u001b[1;3m I now know the final answer\n",
      "Final Answer: A todo list for creating a daily meal plan for a vegan diet.\u001b[0m\n",
      "\n",
      "\u001b[1m> Finished chain.\u001b[0m\n",
      "\u001b[93m\u001b[1m\n",
      "*****TASK RESULT*****\n",
      "\u001b[0m\u001b[0m\n",
      "A todo list for creating a daily meal plan for a vegan diet.\n",
      "\u001b[95m\u001b[1m\n",
      "*****TASK LIST*****\n",
      "\u001b[0m\u001b[0m\n",
      "1: Create a schedule for meal preparation and cooking for the daily meal plan.\n",
      "2: Plan and prepare a vegan meal for each day of the week.\n",
      "3: Plan and prepare a variety of vegan meals to avoid repetition in the daily meal plan.\n",
      "4: Research vegan meal options and create a list of ingredients needed for a daily meal plan.\n",
      "5: Find and compile a list of vegan recipes for breakfast, lunch, and dinner.\n",
      "6: Create a shopping list for the ingredients needed for the daily meal plan.\n",
      "7: Create a list of alternative protein sources for the daily meal plan.\n",
      "8: Research and include vegan snacks and desserts in the daily meal plan.\n",
      "9: Create a budget for the daily meal plan and find cost-effective options for ingredients.\n",
      "10: Create a list of potential substitutes for non-vegan ingredients in recipes for the daily meal plan.\n",
      "\u001b[92m\u001b[1m\n",
      "*****NEXT TASK*****\n",
      "\u001b[0m\u001b[0m\n",
      "1: Create a schedule for meal preparation and cooking for the daily meal plan.\n",
      "\n",
      "\n",
      "\u001b[1m> Entering new AgentExecutor chain...\u001b[0m\n",
      "\u001b[32;1m\u001b[1;3mThought: I need to consider the time and effort required for each meal.\n",
      "Action: TODO\n",
      "Action Input: \"Create a schedule for meal preparation and cooking\"\u001b[0m\n",
      "Observation: \u001b[33;1m\u001b[1;3m\n",
      "\n",
      "1. Determine the number of meals needed: Start by deciding how many meals you need to prepare for the week. This will help you plan out your schedule more effectively.\n",
      "\n",
      "2. Choose your recipes: Select the meals you want to make for the week. Consider factors such as dietary restrictions, ingredients on hand, and time constraints.\n",
      "\n",
      "3. Make a grocery list: Based on the recipes you have chosen, make a list of all the ingredients you will need. This will help you stay organized and ensure you have everything you need for meal preparation.\n",
      "\n",
      "4. Plan your cooking days: Decide which days you will have time to cook and which days you will need to prepare meals ahead of time. This will help you create a realistic schedule.\n",
      "\n",
      "5. Prep ahead of time: Take advantage of any free time you have to prep ingredients or make meals in advance. This will save you time on busy cooking days.\n",
      "\n",
      "6. Set a cooking schedule: Determine how much time you will need to cook each meal and schedule it into your day accordingly. Consider factors such as oven and stove availability, and multitask when possible.\n",
      "\n",
      "7. Use leftovers: Plan to have leftovers for some meals to save time and effort. Make sure to schedule these meals accordingly.\n",
      "\n",
      "8. Consider meal prep services:\u001b[0m\n",
      "Thought:\u001b[32;1m\u001b[1;3m I could also use meal prep services to save time and effort.\n",
      "Action: Search\n",
      "Action Input: \"Vegan meal prep services\"\u001b[0m\n",
      "Observation: \u001b[36;1m\u001b[1;3m[' entity_type: related_questions.', 'Discover the power of a plant-based diet. Receive new plant-based recipes and pre-portioned ingredients delivered to your door each week.', 'Discover high protein vegan meal prep ideas made with whole ingredients for nutritious, balanced meals. Perfect for a post-workout or busy week!', 'The Best Vegetarian Meal Delivery Services, According to BA Editors · Purple Carrot · Green Chef · Martha & Marley Spoon · CookUnity · Dinnerly.', 'Which meal delivery service for a good variety of high quality vegan options? · Hungry Root · Purple Carrot · Daily Harvest · Green Chef.', 'Topping our list of best plant-based meal delivery services, Purple Carrot is 100% vegan and plant-based. It stands out for ease of ordering, ...', 'Take your vegan meal plan to the next level with Green Chef & our vegan food delivery service! Tasty Vegan Meal Kits ✓ Flavorful Vegan Recipes ✓ Start Now!', 'Fresh and organic ingredients cooked by our chefs and delivered to you. heat & enjoy No cooking or prep required! Just enjoy rich, nutritious goodness.', 'Chef inspired, nutritionist-approved organic meals delivered straight to you. 100% plant-based. Subscribe to a weekly meal plan.', '10 Best Vegan Meal Delivery Services, According to Extensive Taste Tests · Purple Carrot · Mosaic Foods · Green Chef · Veestro · Splendid Spoon.', [{'position': 1, 'rating': 5.0, 'reviews': 140, 'reviews_original': '(140)', 'description': '\"I wanted fresh, affordable and delicious, plant based food.\"', 'lsig': 'AB86z5Ux_smRAyb4GDlotIFmBSwJ', 'thumbnail': 'https://serpapi.com/searches/6804109fb761f4ed92491c05/images/fbe736ed6b61891f5b51c5da704ec1b636a1fdf3bd368b0648cdc35a28e69727d4a658f1911b64f7.png', 'place_id': '14090234267538094231', 'place_id_search': 'https://serpapi.com/search.json?device=desktop&engine=google&gl=us&google_domain=google.com&hl=en&ludocid=14090234267538094231&q=Vegan+meal+prep+services', 'gps_coordinates': {'latitude': 33.781277, 'longitude': -84.268616}, 'title': 'Nyansapo Wellness Institute, Inc. | Essential Meals 2Go!', 'type': 'Delivery Restaurant', 'address': 'Decatur, GA', 'hours': 'Closed ⋅ Opens 10 AM Sun'}, {'position': 2, 'rating': 4.8, 'reviews': 133, 'reviews_original': '(133)', 'price': '$10–20', 'description': '\"Super healthy and clean food at a amazing price!!\"', 'lsig': 'AB86z5U3mP5D6pSEOx464J2RBqJa', 'thumbnail': 'https://serpapi.com/searches/6804109fb761f4ed92491c05/images/fbe736ed6b61891f5b51c5da704ec1b640aeacb1d1bc19bfc80d7172aecb1a996316b008215bb710.jpeg', 'place_id': '7812546115360027106', 'place_id_search': 'https://serpapi.com/search.json?device=desktop&engine=google&gl=us&google_domain=google.com&hl=en&ludocid=7812546115360027106&q=Vegan+meal+prep+services', 'gps_coordinates': {'latitude': 33.40755, 'longitude': -84.60052}, 'title': 'Clean Eatz Peachtree City', 'type': 'Health Food', 'address': 'Peachtree City, GA', 'hours': 'Closed ⋅ Opens 11 AM Sun'}, {'position': 3, 'rating': 4.8, 'reviews': 135, 'reviews_original': '(135)', 'price': '$10–20', 'description': '\"Wonderful staff and so many healthy options that taste delicious.\"', 'lsig': 'AB86z5VwTbw7JIkhnHTyK62Aj8LO', 'thumbnail': 'https://serpapi.com/searches/6804109fb761f4ed92491c05/images/fbe736ed6b61891f5b51c5da704ec1b65fbb62fc0729495fc128d46227947fc84a3f1193e05106d5.jpeg', 'place_id': '5397710384860456470', 'place_id_search': 'https://serpapi.com/search.json?device=desktop&engine=google&gl=us&google_domain=google.com&hl=en&ludocid=5397710384860456470&q=Vegan+meal+prep+services', 'gps_coordinates': {'latitude': 33.90664, 'longitude': -84.37928}, 'title': 'Clean Eatz', 'type': 'Delivery Restaurant', 'address': 'Sandy Springs, GA', 'hours': 'Closed ⋅ Opens 11 AM Mon'}]]\u001b[0m\n",
      "Thought:\u001b[32;1m\u001b[1;3m These meal prep services offer a variety of options and could save me time and effort.\n",
      "Action: TODO\n",
      "Action Input: \"Choose a meal prep service and schedule meals accordingly\"\u001b[0m\n",
      "Observation: \u001b[33;1m\u001b[1;3m\n",
      "\n",
      "1. Research meal prep services in your area: Start by doing some research on the different meal prep services available in your area. Look at their menus, pricing, and delivery options to determine which one would be the best fit for you.\n",
      "\n",
      "2. Consider your dietary restrictions: If you have any dietary restrictions or preferences, make sure to take them into account when choosing a meal prep service. Look for options that cater to your specific needs.\n",
      "\n",
      "3. Read reviews and ask for recommendations: Before making a decision, read reviews from other customers to get an idea of their experiences with the service. You can also ask friends or family members for recommendations.\n",
      "\n",
      "4. Compare prices and meal options: Take a look at the prices and meal options offered by different meal prep services. Consider your budget and the types of meals you would like to have to help narrow down your choices.\n",
      "\n",
      "5. Sign up for a trial or sample meal: Many meal prep services offer a trial or sample meal for new customers. Take advantage of this to get a taste of the service and see if it meets your expectations.\n",
      "\n",
      "6. Create a meal schedule: Once you have chosen a meal prep service, create a meal schedule for the upcoming week or month. This will help you stay organized and ensure that you have\u001b[0m\n",
      "Thought:\u001b[32;1m\u001b[1;3m I now have a schedule for meal preparation and cooking, as well as a meal prep service to help me save time and effort.\n",
      "Final Answer: The final answer is a schedule for meal preparation and cooking, as well as a chosen meal prep service to help save time and effort.\u001b[0m\n",
      "\n",
      "\u001b[1m> Finished chain.\u001b[0m\n",
      "\u001b[93m\u001b[1m\n",
      "*****TASK RESULT*****\n",
      "\u001b[0m\u001b[0m\n",
      "The final answer is a schedule for meal preparation and cooking, as well as a chosen meal prep service to help save time and effort.\n",
      "\u001b[95m\u001b[1m\n",
      "*****TASK LIST*****\n",
      "\u001b[0m\u001b[0m\n",
      "1: Create a schedule for meal preparation and cooking for the daily meal plan.\n",
      "2: Plan and prepare a vegan meal for each day of the week.\n",
      "3: Plan and prepare a variety of vegan meals to avoid repetition in the daily meal plan.\n",
      "4: Research vegan meal options and create a list of ingredients needed for a daily meal plan.\n",
      "5: Find and compile a list of vegan recipes for breakfast, lunch, and dinner.\n",
      "6: Create a shopping list for the ingredients needed for the daily meal plan.\n",
      "7: Create a list of alternative protein sources for the daily meal plan.\n",
      "8: Research and include vegan snacks and desserts in the daily meal plan.\n",
      "9: Create a budget for the daily meal plan and find cost-effective options for ingredients.\n",
      "10: Create a list of potential substitutes for non-vegan ingredients in recipes for the daily meal plan.\n",
      "11: Create a schedule for meal preparation and cooking for the weekly meal plan.\n",
      "12: Plan and prepare a vegan meal for each day of the week in the weekly meal plan.\n",
      "13: Plan and prepare a variety of vegan meals to avoid repetition in the weekly meal plan.\n",
      "14: Research vegan meal options and create a list of ingredients needed for the weekly meal plan.\n",
      "15: Find and compile a list of\n",
      "\u001b[92m\u001b[1m\n",
      "*****NEXT TASK*****\n",
      "\u001b[0m\u001b[0m\n",
      "1: Create a schedule for meal preparation and cooking for the daily meal plan.\n",
      "\n",
      "\n",
      "\u001b[1m> Entering new AgentExecutor chain...\u001b[0m\n",
      "\u001b[32;1m\u001b[1;3mThought: I need to consider the time and effort required for each meal.\n",
      "Action: TODO\n",
      "Action Input: \"Create a schedule for meal preparation and cooking for the daily meal plan.\"\u001b[0m\n",
      "Observation: \u001b[33;1m\u001b[1;3m\n",
      "\n",
      "1. Determine the number of meals needed per day: Start by deciding how many meals you will be preparing each day. This will depend on your personal preferences and dietary needs.\n",
      "\n",
      "2. Choose a meal planning method: There are various methods for meal planning, such as batch cooking, theme nights, or using a meal planning app. Choose the method that works best for you.\n",
      "\n",
      "3. Create a list of go-to recipes: Make a list of your favorite recipes that are easy to prepare and can be used for multiple meals. This will save time and effort in meal planning.\n",
      "\n",
      "4. Check your pantry and fridge: Take inventory of the ingredients you already have on hand. This will help you avoid buying unnecessary items and save money.\n",
      "\n",
      "5. Make a grocery list: Based on your meal plan and pantry inventory, create a grocery list of the ingredients you will need for the week.\n",
      "\n",
      "6. Set a designated day for meal planning: Choose a day of the week to sit down and plan out your meals for the upcoming week. This will help you stay organized and on track.\n",
      "\n",
      "7. Schedule meal prep time: Set aside a specific time each week for meal prep. This could be on the same day as your meal planning or a separate day.\n",
      "\n",
      "8. Plan for leftovers:\u001b[0m\n",
      "Thought:\u001b[32;1m\u001b[1;3m I need to make sure to plan for leftovers to avoid food waste.\n",
      "Action: TODO\n",
      "Action Input: \"Plan for leftovers\"\u001b[0m\n",
      "Observation: \u001b[33;1m\u001b[1;3m\n",
      "\n",
      "1. Take inventory of current leftovers in the fridge and freezer.\n",
      "2. Check expiration dates and prioritize leftovers that need to be eaten soon.\n",
      "3. Decide on a meal plan for the week that incorporates the leftovers.\n",
      "4. Make a grocery list for any additional ingredients needed for the meal plan.\n",
      "5. Set aside time each day to prepare and cook the meals using the leftovers.\n",
      "6. Label and store leftovers in clear containers for easy identification.\n",
      "7. Plan to use leftovers in creative ways, such as incorporating them into new dishes or repurposing them as ingredients.\n",
      "8. Consider freezing any excess leftovers for future use.\n",
      "9. Keep track of the meals made with leftovers and their success for future reference.\n",
      "10. Re-evaluate the meal plan and adjust as needed to ensure all leftovers are used up.\u001b[0m\n",
      "Thought:\u001b[32;1m\u001b[1;3m I have all the necessary information to create a schedule for meal preparation and cooking.\n",
      "Final Answer: Based on the input question, the final answer is a schedule for meal preparation and cooking for the daily meal plan that takes into account the number of meals needed per day, chosen meal planning method, go-to recipes, pantry and fridge inventory, designated day for meal planning, scheduled meal prep time, and planning for leftovers.\u001b[0m\n",
      "\n",
      "\u001b[1m> Finished chain.\u001b[0m\n",
      "\u001b[93m\u001b[1m\n",
      "*****TASK RESULT*****\n",
      "\u001b[0m\u001b[0m\n",
      "Based on the input question, the final answer is a schedule for meal preparation and cooking for the daily meal plan that takes into account the number of meals needed per day, chosen meal planning method, go-to recipes, pantry and fridge inventory, designated day for meal planning, scheduled meal prep time, and planning for leftovers.\n",
      "\u001b[91m\u001b[1m\n",
      "*****TASK ENDING*****\n",
      "\u001b[0m\u001b[0m\n"
     ]
    },
    {
     "data": {
      "text/plain": [
       "{'objective': 'Create a daily meal plan for a vegan diet'}"
      ]
     },
     "execution_count": 47,
     "metadata": {},
     "output_type": "execute_result"
    }
   ],
   "source": [
    "baby_agi({\"objective\": OBJECTIVE})"
   ]
  },
  {
   "cell_type": "code",
   "execution_count": null,
   "id": "a5ab844b",
   "metadata": {},
   "outputs": [],
   "source": []
  }
 ],
 "metadata": {
  "kernelspec": {
   "display_name": "Python 3",
   "language": "python",
   "name": "python3"
  },
  "language_info": {
   "codemirror_mode": {
    "name": "ipython",
    "version": 3
   },
   "file_extension": ".py",
   "mimetype": "text/x-python",
   "name": "python",
   "nbconvert_exporter": "python",
   "pygments_lexer": "ipython3",
   "version": "3.10.16"
  }
 },
 "nbformat": 4,
 "nbformat_minor": 5
}
