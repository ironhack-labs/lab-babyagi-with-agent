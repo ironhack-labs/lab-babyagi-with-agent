{
 "cells": [
  {
   "cell_type": "markdown",
   "id": "1cdba6f7-142d-4dd2-96f6-a13bb5d978ce",
   "metadata": {},
   "source": [
    "# Lab | BabyAGI with agent\n",
    "\n",
    "**Change the planner objective below by changing the objective and the associated prompts and potential tools and agents - Wear your creativity and AI engineering hats\n",
    "You can't get this wrong!**\n",
    "\n",
    "You would need the OpenAI API KEY and the [SerpAPI KEY](https://serpapi.com/manage-api-keyhttps://serpapi.com/manage-api-key) to run this lab.\n"
   ]
  },
  {
   "cell_type": "markdown",
   "id": "517a9fd4",
   "metadata": {},
   "source": [
    "## BabyAGI with Tools\n",
    "\n",
    "This notebook builds on top of [baby agi](baby_agi.html), but shows how you can swap out the execution chain. The previous execution chain was just an LLM which made stuff up. By swapping it out with an agent that has access to tools, we can hopefully get real reliable information"
   ]
  },
  {
   "cell_type": "markdown",
   "id": "556af556",
   "metadata": {},
   "source": [
    "## Install and Import Required Modules"
   ]
  },
  {
   "cell_type": "code",
   "execution_count": 4,
   "id": "c8a354b6",
   "metadata": {
    "tags": []
   },
   "outputs": [],
   "source": [
    "from typing import Optional\n",
    "\n",
    "from langchain.chains import LLMChain\n",
    "from langchain.prompts import PromptTemplate\n",
    "from langchain_experimental.autonomous_agents import BabyAGI\n",
    "from langchain_openai import OpenAI, OpenAIEmbeddings"
   ]
  },
  {
   "cell_type": "markdown",
   "id": "09f70772",
   "metadata": {},
   "source": [
    "## Connect to the Vector Store\n",
    "\n",
    "Depending on what vectorstore you use, this step may look different."
   ]
  },
  {
   "cell_type": "code",
   "execution_count": 2,
   "id": "794045d4",
   "metadata": {
    "tags": []
   },
   "outputs": [
    {
     "name": "stdout",
     "output_type": "stream",
     "text": [
      "Note: you may need to restart the kernel to use updated packages.\n"
     ]
    },
    {
     "name": "stderr",
     "output_type": "stream",
     "text": [
      "The system cannot find the path specified.\n"
     ]
    },
    {
     "name": "stdout",
     "output_type": "stream",
     "text": [
      "Note: you may need to restart the kernel to use updated packages.\n"
     ]
    },
    {
     "name": "stderr",
     "output_type": "stream",
     "text": [
      "The system cannot find the path specified.\n"
     ]
    }
   ],
   "source": [
    "%pip install faiss-cpu > /dev/null\n",
    "%pip install google-search-results > /dev/null\n",
    "from langchain.docstore import InMemoryDocstore\n",
    "from langchain_community.vectorstores import FAISS"
   ]
  },
  {
   "cell_type": "code",
   "execution_count": 11,
   "id": "c4164841-915d-4c60-8a47-3a502a5cf71d",
   "metadata": {
    "tags": []
   },
   "outputs": [],
   "source": [
    "import os\n",
    "from dotenv import load_dotenv, find_dotenv\n",
    "_ = load_dotenv(find_dotenv())\n",
    "\n",
    "OPENAI_API_KEY  = os.getenv('OPENAI_API_KEY')\n",
    "SERPAPI_API_KEY = os.getenv('SERPAPI_API_KEY')"
   ]
  },
  {
   "cell_type": "code",
   "execution_count": 8,
   "id": "d83bbba8",
   "metadata": {},
   "outputs": [
    {
     "name": "stdout",
     "output_type": "stream",
     "text": [
      "Requirement already satisfied: faiss-cpu in c:\\users\\s83me\\anaconda3\\lib\\site-packages (1.9.0)\n",
      "Requirement already satisfied: numpy<3.0,>=1.25.0 in c:\\users\\s83me\\anaconda3\\lib\\site-packages (from faiss-cpu) (1.26.4)\n",
      "Requirement already satisfied: packaging in c:\\users\\s83me\\anaconda3\\lib\\site-packages (from faiss-cpu) (23.2)\n"
     ]
    },
    {
     "name": "stderr",
     "output_type": "stream",
     "text": [
      "C:\\Users\\s83me\\AppData\\Local\\Temp\\ipykernel_14564\\3084245707.py:11: LangChainDeprecationWarning: The class `OpenAIEmbeddings` was deprecated in LangChain 0.0.9 and will be removed in 1.0. An updated version of the class exists in the :class:`~langchain-openai package and should be used instead. To use it run `pip install -U :class:`~langchain-openai` and import as `from :class:`~langchain_openai import OpenAIEmbeddings``.\n",
      "  embeddings_model = OpenAIEmbeddings()\n",
      "`embedding_function` is expected to be an Embeddings object, support for passing in a function will soon be removed.\n"
     ]
    }
   ],
   "source": [
    "# Install FAISS if not installed\n",
    "#!pip install faiss-cpu\n",
    "\n",
    "# Import necessary libraries\n",
    "import faiss\n",
    "from langchain.embeddings import OpenAIEmbeddings\n",
    "from langchain.vectorstores.faiss import FAISS\n",
    "from langchain.docstore.in_memory import InMemoryDocstore\n",
    "\n",
    "# Define the embedding model\n",
    "embeddings_model = OpenAIEmbeddings()\n",
    "\n",
    "# Initialize the vector store\n",
    "embedding_size = 1536  # Assuming OpenAIEmbeddings' default dimension is 1536\n",
    "index = faiss.IndexFlatL2(embedding_size)  # FAISS uses flat L2 distance by default\n",
    "\n",
    "# Create the FAISS vector store\n",
    "vectorstore = FAISS(embeddings_model.embed_query, index, InMemoryDocstore({}), {})\n"
   ]
  },
  {
   "cell_type": "markdown",
   "id": "0f3b72bf",
   "metadata": {},
   "source": [
    "## Define the Chains\n",
    "\n",
    "BabyAGI relies on three LLM chains:\n",
    "- Task creation chain to select new tasks to add to the list\n",
    "- Task prioritization chain to re-prioritize tasks\n",
    "- Execution Chain to execute the tasks\n",
    "\n",
    "\n",
    "NOTE: in this notebook, the Execution chain will now be an agent."
   ]
  },
  {
   "cell_type": "code",
   "execution_count": 12,
   "id": "b43cd580",
   "metadata": {
    "tags": []
   },
   "outputs": [],
   "source": [
    "from langchain.agents import AgentExecutor, Tool, ZeroShotAgent\n",
    "from langchain.chains import LLMChain\n",
    "from langchain_community.utilities import SerpAPIWrapper\n",
    "from langchain_openai import OpenAI\n",
    "\n",
    "todo_prompt = PromptTemplate.from_template(\n",
    "    \"You are a planner who is an expert at coming up with a todo list for a given objective. Come up with a todo list for this objective: {objective}\"\n",
    ")\n",
    "todo_chain = LLMChain(llm=OpenAI(temperature=0), prompt=todo_prompt)\n",
    "search = SerpAPIWrapper()\n",
    "tools = [\n",
    "    Tool(\n",
    "        name=\"Search\",\n",
    "        func=search.run,\n",
    "        description=\"useful for when you need to answer questions about current events\",\n",
    "    ),\n",
    "    Tool(\n",
    "        name=\"TODO\",\n",
    "        func=todo_chain.run,\n",
    "        description=\"useful for when you need to come up with todo lists. Input: an objective to create a todo list for. Output: a todo list for that objective. Please be very clear what the objective is!\",\n",
    "    ),\n",
    "]\n",
    "\n",
    "\n",
    "prefix = \"\"\"You are an AI who performs one task based on the following objective: {objective}. Take into account these previously completed tasks: {context}.\"\"\"\n",
    "suffix = \"\"\"Question: {task}\n",
    "{agent_scratchpad}\"\"\"\n",
    "prompt = ZeroShotAgent.create_prompt(\n",
    "    tools,\n",
    "    prefix=prefix,\n",
    "    suffix=suffix,\n",
    "    input_variables=[\"objective\", \"task\", \"context\", \"agent_scratchpad\"],\n",
    ")"
   ]
  },
  {
   "cell_type": "code",
   "execution_count": 13,
   "id": "4b00ae2e",
   "metadata": {
    "tags": []
   },
   "outputs": [
    {
     "name": "stderr",
     "output_type": "stream",
     "text": [
      "C:\\Users\\s83me\\AppData\\Local\\Temp\\ipykernel_14564\\3064747660.py:4: LangChainDeprecationWarning: The class `ZeroShotAgent` was deprecated in LangChain 0.1.0 and will be removed in 1.0. Use :meth:`~create_react_agent` instead.\n",
      "  agent = ZeroShotAgent(llm_chain=llm_chain, allowed_tools=tool_names)\n"
     ]
    }
   ],
   "source": [
    "llm = OpenAI(temperature=0)\n",
    "llm_chain = LLMChain(llm=llm, prompt=prompt)\n",
    "tool_names = [tool.name for tool in tools]\n",
    "agent = ZeroShotAgent(llm_chain=llm_chain, allowed_tools=tool_names)\n",
    "agent_executor = AgentExecutor.from_agent_and_tools(\n",
    "    agent=agent, tools=tools, verbose=True\n",
    ")"
   ]
  },
  {
   "cell_type": "markdown",
   "id": "05ba762e",
   "metadata": {},
   "source": [
    "### Run the BabyAGI\n",
    "\n",
    "Now it's time to create the BabyAGI controller and watch it try to accomplish your objective."
   ]
  },
  {
   "cell_type": "code",
   "execution_count": 14,
   "id": "3d220b69",
   "metadata": {
    "tags": []
   },
   "outputs": [],
   "source": [
    "OBJECTIVE = \"Write a weather report for SF today\""
   ]
  },
  {
   "cell_type": "code",
   "execution_count": 15,
   "id": "3d69899b",
   "metadata": {
    "tags": []
   },
   "outputs": [],
   "source": [
    "# Logging of LLMChains\n",
    "verbose = False\n",
    "# If None, will keep on going forever\n",
    "max_iterations: Optional[int] = 3\n",
    "baby_agi = BabyAGI.from_llm(\n",
    "    llm=llm,\n",
    "    vectorstore=vectorstore,\n",
    "    task_execution_chain=agent_executor,\n",
    "    verbose=verbose,\n",
    "    max_iterations=max_iterations,\n",
    ")"
   ]
  },
  {
   "cell_type": "code",
   "execution_count": 16,
   "id": "f7957b51",
   "metadata": {
    "tags": []
   },
   "outputs": [
    {
     "name": "stderr",
     "output_type": "stream",
     "text": [
      "C:\\Users\\s83me\\AppData\\Local\\Temp\\ipykernel_14564\\3867971396.py:1: LangChainDeprecationWarning: The method `Chain.__call__` was deprecated in langchain 0.1.0 and will be removed in 1.0. Use :meth:`~invoke` instead.\n",
      "  baby_agi({\"objective\": OBJECTIVE})\n"
     ]
    },
    {
     "name": "stdout",
     "output_type": "stream",
     "text": [
      "\u001b[95m\u001b[1m\n",
      "*****TASK LIST*****\n",
      "\u001b[0m\u001b[0m\n",
      "1: Make a todo list\n",
      "\u001b[92m\u001b[1m\n",
      "*****NEXT TASK*****\n",
      "\u001b[0m\u001b[0m\n",
      "1: Make a todo list\n",
      "\n",
      "\n",
      "\u001b[1m> Entering new AgentExecutor chain...\u001b[0m\n",
      "\u001b[32;1m\u001b[1;3mThought: I should use the TODO action to create a todo list\n",
      "Action: TODO\n",
      "Action Input: \"Create a todo list for writing a weather report for SF today\"\u001b[0m\n",
      "Observation: \u001b[33;1m\u001b[1;3m\n",
      "\n",
      "1. Gather all necessary information: Start by collecting all the necessary information for writing a weather report for San Francisco today. This includes current temperature, humidity, wind speed, and any other relevant data.\n",
      "\n",
      "2. Check weather forecast: Before writing the report, check the weather forecast for San Francisco today to get an idea of what to expect. This will help you accurately report on the current weather conditions.\n",
      "\n",
      "3. Determine target audience: Consider who will be reading the weather report and tailor your writing style and language accordingly. A report for a local news station may be different from one for a scientific journal.\n",
      "\n",
      "4. Create an outline: Organize your thoughts and information by creating an outline for the weather report. This will help you stay focused and ensure that all important points are covered.\n",
      "\n",
      "5. Start with an attention-grabbing headline: The headline is the first thing readers will see, so make it catchy and informative. It should give a brief overview of the weather conditions in San Francisco today.\n",
      "\n",
      "6. Write an introduction: In the introduction, provide a brief overview of the current weather conditions in San Francisco and why it is important for readers to know.\n",
      "\n",
      "7. Include relevant data: Use the information gathered in step 1 to provide accurate and up-to-date data in your\u001b[0m\n",
      "Thought:\u001b[32;1m\u001b[1;3m I have created a detailed todo list for writing a weather report for San Francisco today\n",
      "Final Answer: Use the todo list to write a comprehensive and informative weather report for San Francisco today.\u001b[0m\n",
      "\n",
      "\u001b[1m> Finished chain.\u001b[0m\n",
      "\u001b[93m\u001b[1m\n",
      "*****TASK RESULT*****\n",
      "\u001b[0m\u001b[0m\n",
      "Use the todo list to write a comprehensive and informative weather report for San Francisco today.\n",
      "\u001b[95m\u001b[1m\n",
      "*****TASK LIST*****\n",
      "\u001b[0m\u001b[0m\n",
      "1: Gather data on temperature, humidity, and wind speed\n",
      "2: Research current weather conditions in San Francisco\n",
      "3: Check for any weather alerts or warnings in the area\n",
      "4: Create a detailed outline for the weather report\n",
      "5: Write an introduction for the weather report\n",
      "6: Include a section on the current temperature in San Francisco\n",
      "7: Describe the humidity levels in the city\n",
      "8: Discuss the wind speed and direction in San Francisco\n",
      "9: Include a section on any potential weather hazards or risks\n",
      "10: Write a conclusion summarizing the weather conditions in San Francisco today.\n",
      "\u001b[92m\u001b[1m\n",
      "*****NEXT TASK*****\n",
      "\u001b[0m\u001b[0m\n",
      "1: Gather data on temperature, humidity, and wind speed\n",
      "\n",
      "\n",
      "\u001b[1m> Entering new AgentExecutor chain...\u001b[0m\n",
      "\u001b[32;1m\u001b[1;3mThought: I should search for a reliable source of weather data\n",
      "Action: Search\n",
      "Action Input: \"weather data for San Francisco\"\u001b[0m\n",
      "Observation: \u001b[36;1m\u001b[1;3m['Historic Avg. Record. High Temp, 60, 71.1, 90. Low Temp, 50, 52.5 ...', 'DAILY DATA FOR A MONTH - daily maximum, minimum and average temperature (degrees F), average temperature departure from normal (degrees F), heating and ...', 'San Francisco Weather History for the Previous 24 Hours ; 51 °F · Passing clouds. 16 mph ...', 'Temp Swings: Record Heat For The South This Week. Humidity70%. UV Index0 of 11. Moonrise11:50 pm. Waning Gibbous. Moonset2:21 pm. Thu 24. 75°/51°.', 'Historical Monthly Averages in San Francisco ; 67°. High ; 55°. Low ; 67. 54. Feels ; 4. Days of Precip ; 1in. Rain.', 'Temperature (°F), Max, Average, Min. Max Temperature, 98, 77.05, 64. Avg Temperature, 77.79, 65.63, 58.38. Min Temperature, 68, 58.3, 52 ...', 'NWS Forecast Office San Francisco, CA · Observations · Hydro Maps Data · Precipitation · Satellite · Buoy Reports · Radar · Fire Weather Snooper.', \"View Station Data is a web based interface which allows easy access to NCDC's station databases. Data coverage is stored based on observations over a specific ...\", 'Over the course of the year, the temperature typically varies from 45°F to 72°F and is rarely below 39°F or above 83°F. Climate in San Francisco. Link. Download.', 'The weather history data on this page is sourced from Visual Crossing Weather Data. The data includes select hourly and daily weather and climate data elements.']\u001b[0m\n",
      "Thought:\u001b[32;1m\u001b[1;3m I should organize the data into a readable format\n",
      "Action: TODO\n",
      "Action Input: \"Create a weather report for San Francisco\"\u001b[0m\n",
      "Observation: \u001b[33;1m\u001b[1;3m\n",
      "\n",
      "1. Research the current weather conditions in San Francisco.\n",
      "2. Gather data from reliable sources such as the National Weather Service or local news stations.\n",
      "3. Determine the format and style of the weather report (e.g. written, video, infographic).\n",
      "4. Create a template for the weather report, including sections for current conditions, forecast, and any relevant graphics or visuals.\n",
      "5. Write a script or outline for the weather report, including key information such as temperature, precipitation, and wind speed.\n",
      "6. Collect any necessary images or footage to enhance the report.\n",
      "7. Use weather forecasting tools to predict future weather patterns in San Francisco.\n",
      "8. Incorporate any notable weather events or trends that may impact the report.\n",
      "9. Edit and revise the report for accuracy and clarity.\n",
      "10. Publish the weather report on a designated platform, such as a website or social media page.\n",
      "11. Share the report with relevant audiences, such as local residents or tourists.\n",
      "12. Monitor and update the report as needed to reflect any changes in weather conditions.\n",
      "13. Seek feedback from viewers and make improvements for future weather reports.\n",
      "14. Stay updated on weather developments in San Francisco to prepare for future reports.\u001b[0m\n",
      "Thought:\u001b[32;1m\u001b[1;3m I have completed all the necessary tasks to create a weather report for San Francisco\n",
      "Final Answer: The weather report for San Francisco today is currently being prepared and will be available soon. Stay tuned for the latest updates on temperature, humidity, and wind speed.\u001b[0m\n",
      "\n",
      "\u001b[1m> Finished chain.\u001b[0m\n",
      "\u001b[93m\u001b[1m\n",
      "*****TASK RESULT*****\n",
      "\u001b[0m\u001b[0m\n",
      "The weather report for San Francisco today is currently being prepared and will be available soon. Stay tuned for the latest updates on temperature, humidity, and wind speed.\n",
      "\u001b[95m\u001b[1m\n",
      "*****TASK LIST*****\n",
      "\u001b[0m\u001b[0m\n",
      "1: Update the temperature data for San Francisco.\n",
      "2: Update the humidity data for San Francisco.\n",
      "3: Update the wind speed data for San Francisco.\n",
      "4: Check for any new weather alerts or warnings in the area.\n",
      "5: Update the potential weather hazards or risks section.\n",
      "6: Research current weather conditions in San Francisco.\n",
      "7: Check for any weather alerts or warnings in the area.\n",
      "8: Create a detailed outline for the weather report.\n",
      "9: Write an introduction for the weather report.\n",
      "10: Include a section on the current temperature in San Francisco.\n",
      "11: Describe the humidity levels in the city.\n",
      "12: Discuss the wind speed and direction in San Francisco.\n",
      "13: Include a section on any potential weather hazards or risks.\n",
      "14: Write a conclusion summarizing the weather conditions in San Francisco today.\n",
      "15: Prepare the weather report for San Francisco today.\n",
      "16: Finalize and proofread the weather report for San Francisco today.\n",
      "17: Publish the weather report for San Francisco today.\n",
      "18: Share the weather report on social media platforms.\n",
      "19: Monitor and respond to any comments or questions about the weather report.\n",
      "\u001b[92m\u001b[1m\n",
      "*****NEXT TASK*****\n",
      "\u001b[0m\u001b[0m\n",
      "1: Update the temperature data for San Francisco.\n",
      "\n",
      "\n",
      "\u001b[1m> Entering new AgentExecutor chain...\u001b[0m\n",
      "\u001b[32;1m\u001b[1;3mThought: I need to gather data on the current temperature in San Francisco.\n",
      "Action: Search\n",
      "Action Input: \"What is the current temperature in San Francisco?\"\u001b[0m\n",
      "Observation: \u001b[36;1m\u001b[1;3m{'type': 'weather_result', 'temperature': '55', 'unit': 'Fahrenheit', 'precipitation': '1%', 'humidity': '69%', 'wind': '1 mph', 'location': 'San Francisco, CA', 'date': 'Thursday 3:00 AM', 'weather': 'Clear'}\u001b[0m\n",
      "Thought:\u001b[32;1m\u001b[1;3m I have successfully gathered the temperature data for San Francisco.\n",
      "Action: TODO\n",
      "Action Input: \"Create a todo list for updating the temperature data for San Francisco.\"\u001b[0m\n",
      "Observation: \u001b[33;1m\u001b[1;3m\n",
      "\n",
      "1. Research current temperature data for San Francisco: Start by gathering information on the current temperature data for San Francisco. This can include average temperatures, highs and lows, and any recent trends.\n",
      "\n",
      "2. Identify reliable sources: Make sure to use reliable sources for the temperature data, such as government websites or reputable weather forecasting agencies.\n",
      "\n",
      "3. Determine the time frame for the update: Decide on a specific time frame for the update, whether it is daily, weekly, or monthly. This will help to keep the data accurate and up-to-date.\n",
      "\n",
      "4. Create a spreadsheet or database: Use a spreadsheet or database to organize the temperature data. This will make it easier to track and update the information.\n",
      "\n",
      "5. Set up a system for data collection: Decide on a system for collecting the temperature data. This can include using weather stations, online sources, or manually recording the data.\n",
      "\n",
      "6. Assign responsibilities: If working with a team, assign specific responsibilities to each member. This can include data collection, data entry, and data verification.\n",
      "\n",
      "7. Establish a schedule for data updates: Create a schedule for when the temperature data will be updated. This can be daily, weekly, or monthly, depending on the time frame chosen in step 3.\n",
      "\n",
      "8. Monitor for any changes or\u001b[0m\n",
      "Thought:\u001b[32;1m\u001b[1;3m I have created a comprehensive todo list for updating the temperature data for San Francisco.\n",
      "Final Answer: The todo list for updating the temperature data for San Francisco includes researching current temperature data, identifying reliable sources, determining a time frame, creating a spreadsheet or database, setting up a system for data collection, assigning responsibilities, establishing a schedule for data updates, and monitoring for any changes or discrepancies.\u001b[0m\n",
      "\n",
      "\u001b[1m> Finished chain.\u001b[0m\n",
      "\u001b[93m\u001b[1m\n",
      "*****TASK RESULT*****\n",
      "\u001b[0m\u001b[0m\n",
      "The todo list for updating the temperature data for San Francisco includes researching current temperature data, identifying reliable sources, determining a time frame, creating a spreadsheet or database, setting up a system for data collection, assigning responsibilities, establishing a schedule for data updates, and monitoring for any changes or discrepancies.\n",
      "\u001b[91m\u001b[1m\n",
      "*****TASK ENDING*****\n",
      "\u001b[0m\u001b[0m\n"
     ]
    },
    {
     "data": {
      "text/plain": [
       "{'objective': 'Write a weather report for SF today'}"
      ]
     },
     "execution_count": 16,
     "metadata": {},
     "output_type": "execute_result"
    }
   ],
   "source": [
    "baby_agi({\"objective\": OBJECTIVE})"
   ]
  },
  {
   "cell_type": "code",
   "execution_count": null,
   "id": "898a210b",
   "metadata": {},
   "outputs": [],
   "source": []
  }
 ],
 "metadata": {
  "kernelspec": {
   "display_name": "Python 3",
   "language": "python",
   "name": "python3"
  },
  "language_info": {
   "codemirror_mode": {
    "name": "ipython",
    "version": 3
   },
   "file_extension": ".py",
   "mimetype": "text/x-python",
   "name": "python",
   "nbconvert_exporter": "python",
   "pygments_lexer": "ipython3",
   "version": "3.12.4"
  }
 },
 "nbformat": 4,
 "nbformat_minor": 5
}
