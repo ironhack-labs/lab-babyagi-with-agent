{
 "cells": [
  {
   "cell_type": "markdown",
   "id": "1cdba6f7-142d-4dd2-96f6-a13bb5d978ce",
   "metadata": {},
   "source": [
    "# Lab | BabyAGI with agent\n",
    "\n",
    "**Change the planner objective below by changing the objective and the associated prompts and potential tools and agents - Wear your creativity and AI engineering hats\n",
    "You can't get this wrong!**\n",
    "\n",
    "You would need the OpenAI API KEY and the [SerpAPI KEY](https://serpapi.com/manage-api-keyhttps://serpapi.com/manage-api-key) to run this lab.\n"
   ]
  },
  {
   "cell_type": "markdown",
   "id": "517a9fd4",
   "metadata": {},
   "source": [
    "## BabyAGI with Tools\n",
    "\n",
    "This notebook builds on top of [baby agi](baby_agi.html), but shows how you can swap out the execution chain. The previous execution chain was just an LLM which made stuff up. By swapping it out with an agent that has access to tools, we can hopefully get real reliable information"
   ]
  },
  {
   "cell_type": "markdown",
   "id": "556af556",
   "metadata": {},
   "source": [
    "## Install and Import Required Modules"
   ]
  },
  {
   "cell_type": "code",
   "execution_count": 1,
   "id": "85b7ca88",
   "metadata": {},
   "outputs": [
    {
     "name": "stdout",
     "output_type": "stream",
     "text": [
      "Requirement already satisfied: langchain_community in /Users/amira/.pyenv/versions/3.11.11/lib/python3.11/site-packages (0.3.21)\n",
      "Collecting langchain_experimental\n",
      "  Downloading langchain_experimental-0.3.4-py3-none-any.whl.metadata (1.7 kB)\n",
      "Requirement already satisfied: langchain_openai in /Users/amira/.pyenv/versions/3.11.11/lib/python3.11/site-packages (0.3.12)\n",
      "Requirement already satisfied: langchain-core<1.0.0,>=0.3.51 in /Users/amira/.pyenv/versions/3.11.11/lib/python3.11/site-packages (from langchain_community) (0.3.52)\n",
      "Requirement already satisfied: langchain<1.0.0,>=0.3.23 in /Users/amira/.pyenv/versions/3.11.11/lib/python3.11/site-packages (from langchain_community) (0.3.23)\n",
      "Requirement already satisfied: SQLAlchemy<3,>=1.4 in /Users/amira/.pyenv/versions/3.11.11/lib/python3.11/site-packages (from langchain_community) (2.0.40)\n",
      "Requirement already satisfied: requests<3,>=2 in /Users/amira/.pyenv/versions/3.11.11/lib/python3.11/site-packages (from langchain_community) (2.32.3)\n",
      "Requirement already satisfied: PyYAML>=5.3 in /Users/amira/.pyenv/versions/3.11.11/lib/python3.11/site-packages (from langchain_community) (6.0.2)\n",
      "Requirement already satisfied: aiohttp<4.0.0,>=3.8.3 in /Users/amira/.pyenv/versions/3.11.11/lib/python3.11/site-packages (from langchain_community) (3.10.11)\n",
      "Requirement already satisfied: tenacity!=8.4.0,<10,>=8.1.0 in /Users/amira/.pyenv/versions/3.11.11/lib/python3.11/site-packages (from langchain_community) (9.1.2)\n",
      "Requirement already satisfied: dataclasses-json<0.7,>=0.5.7 in /Users/amira/.pyenv/versions/3.11.11/lib/python3.11/site-packages (from langchain_community) (0.6.7)\n",
      "Requirement already satisfied: pydantic-settings<3.0.0,>=2.4.0 in /Users/amira/.pyenv/versions/3.11.11/lib/python3.11/site-packages (from langchain_community) (2.8.1)\n",
      "Requirement already satisfied: langsmith<0.4,>=0.1.125 in /Users/amira/.pyenv/versions/3.11.11/lib/python3.11/site-packages (from langchain_community) (0.3.31)\n",
      "Requirement already satisfied: httpx-sse<1.0.0,>=0.4.0 in /Users/amira/.pyenv/versions/3.11.11/lib/python3.11/site-packages (from langchain_community) (0.4.0)\n",
      "Requirement already satisfied: numpy<3,>=1.26.2 in /Users/amira/.pyenv/versions/3.11.11/lib/python3.11/site-packages (from langchain_community) (2.2.4)\n",
      "Requirement already satisfied: openai<2.0.0,>=1.68.2 in /Users/amira/.pyenv/versions/3.11.11/lib/python3.11/site-packages (from langchain_openai) (1.75.0)\n",
      "Requirement already satisfied: tiktoken<1,>=0.7 in /Users/amira/.pyenv/versions/3.11.11/lib/python3.11/site-packages (from langchain_openai) (0.9.0)\n",
      "Requirement already satisfied: aiohappyeyeballs>=2.3.0 in /Users/amira/.pyenv/versions/3.11.11/lib/python3.11/site-packages (from aiohttp<4.0.0,>=3.8.3->langchain_community) (2.6.1)\n",
      "Requirement already satisfied: aiosignal>=1.1.2 in /Users/amira/.pyenv/versions/3.11.11/lib/python3.11/site-packages (from aiohttp<4.0.0,>=3.8.3->langchain_community) (1.3.2)\n",
      "Requirement already satisfied: attrs>=17.3.0 in /Users/amira/.pyenv/versions/3.11.11/lib/python3.11/site-packages (from aiohttp<4.0.0,>=3.8.3->langchain_community) (25.3.0)\n",
      "Requirement already satisfied: frozenlist>=1.1.1 in /Users/amira/.pyenv/versions/3.11.11/lib/python3.11/site-packages (from aiohttp<4.0.0,>=3.8.3->langchain_community) (1.5.0)\n",
      "Requirement already satisfied: multidict<7.0,>=4.5 in /Users/amira/.pyenv/versions/3.11.11/lib/python3.11/site-packages (from aiohttp<4.0.0,>=3.8.3->langchain_community) (6.4.3)\n",
      "Requirement already satisfied: yarl<2.0,>=1.12.0 in /Users/amira/.pyenv/versions/3.11.11/lib/python3.11/site-packages (from aiohttp<4.0.0,>=3.8.3->langchain_community) (1.19.0)\n",
      "Requirement already satisfied: marshmallow<4.0.0,>=3.18.0 in /Users/amira/.pyenv/versions/3.11.11/lib/python3.11/site-packages (from dataclasses-json<0.7,>=0.5.7->langchain_community) (3.26.1)\n",
      "Requirement already satisfied: typing-inspect<1,>=0.4.0 in /Users/amira/.pyenv/versions/3.11.11/lib/python3.11/site-packages (from dataclasses-json<0.7,>=0.5.7->langchain_community) (0.9.0)\n",
      "Requirement already satisfied: langchain-text-splitters<1.0.0,>=0.3.8 in /Users/amira/.pyenv/versions/3.11.11/lib/python3.11/site-packages (from langchain<1.0.0,>=0.3.23->langchain_community) (0.3.8)\n",
      "Requirement already satisfied: pydantic<3.0.0,>=2.7.4 in /Users/amira/.pyenv/versions/3.11.11/lib/python3.11/site-packages (from langchain<1.0.0,>=0.3.23->langchain_community) (2.11.3)\n",
      "Requirement already satisfied: jsonpatch<2.0,>=1.33 in /Users/amira/.pyenv/versions/3.11.11/lib/python3.11/site-packages (from langchain-core<1.0.0,>=0.3.51->langchain_community) (1.33)\n",
      "Requirement already satisfied: packaging<25,>=23.2 in /Users/amira/.pyenv/versions/3.11.11/lib/python3.11/site-packages (from langchain-core<1.0.0,>=0.3.51->langchain_community) (24.2)\n",
      "Requirement already satisfied: typing-extensions>=4.7 in /Users/amira/.pyenv/versions/3.11.11/lib/python3.11/site-packages (from langchain-core<1.0.0,>=0.3.51->langchain_community) (4.13.2)\n",
      "Requirement already satisfied: httpx<1,>=0.23.0 in /Users/amira/.pyenv/versions/3.11.11/lib/python3.11/site-packages (from langsmith<0.4,>=0.1.125->langchain_community) (0.28.1)\n",
      "Requirement already satisfied: orjson<4.0.0,>=3.9.14 in /Users/amira/.pyenv/versions/3.11.11/lib/python3.11/site-packages (from langsmith<0.4,>=0.1.125->langchain_community) (3.10.16)\n",
      "Requirement already satisfied: requests-toolbelt<2.0.0,>=1.0.0 in /Users/amira/.pyenv/versions/3.11.11/lib/python3.11/site-packages (from langsmith<0.4,>=0.1.125->langchain_community) (1.0.0)\n",
      "Requirement already satisfied: zstandard<0.24.0,>=0.23.0 in /Users/amira/.pyenv/versions/3.11.11/lib/python3.11/site-packages (from langsmith<0.4,>=0.1.125->langchain_community) (0.23.0)\n",
      "Requirement already satisfied: anyio<5,>=3.5.0 in /Users/amira/.pyenv/versions/3.11.11/lib/python3.11/site-packages (from openai<2.0.0,>=1.68.2->langchain_openai) (4.9.0)\n",
      "Requirement already satisfied: distro<2,>=1.7.0 in /Users/amira/.pyenv/versions/3.11.11/lib/python3.11/site-packages (from openai<2.0.0,>=1.68.2->langchain_openai) (1.9.0)\n",
      "Requirement already satisfied: jiter<1,>=0.4.0 in /Users/amira/.pyenv/versions/3.11.11/lib/python3.11/site-packages (from openai<2.0.0,>=1.68.2->langchain_openai) (0.9.0)\n",
      "Requirement already satisfied: sniffio in /Users/amira/.pyenv/versions/3.11.11/lib/python3.11/site-packages (from openai<2.0.0,>=1.68.2->langchain_openai) (1.3.1)\n",
      "Requirement already satisfied: tqdm>4 in /Users/amira/.pyenv/versions/3.11.11/lib/python3.11/site-packages (from openai<2.0.0,>=1.68.2->langchain_openai) (4.67.1)\n",
      "Requirement already satisfied: python-dotenv>=0.21.0 in /Users/amira/.pyenv/versions/3.11.11/lib/python3.11/site-packages (from pydantic-settings<3.0.0,>=2.4.0->langchain_community) (1.1.0)\n",
      "Requirement already satisfied: charset-normalizer<4,>=2 in /Users/amira/.pyenv/versions/3.11.11/lib/python3.11/site-packages (from requests<3,>=2->langchain_community) (3.4.1)\n",
      "Requirement already satisfied: idna<4,>=2.5 in /Users/amira/.pyenv/versions/3.11.11/lib/python3.11/site-packages (from requests<3,>=2->langchain_community) (3.10)\n",
      "Requirement already satisfied: urllib3<3,>=1.21.1 in /Users/amira/.pyenv/versions/3.11.11/lib/python3.11/site-packages (from requests<3,>=2->langchain_community) (2.4.0)\n",
      "Requirement already satisfied: certifi>=2017.4.17 in /Users/amira/.pyenv/versions/3.11.11/lib/python3.11/site-packages (from requests<3,>=2->langchain_community) (2025.1.31)\n",
      "Requirement already satisfied: regex>=2022.1.18 in /Users/amira/.pyenv/versions/3.11.11/lib/python3.11/site-packages (from tiktoken<1,>=0.7->langchain_openai) (2024.11.6)\n",
      "Requirement already satisfied: httpcore==1.* in /Users/amira/.pyenv/versions/3.11.11/lib/python3.11/site-packages (from httpx<1,>=0.23.0->langsmith<0.4,>=0.1.125->langchain_community) (1.0.8)\n",
      "Requirement already satisfied: h11<0.15,>=0.13 in /Users/amira/.pyenv/versions/3.11.11/lib/python3.11/site-packages (from httpcore==1.*->httpx<1,>=0.23.0->langsmith<0.4,>=0.1.125->langchain_community) (0.14.0)\n",
      "Requirement already satisfied: jsonpointer>=1.9 in /Users/amira/.pyenv/versions/3.11.11/lib/python3.11/site-packages (from jsonpatch<2.0,>=1.33->langchain-core<1.0.0,>=0.3.51->langchain_community) (3.0.0)\n",
      "Requirement already satisfied: annotated-types>=0.6.0 in /Users/amira/.pyenv/versions/3.11.11/lib/python3.11/site-packages (from pydantic<3.0.0,>=2.7.4->langchain<1.0.0,>=0.3.23->langchain_community) (0.7.0)\n",
      "Requirement already satisfied: pydantic-core==2.33.1 in /Users/amira/.pyenv/versions/3.11.11/lib/python3.11/site-packages (from pydantic<3.0.0,>=2.7.4->langchain<1.0.0,>=0.3.23->langchain_community) (2.33.1)\n",
      "Requirement already satisfied: typing-inspection>=0.4.0 in /Users/amira/.pyenv/versions/3.11.11/lib/python3.11/site-packages (from pydantic<3.0.0,>=2.7.4->langchain<1.0.0,>=0.3.23->langchain_community) (0.4.0)\n",
      "Requirement already satisfied: mypy-extensions>=0.3.0 in /Users/amira/.pyenv/versions/3.11.11/lib/python3.11/site-packages (from typing-inspect<1,>=0.4.0->dataclasses-json<0.7,>=0.5.7->langchain_community) (1.0.0)\n",
      "Requirement already satisfied: propcache>=0.2.1 in /Users/amira/.pyenv/versions/3.11.11/lib/python3.11/site-packages (from yarl<2.0,>=1.12.0->aiohttp<4.0.0,>=3.8.3->langchain_community) (0.3.1)\n",
      "Downloading langchain_experimental-0.3.4-py3-none-any.whl (209 kB)\n",
      "\u001b[2K   \u001b[90m━━━━━━━━━━━━━━━━━━━━━━━━━━━━━━━━━━━━━━━\u001b[0m \u001b[32m209.2/209.2 kB\u001b[0m \u001b[31m781.4 kB/s\u001b[0m eta \u001b[36m0:00:00\u001b[0m00:01\u001b[0m00:01\u001b[0m\n",
      "\u001b[?25hInstalling collected packages: langchain_experimental\n",
      "Successfully installed langchain_experimental-0.3.4\n",
      "\n",
      "\u001b[1m[\u001b[0m\u001b[34;49mnotice\u001b[0m\u001b[1;39;49m]\u001b[0m\u001b[39;49m A new release of pip is available: \u001b[0m\u001b[31;49m24.0\u001b[0m\u001b[39;49m -> \u001b[0m\u001b[32;49m25.0.1\u001b[0m\n",
      "\u001b[1m[\u001b[0m\u001b[34;49mnotice\u001b[0m\u001b[1;39;49m]\u001b[0m\u001b[39;49m To update, run: \u001b[0m\u001b[32;49mpip install --upgrade pip\u001b[0m\n",
      "Note: you may need to restart the kernel to use updated packages.\n"
     ]
    }
   ],
   "source": [
    "pip install langchain_community langchain_experimental langchain_openai"
   ]
  },
  {
   "cell_type": "code",
   "execution_count": 1,
   "id": "c8a354b6",
   "metadata": {
    "tags": []
   },
   "outputs": [],
   "source": [
    "from typing import Optional\n",
    "\n",
    "from langchain.chains import LLMChain\n",
    "from langchain.prompts import PromptTemplate\n",
    "from langchain_experimental.autonomous_agents import BabyAGI\n",
    "from langchain_openai import OpenAI, OpenAIEmbeddings"
   ]
  },
  {
   "cell_type": "markdown",
   "id": "09f70772",
   "metadata": {},
   "source": [
    "## Connect to the Vector Store\n",
    "\n",
    "Depending on what vectorstore you use, this step may look different."
   ]
  },
  {
   "cell_type": "code",
   "execution_count": 2,
   "id": "794045d4",
   "metadata": {
    "tags": []
   },
   "outputs": [],
   "source": [
    "# %pip install faiss-cpu > /dev/null\n",
    "# %pip install google-search-results > /dev/null\n",
    "from langchain.docstore import InMemoryDocstore\n",
    "from langchain_community.vectorstores import FAISS"
   ]
  },
  {
   "cell_type": "code",
   "execution_count": 3,
   "id": "c4164841-915d-4c60-8a47-3a502a5cf71d",
   "metadata": {
    "tags": []
   },
   "outputs": [],
   "source": [
    "import os\n",
    "from dotenv import load_dotenv, find_dotenv\n",
    "_ = load_dotenv(find_dotenv())\n",
    "\n",
    "OPENAI_API_KEY  = os.getenv('OPENAI_API_KEY')\n",
    "SERPAPI_API_KEY = os.getenv('SERPAPI_API_KEY')"
   ]
  },
  {
   "cell_type": "code",
   "execution_count": 9,
   "id": "ce219a1f",
   "metadata": {},
   "outputs": [
    {
     "name": "stdout",
     "output_type": "stream",
     "text": [
      "Collecting faiss-cpu\n",
      "  Downloading faiss_cpu-1.10.0-cp311-cp311-macosx_11_0_arm64.whl.metadata (4.4 kB)\n",
      "Requirement already satisfied: numpy<3.0,>=1.25.0 in /Users/amira/.pyenv/versions/3.11.11/lib/python3.11/site-packages (from faiss-cpu) (2.2.4)\n",
      "Requirement already satisfied: packaging in /Users/amira/.pyenv/versions/3.11.11/lib/python3.11/site-packages (from faiss-cpu) (24.2)\n",
      "Downloading faiss_cpu-1.10.0-cp311-cp311-macosx_11_0_arm64.whl (3.2 MB)\n",
      "\u001b[2K   \u001b[90m━━━━━━━━━━━━━━━━━━━━━━━━━━━━━━━━━━━━━━━━\u001b[0m \u001b[32m3.2/3.2 MB\u001b[0m \u001b[31m219.6 kB/s\u001b[0m eta \u001b[36m0:00:00\u001b[0m00:01\u001b[0m00:01\u001b[0m\n",
      "\u001b[?25hInstalling collected packages: faiss-cpu\n",
      "Successfully installed faiss-cpu-1.10.0\n",
      "\n",
      "\u001b[1m[\u001b[0m\u001b[34;49mnotice\u001b[0m\u001b[1;39;49m]\u001b[0m\u001b[39;49m A new release of pip is available: \u001b[0m\u001b[31;49m24.0\u001b[0m\u001b[39;49m -> \u001b[0m\u001b[32;49m25.0.1\u001b[0m\n",
      "\u001b[1m[\u001b[0m\u001b[34;49mnotice\u001b[0m\u001b[1;39;49m]\u001b[0m\u001b[39;49m To update, run: \u001b[0m\u001b[32;49mpip install --upgrade pip\u001b[0m\n",
      "Note: you may need to restart the kernel to use updated packages.\n"
     ]
    }
   ],
   "source": [
    "pip install faiss-cpu"
   ]
  },
  {
   "cell_type": "code",
   "execution_count": 4,
   "id": "6e0305eb",
   "metadata": {
    "tags": []
   },
   "outputs": [
    {
     "name": "stderr",
     "output_type": "stream",
     "text": [
      "/var/folders/8p/lhfbj_0n501d3lhdqz4xc0dh0000gn/T/ipykernel_1843/3411753324.py:6: LangChainDeprecationWarning: The class `OpenAIEmbeddings` was deprecated in LangChain 0.0.9 and will be removed in 1.0. An updated version of the class exists in the :class:`~langchain-openai package and should be used instead. To use it run `pip install -U :class:`~langchain-openai` and import as `from :class:`~langchain_openai import OpenAIEmbeddings``.\n",
      "  embedding_model = OpenAIEmbeddings()\n",
      "`embedding_function` is expected to be an Embeddings object, support for passing in a function will soon be removed.\n"
     ]
    }
   ],
   "source": [
    "from langchain.vectorstores.faiss import FAISS\n",
    "from langchain.embeddings.openai import OpenAIEmbeddings\n",
    "from langchain.docstore import InMemoryDocstore\n",
    "import faiss # type: ignore\n",
    "\n",
    "embedding_model = OpenAIEmbeddings()\n",
    "\n",
    "embedding_size = 1536  \n",
    "index = faiss.IndexFlatL2(embedding_size)\n",
    "\n",
    "vectorstore = FAISS(\n",
    "    embedding_model.embed_query,\n",
    "    index,\n",
    "    InMemoryDocstore({}),\n",
    "    {}\n",
    ")\n"
   ]
  },
  {
   "cell_type": "markdown",
   "id": "0f3b72bf",
   "metadata": {},
   "source": [
    "## Define the Chains\n",
    "\n",
    "BabyAGI relies on three LLM chains:\n",
    "- Task creation chain to select new tasks to add to the list\n",
    "- Task prioritization chain to re-prioritize tasks\n",
    "- Execution Chain to execute the tasks\n",
    "\n",
    "\n",
    "NOTE: in this notebook, the Execution chain will now be an agent."
   ]
  },
  {
   "cell_type": "code",
   "execution_count": 9,
   "id": "84d87c60",
   "metadata": {},
   "outputs": [
    {
     "name": "stdout",
     "output_type": "stream",
     "text": [
      "Requirement already satisfied: python-dotenv in /Users/amira/.pyenv/versions/3.11.11/lib/python3.11/site-packages (1.1.0)\n",
      "\n",
      "\u001b[1m[\u001b[0m\u001b[34;49mnotice\u001b[0m\u001b[1;39;49m]\u001b[0m\u001b[39;49m A new release of pip is available: \u001b[0m\u001b[31;49m24.0\u001b[0m\u001b[39;49m -> \u001b[0m\u001b[32;49m25.0.1\u001b[0m\n",
      "\u001b[1m[\u001b[0m\u001b[34;49mnotice\u001b[0m\u001b[1;39;49m]\u001b[0m\u001b[39;49m To update, run: \u001b[0m\u001b[32;49mpip install --upgrade pip\u001b[0m\n",
      "Note: you may need to restart the kernel to use updated packages.\n"
     ]
    }
   ],
   "source": [
    "pip install python-dotenv\n"
   ]
  },
  {
   "cell_type": "code",
   "execution_count": 11,
   "id": "7434c84f",
   "metadata": {},
   "outputs": [
    {
     "name": "stdout",
     "output_type": "stream",
     "text": [
      "Collecting google-search-results\n",
      "  Downloading google_search_results-2.4.2.tar.gz (18 kB)\n",
      "  Installing build dependencies ... \u001b[?25ldone\n",
      "\u001b[?25h  Getting requirements to build wheel ... \u001b[?25ldone\n",
      "\u001b[?25h  Preparing metadata (pyproject.toml) ... \u001b[?25ldone\n",
      "\u001b[?25hRequirement already satisfied: requests in /Users/amira/.pyenv/versions/3.11.11/lib/python3.11/site-packages (from google-search-results) (2.32.3)\n",
      "Requirement already satisfied: charset-normalizer<4,>=2 in /Users/amira/.pyenv/versions/3.11.11/lib/python3.11/site-packages (from requests->google-search-results) (3.4.1)\n",
      "Requirement already satisfied: idna<4,>=2.5 in /Users/amira/.pyenv/versions/3.11.11/lib/python3.11/site-packages (from requests->google-search-results) (3.10)\n",
      "Requirement already satisfied: urllib3<3,>=1.21.1 in /Users/amira/.pyenv/versions/3.11.11/lib/python3.11/site-packages (from requests->google-search-results) (2.4.0)\n",
      "Requirement already satisfied: certifi>=2017.4.17 in /Users/amira/.pyenv/versions/3.11.11/lib/python3.11/site-packages (from requests->google-search-results) (2025.1.31)\n",
      "Building wheels for collected packages: google-search-results\n",
      "  Building wheel for google-search-results (pyproject.toml) ... \u001b[?25ldone\n",
      "\u001b[?25h  Created wheel for google-search-results: filename=google_search_results-2.4.2-py3-none-any.whl size=32091 sha256=191b863459e8f0ce9c8ddebf37559bca3269db2b5280c98d08ed71cf83e11cab\n",
      "  Stored in directory: /Users/amira/Library/Caches/pip/wheels/6e/42/3e/aeb691b02cb7175ec70e2da04b5658d4739d2b41e5f73cd06f\n",
      "Successfully built google-search-results\n",
      "Installing collected packages: google-search-results\n",
      "Successfully installed google-search-results-2.4.2\n",
      "\n",
      "\u001b[1m[\u001b[0m\u001b[34;49mnotice\u001b[0m\u001b[1;39;49m]\u001b[0m\u001b[39;49m A new release of pip is available: \u001b[0m\u001b[31;49m24.0\u001b[0m\u001b[39;49m -> \u001b[0m\u001b[32;49m25.0.1\u001b[0m\n",
      "\u001b[1m[\u001b[0m\u001b[34;49mnotice\u001b[0m\u001b[1;39;49m]\u001b[0m\u001b[39;49m To update, run: \u001b[0m\u001b[32;49mpip install --upgrade pip\u001b[0m\n",
      "Note: you may need to restart the kernel to use updated packages.\n"
     ]
    }
   ],
   "source": [
    "pip install google-search-results"
   ]
  },
  {
   "cell_type": "code",
   "execution_count": 12,
   "id": "b43cd580",
   "metadata": {
    "tags": []
   },
   "outputs": [],
   "source": [
    "from langchain.agents import AgentExecutor, Tool, ZeroShotAgent\n",
    "from langchain.chains import LLMChain\n",
    "from langchain_community.utilities import SerpAPIWrapper\n",
    "from langchain_openai import OpenAI\n",
    "from dotenv import load_dotenv\n",
    "import os\n",
    "\n",
    "load_dotenv()\n",
    "\n",
    "todo_prompt = PromptTemplate.from_template(\n",
    "    \"You are a planner who is an expert at coming up with a todo list for a given objective. Come up with a todo list for this objective: {objective}\"\n",
    ")\n",
    "todo_chain = LLMChain(llm=OpenAI(temperature=0), prompt=todo_prompt)\n",
    "search = SerpAPIWrapper()\n",
    "tools = [\n",
    "    Tool(\n",
    "        name=\"Search\",\n",
    "        func=search.run,\n",
    "        description=\"useful for when you need to answer questions about current events\",\n",
    "    ),\n",
    "    Tool(\n",
    "        name=\"TODO\",\n",
    "        func=todo_chain.run,\n",
    "        description=\"useful for when you need to come up with todo lists. Input: an objective to create a todo list for. Output: a todo list for that objective. Please be very clear what the objective is!\",\n",
    "    ),\n",
    "]\n",
    "\n",
    "\n",
    "prefix = \"\"\"You are an AI who performs one task based on the following objective: {objective}. Take into account these previously completed tasks: {context}.\"\"\"\n",
    "suffix = \"\"\"Question: {task}\n",
    "{agent_scratchpad}\"\"\"\n",
    "prompt = ZeroShotAgent.create_prompt(\n",
    "    tools,\n",
    "    prefix=prefix,\n",
    "    suffix=suffix,\n",
    "    input_variables=[\"objective\", \"task\", \"context\", \"agent_scratchpad\"],\n",
    ")"
   ]
  },
  {
   "cell_type": "code",
   "execution_count": 13,
   "id": "4b00ae2e",
   "metadata": {
    "tags": []
   },
   "outputs": [
    {
     "name": "stderr",
     "output_type": "stream",
     "text": [
      "/var/folders/8p/lhfbj_0n501d3lhdqz4xc0dh0000gn/T/ipykernel_1843/3064747660.py:4: LangChainDeprecationWarning: LangChain agents will continue to be supported, but it is recommended for new use cases to be built with LangGraph. LangGraph offers a more flexible and full-featured framework for building agents, including support for tool-calling, persistence of state, and human-in-the-loop workflows. For details, refer to the `LangGraph documentation <https://langchain-ai.github.io/langgraph/>`_ as well as guides for `Migrating from AgentExecutor <https://python.langchain.com/docs/how_to/migrate_agent/>`_ and LangGraph's `Pre-built ReAct agent <https://langchain-ai.github.io/langgraph/how-tos/create-react-agent/>`_.\n",
      "  agent = ZeroShotAgent(llm_chain=llm_chain, allowed_tools=tool_names)\n"
     ]
    }
   ],
   "source": [
    "llm = OpenAI(temperature=0)\n",
    "llm_chain = LLMChain(llm=llm, prompt=prompt)\n",
    "tool_names = [tool.name for tool in tools]\n",
    "agent = ZeroShotAgent(llm_chain=llm_chain, allowed_tools=tool_names)\n",
    "agent_executor = AgentExecutor.from_agent_and_tools(\n",
    "    agent=agent, tools=tools, verbose=True\n",
    ")"
   ]
  },
  {
   "cell_type": "markdown",
   "id": "05ba762e",
   "metadata": {},
   "source": [
    "### Run the BabyAGI\n",
    "\n",
    "Now it's time to create the BabyAGI controller and watch it try to accomplish your objective."
   ]
  },
  {
   "cell_type": "code",
   "execution_count": 14,
   "id": "3d220b69",
   "metadata": {
    "tags": []
   },
   "outputs": [],
   "source": [
    "OBJECTIVE = \"Write a weather report for SF today\""
   ]
  },
  {
   "cell_type": "code",
   "execution_count": 15,
   "id": "3d69899b",
   "metadata": {
    "tags": []
   },
   "outputs": [],
   "source": [
    "# Logging of LLMChains\n",
    "verbose = False\n",
    "# If None, will keep on going forever\n",
    "max_iterations: Optional[int] = 3\n",
    "baby_agi = BabyAGI.from_llm(\n",
    "    llm=llm,\n",
    "    vectorstore=vectorstore,\n",
    "    task_execution_chain=agent_executor,\n",
    "    verbose=verbose,\n",
    "    max_iterations=max_iterations,\n",
    ")"
   ]
  },
  {
   "cell_type": "code",
   "execution_count": 16,
   "id": "f7957b51",
   "metadata": {
    "tags": []
   },
   "outputs": [
    {
     "name": "stderr",
     "output_type": "stream",
     "text": [
      "/var/folders/8p/lhfbj_0n501d3lhdqz4xc0dh0000gn/T/ipykernel_1843/3867971396.py:1: LangChainDeprecationWarning: The method `Chain.__call__` was deprecated in langchain 0.1.0 and will be removed in 1.0. Use :meth:`~invoke` instead.\n",
      "  baby_agi({\"objective\": OBJECTIVE})\n"
     ]
    },
    {
     "name": "stdout",
     "output_type": "stream",
     "text": [
      "\u001b[95m\u001b[1m\n",
      "*****TASK LIST*****\n",
      "\u001b[0m\u001b[0m\n",
      "1: Make a todo list\n",
      "\u001b[92m\u001b[1m\n",
      "*****NEXT TASK*****\n",
      "\u001b[0m\u001b[0m\n",
      "1: Make a todo list\n",
      "\n",
      "\n",
      "\u001b[1m> Entering new AgentExecutor chain...\u001b[0m\n",
      "\u001b[32;1m\u001b[1;3mThought: I should use the TODO action to create a todo list\n",
      "Action: TODO\n",
      "Action Input: \"Create a todo list for writing a weather report for SF today\"\u001b[0m\n",
      "Observation: \u001b[33;1m\u001b[1;3m\n",
      "\n",
      "1. Gather all necessary information: Start by collecting all the necessary information for writing a weather report for San Francisco today. This includes current temperature, humidity, wind speed, and any other relevant data.\n",
      "\n",
      "2. Check weather forecast: Before writing the report, check the weather forecast for San Francisco today to get an idea of what to expect. This will help you accurately report on the current weather conditions.\n",
      "\n",
      "3. Determine target audience: Consider who will be reading the weather report and tailor your writing style and language accordingly. A report for a local news station may be different from one for a scientific journal.\n",
      "\n",
      "4. Create an outline: Organize your thoughts and information by creating an outline for the weather report. This will help you stay focused and ensure that all important points are covered.\n",
      "\n",
      "5. Start with an attention-grabbing headline: The headline is the first thing readers will see, so make it catchy and informative. It should give a brief overview of the weather conditions in San Francisco today.\n",
      "\n",
      "6. Write an introduction: In the introduction, provide a brief overview of the current weather conditions in San Francisco and why it is important for readers to know.\n",
      "\n",
      "7. Include relevant data: Use the information gathered in step 1 to provide accurate and up-to-date data in your\u001b[0m\n",
      "Thought:\u001b[32;1m\u001b[1;3m I have created a detailed todo list for writing a weather report for San Francisco today\n",
      "Final Answer: Use the todo list to write a comprehensive and informative weather report for San Francisco today.\u001b[0m\n",
      "\n",
      "\u001b[1m> Finished chain.\u001b[0m\n",
      "\u001b[93m\u001b[1m\n",
      "*****TASK RESULT*****\n",
      "\u001b[0m\u001b[0m\n",
      "Use the todo list to write a comprehensive and informative weather report for San Francisco today.\n",
      "\u001b[95m\u001b[1m\n",
      "*****TASK LIST*****\n",
      "\u001b[0m\u001b[0m\n",
      "1: Gather data on temperature, humidity, and wind speed\n",
      "2: Research current weather conditions in San Francisco\n",
      "3: Check for any weather alerts or warnings in the area\n",
      "4: Create a detailed outline for the weather report\n",
      "5: Write an introduction for the report, including the date and location\n",
      "6: Describe the current temperature and any changes from previous days\n",
      "7: Discuss the humidity levels and how it may affect the weather\n",
      "8: Analyze the wind speed and direction and its impact on the city\n",
      "9: Include a section on any potential precipitation or storms\n",
      "10: Research and include information on the UV index for the day\n",
      "11: Write a conclusion summarizing the overall weather conditions\n",
      "12: Proofread and edit the report for accuracy and clarity\n",
      "\u001b[92m\u001b[1m\n",
      "*****NEXT TASK*****\n",
      "\u001b[0m\u001b[0m\n",
      "1: Gather data on temperature, humidity, and wind speed\n",
      "\n",
      "\n",
      "\u001b[1m> Entering new AgentExecutor chain...\u001b[0m\n",
      "\u001b[32;1m\u001b[1;3mThought: I should search for a reliable source of weather data\n",
      "Action: Search\n",
      "Action Input: \"weather data for San Francisco\"\u001b[0m\n",
      "Observation: \u001b[36;1m\u001b[1;3m[' entity_type: explore_universal.', '37.78 °N, 122.42 °W. San Francisco, CA Weather Historystar_ratehome. icon 59 °F San Francisco Intl Airport Station|Report. Report Station.', 'San Francisco Weather History for the Previous 24 Hours ; 54 °F · Mostly cloudy. 8 mph ...', 'DAILY DATA FOR A MONTH - daily maximum, minimum and average temperature (degrees F), average temperature departure from normal (degrees F), heating and ...', 'Temperature (°F), Max, Average, Min. Max Temperature, 82, 66.43, 58. Avg Temperature, 64.46, 57.69, 52.88. Min Temperature, 55, 51.71, 47 ...', 'View and download weather station observation history.', 'NWS Forecast Office San Francisco, CA · Observations · Buoy Reports · Satellite · Precipitation · Fire Weather Snooper.', 'This dataset contains daily weather observations for San Francisco, USA from January 1, 1993 to January 1, 2023. The data is collected from Meteostat. The ...', 'The hottest month of the year in San Francisco is September, with an average high of 72°F and low of 58°F. The cool season lasts for 2.0 months, from December 4 ...', 'Detailed weather history data for San Francisco, CA, United States since 1970. Enter a location to view historical weather data charts and maps.', '10 Day Weather-San Francisco, CA. As of 9:04 pm PDT. Tonight. --/51°. 23%. Wed 16 | Night. 51°. 23%. SW 11 mph. Overcast. Low 51F. Winds SW at 10 to 15 mph.']\u001b[0m\n",
      "Thought:\u001b[32;1m\u001b[1;3m I should extract the relevant data from the weather report\n",
      "Action: TODO\n",
      "Action Input: \"create a todo list for gathering weather data\"\u001b[0m\n",
      "Observation: \u001b[33;1m\u001b[1;3m\n",
      "\n",
      "1. Define the purpose of gathering weather data: Before creating a todo list, it is important to clearly define the purpose of gathering weather data. This will help guide the rest of the planning process and ensure that all necessary tasks are included.\n",
      "\n",
      "2. Determine the scope of the project: Weather data can be collected for various purposes, such as research, forecasting, or monitoring. It is important to determine the specific scope of the project in order to identify the necessary tasks and resources.\n",
      "\n",
      "3. Identify the data sources: There are various sources of weather data, including government agencies, private companies, and personal weather stations. Research and identify the most reliable and relevant sources for the project.\n",
      "\n",
      "4. Create a data collection plan: Based on the scope and data sources, create a plan for how and when the data will be collected. This may include setting up equipment, scheduling regular data collection times, and determining the frequency of data collection.\n",
      "\n",
      "5. Gather necessary equipment and tools: Depending on the data collection plan, gather all necessary equipment and tools. This may include weather sensors, data loggers, computers, and software.\n",
      "\n",
      "6. Train personnel: If the project involves a team, make sure all members are trained on how to properly collect and record weather data. This will ensure consistency\u001b[0m\n",
      "Thought:\u001b[32;1m\u001b[1;3m I should also consider any potential challenges or obstacles that may arise during the data collection process\n",
      "Action: TODO\n",
      "Action Input: \"create a todo list for potential challenges in gathering weather data\"\u001b[0m\n",
      "Observation: \u001b[33;1m\u001b[1;3m\n",
      "\n",
      "1. Research and identify potential challenges in gathering weather data, such as technical limitations, data accuracy, and accessibility.\n",
      "\n",
      "2. Prioritize the challenges based on their potential impact on the accuracy and reliability of the weather data.\n",
      "\n",
      "3. Develop a plan to address each challenge, including potential solutions and contingency plans.\n",
      "\n",
      "4. Consult with experts in the field of weather data collection to gather insights and advice on how to overcome these challenges.\n",
      "\n",
      "5. Create a budget and timeline for implementing the solutions to the identified challenges.\n",
      "\n",
      "6. Identify and acquire necessary resources, such as equipment, software, and personnel, to effectively gather weather data.\n",
      "\n",
      "7. Conduct test runs and simulations to ensure the effectiveness and accuracy of the data collection methods.\n",
      "\n",
      "8. Develop a communication plan to keep stakeholders informed about the challenges and progress in addressing them.\n",
      "\n",
      "9. Continuously monitor and evaluate the data collection process to identify any new challenges and make necessary adjustments.\n",
      "\n",
      "10. Document the challenges and solutions for future reference and improvement.\n",
      "\n",
      "11. Train and educate team members on the challenges and solutions to ensure a smooth and efficient data collection process.\n",
      "\n",
      "12. Stay updated on advancements in technology and techniques for weather data collection to proactively address any potential challenges in the future.\n",
      "\n",
      "13. Regularly review and update the todo list to reflect\u001b[0m\n",
      "Thought:\u001b[32;1m\u001b[1;3m I now know the final answer\n",
      "Final Answer: To gather weather data for San Francisco, create a todo list that includes defining the purpose, determining the scope, identifying data sources, creating a data collection plan, gathering necessary equipment and tools, training personnel, considering potential challenges, and continuously monitoring and evaluating the data collection process.\u001b[0m\n",
      "\n",
      "\u001b[1m> Finished chain.\u001b[0m\n",
      "\u001b[93m\u001b[1m\n",
      "*****TASK RESULT*****\n",
      "\u001b[0m\u001b[0m\n",
      "To gather weather data for San Francisco, create a todo list that includes defining the purpose, determining the scope, identifying data sources, creating a data collection plan, gathering necessary equipment and tools, training personnel, considering potential challenges, and continuously monitoring and evaluating the data collection process.\n",
      "\u001b[95m\u001b[1m\n",
      "*****TASK LIST*****\n",
      "\u001b[0m\u001b[0m\n",
      "1: Determine the purpose of the weather report and its intended audience.\n",
      "2: Identify additional data sources for more comprehensive weather data.\n",
      "3: Create a data collection plan that includes specific locations and times for data gathering.\n",
      "4: Gather necessary equipment and tools for accurate data collection.\n",
      "5: Train personnel on proper data collection techniques and protocols.\n",
      "6: Consider potential challenges such as inclement weather or technical difficulties.\n",
      "7: Continuously monitor and evaluate the data collection process for accuracy and completeness.\n",
      "8: Research and include information on air quality and pollution levels in the area.\n",
      "9: Analyze and report on any potential impacts of the weather on local events or activities.\n",
      "10: Include a section on the forecasted weather for the upcoming days.\n",
      "11: Write a summary of the weather conditions for the week.\n",
      "12: Proofread and edit the report for clarity and coherence.\n",
      "13: Create visual aids, such as charts or graphs, to enhance the presentation of the data.\n",
      "14: Research and include information on any potential weather-related health risks.\n",
      "15: Write a section on the historical weather patterns for the area.\n",
      "16: Include a comparison of the current weather conditions to previous years.\n",
      "17: Analyze and report on any potential economic impacts of the weather.\n",
      "18: Research and include\n",
      "\u001b[92m\u001b[1m\n",
      "*****NEXT TASK*****\n",
      "\u001b[0m\u001b[0m\n",
      "1: Determine the purpose of the weather report and its intended audience.\n",
      "\n",
      "\n",
      "\u001b[1m> Entering new AgentExecutor chain...\u001b[0m\n",
      "\u001b[32;1m\u001b[1;3mThought: The purpose of the weather report is to inform people about the current weather conditions in San Francisco. The intended audience could be anyone living in or visiting San Francisco, as well as those who are interested in the weather in that area.\n",
      "Action: Search\n",
      "Action Input: \"Purpose of weather report\"\u001b[0m\n",
      "Observation: \u001b[36;1m\u001b[1;3m[' entity_type: related_questions.', 'Weather forecasting or weather prediction is the application of science and technology to predict the conditions of the atmosphere for a given location and ...', '1. Helps people prepare for how to dress (ie warm weather, cold weather, windy weather, rainy weather) 2. Helps businesses and people plan for power production.', 'The purpose of weather forecasting is to inform people of what to expect as far as the weather goes. The folks that find them useful? Anyone ...', 'Observing the daily weather is part of a regular routine for many of us, helping us decide what to wear and which activities we will do each day.', 'Government officials use hurricane forecasts to inform evacuation decisions, declare states of emergencies, and spur the public to action in advance of the ...', 'Accurate forecasts can save lives by giving early warnings of storms, heat waves, and disasters. Farmers use them for agricultural management.', 'The goal of weather prediction is to provide information people and organizations can use to reduce weather-related losses and enhance societal benefits.', 'A weather forecast is a method of predicting future weather patterns. Meteorologists use advanced technology to measure the conditions of the atmosphere to ...', 'The purpose of a weather forecasting project is to predict and communicate atmospheric conditions for a specific location and time in the ...', 'Weather forecasting is the prediction of the weather through application of the principles of physics, supplemented by a variety of ...']\u001b[0m\n",
      "Thought:\u001b[32;1m\u001b[1;3m Based on the search results, it seems like the purpose of the weather report is to inform people about the current weather conditions and help them prepare for their daily activities. The intended audience could be anyone who is affected by the weather.\n",
      "Action: TODO\n",
      "Action Input: \"Intended audience for weather report\"\u001b[0m\n",
      "Observation: \u001b[33;1m\u001b[1;3m\n",
      "\n",
      "1. Identify the target audience: The first step in creating a todo list for this objective is to identify the intended audience for the weather report. This could include individuals, businesses, or specific demographics such as age or location.\n",
      "\n",
      "2. Determine the purpose of the weather report: Once the target audience is identified, it is important to determine the purpose of the weather report. Is it to inform, educate, or provide updates? This will help guide the content and format of the report.\n",
      "\n",
      "3. Research the weather: In order to provide accurate and relevant information, it is important to research the weather conditions for the intended audience's location. This could include checking weather forecasts, historical data, and consulting with meteorologists.\n",
      "\n",
      "4. Gather necessary data: Once the research is complete, gather all the necessary data and information to include in the weather report. This could include temperature, precipitation, wind speed, and any other relevant data.\n",
      "\n",
      "5. Choose a format: Depending on the target audience and purpose of the report, choose a format that is most suitable. This could be a written report, infographic, video, or a combination of different formats.\n",
      "\n",
      "6. Create a visually appealing design: A weather report should be visually appealing and easy to understand. Use graphics, charts, and images\u001b[0m\n",
      "Thought:\u001b[32;1m\u001b[1;3m Now that all the necessary steps have been identified, it is time to put them into action and create the todo list.\n",
      "Final Answer: The intended audience for the weather report could be anyone living in or visiting San Francisco, as well as those who are interested in the weather in that area. The purpose of the weather report is to inform people about the current weather conditions and help them prepare for their daily activities. The todo list for this objective would include identifying the target audience, determining the purpose of the report, researching the weather, gathering necessary data, choosing a suitable format, and creating a visually appealing design.\u001b[0m\n",
      "\n",
      "\u001b[1m> Finished chain.\u001b[0m\n",
      "\u001b[93m\u001b[1m\n",
      "*****TASK RESULT*****\n",
      "\u001b[0m\u001b[0m\n",
      "The intended audience for the weather report could be anyone living in or visiting San Francisco, as well as those who are interested in the weather in that area. The purpose of the weather report is to inform people about the current weather conditions and help them prepare for their daily activities. The todo list for this objective would include identifying the target audience, determining the purpose of the report, researching the weather, gathering necessary data, choosing a suitable format, and creating a visually appealing design.\n",
      "\u001b[91m\u001b[1m\n",
      "*****TASK ENDING*****\n",
      "\u001b[0m\u001b[0m\n"
     ]
    },
    {
     "data": {
      "text/plain": [
       "{'objective': 'Write a weather report for SF today'}"
      ]
     },
     "execution_count": 16,
     "metadata": {},
     "output_type": "execute_result"
    }
   ],
   "source": [
    "baby_agi({\"objective\": OBJECTIVE})"
   ]
  },
  {
   "cell_type": "code",
   "execution_count": 17,
   "id": "898a210b",
   "metadata": {},
   "outputs": [
    {
     "name": "stdout",
     "output_type": "stream",
     "text": [
      "\u001b[95m\u001b[1m\n",
      "*****TASK LIST*****\n",
      "\u001b[0m\u001b[0m\n",
      "1: Make a todo list\n",
      "\u001b[92m\u001b[1m\n",
      "*****NEXT TASK*****\n",
      "\u001b[0m\u001b[0m\n",
      "1: Make a todo list\n",
      "\n",
      "\n",
      "\u001b[1m> Entering new AgentExecutor chain...\u001b[0m\n",
      "\u001b[32;1m\u001b[1;3mThought: The objective is to create a todo list, so I should gather information on what tasks need to be completed.\n",
      "Action: TODO\n",
      "Action Input: Objective: Create a todo list\u001b[0m\n",
      "Observation: \u001b[33;1m\u001b[1;3m\n",
      "\n",
      "1. Define the purpose of the todo list: Before creating a todo list, it's important to understand why you need it. Is it for personal use or for a specific project? This will help guide the rest of the list.\n",
      "\n",
      "2. Brainstorm tasks: Take some time to brainstorm all the tasks that need to be included in the todo list. This can include both short-term and long-term tasks.\n",
      "\n",
      "3. Prioritize tasks: Once you have a list of tasks, prioritize them based on urgency and importance. This will help you focus on the most important tasks first.\n",
      "\n",
      "4. Break down larger tasks: If there are any tasks that seem overwhelming or too big, break them down into smaller, more manageable tasks.\n",
      "\n",
      "5. Set deadlines: Assign a deadline to each task to help keep you on track and motivated.\n",
      "\n",
      "6. Use a system: Decide on a system for organizing your tasks. This can be a simple to-do list, a calendar, or a project management tool.\n",
      "\n",
      "7. Include details: Make sure to include any necessary details for each task, such as resources needed, contact information, or specific instructions.\n",
      "\n",
      "8. Schedule regular reviews: Set aside time to regularly review and update your todo list. This will help you stay on top of your tasks and\u001b[0m\n",
      "Thought:\u001b[32;1m\u001b[1;3m Now that I have all the necessary information, I can create a comprehensive todo list.\n",
      "Action: TODO\n",
      "Action Input: Objective: Create a todo list\u001b[0m\n",
      "Observation: \u001b[33;1m\u001b[1;3m\n",
      "\n",
      "1. Define the purpose of the todo list: Before creating a todo list, it's important to understand why you need it. Is it for personal use or for a specific project? This will help guide the rest of the list.\n",
      "\n",
      "2. Determine the format: Decide on the format of your todo list. Will it be a physical list on paper or a digital list on your phone or computer? Choose a format that works best for you and your needs.\n",
      "\n",
      "3. Brainstorm tasks: Take some time to brainstorm all the tasks that you need to accomplish. Write them down in no particular order.\n",
      "\n",
      "4. Prioritize tasks: Once you have a list of tasks, prioritize them based on urgency and importance. This will help you focus on the most important tasks first.\n",
      "\n",
      "5. Break down larger tasks: If you have any large or complex tasks, break them down into smaller, more manageable tasks. This will make them less overwhelming and easier to tackle.\n",
      "\n",
      "6. Set deadlines: Assign a deadline to each task to help you stay on track and motivated. Be realistic with your deadlines and give yourself enough time to complete each task.\n",
      "\n",
      "7. Assign responsibilities: If you are working on a project with others, assign responsibilities for each task. This will ensure that everyone knows what they\u001b[0m\n",
      "Thought:\u001b[32;1m\u001b[1;3m I have completed the todo list and it is ready to be used.\n",
      "Final Answer: The final answer is a comprehensive todo list that includes all necessary tasks, deadlines, and details for completing them. It is organized and prioritized to help the user stay on track and motivated.\u001b[0m\n",
      "\n",
      "\u001b[1m> Finished chain.\u001b[0m\n",
      "\u001b[93m\u001b[1m\n",
      "*****TASK RESULT*****\n",
      "\u001b[0m\u001b[0m\n",
      "The final answer is a comprehensive todo list that includes all necessary tasks, deadlines, and details for completing them. It is organized and prioritized to help the user stay on track and motivated.\n"
     ]
    },
    {
     "ename": "ValueError",
     "evalue": "Tried to add ids that already exist: {'result_1_0'}",
     "output_type": "error",
     "traceback": [
      "\u001b[31m---------------------------------------------------------------------------\u001b[39m",
      "\u001b[31mValueError\u001b[39m                                Traceback (most recent call last)",
      "\u001b[36mCell\u001b[39m\u001b[36m \u001b[39m\u001b[32mIn[17]\u001b[39m\u001b[32m, line 26\u001b[39m\n\u001b[32m     17\u001b[39m baby_agi = BabyAGI.from_llm(\n\u001b[32m     18\u001b[39m     llm=llm,\n\u001b[32m     19\u001b[39m     vectorstore=vectorstore,\n\u001b[32m   (...)\u001b[39m\u001b[32m     22\u001b[39m     max_iterations=max_iterations,\n\u001b[32m     23\u001b[39m )\n\u001b[32m     25\u001b[39m \u001b[38;5;66;03m# 5. Start the agent by giving it the main objective\u001b[39;00m\n\u001b[32m---> \u001b[39m\u001b[32m26\u001b[39m \u001b[43mbaby_agi\u001b[49m\u001b[43m(\u001b[49m\u001b[43m{\u001b[49m\u001b[33;43m\"\u001b[39;49m\u001b[33;43mobjective\u001b[39;49m\u001b[33;43m\"\u001b[39;49m\u001b[43m:\u001b[49m\u001b[43m \u001b[49m\u001b[43mOBJECTIVE\u001b[49m\u001b[43m}\u001b[49m\u001b[43m)\u001b[49m\n",
      "\u001b[36mFile \u001b[39m\u001b[32m~/.pyenv/versions/3.11.11/lib/python3.11/site-packages/langchain_core/_api/deprecation.py:191\u001b[39m, in \u001b[36mdeprecated.<locals>.deprecate.<locals>.warning_emitting_wrapper\u001b[39m\u001b[34m(*args, **kwargs)\u001b[39m\n\u001b[32m    189\u001b[39m     warned = \u001b[38;5;28;01mTrue\u001b[39;00m\n\u001b[32m    190\u001b[39m     emit_warning()\n\u001b[32m--> \u001b[39m\u001b[32m191\u001b[39m \u001b[38;5;28;01mreturn\u001b[39;00m \u001b[43mwrapped\u001b[49m\u001b[43m(\u001b[49m\u001b[43m*\u001b[49m\u001b[43margs\u001b[49m\u001b[43m,\u001b[49m\u001b[43m \u001b[49m\u001b[43m*\u001b[49m\u001b[43m*\u001b[49m\u001b[43mkwargs\u001b[49m\u001b[43m)\u001b[49m\n",
      "\u001b[36mFile \u001b[39m\u001b[32m~/.pyenv/versions/3.11.11/lib/python3.11/site-packages/langchain/chains/base.py:389\u001b[39m, in \u001b[36mChain.__call__\u001b[39m\u001b[34m(self, inputs, return_only_outputs, callbacks, tags, metadata, run_name, include_run_info)\u001b[39m\n\u001b[32m    357\u001b[39m \u001b[38;5;250m\u001b[39m\u001b[33;03m\"\"\"Execute the chain.\u001b[39;00m\n\u001b[32m    358\u001b[39m \n\u001b[32m    359\u001b[39m \u001b[33;03mArgs:\u001b[39;00m\n\u001b[32m   (...)\u001b[39m\u001b[32m    380\u001b[39m \u001b[33;03m        `Chain.output_keys`.\u001b[39;00m\n\u001b[32m    381\u001b[39m \u001b[33;03m\"\"\"\u001b[39;00m\n\u001b[32m    382\u001b[39m config = {\n\u001b[32m    383\u001b[39m     \u001b[33m\"\u001b[39m\u001b[33mcallbacks\u001b[39m\u001b[33m\"\u001b[39m: callbacks,\n\u001b[32m    384\u001b[39m     \u001b[33m\"\u001b[39m\u001b[33mtags\u001b[39m\u001b[33m\"\u001b[39m: tags,\n\u001b[32m    385\u001b[39m     \u001b[33m\"\u001b[39m\u001b[33mmetadata\u001b[39m\u001b[33m\"\u001b[39m: metadata,\n\u001b[32m    386\u001b[39m     \u001b[33m\"\u001b[39m\u001b[33mrun_name\u001b[39m\u001b[33m\"\u001b[39m: run_name,\n\u001b[32m    387\u001b[39m }\n\u001b[32m--> \u001b[39m\u001b[32m389\u001b[39m \u001b[38;5;28;01mreturn\u001b[39;00m \u001b[38;5;28;43mself\u001b[39;49m\u001b[43m.\u001b[49m\u001b[43minvoke\u001b[49m\u001b[43m(\u001b[49m\n\u001b[32m    390\u001b[39m \u001b[43m    \u001b[49m\u001b[43minputs\u001b[49m\u001b[43m,\u001b[49m\n\u001b[32m    391\u001b[39m \u001b[43m    \u001b[49m\u001b[43mcast\u001b[49m\u001b[43m(\u001b[49m\u001b[43mRunnableConfig\u001b[49m\u001b[43m,\u001b[49m\u001b[43m \u001b[49m\u001b[43m{\u001b[49m\u001b[43mk\u001b[49m\u001b[43m:\u001b[49m\u001b[43m \u001b[49m\u001b[43mv\u001b[49m\u001b[43m \u001b[49m\u001b[38;5;28;43;01mfor\u001b[39;49;00m\u001b[43m \u001b[49m\u001b[43mk\u001b[49m\u001b[43m,\u001b[49m\u001b[43m \u001b[49m\u001b[43mv\u001b[49m\u001b[43m \u001b[49m\u001b[38;5;129;43;01min\u001b[39;49;00m\u001b[43m \u001b[49m\u001b[43mconfig\u001b[49m\u001b[43m.\u001b[49m\u001b[43mitems\u001b[49m\u001b[43m(\u001b[49m\u001b[43m)\u001b[49m\u001b[43m \u001b[49m\u001b[38;5;28;43;01mif\u001b[39;49;00m\u001b[43m \u001b[49m\u001b[43mv\u001b[49m\u001b[43m \u001b[49m\u001b[38;5;129;43;01mis\u001b[39;49;00m\u001b[43m \u001b[49m\u001b[38;5;129;43;01mnot\u001b[39;49;00m\u001b[43m \u001b[49m\u001b[38;5;28;43;01mNone\u001b[39;49;00m\u001b[43m}\u001b[49m\u001b[43m)\u001b[49m\u001b[43m,\u001b[49m\n\u001b[32m    392\u001b[39m \u001b[43m    \u001b[49m\u001b[43mreturn_only_outputs\u001b[49m\u001b[43m=\u001b[49m\u001b[43mreturn_only_outputs\u001b[49m\u001b[43m,\u001b[49m\n\u001b[32m    393\u001b[39m \u001b[43m    \u001b[49m\u001b[43minclude_run_info\u001b[49m\u001b[43m=\u001b[49m\u001b[43minclude_run_info\u001b[49m\u001b[43m,\u001b[49m\n\u001b[32m    394\u001b[39m \u001b[43m\u001b[49m\u001b[43m)\u001b[49m\n",
      "\u001b[36mFile \u001b[39m\u001b[32m~/.pyenv/versions/3.11.11/lib/python3.11/site-packages/langchain/chains/base.py:170\u001b[39m, in \u001b[36mChain.invoke\u001b[39m\u001b[34m(self, input, config, **kwargs)\u001b[39m\n\u001b[32m    168\u001b[39m \u001b[38;5;28;01mexcept\u001b[39;00m \u001b[38;5;167;01mBaseException\u001b[39;00m \u001b[38;5;28;01mas\u001b[39;00m e:\n\u001b[32m    169\u001b[39m     run_manager.on_chain_error(e)\n\u001b[32m--> \u001b[39m\u001b[32m170\u001b[39m     \u001b[38;5;28;01mraise\u001b[39;00m e\n\u001b[32m    171\u001b[39m run_manager.on_chain_end(outputs)\n\u001b[32m    173\u001b[39m \u001b[38;5;28;01mif\u001b[39;00m include_run_info:\n",
      "\u001b[36mFile \u001b[39m\u001b[32m~/.pyenv/versions/3.11.11/lib/python3.11/site-packages/langchain/chains/base.py:160\u001b[39m, in \u001b[36mChain.invoke\u001b[39m\u001b[34m(self, input, config, **kwargs)\u001b[39m\n\u001b[32m    157\u001b[39m \u001b[38;5;28;01mtry\u001b[39;00m:\n\u001b[32m    158\u001b[39m     \u001b[38;5;28mself\u001b[39m._validate_inputs(inputs)\n\u001b[32m    159\u001b[39m     outputs = (\n\u001b[32m--> \u001b[39m\u001b[32m160\u001b[39m         \u001b[38;5;28;43mself\u001b[39;49m\u001b[43m.\u001b[49m\u001b[43m_call\u001b[49m\u001b[43m(\u001b[49m\u001b[43minputs\u001b[49m\u001b[43m,\u001b[49m\u001b[43m \u001b[49m\u001b[43mrun_manager\u001b[49m\u001b[43m=\u001b[49m\u001b[43mrun_manager\u001b[49m\u001b[43m)\u001b[49m\n\u001b[32m    161\u001b[39m         \u001b[38;5;28;01mif\u001b[39;00m new_arg_supported\n\u001b[32m    162\u001b[39m         \u001b[38;5;28;01melse\u001b[39;00m \u001b[38;5;28mself\u001b[39m._call(inputs)\n\u001b[32m    163\u001b[39m     )\n\u001b[32m    165\u001b[39m     final_outputs: Dict[\u001b[38;5;28mstr\u001b[39m, Any] = \u001b[38;5;28mself\u001b[39m.prep_outputs(\n\u001b[32m    166\u001b[39m         inputs, outputs, return_only_outputs\n\u001b[32m    167\u001b[39m     )\n\u001b[32m    168\u001b[39m \u001b[38;5;28;01mexcept\u001b[39;00m \u001b[38;5;167;01mBaseException\u001b[39;00m \u001b[38;5;28;01mas\u001b[39;00m e:\n",
      "\u001b[36mFile \u001b[39m\u001b[32m~/.pyenv/versions/3.11.11/lib/python3.11/site-packages/langchain_experimental/autonomous_agents/baby_agi/baby_agi.py:169\u001b[39m, in \u001b[36mBabyAGI._call\u001b[39m\u001b[34m(self, inputs, run_manager)\u001b[39m\n\u001b[32m    167\u001b[39m \u001b[38;5;66;03m# Step 3: Store the result in Pinecone\u001b[39;00m\n\u001b[32m    168\u001b[39m result_id = \u001b[33mf\u001b[39m\u001b[33m\"\u001b[39m\u001b[33mresult_\u001b[39m\u001b[38;5;132;01m{\u001b[39;00mtask[\u001b[33m'\u001b[39m\u001b[33mtask_id\u001b[39m\u001b[33m'\u001b[39m]\u001b[38;5;132;01m}\u001b[39;00m\u001b[33m_\u001b[39m\u001b[38;5;132;01m{\u001b[39;00mnum_iters\u001b[38;5;132;01m}\u001b[39;00m\u001b[33m\"\u001b[39m\n\u001b[32m--> \u001b[39m\u001b[32m169\u001b[39m \u001b[38;5;28;43mself\u001b[39;49m\u001b[43m.\u001b[49m\u001b[43mvectorstore\u001b[49m\u001b[43m.\u001b[49m\u001b[43madd_texts\u001b[49m\u001b[43m(\u001b[49m\n\u001b[32m    170\u001b[39m \u001b[43m    \u001b[49m\u001b[43mtexts\u001b[49m\u001b[43m=\u001b[49m\u001b[43m[\u001b[49m\u001b[43mresult\u001b[49m\u001b[43m]\u001b[49m\u001b[43m,\u001b[49m\n\u001b[32m    171\u001b[39m \u001b[43m    \u001b[49m\u001b[43mmetadatas\u001b[49m\u001b[43m=\u001b[49m\u001b[43m[\u001b[49m\u001b[43m{\u001b[49m\u001b[33;43m\"\u001b[39;49m\u001b[33;43mtask\u001b[39;49m\u001b[33;43m\"\u001b[39;49m\u001b[43m:\u001b[49m\u001b[43m \u001b[49m\u001b[43mtask\u001b[49m\u001b[43m[\u001b[49m\u001b[33;43m\"\u001b[39;49m\u001b[33;43mtask_name\u001b[39;49m\u001b[33;43m\"\u001b[39;49m\u001b[43m]\u001b[49m\u001b[43m}\u001b[49m\u001b[43m]\u001b[49m\u001b[43m,\u001b[49m\n\u001b[32m    172\u001b[39m \u001b[43m    \u001b[49m\u001b[43mids\u001b[49m\u001b[43m=\u001b[49m\u001b[43m[\u001b[49m\u001b[43mresult_id\u001b[49m\u001b[43m]\u001b[49m\u001b[43m,\u001b[49m\n\u001b[32m    173\u001b[39m \u001b[43m\u001b[49m\u001b[43m)\u001b[49m\n\u001b[32m    175\u001b[39m \u001b[38;5;66;03m# Step 4: Create new tasks and reprioritize task list\u001b[39;00m\n\u001b[32m    176\u001b[39m new_tasks = \u001b[38;5;28mself\u001b[39m.get_next_task(\n\u001b[32m    177\u001b[39m     result,\n\u001b[32m    178\u001b[39m     task[\u001b[33m\"\u001b[39m\u001b[33mtask_name\u001b[39m\u001b[33m\"\u001b[39m],\n\u001b[32m    179\u001b[39m     objective,\n\u001b[32m    180\u001b[39m     callbacks=_run_manager.get_child(),\n\u001b[32m    181\u001b[39m )\n",
      "\u001b[36mFile \u001b[39m\u001b[32m~/.pyenv/versions/3.11.11/lib/python3.11/site-packages/langchain_community/vectorstores/faiss.py:341\u001b[39m, in \u001b[36mFAISS.add_texts\u001b[39m\u001b[34m(self, texts, metadatas, ids, **kwargs)\u001b[39m\n\u001b[32m    339\u001b[39m texts = \u001b[38;5;28mlist\u001b[39m(texts)\n\u001b[32m    340\u001b[39m embeddings = \u001b[38;5;28mself\u001b[39m._embed_documents(texts)\n\u001b[32m--> \u001b[39m\u001b[32m341\u001b[39m \u001b[38;5;28;01mreturn\u001b[39;00m \u001b[38;5;28;43mself\u001b[39;49m\u001b[43m.\u001b[49m\u001b[43m__add\u001b[49m\u001b[43m(\u001b[49m\u001b[43mtexts\u001b[49m\u001b[43m,\u001b[49m\u001b[43m \u001b[49m\u001b[43membeddings\u001b[49m\u001b[43m,\u001b[49m\u001b[43m \u001b[49m\u001b[43mmetadatas\u001b[49m\u001b[43m=\u001b[49m\u001b[43mmetadatas\u001b[49m\u001b[43m,\u001b[49m\u001b[43m \u001b[49m\u001b[43mids\u001b[49m\u001b[43m=\u001b[49m\u001b[43mids\u001b[49m\u001b[43m)\u001b[49m\n",
      "\u001b[36mFile \u001b[39m\u001b[32m~/.pyenv/versions/3.11.11/lib/python3.11/site-packages/langchain_community/vectorstores/faiss.py:316\u001b[39m, in \u001b[36mFAISS.__add\u001b[39m\u001b[34m(self, texts, embeddings, metadatas, ids)\u001b[39m\n\u001b[32m    313\u001b[39m \u001b[38;5;28mself\u001b[39m.index.add(vector)\n\u001b[32m    315\u001b[39m \u001b[38;5;66;03m# Add information to docstore and index.\u001b[39;00m\n\u001b[32m--> \u001b[39m\u001b[32m316\u001b[39m \u001b[38;5;28;43mself\u001b[39;49m\u001b[43m.\u001b[49m\u001b[43mdocstore\u001b[49m\u001b[43m.\u001b[49m\u001b[43madd\u001b[49m\u001b[43m(\u001b[49m\u001b[43m{\u001b[49m\u001b[43mid_\u001b[49m\u001b[43m:\u001b[49m\u001b[43m \u001b[49m\u001b[43mdoc\u001b[49m\u001b[43m \u001b[49m\u001b[38;5;28;43;01mfor\u001b[39;49;00m\u001b[43m \u001b[49m\u001b[43mid_\u001b[49m\u001b[43m,\u001b[49m\u001b[43m \u001b[49m\u001b[43mdoc\u001b[49m\u001b[43m \u001b[49m\u001b[38;5;129;43;01min\u001b[39;49;00m\u001b[43m \u001b[49m\u001b[38;5;28;43mzip\u001b[39;49m\u001b[43m(\u001b[49m\u001b[43mids\u001b[49m\u001b[43m,\u001b[49m\u001b[43m \u001b[49m\u001b[43mdocuments\u001b[49m\u001b[43m)\u001b[49m\u001b[43m}\u001b[49m\u001b[43m)\u001b[49m\n\u001b[32m    317\u001b[39m starting_len = \u001b[38;5;28mlen\u001b[39m(\u001b[38;5;28mself\u001b[39m.index_to_docstore_id)\n\u001b[32m    318\u001b[39m index_to_id = {starting_len + j: id_ \u001b[38;5;28;01mfor\u001b[39;00m j, id_ \u001b[38;5;129;01min\u001b[39;00m \u001b[38;5;28menumerate\u001b[39m(ids)}\n",
      "\u001b[36mFile \u001b[39m\u001b[32m~/.pyenv/versions/3.11.11/lib/python3.11/site-packages/langchain_community/docstore/in_memory.py:28\u001b[39m, in \u001b[36mInMemoryDocstore.add\u001b[39m\u001b[34m(self, texts)\u001b[39m\n\u001b[32m     26\u001b[39m overlapping = \u001b[38;5;28mset\u001b[39m(texts).intersection(\u001b[38;5;28mself\u001b[39m._dict)\n\u001b[32m     27\u001b[39m \u001b[38;5;28;01mif\u001b[39;00m overlapping:\n\u001b[32m---> \u001b[39m\u001b[32m28\u001b[39m     \u001b[38;5;28;01mraise\u001b[39;00m \u001b[38;5;167;01mValueError\u001b[39;00m(\u001b[33mf\u001b[39m\u001b[33m\"\u001b[39m\u001b[33mTried to add ids that already exist: \u001b[39m\u001b[38;5;132;01m{\u001b[39;00moverlapping\u001b[38;5;132;01m}\u001b[39;00m\u001b[33m\"\u001b[39m)\n\u001b[32m     29\u001b[39m \u001b[38;5;28mself\u001b[39m._dict = {**\u001b[38;5;28mself\u001b[39m._dict, **texts}\n",
      "\u001b[31mValueError\u001b[39m: Tried to add ids that already exist: {'result_1_0'}"
     ]
    }
   ],
   "source": [
    "# 1. Define objective\n",
    "OBJECTIVE = \"Write a weather report for SF today\"\n",
    "\n",
    "# 2. Enable or disable verbose logging \n",
    "verbose = False\n",
    "\n",
    "# 3. Set the maximum number of iterations BabyAGI should perform (None = run forever)\n",
    "max_iterations: Optional[int] = 3\n",
    "\n",
    "# 4. Initialize BabyAGI with the required components\n",
    "# - llm: the language model you’re using (e.g., OpenAI’s GPT)\n",
    "# - vectorstore: memory to keep track of previous tasks and context\n",
    "# - task_execution_chain: the executor that actually performs tasks\n",
    "# - verbose: whether to show detailed logs\n",
    "# - max_iterations: how many task loops BabyAGI will go through\n",
    "\n",
    "baby_agi = BabyAGI.from_llm(\n",
    "    llm=llm,\n",
    "    vectorstore=vectorstore,\n",
    "    task_execution_chain=agent_executor,\n",
    "    verbose=verbose,\n",
    "    max_iterations=max_iterations,\n",
    ")\n",
    "\n",
    "# 5. Start the agent by giving it the main objective\n",
    "baby_agi({\"objective\": OBJECTIVE})"
   ]
  }
 ],
 "metadata": {
  "kernelspec": {
   "display_name": "Python 3",
   "language": "python",
   "name": "python3"
  },
  "language_info": {
   "codemirror_mode": {
    "name": "ipython",
    "version": 3
   },
   "file_extension": ".py",
   "mimetype": "text/x-python",
   "name": "python",
   "nbconvert_exporter": "python",
   "pygments_lexer": "ipython3",
   "version": "3.11.11"
  }
 },
 "nbformat": 4,
 "nbformat_minor": 5
}
