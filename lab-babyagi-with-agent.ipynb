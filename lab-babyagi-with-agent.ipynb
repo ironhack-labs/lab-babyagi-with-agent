{
 "cells": [
  {
   "cell_type": "markdown",
   "id": "1cdba6f7-142d-4dd2-96f6-a13bb5d978ce",
   "metadata": {},
   "source": [
    "# Lab | BabyAGI with agent\n",
    "\n",
    "**Change the planner objective below by changing the objective and the associated prompts and potential tools and agents - Wear your creativity and AI engineering hats\n",
    "You can't get this wrong!**\n",
    "\n",
    "You would need the OpenAI API KEY and the [SerpAPI KEY](https://serpapi.com/manage-api-keyhttps://serpapi.com/manage-api-key) to run this lab.\n"
   ]
  },
  {
   "cell_type": "markdown",
   "id": "517a9fd4",
   "metadata": {},
   "source": [
    "## BabyAGI with Tools\n",
    "\n",
    "This notebook builds on top of [baby agi](baby_agi.html), but shows how you can swap out the execution chain. The previous execution chain was just an LLM which made stuff up. By swapping it out with an agent that has access to tools, we can hopefully get real reliable information"
   ]
  },
  {
   "cell_type": "markdown",
   "id": "556af556",
   "metadata": {},
   "source": [
    "## Install and Import Required Modules"
   ]
  },
  {
   "cell_type": "code",
   "execution_count": 1,
   "id": "85b7ca88",
   "metadata": {},
   "outputs": [
    {
     "name": "stdout",
     "output_type": "stream",
     "text": [
      "Requirement already satisfied: langchain_community in c:\\users\\renad\\anaconda3\\envs\\ai\\lib\\site-packages (0.3.21)\n",
      "Collecting langchain_experimental\n",
      "  Downloading langchain_experimental-0.3.4-py3-none-any.whl.metadata (1.7 kB)\n",
      "Requirement already satisfied: langchain_openai in c:\\users\\renad\\anaconda3\\envs\\ai\\lib\\site-packages (0.3.14)\n",
      "Requirement already satisfied: langchain-core<1.0.0,>=0.3.51 in c:\\users\\renad\\anaconda3\\envs\\ai\\lib\\site-packages (from langchain_community) (0.3.54)\n",
      "Requirement already satisfied: langchain<1.0.0,>=0.3.23 in c:\\users\\renad\\anaconda3\\envs\\ai\\lib\\site-packages (from langchain_community) (0.3.23)\n",
      "Requirement already satisfied: SQLAlchemy<3,>=1.4 in c:\\users\\renad\\anaconda3\\envs\\ai\\lib\\site-packages (from langchain_community) (2.0.40)\n",
      "Requirement already satisfied: requests<3,>=2 in c:\\users\\renad\\anaconda3\\envs\\ai\\lib\\site-packages (from langchain_community) (2.32.3)\n",
      "Requirement already satisfied: PyYAML>=5.3 in c:\\users\\renad\\anaconda3\\envs\\ai\\lib\\site-packages (from langchain_community) (6.0.2)\n",
      "Requirement already satisfied: aiohttp<4.0.0,>=3.8.3 in c:\\users\\renad\\anaconda3\\envs\\ai\\lib\\site-packages (from langchain_community) (3.10.11)\n",
      "Requirement already satisfied: tenacity!=8.4.0,<10,>=8.1.0 in c:\\users\\renad\\anaconda3\\envs\\ai\\lib\\site-packages (from langchain_community) (9.1.2)\n",
      "Requirement already satisfied: dataclasses-json<0.7,>=0.5.7 in c:\\users\\renad\\anaconda3\\envs\\ai\\lib\\site-packages (from langchain_community) (0.6.7)\n",
      "Requirement already satisfied: pydantic-settings<3.0.0,>=2.4.0 in c:\\users\\renad\\anaconda3\\envs\\ai\\lib\\site-packages (from langchain_community) (2.9.1)\n",
      "Requirement already satisfied: langsmith<0.4,>=0.1.125 in c:\\users\\renad\\anaconda3\\envs\\ai\\lib\\site-packages (from langchain_community) (0.3.32)\n",
      "Requirement already satisfied: httpx-sse<1.0.0,>=0.4.0 in c:\\users\\renad\\anaconda3\\envs\\ai\\lib\\site-packages (from langchain_community) (0.4.0)\n",
      "Requirement already satisfied: numpy<3,>=1.26.2 in c:\\users\\renad\\anaconda3\\envs\\ai\\lib\\site-packages (from langchain_community) (2.2.4)\n",
      "Requirement already satisfied: openai<2.0.0,>=1.68.2 in c:\\users\\renad\\anaconda3\\envs\\ai\\lib\\site-packages (from langchain_openai) (1.73.0)\n",
      "Requirement already satisfied: tiktoken<1,>=0.7 in c:\\users\\renad\\anaconda3\\envs\\ai\\lib\\site-packages (from langchain_openai) (0.9.0)\n",
      "Requirement already satisfied: aiohappyeyeballs>=2.3.0 in c:\\users\\renad\\anaconda3\\envs\\ai\\lib\\site-packages (from aiohttp<4.0.0,>=3.8.3->langchain_community) (2.6.1)\n",
      "Requirement already satisfied: aiosignal>=1.1.2 in c:\\users\\renad\\anaconda3\\envs\\ai\\lib\\site-packages (from aiohttp<4.0.0,>=3.8.3->langchain_community) (1.3.2)\n",
      "Requirement already satisfied: attrs>=17.3.0 in c:\\users\\renad\\anaconda3\\envs\\ai\\lib\\site-packages (from aiohttp<4.0.0,>=3.8.3->langchain_community) (25.3.0)\n",
      "Requirement already satisfied: frozenlist>=1.1.1 in c:\\users\\renad\\anaconda3\\envs\\ai\\lib\\site-packages (from aiohttp<4.0.0,>=3.8.3->langchain_community) (1.5.0)\n",
      "Requirement already satisfied: multidict<7.0,>=4.5 in c:\\users\\renad\\anaconda3\\envs\\ai\\lib\\site-packages (from aiohttp<4.0.0,>=3.8.3->langchain_community) (6.4.3)\n",
      "Requirement already satisfied: yarl<2.0,>=1.12.0 in c:\\users\\renad\\anaconda3\\envs\\ai\\lib\\site-packages (from aiohttp<4.0.0,>=3.8.3->langchain_community) (1.19.0)\n",
      "Requirement already satisfied: marshmallow<4.0.0,>=3.18.0 in c:\\users\\renad\\anaconda3\\envs\\ai\\lib\\site-packages (from dataclasses-json<0.7,>=0.5.7->langchain_community) (3.26.1)\n",
      "Requirement already satisfied: typing-inspect<1,>=0.4.0 in c:\\users\\renad\\anaconda3\\envs\\ai\\lib\\site-packages (from dataclasses-json<0.7,>=0.5.7->langchain_community) (0.9.0)\n",
      "Requirement already satisfied: langchain-text-splitters<1.0.0,>=0.3.8 in c:\\users\\renad\\anaconda3\\envs\\ai\\lib\\site-packages (from langchain<1.0.0,>=0.3.23->langchain_community) (0.3.8)\n",
      "Requirement already satisfied: pydantic<3.0.0,>=2.7.4 in c:\\users\\renad\\anaconda3\\envs\\ai\\lib\\site-packages (from langchain<1.0.0,>=0.3.23->langchain_community) (2.11.3)\n",
      "Requirement already satisfied: jsonpatch<2.0,>=1.33 in c:\\users\\renad\\anaconda3\\envs\\ai\\lib\\site-packages (from langchain-core<1.0.0,>=0.3.51->langchain_community) (1.33)\n",
      "Requirement already satisfied: packaging<25,>=23.2 in c:\\users\\renad\\anaconda3\\envs\\ai\\lib\\site-packages (from langchain-core<1.0.0,>=0.3.51->langchain_community) (24.2)\n",
      "Requirement already satisfied: typing-extensions>=4.7 in c:\\users\\renad\\anaconda3\\envs\\ai\\lib\\site-packages (from langchain-core<1.0.0,>=0.3.51->langchain_community) (4.13.1)\n",
      "Requirement already satisfied: httpx<1,>=0.23.0 in c:\\users\\renad\\anaconda3\\envs\\ai\\lib\\site-packages (from langsmith<0.4,>=0.1.125->langchain_community) (0.28.1)\n",
      "Requirement already satisfied: orjson<4.0.0,>=3.9.14 in c:\\users\\renad\\anaconda3\\envs\\ai\\lib\\site-packages (from langsmith<0.4,>=0.1.125->langchain_community) (3.10.16)\n",
      "Requirement already satisfied: requests-toolbelt<2.0.0,>=1.0.0 in c:\\users\\renad\\anaconda3\\envs\\ai\\lib\\site-packages (from langsmith<0.4,>=0.1.125->langchain_community) (1.0.0)\n",
      "Requirement already satisfied: zstandard<0.24.0,>=0.23.0 in c:\\users\\renad\\anaconda3\\envs\\ai\\lib\\site-packages (from langsmith<0.4,>=0.1.125->langchain_community) (0.23.0)\n",
      "Requirement already satisfied: anyio<5,>=3.5.0 in c:\\users\\renad\\anaconda3\\envs\\ai\\lib\\site-packages (from openai<2.0.0,>=1.68.2->langchain_openai) (3.7.1)\n",
      "Requirement already satisfied: distro<2,>=1.7.0 in c:\\users\\renad\\anaconda3\\envs\\ai\\lib\\site-packages (from openai<2.0.0,>=1.68.2->langchain_openai) (1.9.0)\n",
      "Requirement already satisfied: jiter<1,>=0.4.0 in c:\\users\\renad\\anaconda3\\envs\\ai\\lib\\site-packages (from openai<2.0.0,>=1.68.2->langchain_openai) (0.9.0)\n",
      "Requirement already satisfied: sniffio in c:\\users\\renad\\anaconda3\\envs\\ai\\lib\\site-packages (from openai<2.0.0,>=1.68.2->langchain_openai) (1.3.1)\n",
      "Requirement already satisfied: tqdm>4 in c:\\users\\renad\\anaconda3\\envs\\ai\\lib\\site-packages (from openai<2.0.0,>=1.68.2->langchain_openai) (4.67.1)\n",
      "Requirement already satisfied: python-dotenv>=0.21.0 in c:\\users\\renad\\anaconda3\\envs\\ai\\lib\\site-packages (from pydantic-settings<3.0.0,>=2.4.0->langchain_community) (1.1.0)\n",
      "Requirement already satisfied: typing-inspection>=0.4.0 in c:\\users\\renad\\anaconda3\\envs\\ai\\lib\\site-packages (from pydantic-settings<3.0.0,>=2.4.0->langchain_community) (0.4.0)\n",
      "Requirement already satisfied: charset-normalizer<4,>=2 in c:\\users\\renad\\anaconda3\\envs\\ai\\lib\\site-packages (from requests<3,>=2->langchain_community) (3.4.1)\n",
      "Requirement already satisfied: idna<4,>=2.5 in c:\\users\\renad\\anaconda3\\envs\\ai\\lib\\site-packages (from requests<3,>=2->langchain_community) (3.10)\n",
      "Requirement already satisfied: urllib3<3,>=1.21.1 in c:\\users\\renad\\anaconda3\\envs\\ai\\lib\\site-packages (from requests<3,>=2->langchain_community) (2.4.0)\n",
      "Requirement already satisfied: certifi>=2017.4.17 in c:\\users\\renad\\anaconda3\\envs\\ai\\lib\\site-packages (from requests<3,>=2->langchain_community) (2025.1.31)\n",
      "Requirement already satisfied: greenlet>=1 in c:\\users\\renad\\anaconda3\\envs\\ai\\lib\\site-packages (from SQLAlchemy<3,>=1.4->langchain_community) (3.2.0)\n",
      "Requirement already satisfied: regex>=2022.1.18 in c:\\users\\renad\\anaconda3\\envs\\ai\\lib\\site-packages (from tiktoken<1,>=0.7->langchain_openai) (2024.11.6)\n",
      "Requirement already satisfied: httpcore==1.* in c:\\users\\renad\\anaconda3\\envs\\ai\\lib\\site-packages (from httpx<1,>=0.23.0->langsmith<0.4,>=0.1.125->langchain_community) (1.0.8)\n",
      "Requirement already satisfied: h11<0.15,>=0.13 in c:\\users\\renad\\anaconda3\\envs\\ai\\lib\\site-packages (from httpcore==1.*->httpx<1,>=0.23.0->langsmith<0.4,>=0.1.125->langchain_community) (0.14.0)\n",
      "Requirement already satisfied: jsonpointer>=1.9 in c:\\users\\renad\\anaconda3\\envs\\ai\\lib\\site-packages (from jsonpatch<2.0,>=1.33->langchain-core<1.0.0,>=0.3.51->langchain_community) (3.0.0)\n",
      "Requirement already satisfied: annotated-types>=0.6.0 in c:\\users\\renad\\anaconda3\\envs\\ai\\lib\\site-packages (from pydantic<3.0.0,>=2.7.4->langchain<1.0.0,>=0.3.23->langchain_community) (0.7.0)\n",
      "Requirement already satisfied: pydantic-core==2.33.1 in c:\\users\\renad\\anaconda3\\envs\\ai\\lib\\site-packages (from pydantic<3.0.0,>=2.7.4->langchain<1.0.0,>=0.3.23->langchain_community) (2.33.1)\n",
      "Requirement already satisfied: colorama in c:\\users\\renad\\anaconda3\\envs\\ai\\lib\\site-packages (from tqdm>4->openai<2.0.0,>=1.68.2->langchain_openai) (0.4.6)\n",
      "Requirement already satisfied: mypy-extensions>=0.3.0 in c:\\users\\renad\\anaconda3\\envs\\ai\\lib\\site-packages (from typing-inspect<1,>=0.4.0->dataclasses-json<0.7,>=0.5.7->langchain_community) (1.0.0)\n",
      "Requirement already satisfied: propcache>=0.2.1 in c:\\users\\renad\\anaconda3\\envs\\ai\\lib\\site-packages (from yarl<2.0,>=1.12.0->aiohttp<4.0.0,>=3.8.3->langchain_community) (0.3.1)\n",
      "Downloading langchain_experimental-0.3.4-py3-none-any.whl (209 kB)\n",
      "Installing collected packages: langchain_experimental\n",
      "Successfully installed langchain_experimental-0.3.4\n"
     ]
    }
   ],
   "source": [
    "! pip install langchain_community langchain_experimental langchain_openai"
   ]
  },
  {
   "cell_type": "code",
   "execution_count": 2,
   "id": "c8a354b6",
   "metadata": {
    "tags": []
   },
   "outputs": [],
   "source": [
    "from typing import Optional\n",
    "\n",
    "from langchain.chains import LLMChain\n",
    "from langchain.prompts import PromptTemplate\n",
    "from langchain_experimental.autonomous_agents import BabyAGI\n",
    "from langchain_openai import OpenAI, OpenAIEmbeddings"
   ]
  },
  {
   "cell_type": "markdown",
   "id": "09f70772",
   "metadata": {},
   "source": [
    "## Connect to the Vector Store\n",
    "\n",
    "Depending on what vectorstore you use, this step may look different."
   ]
  },
  {
   "cell_type": "code",
   "execution_count": 3,
   "id": "794045d4",
   "metadata": {
    "tags": []
   },
   "outputs": [],
   "source": [
    "# %pip install faiss-cpu > /dev/null\n",
    "# %pip install google-search-results > /dev/null\n",
    "from langchain.docstore import InMemoryDocstore\n",
    "from langchain_community.vectorstores import FAISS"
   ]
  },
  {
   "cell_type": "code",
   "execution_count": 4,
   "id": "c4164841-915d-4c60-8a47-3a502a5cf71d",
   "metadata": {
    "tags": []
   },
   "outputs": [],
   "source": [
    "import os\n",
    "from dotenv import load_dotenv, find_dotenv\n",
    "_ = load_dotenv(find_dotenv())\n",
    "\n",
    "OPENAI_API_KEY  = os.getenv('OPENAI_API_KEY')\n",
    "SERPAPI_API_KEY = os.getenv('SERPAPI_API_KEY')"
   ]
  },
  {
   "cell_type": "code",
   "execution_count": 7,
   "id": "b39fef68",
   "metadata": {},
   "outputs": [
    {
     "name": "stdout",
     "output_type": "stream",
     "text": [
      "Collecting faiss-cpu\n",
      "  Downloading faiss_cpu-1.10.0-cp313-cp313-win_amd64.whl.metadata (4.5 kB)\n",
      "Requirement already satisfied: numpy<3.0,>=1.25.0 in c:\\users\\renad\\anaconda3\\envs\\ai\\lib\\site-packages (from faiss-cpu) (2.2.4)\n",
      "Requirement already satisfied: packaging in c:\\users\\renad\\anaconda3\\envs\\ai\\lib\\site-packages (from faiss-cpu) (24.2)\n",
      "Downloading faiss_cpu-1.10.0-cp313-cp313-win_amd64.whl (13.7 MB)\n",
      "   ---------------------------------------- 0.0/13.7 MB ? eta -:--:--\n",
      "   ---------------------------------------- 0.0/13.7 MB ? eta -:--:--\n",
      "   - -------------------------------------- 0.5/13.7 MB 2.9 MB/s eta 0:00:05\n",
      "   -- ------------------------------------- 0.8/13.7 MB 2.0 MB/s eta 0:00:07\n",
      "   --- ------------------------------------ 1.3/13.7 MB 2.0 MB/s eta 0:00:07\n",
      "   ---- ----------------------------------- 1.6/13.7 MB 2.0 MB/s eta 0:00:06\n",
      "   ------ --------------------------------- 2.1/13.7 MB 2.1 MB/s eta 0:00:06\n",
      "   ------- -------------------------------- 2.6/13.7 MB 2.1 MB/s eta 0:00:06\n",
      "   --------- ------------------------------ 3.1/13.7 MB 2.1 MB/s eta 0:00:05\n",
      "   --------- ------------------------------ 3.4/13.7 MB 2.1 MB/s eta 0:00:05\n",
      "   ----------- ---------------------------- 3.9/13.7 MB 2.1 MB/s eta 0:00:05\n",
      "   ------------- -------------------------- 4.5/13.7 MB 2.2 MB/s eta 0:00:05\n",
      "   -------------- ------------------------- 5.0/13.7 MB 2.2 MB/s eta 0:00:04\n",
      "   ---------------- ----------------------- 5.5/13.7 MB 2.2 MB/s eta 0:00:04\n",
      "   ----------------- ---------------------- 6.0/13.7 MB 2.2 MB/s eta 0:00:04\n",
      "   ------------------- -------------------- 6.6/13.7 MB 2.3 MB/s eta 0:00:04\n",
      "   -------------------- ------------------- 7.1/13.7 MB 2.3 MB/s eta 0:00:03\n",
      "   ---------------------- ----------------- 7.6/13.7 MB 2.3 MB/s eta 0:00:03\n",
      "   ------------------------ --------------- 8.4/13.7 MB 2.3 MB/s eta 0:00:03\n",
      "   -------------------------- ------------- 8.9/13.7 MB 2.3 MB/s eta 0:00:03\n",
      "   --------------------------- ------------ 9.4/13.7 MB 2.3 MB/s eta 0:00:02\n",
      "   ---------------------------- ----------- 9.7/13.7 MB 2.3 MB/s eta 0:00:02\n",
      "   ----------------------------- ---------- 10.2/13.7 MB 2.3 MB/s eta 0:00:02\n",
      "   ------------------------------- -------- 10.7/13.7 MB 2.3 MB/s eta 0:00:02\n",
      "   -------------------------------- ------- 11.3/13.7 MB 2.3 MB/s eta 0:00:02\n",
      "   --------------------------------- ------ 11.5/13.7 MB 2.3 MB/s eta 0:00:01\n",
      "   ----------------------------------- ---- 12.1/13.7 MB 2.3 MB/s eta 0:00:01\n",
      "   ------------------------------------ --- 12.6/13.7 MB 2.3 MB/s eta 0:00:01\n",
      "   -------------------------------------- - 13.1/13.7 MB 2.3 MB/s eta 0:00:01\n",
      "   ---------------------------------------- 13.7/13.7 MB 2.3 MB/s eta 0:00:00\n",
      "Installing collected packages: faiss-cpu\n",
      "Successfully installed faiss-cpu-1.10.0\n"
     ]
    }
   ],
   "source": [
    "! pip install faiss-cpu"
   ]
  },
  {
   "cell_type": "code",
   "execution_count": 9,
   "id": "6e0305eb",
   "metadata": {
    "tags": []
   },
   "outputs": [],
   "source": [
    "# Define your embedding model\n",
    "embeddings_model = OpenAIEmbeddings()\n",
    "# Initialize the vectorstore as empty\n",
    "import faiss\n",
    "\n",
    "embedding_size = 1536\n",
    "index = faiss.IndexFlatL2(embedding_size)\n",
    "vectorstore = FAISS(embeddings_model, index, InMemoryDocstore({}), {})"
   ]
  },
  {
   "cell_type": "markdown",
   "id": "0f3b72bf",
   "metadata": {},
   "source": [
    "## Define the Chains\n",
    "\n",
    "BabyAGI relies on three LLM chains:\n",
    "- Task creation chain to select new tasks to add to the list\n",
    "- Task prioritization chain to re-prioritize tasks\n",
    "- Execution Chain to execute the tasks\n",
    "\n",
    "\n",
    "NOTE: in this notebook, the Execution chain will now be an agent."
   ]
  },
  {
   "cell_type": "code",
   "execution_count": 11,
   "id": "338054d6",
   "metadata": {},
   "outputs": [
    {
     "name": "stdout",
     "output_type": "stream",
     "text": [
      "Collecting google-search-results\n",
      "  Downloading google_search_results-2.4.2.tar.gz (18 kB)\n",
      "  Preparing metadata (setup.py): started\n",
      "  Preparing metadata (setup.py): finished with status 'done'\n",
      "Requirement already satisfied: requests in c:\\users\\renad\\anaconda3\\envs\\ai\\lib\\site-packages (from google-search-results) (2.32.3)\n",
      "Requirement already satisfied: charset-normalizer<4,>=2 in c:\\users\\renad\\anaconda3\\envs\\ai\\lib\\site-packages (from requests->google-search-results) (3.4.1)\n",
      "Requirement already satisfied: idna<4,>=2.5 in c:\\users\\renad\\anaconda3\\envs\\ai\\lib\\site-packages (from requests->google-search-results) (3.10)\n",
      "Requirement already satisfied: urllib3<3,>=1.21.1 in c:\\users\\renad\\anaconda3\\envs\\ai\\lib\\site-packages (from requests->google-search-results) (2.4.0)\n",
      "Requirement already satisfied: certifi>=2017.4.17 in c:\\users\\renad\\anaconda3\\envs\\ai\\lib\\site-packages (from requests->google-search-results) (2025.1.31)\n",
      "Building wheels for collected packages: google-search-results\n",
      "  Building wheel for google-search-results (setup.py): started\n",
      "  Building wheel for google-search-results (setup.py): finished with status 'done'\n",
      "  Created wheel for google-search-results: filename=google_search_results-2.4.2-py3-none-any.whl size=32142 sha256=e2d6923b48f5675bbcc32204c0e536dd795a4a43bbd975abd23e944cc35cd404\n",
      "  Stored in directory: c:\\users\\renad\\appdata\\local\\pip\\cache\\wheels\\44\\af\\e2\\dde9fab6f1876485b72b35e9cd48da741da67d20e617c3b971\n",
      "Successfully built google-search-results\n",
      "Installing collected packages: google-search-results\n",
      "Successfully installed google-search-results-2.4.2\n"
     ]
    }
   ],
   "source": [
    "! pip install google-search-results"
   ]
  },
  {
   "cell_type": "code",
   "execution_count": 12,
   "id": "b43cd580",
   "metadata": {
    "tags": []
   },
   "outputs": [],
   "source": [
    "from langchain.agents import AgentExecutor, Tool, ZeroShotAgent\n",
    "from langchain.chains import LLMChain\n",
    "from langchain_community.utilities import SerpAPIWrapper\n",
    "from langchain_openai import OpenAI\n",
    "\n",
    "todo_prompt = PromptTemplate.from_template(\n",
    "    \"You are a planner who is an expert at coming up with a todo list for a given objective. Come up with a todo list for this objective: {objective}\"\n",
    ")\n",
    "todo_chain = LLMChain(llm=OpenAI(temperature=0), prompt=todo_prompt)\n",
    "search = SerpAPIWrapper()\n",
    "tools = [\n",
    "    Tool(\n",
    "        name=\"Search\",\n",
    "        func=search.run,\n",
    "        description=\"useful for when you need to answer questions about current events\",\n",
    "    ),\n",
    "    Tool(\n",
    "        name=\"TODO\",\n",
    "        func=todo_chain.run,\n",
    "        description=\"useful for when you need to come up with todo lists. Input: an objective to create a todo list for. Output: a todo list for that objective. Please be very clear what the objective is!\",\n",
    "    ),\n",
    "]\n",
    "\n",
    "\n",
    "prefix = \"\"\"You are an AI who performs one task based on the following objective: {objective}. Take into account these previously completed tasks: {context}.\"\"\"\n",
    "suffix = \"\"\"Question: {task}\n",
    "{agent_scratchpad}\"\"\"\n",
    "prompt = ZeroShotAgent.create_prompt(\n",
    "    tools,\n",
    "    prefix=prefix,\n",
    "    suffix=suffix,\n",
    "    input_variables=[\"objective\", \"task\", \"context\", \"agent_scratchpad\"],\n",
    ")"
   ]
  },
  {
   "cell_type": "code",
   "execution_count": 13,
   "id": "4b00ae2e",
   "metadata": {
    "tags": []
   },
   "outputs": [
    {
     "name": "stderr",
     "output_type": "stream",
     "text": [
      "C:\\Users\\renad\\AppData\\Local\\Temp\\ipykernel_25772\\3064747660.py:4: LangChainDeprecationWarning: LangChain agents will continue to be supported, but it is recommended for new use cases to be built with LangGraph. LangGraph offers a more flexible and full-featured framework for building agents, including support for tool-calling, persistence of state, and human-in-the-loop workflows. For details, refer to the `LangGraph documentation <https://langchain-ai.github.io/langgraph/>`_ as well as guides for `Migrating from AgentExecutor <https://python.langchain.com/docs/how_to/migrate_agent/>`_ and LangGraph's `Pre-built ReAct agent <https://langchain-ai.github.io/langgraph/how-tos/create-react-agent/>`_.\n",
      "  agent = ZeroShotAgent(llm_chain=llm_chain, allowed_tools=tool_names)\n"
     ]
    }
   ],
   "source": [
    "llm = OpenAI(temperature=0)\n",
    "llm_chain = LLMChain(llm=llm, prompt=prompt)\n",
    "tool_names = [tool.name for tool in tools]\n",
    "agent = ZeroShotAgent(llm_chain=llm_chain, allowed_tools=tool_names)\n",
    "agent_executor = AgentExecutor.from_agent_and_tools(\n",
    "    agent=agent, tools=tools, verbose=True\n",
    ")"
   ]
  },
  {
   "cell_type": "markdown",
   "id": "05ba762e",
   "metadata": {},
   "source": [
    "### Run the BabyAGI\n",
    "\n",
    "Now it's time to create the BabyAGI controller and watch it try to accomplish your objective."
   ]
  },
  {
   "cell_type": "code",
   "execution_count": 14,
   "id": "3d220b69",
   "metadata": {
    "tags": []
   },
   "outputs": [],
   "source": [
    "OBJECTIVE = \"Write a weather report for SF today\""
   ]
  },
  {
   "cell_type": "code",
   "execution_count": 15,
   "id": "3d69899b",
   "metadata": {
    "tags": []
   },
   "outputs": [],
   "source": [
    "# Logging of LLMChains\n",
    "verbose = False\n",
    "# If None, will keep on going forever\n",
    "max_iterations: Optional[int] = 3\n",
    "baby_agi = BabyAGI.from_llm(\n",
    "    llm=llm,\n",
    "    vectorstore=vectorstore,\n",
    "    task_execution_chain=agent_executor,\n",
    "    verbose=verbose,\n",
    "    max_iterations=max_iterations,\n",
    ")"
   ]
  },
  {
   "cell_type": "code",
   "execution_count": 16,
   "id": "f7957b51",
   "metadata": {
    "tags": []
   },
   "outputs": [
    {
     "name": "stderr",
     "output_type": "stream",
     "text": [
      "C:\\Users\\renad\\AppData\\Local\\Temp\\ipykernel_25772\\3867971396.py:1: LangChainDeprecationWarning: The method `Chain.__call__` was deprecated in langchain 0.1.0 and will be removed in 1.0. Use :meth:`~invoke` instead.\n",
      "  baby_agi({\"objective\": OBJECTIVE})\n"
     ]
    },
    {
     "name": "stdout",
     "output_type": "stream",
     "text": [
      "\u001b[95m\u001b[1m\n",
      "*****TASK LIST*****\n",
      "\u001b[0m\u001b[0m\n",
      "1: Make a todo list\n",
      "\u001b[92m\u001b[1m\n",
      "*****NEXT TASK*****\n",
      "\u001b[0m\u001b[0m\n",
      "1: Make a todo list\n",
      "\n",
      "\n",
      "\u001b[1m> Entering new AgentExecutor chain...\u001b[0m\n",
      "\u001b[32;1m\u001b[1;3mThought: I should use the TODO action to create a todo list\n",
      "Action: TODO\n",
      "Action Input: \"Create a todo list for writing a weather report for SF today\"\u001b[0m\n",
      "Observation: \u001b[33;1m\u001b[1;3m\n",
      "\n",
      "1. Gather all necessary information: Start by collecting all the necessary information for writing a weather report for San Francisco today. This includes current temperature, humidity, wind speed, and any potential weather events.\n",
      "\n",
      "2. Check reliable sources: Make sure to check reliable sources such as the National Weather Service or local news stations for accurate and up-to-date information.\n",
      "\n",
      "3. Determine the format: Decide on the format for the weather report. Will it be a written report, a video, or a combination of both? This will help guide the rest of the process.\n",
      "\n",
      "4. Create an outline: Before diving into writing, create an outline for the weather report. This will help organize the information and ensure all important details are included.\n",
      "\n",
      "5. Start with an attention-grabbing headline: The headline is the first thing readers will see, so make it attention-grabbing and informative. It should give a brief overview of the weather for SF today.\n",
      "\n",
      "6. Write an introduction: The introduction should provide a brief overview of the current weather conditions in San Francisco and any notable events or changes.\n",
      "\n",
      "7. Include relevant data: Use the information gathered in step 1 to provide accurate and relevant data in the weather report. This can include current temperature, humidity, wind speed, and any potential\u001b[0m\n",
      "Thought:\u001b[32;1m\u001b[1;3m I should also consider including any relevant images or graphics to enhance the report\n",
      "Action: TODO\n",
      "Action Input: \"Find and include relevant images or graphics for the weather report\"\u001b[0m\n",
      "Observation: \u001b[33;1m\u001b[1;3m\n",
      "\n",
      "1. Determine the purpose and target audience of the weather report.\n",
      "2. Research and gather relevant images or graphics that align with the purpose and target audience.\n",
      "3. Consider the format and layout of the weather report and how the images or graphics will be incorporated.\n",
      "4. Choose high-quality images or graphics that are visually appealing and enhance the overall presentation of the weather report.\n",
      "5. Make sure the images or graphics accurately represent the weather conditions being reported.\n",
      "6. Consider using a mix of different types of images or graphics, such as photographs, charts, or icons, to add variety and interest to the report.\n",
      "7. Edit and resize images or graphics as needed to fit the layout and format of the weather report.\n",
      "8. Include captions or labels for each image or graphic to provide context and information for the audience.\n",
      "9. Ensure that all images or graphics are properly cited and credited, if necessary.\n",
      "10. Review and revise the weather report to ensure that the images or graphics are effectively integrated and enhance the overall message and presentation.\u001b[0m\n",
      "Thought:\u001b[32;1m\u001b[1;3m I should also proofread and edit the weather report before finalizing it\n",
      "Action: TODO\n",
      "Action Input: \"Proofread and edit the weather report\"\u001b[0m\n",
      "Observation: \u001b[33;1m\u001b[1;3m\n",
      "\n",
      "1. Review the weather report: Start by reading through the entire weather report to get a general understanding of the content and any potential errors.\n",
      "\n",
      "2. Check for accuracy: Go through the report and verify that all the information is accurate, including temperatures, precipitation, and any other data.\n",
      "\n",
      "3. Verify sources: Make sure that all sources used in the report are reliable and up-to-date. If there are any discrepancies, double-check with other sources.\n",
      "\n",
      "4. Check for consistency: Ensure that the report is consistent in terms of formatting, language, and style. This will make it easier for readers to understand and follow.\n",
      "\n",
      "5. Correct spelling and grammar: Use a spell checker and proofread the report for any spelling or grammar errors. Pay attention to punctuation and sentence structure as well.\n",
      "\n",
      "6. Check for clarity: Make sure that the report is easy to understand and free of any confusing or ambiguous language. If necessary, rephrase sentences or add clarifying information.\n",
      "\n",
      "7. Review visuals: If the report includes any charts, graphs, or images, make sure they are accurate and support the information in the report.\n",
      "\n",
      "8. Fact-check: Verify any statistics or data used in the report to ensure they are correct and up-to-date.\n",
      "\n",
      "9. Edit for length: If the\u001b[0m\n",
      "Thought:\u001b[32;1m\u001b[1;3m I should also consider the overall tone and voice of the weather report\n",
      "Action: TODO\n",
      "Action Input: \"Edit the tone and voice of the weather report\"\u001b[0m\n",
      "Observation: \u001b[33;1m\u001b[1;3m\n",
      "\n",
      "1. Review the current tone and voice of the weather report.\n",
      "2. Identify the target audience for the weather report.\n",
      "3. Research the preferred tone and voice for the target audience.\n",
      "4. Make a list of key words and phrases that reflect the desired tone and voice.\n",
      "5. Use active and descriptive language to convey the weather conditions.\n",
      "6. Avoid using jargon or technical terms that may be unfamiliar to the audience.\n",
      "7. Use a consistent tone and voice throughout the report.\n",
      "8. Edit for clarity and conciseness.\n",
      "9. Use appropriate punctuation and grammar.\n",
      "10. Consider the overall flow and structure of the report.\n",
      "11. Use visual aids, such as charts or graphics, to enhance the report.\n",
      "12. Get feedback from colleagues or a focus group to ensure the tone and voice are effective.\n",
      "13. Make necessary revisions based on feedback.\n",
      "14. Proofread the final version for any errors.\n",
      "15. Submit the edited weather report for publication or distribution.\u001b[0m\n",
      "Thought:\u001b[32;1m\u001b[1;3m I now know the final answer\n",
      "Final Answer: To create a weather report for SF today, I should gather all necessary information, check reliable sources, determine the format, create an outline, write an attention-grabbing headline and introduction, include relevant data and visuals, proofread and edit for accuracy and clarity, and consider the overall tone and voice of the report.\u001b[0m\n",
      "\n",
      "\u001b[1m> Finished chain.\u001b[0m\n",
      "\u001b[93m\u001b[1m\n",
      "*****TASK RESULT*****\n",
      "\u001b[0m\u001b[0m\n",
      "To create a weather report for SF today, I should gather all necessary information, check reliable sources, determine the format, create an outline, write an attention-grabbing headline and introduction, include relevant data and visuals, proofread and edit for accuracy and clarity, and consider the overall tone and voice of the report.\n",
      "\u001b[95m\u001b[1m\n",
      "*****TASK LIST*****\n",
      "\u001b[0m\u001b[0m\n",
      "1: Check reliable sources for accurate data\n",
      "2: Gather all necessary information for the weather report\n",
      "3: Determine the format of the weather report\n",
      "4: Create an outline for the report\n",
      "5: Write an attention-grabbing headline and introduction\n",
      "6: Include relevant data and visuals in the report\n",
      "7: Proofread and edit the report for accuracy and clarity\n",
      "8: Consider the overall tone and voice of the report\n",
      "9: Create a list of sources used in the report\n",
      "10: Research current weather patterns in SF\n",
      "11: Analyze historical weather data for SF\n",
      "12: Consult with meteorologists for expert insights\n",
      "13: Gather quotes from local residents about the weather\n",
      "14: Create a section on potential weather hazards for SF\n",
      "15: Include a map of SF with weather data overlayed\n",
      "16: Consider the impact of weather on local events and activities\n",
      "17: Create a section on tips for staying safe in SF weather\n",
      "18: Include a comparison of SF weather to other cities\n",
      "19: Consider the potential effects of climate change on SF weather\n",
      "20: Create a conclusion summarizing the weather report for SF today.\n",
      "\u001b[92m\u001b[1m\n",
      "*****NEXT TASK*****\n",
      "\u001b[0m\u001b[0m\n",
      "1: Check reliable sources for accurate data\n",
      "\n",
      "\n",
      "\u001b[1m> Entering new AgentExecutor chain...\u001b[0m\n",
      "\u001b[32;1m\u001b[1;3mThought: It is important to gather information from reliable sources to ensure the accuracy of the weather report.\n",
      "Action: Search\n",
      "Action Input: \"San Francisco weather today\"\u001b[0m\n",
      "Observation: \u001b[36;1m\u001b[1;3m{'type': 'weather_result', 'temperature': '51', 'unit': 'Fahrenheit', 'precipitation': '0%', 'humidity': '90%', 'wind': '7 mph', 'location': 'San Francisco, CA', 'date': 'Sunday 10:00 PM', 'weather': 'Clear with periodic clouds'}\u001b[0m\n",
      "Thought:\u001b[32;1m\u001b[1;3m I have gathered the necessary information to create a weather report.\n",
      "Action: TODO\n",
      "Action Input: \"Create a weather report for SF today\"\u001b[0m\n",
      "Observation: \u001b[33;1m\u001b[1;3m\n",
      "\n",
      "1. Check the weather forecast for San Francisco today.\n",
      "2. Gather necessary equipment, such as a laptop, internet connection, and weather data sources.\n",
      "3. Determine the format of the weather report (e.g. written, video, audio).\n",
      "4. Decide on the target audience for the weather report (e.g. general public, local news station).\n",
      "5. Research and gather relevant information about the current weather conditions in San Francisco.\n",
      "6. Organize the information into a clear and concise format.\n",
      "7. Create visuals, such as maps or charts, to enhance the weather report.\n",
      "8. Write a script or outline for the weather report.\n",
      "9. Practice delivering the weather report to ensure a smooth and professional presentation.\n",
      "10. Record or film the weather report, if applicable.\n",
      "11. Edit and review the weather report for accuracy and clarity.\n",
      "12. Publish or share the weather report with the intended audience.\n",
      "13. Monitor and respond to any feedback or questions about the weather report.\n",
      "14. Reflect on the process and make any necessary improvements for future weather reports.\u001b[0m\n",
      "Thought:\u001b[32;1m\u001b[1;3m I have completed all the necessary tasks to create a weather report for SF today.\n",
      "Final Answer: The weather report for San Francisco today is clear with periodic clouds, a temperature of 51 degrees Fahrenheit, 0% chance of precipitation, 90% humidity, and wind speeds of 7 mph.\u001b[0m\n",
      "\n",
      "\u001b[1m> Finished chain.\u001b[0m\n",
      "\u001b[93m\u001b[1m\n",
      "*****TASK RESULT*****\n",
      "\u001b[0m\u001b[0m\n",
      "The weather report for San Francisco today is clear with periodic clouds, a temperature of 51 degrees Fahrenheit, 0% chance of precipitation, 90% humidity, and wind speeds of 7 mph.\n",
      "\u001b[95m\u001b[1m\n",
      "*****TASK LIST*****\n",
      "\u001b[0m\u001b[0m\n",
      "1: Gather all necessary information for the weather report\n",
      "2: Determine the format of the weather report\n",
      "3: Create an outline for the report\n",
      "4: Write an attention-grabbing headline and introduction\n",
      "5: Include relevant data and visuals in the report\n",
      "6: Proofread and edit the report for accuracy and clarity\n",
      "7: Consider the overall tone and voice of the report\n",
      "8: Create a list of sources used in the report\n",
      "9: Research current weather patterns in SF\n",
      "10: Analyze historical weather data for SF\n",
      "11: Consult with meteorologists for expert insights\n",
      "12: Gather quotes from local residents about the weather\n",
      "13: Create a section on potential weather hazards for SF\n",
      "14: Include a map of SF with weather data overlayed\n",
      "15: Consider the impact of weather on local events and activities\n",
      "16: Create a section on tips for staying safe in SF weather\n",
      "17: Include a comparison of SF weather to other cities\n",
      "18: Consider the potential effects of climate change on SF weather\n",
      "19: Create a conclusion summarizing the weather report for SF today.\n",
      "\u001b[92m\u001b[1m\n",
      "*****NEXT TASK*****\n",
      "\u001b[0m\u001b[0m\n",
      "1: Gather all necessary information for the weather report\n",
      "\n",
      "\n",
      "\u001b[1m> Entering new AgentExecutor chain...\u001b[0m\n",
      "\u001b[32;1m\u001b[1;3mThought: I should check reliable sources for accurate data and make a todo list of all the tasks I need to complete for the weather report.\n",
      "Action: TODO\n",
      "Action Input: \"Create a todo list for the weather report\"\u001b[0m\n",
      "Observation: \u001b[33;1m\u001b[1;3m\n",
      "\n",
      "1. Determine the purpose of the weather report: Before creating a todo list, it is important to understand the purpose of the weather report. Is it for a specific event or location? Is it for a daily forecast? This will help guide the rest of the planning process.\n",
      "\n",
      "2. Gather necessary information: To create an accurate weather report, you will need to gather information from reliable sources such as the National Weather Service, local meteorologists, and weather apps. Make sure to collect data on temperature, precipitation, wind speed, and any other relevant factors.\n",
      "\n",
      "3. Determine the format of the report: Will the weather report be in written form, a video, or a combination of both? This will help determine the necessary steps for creating the report.\n",
      "\n",
      "4. Create a timeline: Set a deadline for when the weather report needs to be completed and make a timeline for each step of the process. This will help ensure that the report is completed on time.\n",
      "\n",
      "5. Write an outline: Before diving into the report, create an outline of the key points that need to be included. This will help organize the information and make sure all important details are covered.\n",
      "\n",
      "6. Gather visuals: If the weather report will include visuals such as maps or graphics, make sure to gather them beforehand\u001b[0m\n",
      "Thought:\u001b[32;1m\u001b[1;3m Now that I have a clear plan and a todo list, I can start working on the weather report.\n",
      "Action: Search\n",
      "Action Input: \"What is the current weather in San Francisco?\"\u001b[0m\n",
      "Observation: \u001b[36;1m\u001b[1;3m{'type': 'weather_result', 'temperature': '51', 'unit': 'Fahrenheit', 'precipitation': '0%', 'humidity': '90%', 'wind': '7 mph', 'location': 'San Francisco, CA', 'date': 'Sunday 10:00 PM', 'weather': 'Clear with periodic clouds'}\u001b[0m\n",
      "Thought:\u001b[32;1m\u001b[1;3m This information will be useful for the weather report, but I should also check for any updates or changes in the weather.\n",
      "Action: Search\n",
      "Action Input: \"Are there any weather alerts for San Francisco?\"\u001b[0m\n",
      "Observation: \u001b[36;1m\u001b[1;3mThere are currently no active watches, warnings or advisories for our area.\u001b[0m\n",
      "Thought:\u001b[32;1m\u001b[1;3m I should also include a forecast for the next few days in the weather report.\n",
      "Action: Search\n",
      "Action Input: \"What is the forecast for the next 3 days in San Francisco?\"\u001b[0m\n",
      "Observation: \u001b[36;1m\u001b[1;3m{'type': 'weather_result', 'temperature': '58', 'unit': 'Fahrenheit', 'precipitation': '10%', 'humidity': '90%', 'wind': '7 mph', 'location': 'San Francisco, CA', 'date': 'Sunday', 'weather': 'Mostly sunny'}\u001b[0m\n",
      "Thought:\u001b[32;1m\u001b[1;3m I now have all the necessary information for the weather report.\n",
      "Final Answer: The weather in San Francisco today is clear with periodic clouds, with a temperature of 51 degrees Fahrenheit and 90% humidity. There are no active weather alerts for the area. The forecast for the next 3 days is mostly sunny with a high of 58 degrees Fahrenheit and 10% chance of precipitation.\u001b[0m\n",
      "\n",
      "\u001b[1m> Finished chain.\u001b[0m\n",
      "\u001b[93m\u001b[1m\n",
      "*****TASK RESULT*****\n",
      "\u001b[0m\u001b[0m\n",
      "The weather in San Francisco today is clear with periodic clouds, with a temperature of 51 degrees Fahrenheit and 90% humidity. There are no active weather alerts for the area. The forecast for the next 3 days is mostly sunny with a high of 58 degrees Fahrenheit and 10% chance of precipitation.\n",
      "\u001b[91m\u001b[1m\n",
      "*****TASK ENDING*****\n",
      "\u001b[0m\u001b[0m\n"
     ]
    },
    {
     "data": {
      "text/plain": [
       "{'objective': 'Write a weather report for SF today'}"
      ]
     },
     "execution_count": 16,
     "metadata": {},
     "output_type": "execute_result"
    }
   ],
   "source": [
    "baby_agi({\"objective\": OBJECTIVE})"
   ]
  },
  {
   "cell_type": "code",
   "execution_count": null,
   "id": "898a210b",
   "metadata": {},
   "outputs": [],
   "source": []
  }
 ],
 "metadata": {
  "kernelspec": {
   "display_name": "AI",
   "language": "python",
   "name": "python3"
  },
  "language_info": {
   "codemirror_mode": {
    "name": "ipython",
    "version": 3
   },
   "file_extension": ".py",
   "mimetype": "text/x-python",
   "name": "python",
   "nbconvert_exporter": "python",
   "pygments_lexer": "ipython3",
   "version": "3.13.2"
  }
 },
 "nbformat": 4,
 "nbformat_minor": 5
}
