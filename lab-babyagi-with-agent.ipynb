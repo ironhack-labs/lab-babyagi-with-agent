{
 "cells": [
  {
   "cell_type": "markdown",
   "id": "1cdba6f7-142d-4dd2-96f6-a13bb5d978ce",
   "metadata": {},
   "source": [
    "# Lab | BabyAGI with agent\n",
    "\n",
    "**Change the planner objective below by changing the objective and the associated prompts and potential tools and agents - Wear your creativity and AI engineering hats\n",
    "You can't get this wrong!**\n",
    "\n",
    "You would need the OpenAI API KEY and the [SerpAPI KEY](https://serpapi.com/manage-api-keyhttps://serpapi.com/manage-api-key) to run this lab.\n"
   ]
  },
  {
   "cell_type": "markdown",
   "id": "517a9fd4",
   "metadata": {},
   "source": [
    "## BabyAGI with Tools\n",
    "\n",
    "This notebook builds on top of [baby agi](baby_agi.html), but shows how you can swap out the execution chain. The previous execution chain was just an LLM which made stuff up. By swapping it out with an agent that has access to tools, we can hopefully get real reliable information"
   ]
  },
  {
   "cell_type": "markdown",
   "id": "556af556",
   "metadata": {},
   "source": [
    "## Install and Import Required Modules"
   ]
  },
  {
   "cell_type": "code",
   "execution_count": 1,
   "id": "c8a354b6",
   "metadata": {
    "tags": []
   },
   "outputs": [],
   "source": [
    "from typing import Optional #used to specify that a function parameter or return value can be of a given type or None\n",
    "\n",
    "from langchain.chains import LLMChain\n",
    "from langchain.prompts import PromptTemplate\n",
    "from langchain_experimental.autonomous_agents import BabyAGI\n",
    "from langchain_openai import OpenAI, OpenAIEmbeddings"
   ]
  },
  {
   "cell_type": "markdown",
   "id": "09f70772",
   "metadata": {},
   "source": [
    "## Connect to the Vector Store\n",
    "\n",
    "Depending on what vectorstore you use, this step may look different."
   ]
  },
  {
   "cell_type": "markdown",
   "id": "35e23972",
   "metadata": {},
   "source": [
    "FAISS: crucial for BabyAGI because they allow it to effectively store and retrieve embeddings that it generates during task execution. For instance, BabyAGI might need to find related tasks, store important information, or recall past interactions."
   ]
  },
  {
   "cell_type": "code",
   "execution_count": 2,
   "id": "7a2fa5fb",
   "metadata": {},
   "outputs": [],
   "source": [
    "#%pip install faiss-cpu #ALLOWS BABYAGI TO STORE AND RETRIEVE EMBEDDINGS THAT IT GENERATES DURING TASK EXECUTION"
   ]
  },
  {
   "cell_type": "markdown",
   "id": "f0c724d9",
   "metadata": {},
   "source": [
    "Google-search-results: used to provide the BabyAGI agent with access to up-to-date, real-world information."
   ]
  },
  {
   "cell_type": "code",
   "execution_count": 3,
   "id": "95aeb262",
   "metadata": {},
   "outputs": [],
   "source": [
    "#%pip install google-search-results #TO INTERACT WITH SERPAPI"
   ]
  },
  {
   "cell_type": "markdown",
   "id": "b4c709a5",
   "metadata": {},
   "source": [
    "related to connecting BabyAGI with a vector store, which is used for storing vector representations of text data."
   ]
  },
  {
   "cell_type": "code",
   "execution_count": 4,
   "id": "794045d4",
   "metadata": {
    "tags": []
   },
   "outputs": [],
   "source": [
    "# %pip install faiss-cpu > /dev/null\n",
    "# %pip install google-search-results > /dev/null\n",
    "from langchain.docstore import InMemoryDocstore\n",
    "from langchain_community.vectorstores import FAISS"
   ]
  },
  {
   "cell_type": "markdown",
   "id": "14523da8",
   "metadata": {},
   "source": [
    " for managing environment variables, specifically to securely load API keys needed for the lab."
   ]
  },
  {
   "cell_type": "code",
   "execution_count": 5,
   "id": "c4164841-915d-4c60-8a47-3a502a5cf71d",
   "metadata": {
    "tags": []
   },
   "outputs": [],
   "source": [
    "import os\n",
    "from dotenv import load_dotenv, find_dotenv\n",
    "_ = load_dotenv(find_dotenv())\n",
    "\n",
    "OPENAI_API_KEY  = os.getenv('OPENAI_API_KEY')\n",
    "SERPAPI_API_KEY = os.getenv('SERPAPI_API_KEY')"
   ]
  },
  {
   "cell_type": "markdown",
   "id": "f3406d35",
   "metadata": {},
   "source": [
    " setting up a vector store, which is essential for efficiently storing and retrieving vector embeddings, allowing BabyAGI to work with contextual or related information."
   ]
  },
  {
   "cell_type": "code",
   "execution_count": 6,
   "id": "6e0305eb",
   "metadata": {
    "tags": []
   },
   "outputs": [
    {
     "name": "stderr",
     "output_type": "stream",
     "text": [
      "`embedding_function` is expected to be an Embeddings object, support for passing in a function will soon be removed.\n"
     ]
    }
   ],
   "source": [
    "# Define your embedding model\n",
    "embeddings_model = OpenAIEmbeddings()\n",
    "# Initialize the vectorstore as empty\n",
    "import faiss\n",
    "\n",
    "embedding_size = 1536\n",
    "index = faiss.IndexFlatL2(embedding_size)\n",
    "vectorstore = FAISS(embeddings_model.embed_query, index, InMemoryDocstore({}), {})"
   ]
  },
  {
   "cell_type": "markdown",
   "id": "0f3b72bf",
   "metadata": {},
   "source": [
    "## Define the Chains\n",
    "\n",
    "BabyAGI relies on three LLM chains:\n",
    "- **Task creation chain to select new tasks to add to the list:** \n",
    "  The task creation chain is responsible for generating new tasks based on the output of previously completed tasks.  The chain uses a Large Language Model (LLM) to analyze the current results and decide what additional tasks might be helpful to further progress.\n",
    "\n",
    "\n",
    "- **Task prioritization chain to re-prioritize tasks:** \n",
    "  This chain is used to re-prioritize tasks dynamically. The tasks in the list may not all have the same level of importance or urgency, and their priorities may shift as new information becomes available. Using an LLM, this chain re-evaluates the list of tasks and orders them according to the current context and the overall objective. This helps ensure that BabyAGI always focuses on the most important or impactful tasks first,\n",
    "\n",
    "\n",
    "- **Execution Chain to execute the tasks:** \n",
    "  carrying out the tasks on the task list. nvolves interacting with the LLM to solve problems, gather information, or generate outputs based on the task requirements. The execution chain in this notebook will now be enhanced into an agent. This means that, rather than relying solely on the LLM to \"make up\" answers or generate responses, it will make use of tools and APIs to gather real data. access up-to-date, verifiable information and execute more sophisticated tasks.\n",
    "\n",
    "\n",
    "NOTE: in this notebook, the Execution chain will now be an agent."
   ]
  },
  {
   "cell_type": "code",
   "execution_count": 7,
   "id": "b43cd580",
   "metadata": {
    "tags": []
   },
   "outputs": [
    {
     "name": "stderr",
     "output_type": "stream",
     "text": [
      "C:\\Users\\fmrol\\AppData\\Local\\Temp\\ipykernel_26872\\2860866751.py:9: LangChainDeprecationWarning: The class `LLMChain` was deprecated in LangChain 0.1.17 and will be removed in 1.0. Use :meth:`~RunnableSequence, e.g., `prompt | llm`` instead.\n",
      "  todo_chain = LLMChain(llm=OpenAI(temperature=0), prompt=todo_prompt)\n"
     ]
    }
   ],
   "source": [
    "from langchain.agents import AgentExecutor, Tool, ZeroShotAgent\n",
    "from langchain.chains import LLMChain\n",
    "from langchain_community.utilities import SerpAPIWrapper\n",
    "from langchain_openai import OpenAI\n",
    "\n",
    "todo_prompt = PromptTemplate.from_template(\n",
    "    \"You are a planner who is an expert at coming up with a todo list for a given objective. Come up with a todo list for this objective: {objective}\"\n",
    ")\n",
    "todo_chain = LLMChain(llm=OpenAI(temperature=0), prompt=todo_prompt)\n",
    "search = SerpAPIWrapper()\n",
    "tools = [\n",
    "    Tool(\n",
    "        name=\"Search\",\n",
    "        func=search.run,\n",
    "        description=\"useful for when you need to answer questions about current events\",\n",
    "    ),\n",
    "    Tool(\n",
    "        name=\"Create todo list\",\n",
    "        func=todo_chain.run,\n",
    "        description=\"useful for when you need to come up with todo lists. Input: an objective to create a todo list for. Output: a todo list for that objective. Please be very clear what the objective is!\",\n",
    "    ),\n",
    "]\n",
    "\n",
    "\n",
    "prefix = \"\"\"You are an AI who performs one task based on the following objective: {objective}. Take into account these previously completed tasks: {context}.\"\"\"\n",
    "suffix = \"\"\"Question: {task}\n",
    "{agent_scratchpad}\"\"\"\n",
    "prompt = ZeroShotAgent.create_prompt(\n",
    "    tools,\n",
    "    prefix=prefix,\n",
    "    suffix=suffix,\n",
    "    input_variables=[\"objective\", \"task\", \"context\", \"agent_scratchpad\"],\n",
    ")"
   ]
  },
  {
   "cell_type": "code",
   "execution_count": 8,
   "id": "4b00ae2e",
   "metadata": {
    "tags": []
   },
   "outputs": [
    {
     "name": "stderr",
     "output_type": "stream",
     "text": [
      "C:\\Users\\fmrol\\AppData\\Local\\Temp\\ipykernel_26872\\3064747660.py:4: LangChainDeprecationWarning: The class `ZeroShotAgent` was deprecated in LangChain 0.1.0 and will be removed in 1.0. Use :meth:`~create_react_agent` instead.\n",
      "  agent = ZeroShotAgent(llm_chain=llm_chain, allowed_tools=tool_names)\n"
     ]
    }
   ],
   "source": [
    "llm = OpenAI(temperature=0)\n",
    "llm_chain = LLMChain(llm=llm, prompt=prompt)\n",
    "tool_names = [tool.name for tool in tools]\n",
    "agent = ZeroShotAgent(llm_chain=llm_chain, allowed_tools=tool_names)\n",
    "agent_executor = AgentExecutor.from_agent_and_tools(\n",
    "    agent=agent, tools=tools, verbose=True\n",
    ")"
   ]
  },
  {
   "cell_type": "markdown",
   "id": "05ba762e",
   "metadata": {},
   "source": [
    "### Run the BabyAGI\n",
    "\n",
    "Now it's time to create the BabyAGI controller and watch it try to accomplish your objective."
   ]
  },
  {
   "cell_type": "code",
   "execution_count": 9,
   "id": "3d220b69",
   "metadata": {
    "tags": []
   },
   "outputs": [],
   "source": [
    "OBJECTIVE = \"Write a report on the political crisis in Venezuela during the last month\""
   ]
  },
  {
   "cell_type": "code",
   "execution_count": 10,
   "id": "3d69899b",
   "metadata": {
    "tags": []
   },
   "outputs": [],
   "source": [
    "# Logging of LLMChains\n",
    "verbose = False\n",
    "# If None, will keep on going forever\n",
    "max_iterations: Optional[int] = 3\n",
    "baby_agi = BabyAGI.from_llm(\n",
    "    llm=llm,\n",
    "    vectorstore=vectorstore,\n",
    "    task_execution_chain=agent_executor,\n",
    "    verbose=verbose,\n",
    "    max_iterations=max_iterations,\n",
    ")"
   ]
  },
  {
   "cell_type": "code",
   "execution_count": 11,
   "id": "f7957b51",
   "metadata": {
    "tags": []
   },
   "outputs": [
    {
     "name": "stderr",
     "output_type": "stream",
     "text": [
      "C:\\Users\\fmrol\\AppData\\Local\\Temp\\ipykernel_26872\\3867971396.py:1: LangChainDeprecationWarning: The method `Chain.__call__` was deprecated in langchain 0.1.0 and will be removed in 1.0. Use :meth:`~invoke` instead.\n",
      "  baby_agi({\"objective\": OBJECTIVE})\n"
     ]
    },
    {
     "name": "stdout",
     "output_type": "stream",
     "text": [
      "\u001b[95m\u001b[1m\n",
      "*****TASK LIST*****\n",
      "\u001b[0m\u001b[0m\n",
      "1: Make a todo list\n",
      "\u001b[92m\u001b[1m\n",
      "*****NEXT TASK*****\n",
      "\u001b[0m\u001b[0m\n",
      "1: Make a todo list\n",
      "\n",
      "\n",
      "\u001b[1m> Entering new AgentExecutor chain...\u001b[0m\n",
      "\u001b[32;1m\u001b[1;3mThought: I should create a todo list based on the objective given\n",
      "Action: Create todo list\n",
      "Action Input: \"Write a report on the political crisis in Venezuela during the last month.\"\u001b[0m\n",
      "Observation: \u001b[33;1m\u001b[1;3m\n",
      "\n",
      "1. Research the current political situation in Venezuela, including recent events and key players involved.\n",
      "2. Gather reliable sources and information from reputable news outlets, government websites, and academic sources.\n",
      "3. Create an outline for the report, including an introduction, background information, key events, and analysis.\n",
      "4. Begin writing the report, starting with the introduction and background information.\n",
      "5. Include relevant statistics and data to support your analysis.\n",
      "6. Use quotes and interviews from experts or individuals directly involved in the crisis to provide insight and perspective.\n",
      "7. Address any potential biases or conflicting information in your report.\n",
      "8. Analyze the impact of the crisis on the Venezuelan people, economy, and international relations.\n",
      "9. Consider the historical context and factors that have contributed to the current crisis.\n",
      "10. Proofread and edit the report for clarity, accuracy, and organization.\n",
      "11. Include a conclusion that summarizes the main points and offers potential solutions or recommendations.\n",
      "12. Add a bibliography or works cited page to properly credit your sources.\n",
      "13. Consider seeking feedback from a peer or mentor before finalizing the report.\n",
      "14. Submit the report by the designated deadline.\u001b[0m\n",
      "Thought:\u001b[32;1m\u001b[1;3m I have completed all the necessary steps to create a comprehensive report on the political crisis in Venezuela.\n",
      "Final Answer: The final answer is a todo list for creating a report on the political crisis in Venezuela during the last month.\u001b[0m\n",
      "\n",
      "\u001b[1m> Finished chain.\u001b[0m\n",
      "\u001b[93m\u001b[1m\n",
      "*****TASK RESULT*****\n",
      "\u001b[0m\u001b[0m\n",
      "The final answer is a todo list for creating a report on the political crisis in Venezuela during the last month.\n",
      "\u001b[95m\u001b[1m\n",
      "*****TASK LIST*****\n",
      "\u001b[0m\u001b[0m\n",
      "1: Gather information on the key players involved in the crisis.\n",
      "2: Analyze the root causes of the political crisis.\n",
      "3: Identify any external factors that may have contributed to the crisis.\n",
      "4: Examine the impact of the crisis on the Venezuelan people.\n",
      "5: Investigate any potential solutions to the crisis.\n",
      "6: Compare and contrast the perspectives of different political parties and leaders.\n",
      "7: Evaluate the role of international organizations in the crisis.\n",
      "8: Create an outline for the report, including key points and supporting evidence.\n",
      "9: Write a draft of the report, incorporating all relevant information.\n",
      "10: Edit and revise the report for clarity and accuracy.\n",
      "11: Finalize the report and prepare it for publication or presentation.\n",
      "12: Research the current political situation in Venezuela.\n",
      "\u001b[92m\u001b[1m\n",
      "*****NEXT TASK*****\n",
      "\u001b[0m\u001b[0m\n",
      "1: Gather information on the key players involved in the crisis.\n",
      "\n",
      "\n",
      "\u001b[1m> Entering new AgentExecutor chain...\u001b[0m\n",
      "\u001b[32;1m\u001b[1;3mThought: I should search for news articles and government websites to find information on the key players.\n",
      "Action: Search\n",
      "Action Input: \"Venezuela political crisis key players\"\u001b[0m\n",
      "Observation: \u001b[36;1m\u001b[1;3m['Tension in Venezuela is running high after a government-controlled electoral authority declared Nicolás Maduro the winner of the presidential election.', \"Maduro is dismantling Venezuela's democratic institutions, economy and infrastructure through abuse of state power and through alliances with outside nations ...\", 'Maria Corina Machado emerged as the most popular opposition figure, though the government barred her from holding public office. Edmundo González Urrutia is now ...', \"Who are the main players in Venezuela's political crisis? · President Nicolas Maduro · Henry Ramos Allup · Aristobulo Isturiz · Diosdado Cabello.\", 'Both incumbent President Nicolás Maduro and opposition candidate Edmundo González claim victory in the poll, while authorities have mounted a ...', 'An ongoing socioeconomic and political crisis began in Venezuela during the presidency of Hugo Chávez and has worsened during the presidency of successor Nicol ...', \"Maduro has since consolidated control over key state institutions, including the Supreme Court, the military and the country's main source of ...\", 'Venezuela continues to grapple with economic and political hardship under President Nicolás Maduro, but U.S. sanctions relief in exchange for democratic reforms ...', '... Venezuelan military and political elites, Colombian armed groups, and domestic gangs continued to be key actors in the gold trade. Judicial Independence and ...', \"Many regional and world leaders have cast doubt on the results, including the US – though some of Venezuela's partners have stood by Maduro.\"]\u001b[0m\n",
      "Thought:\u001b[32;1m\u001b[1;3m I should also create a todo list to keep track of the key players and their roles in the crisis.\n",
      "Action: Create todo list\n",
      "Action Input: \"Key players in Venezuela political crisis\"\u001b[0m\n",
      "Observation: \u001b[33;1m\u001b[1;3m\n",
      "\n",
      "1. Research the current political situation in Venezuela and identify the key players involved.\n",
      "\n",
      "2. Create a list of the key players, including their names, positions, and affiliations.\n",
      "\n",
      "3. Conduct background research on each key player to understand their political ideologies, past actions, and current stance on the crisis.\n",
      "\n",
      "4. Identify any potential allies or adversaries among the key players and note their relationships with each other.\n",
      "\n",
      "5. Analyze the impact of each key player on the political crisis and their potential role in finding a resolution.\n",
      "\n",
      "6. Develop a timeline of significant events and actions taken by each key player in the crisis.\n",
      "\n",
      "7. Identify any external factors, such as international involvement or economic factors, that may be influencing the key players.\n",
      "\n",
      "8. Consider potential solutions or compromises that could be proposed to the key players to help resolve the crisis.\n",
      "\n",
      "9. Create a plan for communicating with the key players, including identifying the most effective methods of communication and potential barriers to communication.\n",
      "\n",
      "10. Develop a strategy for addressing any potential challenges or obstacles that may arise in working with the key players.\n",
      "\n",
      "11. Continuously monitor and update the list of key players as the political situation in Venezuela evolves.\n",
      "\n",
      "12. Stay informed about any developments or changes in the positions of the key players and adjust the plan\u001b[0m\n",
      "Thought:\u001b[32;1m\u001b[1;3m I now know the final answer.\n",
      "Final Answer: The key players involved in the political crisis in Venezuela include President Nicolás Maduro, opposition leader Maria Corina Machado, and other government officials and opposition figures. It is important to gather information on their backgrounds, relationships, and potential impact on finding a resolution to the crisis. Creating a todo list can help keep track of these key players and their roles in the crisis.\u001b[0m\n",
      "\n",
      "\u001b[1m> Finished chain.\u001b[0m\n",
      "\u001b[93m\u001b[1m\n",
      "*****TASK RESULT*****\n",
      "\u001b[0m\u001b[0m\n",
      "The key players involved in the political crisis in Venezuela include President Nicolás Maduro, opposition leader Maria Corina Machado, and other government officials and opposition figures. It is important to gather information on their backgrounds, relationships, and potential impact on finding a resolution to the crisis. Creating a todo list can help keep track of these key players and their roles in the crisis.\n",
      "\u001b[95m\u001b[1m\n",
      "*****TASK LIST*****\n",
      "\u001b[0m\u001b[0m\n",
      "1: Research the current political situation in Venezuela.\n",
      "2: Conduct a thorough background check on President Nicolás Maduro, including his political career, policies, and actions during the crisis.\n",
      "3: Research the background and history of opposition leader Maria Corina Machado, including her role in the crisis and her stance on potential solutions.\n",
      "4: Investigate the relationships between President Maduro, Maria Corina Machado, and other key players in the crisis, including any past collaborations or conflicts.\n",
      "5: Analyze the potential impact of the crisis on the economy, social welfare, and human rights of the Venezuelan people.\n",
      "6: Research any external factors, such as international sanctions or interference, that may have contributed to the political crisis in Venezuela.\n",
      "7: Examine the effectiveness of previous attempts at finding a resolution to the crisis, including negotiations and international interventions.\n",
      "8: Compare and contrast the perspectives and ideologies of different political parties and leaders involved in the crisis.\n",
      "9: Evaluate the role of international organizations, such as the United Nations and the Organization of American States, in addressing the crisis and their potential for finding a solution.\n",
      "10: Create a detailed outline for the report, including key points, supporting evidence, and a logical structure.\n",
      "11: Write a comprehensive draft of the report, incorporating\n",
      "\u001b[92m\u001b[1m\n",
      "*****NEXT TASK*****\n",
      "\u001b[0m\u001b[0m\n",
      "1: Research the current political situation in Venezuela.\n",
      "\n",
      "\n",
      "\u001b[1m> Entering new AgentExecutor chain...\u001b[0m\n",
      "\u001b[32;1m\u001b[1;3mThought: I should gather information on the key players involved in the crisis.\n",
      "Action: Search\n",
      "Action Input: \"political crisis in Venezuela\"\u001b[0m\n",
      "Observation: \u001b[36;1m\u001b[1;3mAn ongoing socioeconomic and political crisis began in Venezuela during the presidency of Hugo Chávez and has worsened during the presidency of successor Nicolás Maduro. It has been marked by hyperinflation, escalating starvation, disease, crime and mortality rates, resulting in massive emigration.\u001b[0m\n",
      "Thought:\u001b[32;1m\u001b[1;3m I should create a todo list to summarize the key players involved in the crisis.\n",
      "Action: Create todo list\n",
      "Action Input: \"key players in Venezuela political crisis\"\u001b[0m\n",
      "Observation: \u001b[33;1m\u001b[1;3m\n",
      "\n",
      "1. Research and identify key players in the Venezuela political crisis, including government officials, opposition leaders, and influential figures.\n",
      "\n",
      "2. Create a timeline of events leading up to the current political crisis in Venezuela.\n",
      "\n",
      "3. Analyze the political ideologies and motivations of each key player to better understand their actions and decisions.\n",
      "\n",
      "4. Reach out to experts and analysts for their insights and perspectives on the crisis and the roles of key players.\n",
      "\n",
      "5. Develop a list of potential solutions or strategies for resolving the crisis, taking into account the perspectives and interests of each key player.\n",
      "\n",
      "6. Prioritize the key players based on their level of influence and impact on the crisis.\n",
      "\n",
      "7. Schedule meetings or interviews with key players to gather more information and gain a deeper understanding of their perspectives.\n",
      "\n",
      "8. Create a communication plan to effectively engage and negotiate with key players.\n",
      "\n",
      "9. Identify potential allies or mediators who can help facilitate discussions and negotiations between conflicting parties.\n",
      "\n",
      "10. Continuously monitor and update the list of key players as the situation evolves and new players emerge.\n",
      "\n",
      "11. Develop contingency plans in case certain key players are unable or unwilling to participate in negotiations.\n",
      "\n",
      "12. Keep track of progress and setbacks in engaging with key players and adjust strategies accordingly.\n",
      "\n",
      "13. Stay informed about any developments or changes in\u001b[0m\n",
      "Thought:\u001b[32;1m\u001b[1;3m I now know the final answer.\n",
      "Final Answer: The current political crisis in Venezuela involves key players such as President Nicolás Maduro, opposition leader Juan Guaidó, and influential figures within the military and international community. A comprehensive understanding of these key players and their motivations is crucial in finding a resolution to the crisis.\u001b[0m\n",
      "\n",
      "\u001b[1m> Finished chain.\u001b[0m\n",
      "\u001b[93m\u001b[1m\n",
      "*****TASK RESULT*****\n",
      "\u001b[0m\u001b[0m\n",
      "The current political crisis in Venezuela involves key players such as President Nicolás Maduro, opposition leader Juan Guaidó, and influential figures within the military and international community. A comprehensive understanding of these key players and their motivations is crucial in finding a resolution to the crisis.\n",
      "\u001b[91m\u001b[1m\n",
      "*****TASK ENDING*****\n",
      "\u001b[0m\u001b[0m\n"
     ]
    },
    {
     "data": {
      "text/plain": [
       "{'objective': 'Write a report on the political crisis in Venezuela during the last month'}"
      ]
     },
     "execution_count": 11,
     "metadata": {},
     "output_type": "execute_result"
    }
   ],
   "source": [
    "baby_agi({\"objective\": OBJECTIVE})"
   ]
  }
 ],
 "metadata": {
  "kernelspec": {
   "display_name": "newenv",
   "language": "python",
   "name": "python3"
  },
  "language_info": {
   "codemirror_mode": {
    "name": "ipython",
    "version": 3
   },
   "file_extension": ".py",
   "mimetype": "text/x-python",
   "name": "python",
   "nbconvert_exporter": "python",
   "pygments_lexer": "ipython3",
   "version": "3.10.15"
  }
 },
 "nbformat": 4,
 "nbformat_minor": 5
}
