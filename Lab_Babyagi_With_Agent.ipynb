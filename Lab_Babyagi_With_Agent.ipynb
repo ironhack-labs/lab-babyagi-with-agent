{
  "cells": [
    {
      "cell_type": "markdown",
      "id": "1cdba6f7-142d-4dd2-96f6-a13bb5d978ce",
      "metadata": {
        "id": "1cdba6f7-142d-4dd2-96f6-a13bb5d978ce"
      },
      "source": [
        "# Lab | BabyAGI with agent\n",
        "\n",
        "**Change the planner objective below by changing the objective and the associated prompts and potential tools and agents - Wear your creativity and AI engineering hats\n",
        "You can't get this wrong!**\n",
        "\n",
        "You would need the OpenAI API KEY and the [SerpAPI KEY](https://serpapi.com/manage-api-keyhttps://serpapi.com/manage-api-key) to run this lab.\n"
      ]
    },
    {
      "cell_type": "markdown",
      "id": "517a9fd4",
      "metadata": {
        "id": "517a9fd4"
      },
      "source": [
        "## BabyAGI with Tools\n",
        "\n",
        "This notebook builds on top of [baby agi](baby_agi.html), but shows how you can swap out the execution chain. The previous execution chain was just an LLM which made stuff up. By swapping it out with an agent that has access to tools, we can hopefully get real reliable information"
      ]
    },
    {
      "cell_type": "markdown",
      "id": "556af556",
      "metadata": {
        "id": "556af556"
      },
      "source": [
        "## Install and Import Required Modules"
      ]
    },
    {
      "cell_type": "code",
      "execution_count": null,
      "id": "85b7ca88",
      "metadata": {
        "id": "85b7ca88"
      },
      "outputs": [],
      "source": [
        "!pip install langchain_community langchain_experimental langchain_openai"
      ]
    },
    {
      "cell_type": "code",
      "execution_count": 2,
      "id": "c8a354b6",
      "metadata": {
        "tags": [],
        "id": "c8a354b6"
      },
      "outputs": [],
      "source": [
        "from typing import Optional\n",
        "\n",
        "from langchain.chains import LLMChain\n",
        "from langchain.prompts import PromptTemplate\n",
        "from langchain_experimental.autonomous_agents import BabyAGI\n",
        "from langchain_openai import OpenAI, OpenAIEmbeddings"
      ]
    },
    {
      "cell_type": "markdown",
      "id": "09f70772",
      "metadata": {
        "id": "09f70772"
      },
      "source": [
        "## Connect to the Vector Store\n",
        "\n",
        "Depending on what vectorstore you use, this step may look different."
      ]
    },
    {
      "cell_type": "code",
      "execution_count": 3,
      "id": "794045d4",
      "metadata": {
        "tags": [],
        "id": "794045d4"
      },
      "outputs": [],
      "source": [
        "# %pip install faiss-cpu > /dev/null\n",
        "# %pip install google-search-results > /dev/null\n",
        "from langchain.docstore import InMemoryDocstore\n",
        "from langchain_community.vectorstores import FAISS"
      ]
    },
    {
      "cell_type": "code",
      "execution_count": 4,
      "id": "c4164841-915d-4c60-8a47-3a502a5cf71d",
      "metadata": {
        "tags": [],
        "colab": {
          "base_uri": "https://localhost:8080/"
        },
        "id": "c4164841-915d-4c60-8a47-3a502a5cf71d",
        "outputId": "af5c4267-c763-490d-a1e8-804518f06b7d"
      },
      "outputs": [
        {
          "output_type": "stream",
          "name": "stdout",
          "text": [
            "✅ OPENAI Key loaded: True\n",
            "✅ SERPAPI Key loaded: True\n"
          ]
        }
      ],
      "source": [
        "import os\n",
        "from dotenv import load_dotenv, find_dotenv\n",
        "\n",
        "load_dotenv('/content/env')\n",
        "\n",
        "OPENAI_API_KEY = os.getenv('OPENAI_API_KEY')\n",
        "HUGGINGFACEHUB_API_TOKEN = os.getenv('SERPAPI_API_KEY')\n",
        "\n",
        "print(\"✅ OPENAI Key loaded:\", OPENAI_API_KEY is not None)\n",
        "print(\"✅ SERPAPI Key loaded:\", HUGGINGFACEHUB_API_TOKEN is not None)"
      ]
    },
    {
      "cell_type": "code",
      "execution_count": 6,
      "id": "6e0305eb",
      "metadata": {
        "tags": [],
        "colab": {
          "base_uri": "https://localhost:8080/"
        },
        "id": "6e0305eb",
        "outputId": "4df56635-44fe-46c2-d53d-52830bf39044"
      },
      "outputs": [
        {
          "output_type": "stream",
          "name": "stdout",
          "text": [
            "Collecting faiss-cpu\n",
            "  Downloading faiss_cpu-1.10.0-cp311-cp311-manylinux_2_28_x86_64.whl.metadata (4.4 kB)\n",
            "Requirement already satisfied: numpy<3.0,>=1.25.0 in /usr/local/lib/python3.11/dist-packages (from faiss-cpu) (2.0.2)\n",
            "Requirement already satisfied: packaging in /usr/local/lib/python3.11/dist-packages (from faiss-cpu) (24.2)\n",
            "Downloading faiss_cpu-1.10.0-cp311-cp311-manylinux_2_28_x86_64.whl (30.7 MB)\n",
            "\u001b[2K   \u001b[90m━━━━━━━━━━━━━━━━━━━━━━━━━━━━━━━━━━━━━━━━\u001b[0m \u001b[32m30.7/30.7 MB\u001b[0m \u001b[31m58.5 MB/s\u001b[0m eta \u001b[36m0:00:00\u001b[0m\n",
            "\u001b[?25hInstalling collected packages: faiss-cpu\n",
            "Successfully installed faiss-cpu-1.10.0\n"
          ]
        },
        {
          "output_type": "stream",
          "name": "stderr",
          "text": [
            "WARNING:langchain_community.vectorstores.faiss:`embedding_function` is expected to be an Embeddings object, support for passing in a function will soon be removed.\n"
          ]
        }
      ],
      "source": [
        "!pip install faiss-cpu\n",
        "\n",
        "# Define your embedding model\n",
        "embeddings_model = OpenAIEmbeddings()\n",
        "# Initialize the vectorstore as empty\n",
        "import faiss\n",
        "\n",
        "embedding_size = 1536\n",
        "index = faiss.IndexFlatL2(embedding_size)\n",
        "vectorstore = FAISS(embeddings_model.embed_query, index, InMemoryDocstore({}), {})"
      ]
    },
    {
      "cell_type": "markdown",
      "id": "0f3b72bf",
      "metadata": {
        "id": "0f3b72bf"
      },
      "source": [
        "## Define the Chains\n",
        "\n",
        "BabyAGI relies on three LLM chains:\n",
        "- Task creation chain to select new tasks to add to the list\n",
        "- Task prioritization chain to re-prioritize tasks\n",
        "- Execution Chain to execute the tasks\n",
        "\n",
        "\n",
        "NOTE: in this notebook, the Execution chain will now be an agent."
      ]
    },
    {
      "cell_type": "code",
      "source": [
        "!pip install google-search-results"
      ],
      "metadata": {
        "colab": {
          "base_uri": "https://localhost:8080/"
        },
        "id": "InkrgjHxHf69",
        "outputId": "2eabb5b8-5baa-4cca-fa0b-72c43312c8e3"
      },
      "id": "InkrgjHxHf69",
      "execution_count": 8,
      "outputs": [
        {
          "output_type": "stream",
          "name": "stdout",
          "text": [
            "Collecting google-search-results\n",
            "  Downloading google_search_results-2.4.2.tar.gz (18 kB)\n",
            "  Preparing metadata (setup.py) ... \u001b[?25l\u001b[?25hdone\n",
            "Requirement already satisfied: requests in /usr/local/lib/python3.11/dist-packages (from google-search-results) (2.32.3)\n",
            "Requirement already satisfied: charset-normalizer<4,>=2 in /usr/local/lib/python3.11/dist-packages (from requests->google-search-results) (3.4.1)\n",
            "Requirement already satisfied: idna<4,>=2.5 in /usr/local/lib/python3.11/dist-packages (from requests->google-search-results) (3.10)\n",
            "Requirement already satisfied: urllib3<3,>=1.21.1 in /usr/local/lib/python3.11/dist-packages (from requests->google-search-results) (2.3.0)\n",
            "Requirement already satisfied: certifi>=2017.4.17 in /usr/local/lib/python3.11/dist-packages (from requests->google-search-results) (2025.1.31)\n",
            "Building wheels for collected packages: google-search-results\n",
            "  Building wheel for google-search-results (setup.py) ... \u001b[?25l\u001b[?25hdone\n",
            "  Created wheel for google-search-results: filename=google_search_results-2.4.2-py3-none-any.whl size=32010 sha256=47caaed777149dea5c8671d8f2a66640ff35fde02c7c6d5cbb2282f4ee2279c0\n",
            "  Stored in directory: /root/.cache/pip/wheels/6e/42/3e/aeb691b02cb7175ec70e2da04b5658d4739d2b41e5f73cd06f\n",
            "Successfully built google-search-results\n",
            "Installing collected packages: google-search-results\n",
            "Successfully installed google-search-results-2.4.2\n"
          ]
        }
      ]
    },
    {
      "cell_type": "code",
      "execution_count": 9,
      "id": "b43cd580",
      "metadata": {
        "tags": [],
        "id": "b43cd580"
      },
      "outputs": [],
      "source": [
        "from langchain.agents import AgentExecutor, Tool, ZeroShotAgent\n",
        "from langchain.chains import LLMChain\n",
        "from langchain_community.utilities import SerpAPIWrapper\n",
        "from langchain_openai import OpenAI\n",
        "\n",
        "todo_prompt = PromptTemplate.from_template(\n",
        "    \"You are a planner who is an expert at coming up with a todo list for a given objective. Come up with a todo list for this objective: {objective}\"\n",
        ")\n",
        "todo_chain = LLMChain(llm=OpenAI(temperature=0), prompt=todo_prompt)\n",
        "search = SerpAPIWrapper()\n",
        "tools = [\n",
        "    Tool(\n",
        "        name=\"Search\",\n",
        "        func=search.run,\n",
        "        description=\"useful for when you need to answer questions about current events\",\n",
        "    ),\n",
        "    Tool(\n",
        "        name=\"TODO\",\n",
        "        func=todo_chain.run,\n",
        "        description=\"useful for when you need to come up with todo lists. Input: an objective to create a todo list for. Output: a todo list for that objective. Please be very clear what the objective is!\",\n",
        "    ),\n",
        "]\n",
        "\n",
        "\n",
        "prefix = \"\"\"You are an AI who performs one task based on the following objective: {objective}. Take into account these previously completed tasks: {context}.\"\"\"\n",
        "suffix = \"\"\"Question: {task}\n",
        "{agent_scratchpad}\"\"\"\n",
        "prompt = ZeroShotAgent.create_prompt(\n",
        "    tools,\n",
        "    prefix=prefix,\n",
        "    suffix=suffix,\n",
        "    input_variables=[\"objective\", \"task\", \"context\", \"agent_scratchpad\"],\n",
        ")"
      ]
    },
    {
      "cell_type": "code",
      "execution_count": 10,
      "id": "4b00ae2e",
      "metadata": {
        "tags": [],
        "colab": {
          "base_uri": "https://localhost:8080/"
        },
        "id": "4b00ae2e",
        "outputId": "cb1f0d8b-dc42-4ab5-9a68-8db3dc777873"
      },
      "outputs": [
        {
          "output_type": "stream",
          "name": "stderr",
          "text": [
            "<ipython-input-10-caaec25ad234>:4: LangChainDeprecationWarning: LangChain agents will continue to be supported, but it is recommended for new use cases to be built with LangGraph. LangGraph offers a more flexible and full-featured framework for building agents, including support for tool-calling, persistence of state, and human-in-the-loop workflows. For details, refer to the `LangGraph documentation <https://langchain-ai.github.io/langgraph/>`_ as well as guides for `Migrating from AgentExecutor <https://python.langchain.com/docs/how_to/migrate_agent/>`_ and LangGraph's `Pre-built ReAct agent <https://langchain-ai.github.io/langgraph/how-tos/create-react-agent/>`_.\n",
            "  agent = ZeroShotAgent(llm_chain=llm_chain, allowed_tools=tool_names)\n"
          ]
        }
      ],
      "source": [
        "llm = OpenAI(temperature=0)\n",
        "llm_chain = LLMChain(llm=llm, prompt=prompt)\n",
        "tool_names = [tool.name for tool in tools]\n",
        "agent = ZeroShotAgent(llm_chain=llm_chain, allowed_tools=tool_names)\n",
        "agent_executor = AgentExecutor.from_agent_and_tools(\n",
        "    agent=agent, tools=tools, verbose=True\n",
        ")"
      ]
    },
    {
      "cell_type": "markdown",
      "id": "05ba762e",
      "metadata": {
        "id": "05ba762e"
      },
      "source": [
        "### Run the BabyAGI\n",
        "\n",
        "Now it's time to create the BabyAGI controller and watch it try to accomplish your objective."
      ]
    },
    {
      "cell_type": "code",
      "execution_count": 11,
      "id": "3d220b69",
      "metadata": {
        "tags": [],
        "id": "3d220b69"
      },
      "outputs": [],
      "source": [
        "OBJECTIVE = \"Write a weather report for SF today\""
      ]
    },
    {
      "cell_type": "code",
      "execution_count": 12,
      "id": "3d69899b",
      "metadata": {
        "tags": [],
        "id": "3d69899b"
      },
      "outputs": [],
      "source": [
        "# Logging of LLMChains\n",
        "verbose = False\n",
        "# If None, will keep on going forever\n",
        "max_iterations: Optional[int] = 3\n",
        "baby_agi = BabyAGI.from_llm(\n",
        "    llm=llm,\n",
        "    vectorstore=vectorstore,\n",
        "    task_execution_chain=agent_executor,\n",
        "    verbose=verbose,\n",
        "    max_iterations=max_iterations,\n",
        ")"
      ]
    },
    {
      "cell_type": "code",
      "execution_count": 13,
      "id": "f7957b51",
      "metadata": {
        "tags": [],
        "colab": {
          "base_uri": "https://localhost:8080/"
        },
        "id": "f7957b51",
        "outputId": "080d4315-e2a8-4842-b815-0229b02e4ce2"
      },
      "outputs": [
        {
          "output_type": "stream",
          "name": "stderr",
          "text": [
            "<ipython-input-13-b5a7585b5beb>:1: LangChainDeprecationWarning: The method `Chain.__call__` was deprecated in langchain 0.1.0 and will be removed in 1.0. Use :meth:`~invoke` instead.\n",
            "  baby_agi({\"objective\": OBJECTIVE})\n"
          ]
        },
        {
          "output_type": "stream",
          "name": "stdout",
          "text": [
            "\u001b[95m\u001b[1m\n",
            "*****TASK LIST*****\n",
            "\u001b[0m\u001b[0m\n",
            "1: Make a todo list\n",
            "\u001b[92m\u001b[1m\n",
            "*****NEXT TASK*****\n",
            "\u001b[0m\u001b[0m\n",
            "1: Make a todo list\n",
            "\n",
            "\n",
            "\u001b[1m> Entering new AgentExecutor chain...\u001b[0m\n",
            "\u001b[32;1m\u001b[1;3mThought: I should use the TODO action to create a todo list\n",
            "Action: TODO\n",
            "Action Input: \"Create a todo list for writing a weather report for SF today\"\u001b[0m\n",
            "Observation: \u001b[33;1m\u001b[1;3m\n",
            "\n",
            "1. Gather all necessary information: Start by collecting all the necessary information for writing a weather report for San Francisco today. This includes current temperature, humidity, wind speed, and any potential weather events.\n",
            "\n",
            "2. Check reliable sources: Make sure to check reliable sources such as the National Weather Service or local news stations for accurate and up-to-date information.\n",
            "\n",
            "3. Determine the format: Decide on the format for the weather report. Will it be a written report, a video, or a combination of both? This will help guide the rest of the process.\n",
            "\n",
            "4. Create an outline: Before diving into writing, create an outline for the weather report. This will help organize the information and ensure all important details are included.\n",
            "\n",
            "5. Start with an attention-grabbing headline: The headline is the first thing readers will see, so make it attention-grabbing and informative. It should give a brief overview of the weather for SF today.\n",
            "\n",
            "6. Write an introduction: The introduction should provide a brief overview of the current weather conditions in San Francisco and any notable events or changes.\n",
            "\n",
            "7. Include relevant data: Use the information gathered in step 1 to provide accurate and relevant data in the weather report. This can include current temperature, humidity, wind speed, and any potential\u001b[0m\n",
            "Thought:\u001b[32;1m\u001b[1;3m I should also consider including any relevant images or graphics to enhance the report\n",
            "Action: TODO\n",
            "Action Input: \"Find and include relevant images or graphics for the weather report\"\u001b[0m\n",
            "Observation: \u001b[33;1m\u001b[1;3m\n",
            "\n",
            "1. Determine the purpose and target audience of the weather report.\n",
            "2. Research and gather relevant images or graphics that align with the purpose and target audience.\n",
            "3. Consider the format and layout of the weather report and how the images or graphics will be incorporated.\n",
            "4. Choose high-quality images or graphics that are visually appealing and enhance the overall presentation of the weather report.\n",
            "5. Make sure the images or graphics accurately represent the weather conditions being reported.\n",
            "6. Consider using a mix of different types of images or graphics, such as photographs, charts, or icons, to add variety and interest to the report.\n",
            "7. Edit and resize images or graphics as needed to fit the layout and format of the weather report.\n",
            "8. Include captions or labels for each image or graphic to provide context and information for the audience.\n",
            "9. Ensure that all images or graphics are properly cited and credited, if necessary.\n",
            "10. Review and revise the weather report to ensure that the images or graphics are effectively enhancing the overall message and presentation.\u001b[0m\n",
            "Thought:\u001b[32;1m\u001b[1;3m I should also proofread and edit the weather report before finalizing it\n",
            "Action: TODO\n",
            "Action Input: \"Proofread and edit the weather report\"\u001b[0m\n",
            "Observation: \u001b[33;1m\u001b[1;3m\n",
            "\n",
            "1. Review the weather report: Start by reading through the entire weather report to get a general understanding of the content and any potential errors.\n",
            "\n",
            "2. Check for accuracy: Go through the report and verify that all the information is accurate, including temperatures, precipitation, and any other data.\n",
            "\n",
            "3. Verify sources: Make sure that all sources used in the report are reliable and up-to-date. If there are any discrepancies, double-check with other sources.\n",
            "\n",
            "4. Check for consistency: Ensure that the report is consistent in terms of formatting, language, and style. This will make it easier for readers to understand and follow.\n",
            "\n",
            "5. Correct spelling and grammar: Use a spell checker and proofread the report for any spelling or grammar errors. Pay attention to punctuation and sentence structure as well.\n",
            "\n",
            "6. Check for clarity: Make sure that the report is easy to understand and free of any confusing or ambiguous language. If necessary, rephrase sentences or add clarifying information.\n",
            "\n",
            "7. Review visuals: If the report includes any charts, graphs, or images, make sure they are accurate and support the information in the report.\n",
            "\n",
            "8. Fact-check: Verify any statistics or data used in the report to ensure they are correct and up-to-date.\n",
            "\n",
            "9. Edit for length: If the\u001b[0m\n",
            "Thought:\u001b[32;1m\u001b[1;3m I now know the final answer\n",
            "Final Answer: The final answer is a todo list for writing a weather report for San Francisco today, including gathering information, checking reliable sources, determining the format, creating an outline, writing an attention-grabbing headline and introduction, including relevant images or graphics, proofreading and editing the report.\u001b[0m\n",
            "\n",
            "\u001b[1m> Finished chain.\u001b[0m\n",
            "\u001b[93m\u001b[1m\n",
            "*****TASK RESULT*****\n",
            "\u001b[0m\u001b[0m\n",
            "The final answer is a todo list for writing a weather report for San Francisco today, including gathering information, checking reliable sources, determining the format, creating an outline, writing an attention-grabbing headline and introduction, including relevant images or graphics, proofreading and editing the report.\n",
            "\u001b[95m\u001b[1m\n",
            "*****TASK LIST*****\n",
            "\u001b[0m\u001b[0m\n",
            "1: Check reliable sources for accurate weather data.\n",
            "2: Determine the format for the weather report.\n",
            "3: Create an outline for the weather report.\n",
            "4: Write an introduction for the weather report.\n",
            "5: Write an attention-grabbing headline for the weather report.\n",
            "6: Gather information for the weather report for San Francisco today.\n",
            "7: Include relevant images or graphics in the weather report.\n",
            "8: Proofread and edit the weather report for accuracy and clarity.\n",
            "\u001b[92m\u001b[1m\n",
            "*****NEXT TASK*****\n",
            "\u001b[0m\u001b[0m\n",
            "1: Check reliable sources for accurate weather data.\n",
            "\n",
            "\n",
            "\u001b[1m> Entering new AgentExecutor chain...\u001b[0m\n",
            "\u001b[32;1m\u001b[1;3mThought: I should use the Search function to find reliable sources for weather data.\n",
            "Action: Search\n",
            "Action Input: \"weather data sources\"\u001b[0m\n",
            "Observation: \u001b[36;1m\u001b[1;3m['Weather data comes from a variety of sources, including surface observations, upper-air observations, radar, and satellite data. These data are then used by weather models to generate forecasts and provide current conditions.', ' entity_type: related_questions.', 'All certified data must be obtained directly from NCEI. NCEI archives 99% of all NOAA data and makes it available in a number of formats. Climatological ...', \"Climate Data Online (CDO) provides free access to NCDC's archive of global historical weather and climate data in addition to station history information.\", 'General climate data (historical temperature, precipitation, etc.) NOAA NCEI data access: https://www.ncei.noaa.gov/access · Climate-related GIS and Google Earth ...', 'Access current weather data for any location on Earth including over 200,000 cities! The data is frequently updated based on the global and local weather models ...', 'NOAA collects real-time data from satellites, buoys, weather stations, citizen scientists, and more. See what is happening right now in this collection.', 'Our weather models rely on a wealth of real-time data, including measurements from various sources such as airplanes, buoys, radar systems, and satellites. By ...', 'Astronomical Data · Certified Weather Data · CURRENT CONDITIONS · Radar · Climate Monitoring · River Levels · Observed Precipitation · Surface Weather · Upper ...', 'Meteostat is one of the largest vendors of open weather and climate data. Access long-term time series of thousands of weather stations.', 'Synoptic provides push streaming services, precipitation data, GIS layers, radar reflectivity and more along with weather data in one place. Synoptic in numbers.', 'Our platform ingests, cleanses, and processes data from all available weather sensors to deliver analytics-grade weather data built for machine learning.']\u001b[0m\n",
            "Thought:\u001b[32;1m\u001b[1;3m I should use the TODO function to create a todo list for writing a weather report for SF.\n",
            "Action: TODO\n",
            "Action Input: \"Write a weather report for SF\"\u001b[0m\n",
            "Observation: \u001b[33;1m\u001b[1;3m\n",
            "\n",
            "1. Research the current weather conditions in San Francisco.\n",
            "2. Gather data from reliable sources such as the National Weather Service or local news stations.\n",
            "3. Take note of any significant weather events or patterns that may affect the report.\n",
            "4. Determine the format and style of the weather report (e.g. written, video, audio).\n",
            "5. Create a rough outline of the report, including sections for current conditions, forecast, and any additional information.\n",
            "6. Write a clear and concise introduction that sets the tone for the report and provides an overview of the current weather.\n",
            "7. Use descriptive language and visuals to accurately describe the current weather conditions in San Francisco.\n",
            "8. Include relevant statistics and data, such as temperature, humidity, and wind speed.\n",
            "9. Use weather forecasting tools to predict future weather patterns and include them in the report.\n",
            "10. Consider any potential impacts of the weather on daily activities or events in San Francisco.\n",
            "11. Proofread and edit the report for accuracy and clarity.\n",
            "12. Add any necessary graphics or visuals to enhance the report.\n",
            "13. Include a conclusion that summarizes the main points of the report and provides a final forecast for the upcoming days.\n",
            "14. Share the weather report through appropriate channels, such as a news website or social media platform.\n",
            "\u001b[0m\n",
            "Thought:\u001b[32;1m\u001b[1;3m I now know the final answer.\n",
            "Final Answer: The final answer is a todo list for writing a weather report for San Francisco, which includes researching current weather conditions, gathering data from reliable sources, determining the format and style of the report, and creating a clear and concise report with accurate information and relevant statistics.\u001b[0m\n",
            "\n",
            "\u001b[1m> Finished chain.\u001b[0m\n",
            "\u001b[93m\u001b[1m\n",
            "*****TASK RESULT*****\n",
            "\u001b[0m\u001b[0m\n",
            "The final answer is a todo list for writing a weather report for San Francisco, which includes researching current weather conditions, gathering data from reliable sources, determining the format and style of the report, and creating a clear and concise report with accurate information and relevant statistics.\n",
            "\u001b[95m\u001b[1m\n",
            "*****TASK LIST*****\n",
            "\u001b[0m\u001b[0m\n",
            "1: Determine the format and style of the weather report.\n",
            "2: Research current weather conditions in San Francisco.\n",
            "3: Gather data from reliable sources for the weather report.\n",
            "4: Create an outline for the weather report.\n",
            "5: Write an introduction for the weather report.\n",
            "6: Write an attention-grabbing headline for the weather report.\n",
            "7: Gather information for the weather report for San Francisco today.\n",
            "8: Include relevant images or graphics in the weather report.\n",
            "9: Create a clear and concise report with accurate information and relevant statistics.\n",
            "10: Write a conclusion for the weather report.\n",
            "11: Include a forecast for the upcoming days in the weather report.\n",
            "12: Find and include quotes from local experts or officials in the weather report.\n",
            "13: Create a visually appealing layout for the weather report.\n",
            "14: Proofread and edit the weather report for grammar and spelling errors.\n",
            "15: Include a section on safety precautions for extreme weather conditions in the weather report.\n",
            "\u001b[92m\u001b[1m\n",
            "*****NEXT TASK*****\n",
            "\u001b[0m\u001b[0m\n",
            "1: Determine the format and style of the weather report.\n",
            "\n",
            "\n",
            "\u001b[1m> Entering new AgentExecutor chain...\u001b[0m\n",
            "\u001b[32;1m\u001b[1;3mThought: I should check reliable sources for accurate weather data to determine the format and style of the weather report.\n",
            "Action: Search\n",
            "Action Input: \"weather report format and style\"\u001b[0m\n",
            "Observation: \u001b[36;1m\u001b[1;3m[' entity_type: related_questions.', 'Learn the art and science of crafting compelling weather reports. From data analysis to effective communication, discover the key elements ...', 'Explore professionally designed weather templates you can customize and share easily from Canva.', 'Begin the report by describing current weather conditions. This may include temperature, humidity levels, wind speed, and direction. You can also include ...', 'All you need is a blue or green sheet to get started! Sample Script: Hello, this is (your name), reporting from (your location) in (city, state) ...', 'Become a meteorologist and create your own weather report . This is a fill in the blank template page geared for elementary age kids.', \"Daily newspapers typically run a 5 Day Forecast while a weekly newspaper typically presents a 7 Day Forecast. This can be customized to the newspaper's ...\", \"Browse through all 158 templates. Take a look at the entire library. If you can't find what you need. Check out the filters or refine your search!\", 'The first is through a written report, where you detail the weather in chronological order, starting with the weather conditions and moving on to things like ...', 'How to Write a Weather Report · 1. Gather Weather Data · 2. Analyze Weather Conditions · 3. Draft the Report Structure · 4. Use Clear Language and Visuals · 5. Share ...', 'Listen to audio weather reports · 1. Which season does this weather report take place in? · 2. What kind of day is it? · 3. What is the temperature? · 4. Tomorrow ...']\u001b[0m\n",
            "Thought:\u001b[32;1m\u001b[1;3m I should use the information from the search to create a todo list for writing the weather report.\n",
            "Action: TODO\n",
            "Action Input: \"write weather report\"\u001b[0m\n",
            "Observation: \u001b[33;1m\u001b[1;3m\n",
            "\n",
            "1. Research the current weather conditions: Start by checking the weather forecast for the day and gather information on the temperature, humidity, wind speed, and any potential weather events.\n",
            "\n",
            "2. Choose a format for the report: Decide on the format of the weather report, whether it will be a written report, a video report, or a combination of both.\n",
            "\n",
            "3. Gather relevant data: Collect data from reliable sources such as weather websites, local weather stations, and meteorological reports.\n",
            "\n",
            "4. Organize the information: Sort the data into categories such as current conditions, hourly forecast, and extended forecast.\n",
            "\n",
            "5. Write an introduction: Begin the report with a brief overview of the current weather conditions and any significant weather events that may have occurred.\n",
            "\n",
            "6. Include visuals: Use charts, graphs, and images to help illustrate the weather data and make it easier for readers to understand.\n",
            "\n",
            "7. Write the body of the report: Provide a detailed description of the current weather conditions, including temperature, humidity, wind speed, and any potential weather events.\n",
            "\n",
            "8. Include a forecast: Use the gathered data to make a prediction for the upcoming weather, including any potential changes or severe weather alerts.\n",
            "\n",
            "9. Proofread and edit: Review the report for any spelling or grammatical errors and make\u001b[0m\n",
            "Thought:\u001b[32;1m\u001b[1;3m I have completed the todo list and can now write the weather report.\n",
            "Final Answer: The format and style of the weather report will be a written report with visuals and a forecast.\u001b[0m\n",
            "\n",
            "\u001b[1m> Finished chain.\u001b[0m\n",
            "\u001b[93m\u001b[1m\n",
            "*****TASK RESULT*****\n",
            "\u001b[0m\u001b[0m\n",
            "The format and style of the weather report will be a written report with visuals and a forecast.\n",
            "\u001b[91m\u001b[1m\n",
            "*****TASK ENDING*****\n",
            "\u001b[0m\u001b[0m\n"
          ]
        },
        {
          "output_type": "execute_result",
          "data": {
            "text/plain": [
              "{'objective': 'Write a weather report for SF today'}"
            ]
          },
          "metadata": {},
          "execution_count": 13
        }
      ],
      "source": [
        "baby_agi({\"objective\": OBJECTIVE})"
      ]
    }
  ],
  "metadata": {
    "kernelspec": {
      "display_name": "Python 3 (ipykernel)",
      "language": "python",
      "name": "python3"
    },
    "language_info": {
      "codemirror_mode": {
        "name": "ipython",
        "version": 3
      },
      "file_extension": ".py",
      "mimetype": "text/x-python",
      "name": "python",
      "nbconvert_exporter": "python",
      "pygments_lexer": "ipython3",
      "version": "3.11.8"
    },
    "colab": {
      "provenance": []
    }
  },
  "nbformat": 4,
  "nbformat_minor": 5
}